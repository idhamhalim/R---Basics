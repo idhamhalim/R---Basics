{
 "cells": [
  {
   "cell_type": "markdown",
   "metadata": {},
   "source": [
    "# Data Transformation\n",
    "#### Data\n",
    "are values of <b>Qualitative</b> or <b>Quantitative</b> variables, belonging to a set of items\n",
    "- <b>Qualitative</b> data are anything that can be expressed as a number. <i>Height, Weight, Age</i>\n",
    "- <b>Qualitative</b> data cannot be expressed as a number. <i>Gender, Status</i>\n",
    "\n",
    "### Raw vs Processed Data\n",
    "#### Raw Data\n",
    "- Data from original sources\n",
    "- Data that is often difficult tobe analysed\n",
    "- Data that have alot of missing values, hard to understand, and does not make sense.\n",
    "\n",
    "#### Processed Data\n",
    "- Data after the process\n",
    "- Processing can include imputation, merging, remove outliers, subsetting, transforming, and aggregating.\n",
    "- All the processing should be recorded\n",
    "\n",
    "### What is Tidy data (Hadley Wickham, 2014)\n",
    "- Each measured variable should be in <b>one</b> column.\n",
    "- Each different observation of that variable should be in <b>different row</b>\n",
    "- Each type of observational unit forms a table.\n",
    "\n",
    "### The Codebook\n",
    "- It is the <b>meta data</b>\n",
    "- Information that <b>describes the varibles</b> (including the measurement of units)\n",
    "- Information on how the variables are <b>collected, generated, or calculated</b>\n"
   ]
  },
  {
   "cell_type": "markdown",
   "metadata": {},
   "source": [
    "# Importing Data\n",
    "### Reading SAS data"
   ]
  },
  {
   "cell_type": "code",
   "execution_count": 17,
   "metadata": {},
   "outputs": [
    {
     "name": "stdout",
     "output_type": "stream",
     "text": [
      "package 'sas7bdat' successfully unpacked and MD5 sums checked\n",
      "\n",
      "The downloaded binary packages are in\n",
      "\tC:\\Users\\iddy9\\AppData\\Local\\Temp\\RtmpghHzve\\downloaded_packages\n"
     ]
    },
    {
     "data": {
      "text/html": [
       "<table>\n",
       "<thead><tr><th scope=col>YEAR</th><th scope=col>Y</th><th scope=col>W</th><th scope=col>R</th><th scope=col>L</th><th scope=col>K</th></tr></thead>\n",
       "<tbody>\n",
       "\t<tr><td>1948  </td><td>1.214 </td><td>0.243 </td><td>0.1454</td><td>1.415 </td><td>0.612 </td></tr>\n",
       "\t<tr><td>1949  </td><td>1.354 </td><td>0.260 </td><td>0.2181</td><td>1.384 </td><td>0.559 </td></tr>\n",
       "\t<tr><td>1950  </td><td>1.569 </td><td>0.278 </td><td>0.3157</td><td>1.388 </td><td>0.573 </td></tr>\n",
       "\t<tr><td>1951  </td><td>1.948 </td><td>0.297 </td><td>0.3940</td><td>1.550 </td><td>0.564 </td></tr>\n",
       "\t<tr><td>1952  </td><td>2.265 </td><td>0.310 </td><td>0.3559</td><td>1.802 </td><td>0.574 </td></tr>\n",
       "\t<tr><td>1953  </td><td>2.731 </td><td>0.322 </td><td>0.3593</td><td>1.926 </td><td>0.711 </td></tr>\n",
       "</tbody>\n",
       "</table>\n"
      ],
      "text/latex": [
       "\\begin{tabular}{r|llllll}\n",
       " YEAR & Y & W & R & L & K\\\\\n",
       "\\hline\n",
       "\t 1948   & 1.214  & 0.243  & 0.1454 & 1.415  & 0.612 \\\\\n",
       "\t 1949   & 1.354  & 0.260  & 0.2181 & 1.384  & 0.559 \\\\\n",
       "\t 1950   & 1.569  & 0.278  & 0.3157 & 1.388  & 0.573 \\\\\n",
       "\t 1951   & 1.948  & 0.297  & 0.3940 & 1.550  & 0.564 \\\\\n",
       "\t 1952   & 2.265  & 0.310  & 0.3559 & 1.802  & 0.574 \\\\\n",
       "\t 1953   & 2.731  & 0.322  & 0.3593 & 1.926  & 0.711 \\\\\n",
       "\\end{tabular}\n"
      ],
      "text/markdown": [
       "\n",
       "YEAR | Y | W | R | L | K | \n",
       "|---|---|---|---|---|---|\n",
       "| 1948   | 1.214  | 0.243  | 0.1454 | 1.415  | 0.612  | \n",
       "| 1949   | 1.354  | 0.260  | 0.2181 | 1.384  | 0.559  | \n",
       "| 1950   | 1.569  | 0.278  | 0.3157 | 1.388  | 0.573  | \n",
       "| 1951   | 1.948  | 0.297  | 0.3940 | 1.550  | 0.564  | \n",
       "| 1952   | 2.265  | 0.310  | 0.3559 | 1.802  | 0.574  | \n",
       "| 1953   | 2.731  | 0.322  | 0.3593 | 1.926  | 0.711  | \n",
       "\n",
       "\n"
      ],
      "text/plain": [
       "  YEAR Y     W     R      L     K    \n",
       "1 1948 1.214 0.243 0.1454 1.415 0.612\n",
       "2 1949 1.354 0.260 0.2181 1.384 0.559\n",
       "3 1950 1.569 0.278 0.3157 1.388 0.573\n",
       "4 1951 1.948 0.297 0.3940 1.550 0.564\n",
       "5 1952 2.265 0.310 0.3559 1.802 0.574\n",
       "6 1953 2.731 0.322 0.3593 1.926 0.711"
      ]
     },
     "metadata": {},
     "output_type": "display_data"
    }
   ],
   "source": [
    "install.packages('sas7bdat', repos = 'http://cran.us.r-project.org')\n",
    "library(sas7bdat)\n",
    "\n",
    "sas = read.sas7bdat('airline.sas7bdat')\n",
    "head(sas)"
   ]
  },
  {
   "cell_type": "markdown",
   "metadata": {},
   "source": [
    "### Reading Excel data"
   ]
  },
  {
   "cell_type": "code",
   "execution_count": 18,
   "metadata": {
    "scrolled": true
   },
   "outputs": [
    {
     "name": "stdout",
     "output_type": "stream",
     "text": [
      "package 'readxl' successfully unpacked and MD5 sums checked\n"
     ]
    },
    {
     "name": "stderr",
     "output_type": "stream",
     "text": [
      "Warning message:\n",
      "\"cannot remove prior installation of package 'readxl'\""
     ]
    },
    {
     "name": "stdout",
     "output_type": "stream",
     "text": [
      "\n",
      "The downloaded binary packages are in\n",
      "\tC:\\Users\\iddy9\\AppData\\Local\\Temp\\RtmpghHzve\\downloaded_packages\n"
     ]
    },
    {
     "data": {
      "text/html": [
       "<ol class=list-inline>\n",
       "\t<li>'clippy.xls'</li>\n",
       "\t<li>'clippy.xlsx'</li>\n",
       "\t<li>'datasets.xls'</li>\n",
       "\t<li>'datasets.xlsx'</li>\n",
       "\t<li>'deaths.xls'</li>\n",
       "\t<li>'deaths.xlsx'</li>\n",
       "\t<li>'geometry.xls'</li>\n",
       "\t<li>'geometry.xlsx'</li>\n",
       "\t<li>'type-me.xls'</li>\n",
       "\t<li>'type-me.xlsx'</li>\n",
       "</ol>\n"
      ],
      "text/latex": [
       "\\begin{enumerate*}\n",
       "\\item 'clippy.xls'\n",
       "\\item 'clippy.xlsx'\n",
       "\\item 'datasets.xls'\n",
       "\\item 'datasets.xlsx'\n",
       "\\item 'deaths.xls'\n",
       "\\item 'deaths.xlsx'\n",
       "\\item 'geometry.xls'\n",
       "\\item 'geometry.xlsx'\n",
       "\\item 'type-me.xls'\n",
       "\\item 'type-me.xlsx'\n",
       "\\end{enumerate*}\n"
      ],
      "text/markdown": [
       "1. 'clippy.xls'\n",
       "2. 'clippy.xlsx'\n",
       "3. 'datasets.xls'\n",
       "4. 'datasets.xlsx'\n",
       "5. 'deaths.xls'\n",
       "6. 'deaths.xlsx'\n",
       "7. 'geometry.xls'\n",
       "8. 'geometry.xlsx'\n",
       "9. 'type-me.xls'\n",
       "10. 'type-me.xlsx'\n",
       "\n",
       "\n"
      ],
      "text/plain": [
       " [1] \"clippy.xls\"    \"clippy.xlsx\"   \"datasets.xls\"  \"datasets.xlsx\"\n",
       " [5] \"deaths.xls\"    \"deaths.xlsx\"   \"geometry.xls\"  \"geometry.xlsx\"\n",
       " [9] \"type-me.xls\"   \"type-me.xlsx\" "
      ]
     },
     "metadata": {},
     "output_type": "display_data"
    },
    {
     "data": {
      "text/html": [
       "'C:/ProgramData/Anaconda5/R/library/readxl/extdata/clippy.xls'"
      ],
      "text/latex": [
       "'C:/ProgramData/Anaconda5/R/library/readxl/extdata/clippy.xls'"
      ],
      "text/markdown": [
       "'C:/ProgramData/Anaconda5/R/library/readxl/extdata/clippy.xls'"
      ],
      "text/plain": [
       "[1] \"C:/ProgramData/Anaconda5/R/library/readxl/extdata/clippy.xls\""
      ]
     },
     "metadata": {},
     "output_type": "display_data"
    },
    {
     "data": {
      "text/html": [
       "'C:/ProgramData/Anaconda5/R/library/readxl/extdata/datasets.xlsx'"
      ],
      "text/latex": [
       "'C:/ProgramData/Anaconda5/R/library/readxl/extdata/datasets.xlsx'"
      ],
      "text/markdown": [
       "'C:/ProgramData/Anaconda5/R/library/readxl/extdata/datasets.xlsx'"
      ],
      "text/plain": [
       "[1] \"C:/ProgramData/Anaconda5/R/library/readxl/extdata/datasets.xlsx\""
      ]
     },
     "metadata": {},
     "output_type": "display_data"
    }
   ],
   "source": [
    "install.packages('readxl',repos='http://cran.us.r-project.org')\n",
    "library(sas7bdat)\n",
    "library(readxl)\n",
    "\n",
    " readxl_example()\n",
    " readxl_example('clippy.xls')\n",
    " xlsx_example = readxl_example('datasets.xlsx')\n",
    " xlsx_example"
   ]
  },
  {
   "cell_type": "code",
   "execution_count": 19,
   "metadata": {
    "scrolled": true
   },
   "outputs": [
    {
     "data": {
      "text/html": [
       "<table>\n",
       "<thead><tr><th scope=col>Sepal.Length</th><th scope=col>Sepal.Width</th><th scope=col>Petal.Length</th><th scope=col>Petal.Width</th><th scope=col>Species</th></tr></thead>\n",
       "<tbody>\n",
       "\t<tr><td>5.1   </td><td>3.5   </td><td>1.4   </td><td>0.2   </td><td>setosa</td></tr>\n",
       "\t<tr><td>4.9   </td><td>3.0   </td><td>1.4   </td><td>0.2   </td><td>setosa</td></tr>\n",
       "\t<tr><td>4.7   </td><td>3.2   </td><td>1.3   </td><td>0.2   </td><td>setosa</td></tr>\n",
       "\t<tr><td>4.6   </td><td>3.1   </td><td>1.5   </td><td>0.2   </td><td>setosa</td></tr>\n",
       "\t<tr><td>5.0   </td><td>3.6   </td><td>1.4   </td><td>0.2   </td><td>setosa</td></tr>\n",
       "\t<tr><td>5.4   </td><td>3.9   </td><td>1.7   </td><td>0.4   </td><td>setosa</td></tr>\n",
       "\t<tr><td>4.6   </td><td>3.4   </td><td>1.4   </td><td>0.3   </td><td>setosa</td></tr>\n",
       "\t<tr><td>5.0   </td><td>3.4   </td><td>1.5   </td><td>0.2   </td><td>setosa</td></tr>\n",
       "\t<tr><td>4.4   </td><td>2.9   </td><td>1.4   </td><td>0.2   </td><td>setosa</td></tr>\n",
       "\t<tr><td>4.9   </td><td>3.1   </td><td>1.5   </td><td>0.1   </td><td>setosa</td></tr>\n",
       "\t<tr><td>5.4   </td><td>3.7   </td><td>1.5   </td><td>0.2   </td><td>setosa</td></tr>\n",
       "\t<tr><td>4.8   </td><td>3.4   </td><td>1.6   </td><td>0.2   </td><td>setosa</td></tr>\n",
       "\t<tr><td>4.8   </td><td>3.0   </td><td>1.4   </td><td>0.1   </td><td>setosa</td></tr>\n",
       "\t<tr><td>4.3   </td><td>3.0   </td><td>1.1   </td><td>0.1   </td><td>setosa</td></tr>\n",
       "\t<tr><td>5.8   </td><td>4.0   </td><td>1.2   </td><td>0.2   </td><td>setosa</td></tr>\n",
       "\t<tr><td>5.7   </td><td>4.4   </td><td>1.5   </td><td>0.4   </td><td>setosa</td></tr>\n",
       "\t<tr><td>5.4   </td><td>3.9   </td><td>1.3   </td><td>0.4   </td><td>setosa</td></tr>\n",
       "\t<tr><td>5.1   </td><td>3.5   </td><td>1.4   </td><td>0.3   </td><td>setosa</td></tr>\n",
       "\t<tr><td>5.7   </td><td>3.8   </td><td>1.7   </td><td>0.3   </td><td>setosa</td></tr>\n",
       "\t<tr><td>5.1   </td><td>3.8   </td><td>1.5   </td><td>0.3   </td><td>setosa</td></tr>\n",
       "\t<tr><td>5.4   </td><td>3.4   </td><td>1.7   </td><td>0.2   </td><td>setosa</td></tr>\n",
       "\t<tr><td>5.1   </td><td>3.7   </td><td>1.5   </td><td>0.4   </td><td>setosa</td></tr>\n",
       "\t<tr><td>4.6   </td><td>3.6   </td><td>1.0   </td><td>0.2   </td><td>setosa</td></tr>\n",
       "\t<tr><td>5.1   </td><td>3.3   </td><td>1.7   </td><td>0.5   </td><td>setosa</td></tr>\n",
       "\t<tr><td>4.8   </td><td>3.4   </td><td>1.9   </td><td>0.2   </td><td>setosa</td></tr>\n",
       "\t<tr><td>5.0   </td><td>3.0   </td><td>1.6   </td><td>0.2   </td><td>setosa</td></tr>\n",
       "\t<tr><td>5.0   </td><td>3.4   </td><td>1.6   </td><td>0.4   </td><td>setosa</td></tr>\n",
       "\t<tr><td>5.2   </td><td>3.5   </td><td>1.5   </td><td>0.2   </td><td>setosa</td></tr>\n",
       "\t<tr><td>5.2   </td><td>3.4   </td><td>1.4   </td><td>0.2   </td><td>setosa</td></tr>\n",
       "\t<tr><td>4.7   </td><td>3.2   </td><td>1.6   </td><td>0.2   </td><td>setosa</td></tr>\n",
       "\t<tr><td>...</td><td>...</td><td>...</td><td>...</td><td>...</td></tr>\n",
       "\t<tr><td>6.9      </td><td>3.2      </td><td>5.7      </td><td>2.3      </td><td>virginica</td></tr>\n",
       "\t<tr><td>5.6      </td><td>2.8      </td><td>4.9      </td><td>2.0      </td><td>virginica</td></tr>\n",
       "\t<tr><td>7.7      </td><td>2.8      </td><td>6.7      </td><td>2.0      </td><td>virginica</td></tr>\n",
       "\t<tr><td>6.3      </td><td>2.7      </td><td>4.9      </td><td>1.8      </td><td>virginica</td></tr>\n",
       "\t<tr><td>6.7      </td><td>3.3      </td><td>5.7      </td><td>2.1      </td><td>virginica</td></tr>\n",
       "\t<tr><td>7.2      </td><td>3.2      </td><td>6.0      </td><td>1.8      </td><td>virginica</td></tr>\n",
       "\t<tr><td>6.2      </td><td>2.8      </td><td>4.8      </td><td>1.8      </td><td>virginica</td></tr>\n",
       "\t<tr><td>6.1      </td><td>3.0      </td><td>4.9      </td><td>1.8      </td><td>virginica</td></tr>\n",
       "\t<tr><td>6.4      </td><td>2.8      </td><td>5.6      </td><td>2.1      </td><td>virginica</td></tr>\n",
       "\t<tr><td>7.2      </td><td>3.0      </td><td>5.8      </td><td>1.6      </td><td>virginica</td></tr>\n",
       "\t<tr><td>7.4      </td><td>2.8      </td><td>6.1      </td><td>1.9      </td><td>virginica</td></tr>\n",
       "\t<tr><td>7.9      </td><td>3.8      </td><td>6.4      </td><td>2.0      </td><td>virginica</td></tr>\n",
       "\t<tr><td>6.4      </td><td>2.8      </td><td>5.6      </td><td>2.2      </td><td>virginica</td></tr>\n",
       "\t<tr><td>6.3      </td><td>2.8      </td><td>5.1      </td><td>1.5      </td><td>virginica</td></tr>\n",
       "\t<tr><td>6.1      </td><td>2.6      </td><td>5.6      </td><td>1.4      </td><td>virginica</td></tr>\n",
       "\t<tr><td>7.7      </td><td>3.0      </td><td>6.1      </td><td>2.3      </td><td>virginica</td></tr>\n",
       "\t<tr><td>6.3      </td><td>3.4      </td><td>5.6      </td><td>2.4      </td><td>virginica</td></tr>\n",
       "\t<tr><td>6.4      </td><td>3.1      </td><td>5.5      </td><td>1.8      </td><td>virginica</td></tr>\n",
       "\t<tr><td>6.0      </td><td>3.0      </td><td>4.8      </td><td>1.8      </td><td>virginica</td></tr>\n",
       "\t<tr><td>6.9      </td><td>3.1      </td><td>5.4      </td><td>2.1      </td><td>virginica</td></tr>\n",
       "\t<tr><td>6.7      </td><td>3.1      </td><td>5.6      </td><td>2.4      </td><td>virginica</td></tr>\n",
       "\t<tr><td>6.9      </td><td>3.1      </td><td>5.1      </td><td>2.3      </td><td>virginica</td></tr>\n",
       "\t<tr><td>5.8      </td><td>2.7      </td><td>5.1      </td><td>1.9      </td><td>virginica</td></tr>\n",
       "\t<tr><td>6.8      </td><td>3.2      </td><td>5.9      </td><td>2.3      </td><td>virginica</td></tr>\n",
       "\t<tr><td>6.7      </td><td>3.3      </td><td>5.7      </td><td>2.5      </td><td>virginica</td></tr>\n",
       "\t<tr><td>6.7      </td><td>3.0      </td><td>5.2      </td><td>2.3      </td><td>virginica</td></tr>\n",
       "\t<tr><td>6.3      </td><td>2.5      </td><td>5.0      </td><td>1.9      </td><td>virginica</td></tr>\n",
       "\t<tr><td>6.5      </td><td>3.0      </td><td>5.2      </td><td>2.0      </td><td>virginica</td></tr>\n",
       "\t<tr><td>6.2      </td><td>3.4      </td><td>5.4      </td><td>2.3      </td><td>virginica</td></tr>\n",
       "\t<tr><td>5.9      </td><td>3.0      </td><td>5.1      </td><td>1.8      </td><td>virginica</td></tr>\n",
       "</tbody>\n",
       "</table>\n"
      ],
      "text/latex": [
       "\\begin{tabular}{r|lllll}\n",
       " Sepal.Length & Sepal.Width & Petal.Length & Petal.Width & Species\\\\\n",
       "\\hline\n",
       "\t 5.1    & 3.5    & 1.4    & 0.2    & setosa\\\\\n",
       "\t 4.9    & 3.0    & 1.4    & 0.2    & setosa\\\\\n",
       "\t 4.7    & 3.2    & 1.3    & 0.2    & setosa\\\\\n",
       "\t 4.6    & 3.1    & 1.5    & 0.2    & setosa\\\\\n",
       "\t 5.0    & 3.6    & 1.4    & 0.2    & setosa\\\\\n",
       "\t 5.4    & 3.9    & 1.7    & 0.4    & setosa\\\\\n",
       "\t 4.6    & 3.4    & 1.4    & 0.3    & setosa\\\\\n",
       "\t 5.0    & 3.4    & 1.5    & 0.2    & setosa\\\\\n",
       "\t 4.4    & 2.9    & 1.4    & 0.2    & setosa\\\\\n",
       "\t 4.9    & 3.1    & 1.5    & 0.1    & setosa\\\\\n",
       "\t 5.4    & 3.7    & 1.5    & 0.2    & setosa\\\\\n",
       "\t 4.8    & 3.4    & 1.6    & 0.2    & setosa\\\\\n",
       "\t 4.8    & 3.0    & 1.4    & 0.1    & setosa\\\\\n",
       "\t 4.3    & 3.0    & 1.1    & 0.1    & setosa\\\\\n",
       "\t 5.8    & 4.0    & 1.2    & 0.2    & setosa\\\\\n",
       "\t 5.7    & 4.4    & 1.5    & 0.4    & setosa\\\\\n",
       "\t 5.4    & 3.9    & 1.3    & 0.4    & setosa\\\\\n",
       "\t 5.1    & 3.5    & 1.4    & 0.3    & setosa\\\\\n",
       "\t 5.7    & 3.8    & 1.7    & 0.3    & setosa\\\\\n",
       "\t 5.1    & 3.8    & 1.5    & 0.3    & setosa\\\\\n",
       "\t 5.4    & 3.4    & 1.7    & 0.2    & setosa\\\\\n",
       "\t 5.1    & 3.7    & 1.5    & 0.4    & setosa\\\\\n",
       "\t 4.6    & 3.6    & 1.0    & 0.2    & setosa\\\\\n",
       "\t 5.1    & 3.3    & 1.7    & 0.5    & setosa\\\\\n",
       "\t 4.8    & 3.4    & 1.9    & 0.2    & setosa\\\\\n",
       "\t 5.0    & 3.0    & 1.6    & 0.2    & setosa\\\\\n",
       "\t 5.0    & 3.4    & 1.6    & 0.4    & setosa\\\\\n",
       "\t 5.2    & 3.5    & 1.5    & 0.2    & setosa\\\\\n",
       "\t 5.2    & 3.4    & 1.4    & 0.2    & setosa\\\\\n",
       "\t 4.7    & 3.2    & 1.6    & 0.2    & setosa\\\\\n",
       "\t ... & ... & ... & ... & ...\\\\\n",
       "\t 6.9       & 3.2       & 5.7       & 2.3       & virginica\\\\\n",
       "\t 5.6       & 2.8       & 4.9       & 2.0       & virginica\\\\\n",
       "\t 7.7       & 2.8       & 6.7       & 2.0       & virginica\\\\\n",
       "\t 6.3       & 2.7       & 4.9       & 1.8       & virginica\\\\\n",
       "\t 6.7       & 3.3       & 5.7       & 2.1       & virginica\\\\\n",
       "\t 7.2       & 3.2       & 6.0       & 1.8       & virginica\\\\\n",
       "\t 6.2       & 2.8       & 4.8       & 1.8       & virginica\\\\\n",
       "\t 6.1       & 3.0       & 4.9       & 1.8       & virginica\\\\\n",
       "\t 6.4       & 2.8       & 5.6       & 2.1       & virginica\\\\\n",
       "\t 7.2       & 3.0       & 5.8       & 1.6       & virginica\\\\\n",
       "\t 7.4       & 2.8       & 6.1       & 1.9       & virginica\\\\\n",
       "\t 7.9       & 3.8       & 6.4       & 2.0       & virginica\\\\\n",
       "\t 6.4       & 2.8       & 5.6       & 2.2       & virginica\\\\\n",
       "\t 6.3       & 2.8       & 5.1       & 1.5       & virginica\\\\\n",
       "\t 6.1       & 2.6       & 5.6       & 1.4       & virginica\\\\\n",
       "\t 7.7       & 3.0       & 6.1       & 2.3       & virginica\\\\\n",
       "\t 6.3       & 3.4       & 5.6       & 2.4       & virginica\\\\\n",
       "\t 6.4       & 3.1       & 5.5       & 1.8       & virginica\\\\\n",
       "\t 6.0       & 3.0       & 4.8       & 1.8       & virginica\\\\\n",
       "\t 6.9       & 3.1       & 5.4       & 2.1       & virginica\\\\\n",
       "\t 6.7       & 3.1       & 5.6       & 2.4       & virginica\\\\\n",
       "\t 6.9       & 3.1       & 5.1       & 2.3       & virginica\\\\\n",
       "\t 5.8       & 2.7       & 5.1       & 1.9       & virginica\\\\\n",
       "\t 6.8       & 3.2       & 5.9       & 2.3       & virginica\\\\\n",
       "\t 6.7       & 3.3       & 5.7       & 2.5       & virginica\\\\\n",
       "\t 6.7       & 3.0       & 5.2       & 2.3       & virginica\\\\\n",
       "\t 6.3       & 2.5       & 5.0       & 1.9       & virginica\\\\\n",
       "\t 6.5       & 3.0       & 5.2       & 2.0       & virginica\\\\\n",
       "\t 6.2       & 3.4       & 5.4       & 2.3       & virginica\\\\\n",
       "\t 5.9       & 3.0       & 5.1       & 1.8       & virginica\\\\\n",
       "\\end{tabular}\n"
      ],
      "text/markdown": [
       "\n",
       "Sepal.Length | Sepal.Width | Petal.Length | Petal.Width | Species | \n",
       "|---|---|---|---|---|---|---|---|---|---|---|---|---|---|---|---|---|---|---|---|---|---|---|---|---|---|---|---|---|---|---|---|---|---|---|---|---|---|---|---|---|---|---|---|---|---|---|---|---|---|---|---|---|---|---|---|---|---|---|---|---|\n",
       "| 5.1    | 3.5    | 1.4    | 0.2    | setosa | \n",
       "| 4.9    | 3.0    | 1.4    | 0.2    | setosa | \n",
       "| 4.7    | 3.2    | 1.3    | 0.2    | setosa | \n",
       "| 4.6    | 3.1    | 1.5    | 0.2    | setosa | \n",
       "| 5.0    | 3.6    | 1.4    | 0.2    | setosa | \n",
       "| 5.4    | 3.9    | 1.7    | 0.4    | setosa | \n",
       "| 4.6    | 3.4    | 1.4    | 0.3    | setosa | \n",
       "| 5.0    | 3.4    | 1.5    | 0.2    | setosa | \n",
       "| 4.4    | 2.9    | 1.4    | 0.2    | setosa | \n",
       "| 4.9    | 3.1    | 1.5    | 0.1    | setosa | \n",
       "| 5.4    | 3.7    | 1.5    | 0.2    | setosa | \n",
       "| 4.8    | 3.4    | 1.6    | 0.2    | setosa | \n",
       "| 4.8    | 3.0    | 1.4    | 0.1    | setosa | \n",
       "| 4.3    | 3.0    | 1.1    | 0.1    | setosa | \n",
       "| 5.8    | 4.0    | 1.2    | 0.2    | setosa | \n",
       "| 5.7    | 4.4    | 1.5    | 0.4    | setosa | \n",
       "| 5.4    | 3.9    | 1.3    | 0.4    | setosa | \n",
       "| 5.1    | 3.5    | 1.4    | 0.3    | setosa | \n",
       "| 5.7    | 3.8    | 1.7    | 0.3    | setosa | \n",
       "| 5.1    | 3.8    | 1.5    | 0.3    | setosa | \n",
       "| 5.4    | 3.4    | 1.7    | 0.2    | setosa | \n",
       "| 5.1    | 3.7    | 1.5    | 0.4    | setosa | \n",
       "| 4.6    | 3.6    | 1.0    | 0.2    | setosa | \n",
       "| 5.1    | 3.3    | 1.7    | 0.5    | setosa | \n",
       "| 4.8    | 3.4    | 1.9    | 0.2    | setosa | \n",
       "| 5.0    | 3.0    | 1.6    | 0.2    | setosa | \n",
       "| 5.0    | 3.4    | 1.6    | 0.4    | setosa | \n",
       "| 5.2    | 3.5    | 1.5    | 0.2    | setosa | \n",
       "| 5.2    | 3.4    | 1.4    | 0.2    | setosa | \n",
       "| 4.7    | 3.2    | 1.6    | 0.2    | setosa | \n",
       "| ... | ... | ... | ... | ... | \n",
       "| 6.9       | 3.2       | 5.7       | 2.3       | virginica | \n",
       "| 5.6       | 2.8       | 4.9       | 2.0       | virginica | \n",
       "| 7.7       | 2.8       | 6.7       | 2.0       | virginica | \n",
       "| 6.3       | 2.7       | 4.9       | 1.8       | virginica | \n",
       "| 6.7       | 3.3       | 5.7       | 2.1       | virginica | \n",
       "| 7.2       | 3.2       | 6.0       | 1.8       | virginica | \n",
       "| 6.2       | 2.8       | 4.8       | 1.8       | virginica | \n",
       "| 6.1       | 3.0       | 4.9       | 1.8       | virginica | \n",
       "| 6.4       | 2.8       | 5.6       | 2.1       | virginica | \n",
       "| 7.2       | 3.0       | 5.8       | 1.6       | virginica | \n",
       "| 7.4       | 2.8       | 6.1       | 1.9       | virginica | \n",
       "| 7.9       | 3.8       | 6.4       | 2.0       | virginica | \n",
       "| 6.4       | 2.8       | 5.6       | 2.2       | virginica | \n",
       "| 6.3       | 2.8       | 5.1       | 1.5       | virginica | \n",
       "| 6.1       | 2.6       | 5.6       | 1.4       | virginica | \n",
       "| 7.7       | 3.0       | 6.1       | 2.3       | virginica | \n",
       "| 6.3       | 3.4       | 5.6       | 2.4       | virginica | \n",
       "| 6.4       | 3.1       | 5.5       | 1.8       | virginica | \n",
       "| 6.0       | 3.0       | 4.8       | 1.8       | virginica | \n",
       "| 6.9       | 3.1       | 5.4       | 2.1       | virginica | \n",
       "| 6.7       | 3.1       | 5.6       | 2.4       | virginica | \n",
       "| 6.9       | 3.1       | 5.1       | 2.3       | virginica | \n",
       "| 5.8       | 2.7       | 5.1       | 1.9       | virginica | \n",
       "| 6.8       | 3.2       | 5.9       | 2.3       | virginica | \n",
       "| 6.7       | 3.3       | 5.7       | 2.5       | virginica | \n",
       "| 6.7       | 3.0       | 5.2       | 2.3       | virginica | \n",
       "| 6.3       | 2.5       | 5.0       | 1.9       | virginica | \n",
       "| 6.5       | 3.0       | 5.2       | 2.0       | virginica | \n",
       "| 6.2       | 3.4       | 5.4       | 2.3       | virginica | \n",
       "| 5.9       | 3.0       | 5.1       | 1.8       | virginica | \n",
       "\n",
       "\n"
      ],
      "text/plain": [
       "    Sepal.Length Sepal.Width Petal.Length Petal.Width Species  \n",
       "1   5.1          3.5         1.4          0.2         setosa   \n",
       "2   4.9          3.0         1.4          0.2         setosa   \n",
       "3   4.7          3.2         1.3          0.2         setosa   \n",
       "4   4.6          3.1         1.5          0.2         setosa   \n",
       "5   5.0          3.6         1.4          0.2         setosa   \n",
       "6   5.4          3.9         1.7          0.4         setosa   \n",
       "7   4.6          3.4         1.4          0.3         setosa   \n",
       "8   5.0          3.4         1.5          0.2         setosa   \n",
       "9   4.4          2.9         1.4          0.2         setosa   \n",
       "10  4.9          3.1         1.5          0.1         setosa   \n",
       "11  5.4          3.7         1.5          0.2         setosa   \n",
       "12  4.8          3.4         1.6          0.2         setosa   \n",
       "13  4.8          3.0         1.4          0.1         setosa   \n",
       "14  4.3          3.0         1.1          0.1         setosa   \n",
       "15  5.8          4.0         1.2          0.2         setosa   \n",
       "16  5.7          4.4         1.5          0.4         setosa   \n",
       "17  5.4          3.9         1.3          0.4         setosa   \n",
       "18  5.1          3.5         1.4          0.3         setosa   \n",
       "19  5.7          3.8         1.7          0.3         setosa   \n",
       "20  5.1          3.8         1.5          0.3         setosa   \n",
       "21  5.4          3.4         1.7          0.2         setosa   \n",
       "22  5.1          3.7         1.5          0.4         setosa   \n",
       "23  4.6          3.6         1.0          0.2         setosa   \n",
       "24  5.1          3.3         1.7          0.5         setosa   \n",
       "25  4.8          3.4         1.9          0.2         setosa   \n",
       "26  5.0          3.0         1.6          0.2         setosa   \n",
       "27  5.0          3.4         1.6          0.4         setosa   \n",
       "28  5.2          3.5         1.5          0.2         setosa   \n",
       "29  5.2          3.4         1.4          0.2         setosa   \n",
       "30  4.7          3.2         1.6          0.2         setosa   \n",
       "... ...          ...         ...          ...         ...      \n",
       "121 6.9          3.2         5.7          2.3         virginica\n",
       "122 5.6          2.8         4.9          2.0         virginica\n",
       "123 7.7          2.8         6.7          2.0         virginica\n",
       "124 6.3          2.7         4.9          1.8         virginica\n",
       "125 6.7          3.3         5.7          2.1         virginica\n",
       "126 7.2          3.2         6.0          1.8         virginica\n",
       "127 6.2          2.8         4.8          1.8         virginica\n",
       "128 6.1          3.0         4.9          1.8         virginica\n",
       "129 6.4          2.8         5.6          2.1         virginica\n",
       "130 7.2          3.0         5.8          1.6         virginica\n",
       "131 7.4          2.8         6.1          1.9         virginica\n",
       "132 7.9          3.8         6.4          2.0         virginica\n",
       "133 6.4          2.8         5.6          2.2         virginica\n",
       "134 6.3          2.8         5.1          1.5         virginica\n",
       "135 6.1          2.6         5.6          1.4         virginica\n",
       "136 7.7          3.0         6.1          2.3         virginica\n",
       "137 6.3          3.4         5.6          2.4         virginica\n",
       "138 6.4          3.1         5.5          1.8         virginica\n",
       "139 6.0          3.0         4.8          1.8         virginica\n",
       "140 6.9          3.1         5.4          2.1         virginica\n",
       "141 6.7          3.1         5.6          2.4         virginica\n",
       "142 6.9          3.1         5.1          2.3         virginica\n",
       "143 5.8          2.7         5.1          1.9         virginica\n",
       "144 6.8          3.2         5.9          2.3         virginica\n",
       "145 6.7          3.3         5.7          2.5         virginica\n",
       "146 6.7          3.0         5.2          2.3         virginica\n",
       "147 6.3          2.5         5.0          1.9         virginica\n",
       "148 6.5          3.0         5.2          2.0         virginica\n",
       "149 6.2          3.4         5.4          2.3         virginica\n",
       "150 5.9          3.0         5.1          1.8         virginica"
      ]
     },
     "metadata": {},
     "output_type": "display_data"
    }
   ],
   "source": [
    "excel = read_excel(xlsx_example)\n",
    "excel"
   ]
  },
  {
   "cell_type": "code",
   "execution_count": 20,
   "metadata": {},
   "outputs": [
    {
     "data": {
      "text/html": [
       "<table>\n",
       "<thead><tr><th scope=col>Day</th><th scope=col>W1</th><th scope=col>W2</th><th scope=col>W3</th><th scope=col>W4</th><th scope=col>W5</th><th scope=col>W6</th><th scope=col>D7</th><th scope=col>D8</th><th scope=col>D9</th><th scope=col>...</th><th scope=col>Gas_Usage</th><th scope=col>Electricity_Usage</th><th scope=col>Water_Usage</th><th scope=col>Detergent_1</th><th scope=col>Detergent_2</th><th scope=col>Softener</th><th scope=col>Bleach</th><th scope=col>Aroma</th><th scope=col>Bag</th><th scope=col>CoinLoss</th></tr></thead>\n",
       "<tbody>\n",
       "\t<tr><td>1     </td><td>28    </td><td>34    </td><td>40    </td><td>35    </td><td>22    </td><td>35    </td><td>36    </td><td>43    </td><td>30    </td><td>...   </td><td> 7100 </td><td>28    </td><td> 87452</td><td>3     </td><td> 3    </td><td>4     </td><td> 0    </td><td>3     </td><td>0     </td><td>56    </td></tr>\n",
       "\t<tr><td>2     </td><td>28    </td><td>22    </td><td>71    </td><td>61    </td><td>75    </td><td>64    </td><td>62    </td><td>52    </td><td>47    </td><td>...   </td><td> 8814 </td><td>34    </td><td> 97839</td><td>3     </td><td> 4    </td><td>3     </td><td>14    </td><td>1     </td><td>2     </td><td>48    </td></tr>\n",
       "\t<tr><td>3     </td><td>25    </td><td>37    </td><td>72    </td><td>68    </td><td>73    </td><td>59    </td><td>58    </td><td>66    </td><td>53    </td><td>...   </td><td> 6936 </td><td>25    </td><td> 97839</td><td>6     </td><td> 4    </td><td>5     </td><td> 0    </td><td>4     </td><td>3     </td><td>76    </td></tr>\n",
       "\t<tr><td>4     </td><td>21    </td><td>20    </td><td>73    </td><td>66    </td><td>75    </td><td>84    </td><td>80    </td><td>57    </td><td>67    </td><td>...   </td><td>10540 </td><td>30    </td><td>101318</td><td>4     </td><td>11    </td><td>2     </td><td> 0    </td><td>0     </td><td>2     </td><td>14    </td></tr>\n",
       "\t<tr><td>5     </td><td>10    </td><td>26    </td><td>33    </td><td>29    </td><td>37    </td><td>32    </td><td>64    </td><td>44    </td><td>49    </td><td>...   </td><td> 5028 </td><td>23    </td><td> 47572</td><td>2     </td><td> 3    </td><td>3     </td><td> 0    </td><td>2     </td><td>2     </td><td> 0    </td></tr>\n",
       "\t<tr><td>6     </td><td>37    </td><td>56    </td><td>53    </td><td>40    </td><td>28    </td><td>50    </td><td>45    </td><td>42    </td><td>19    </td><td>...   </td><td> 6734 </td><td>25    </td><td> 79860</td><td>5     </td><td> 1    </td><td>4     </td><td> 0    </td><td>0     </td><td>3     </td><td>14    </td></tr>\n",
       "</tbody>\n",
       "</table>\n"
      ],
      "text/latex": [
       "\\begin{tabular}{r|lllllllllllllllllllllll}\n",
       " Day & W1 & W2 & W3 & W4 & W5 & W6 & D7 & D8 & D9 & ... & Gas\\_Usage & Electricity\\_Usage & Water\\_Usage & Detergent\\_1 & Detergent\\_2 & Softener & Bleach & Aroma & Bag & CoinLoss\\\\\n",
       "\\hline\n",
       "\t 1      & 28     & 34     & 40     & 35     & 22     & 35     & 36     & 43     & 30     & ...    &  7100  & 28     &  87452 & 3      &  3     & 4      &  0     & 3      & 0      & 56    \\\\\n",
       "\t 2      & 28     & 22     & 71     & 61     & 75     & 64     & 62     & 52     & 47     & ...    &  8814  & 34     &  97839 & 3      &  4     & 3      & 14     & 1      & 2      & 48    \\\\\n",
       "\t 3      & 25     & 37     & 72     & 68     & 73     & 59     & 58     & 66     & 53     & ...    &  6936  & 25     &  97839 & 6      &  4     & 5      &  0     & 4      & 3      & 76    \\\\\n",
       "\t 4      & 21     & 20     & 73     & 66     & 75     & 84     & 80     & 57     & 67     & ...    & 10540  & 30     & 101318 & 4      & 11     & 2      &  0     & 0      & 2      & 14    \\\\\n",
       "\t 5      & 10     & 26     & 33     & 29     & 37     & 32     & 64     & 44     & 49     & ...    &  5028  & 23     &  47572 & 2      &  3     & 3      &  0     & 2      & 2      &  0    \\\\\n",
       "\t 6      & 37     & 56     & 53     & 40     & 28     & 50     & 45     & 42     & 19     & ...    &  6734  & 25     &  79860 & 5      &  1     & 4      &  0     & 0      & 3      & 14    \\\\\n",
       "\\end{tabular}\n"
      ],
      "text/markdown": [
       "\n",
       "Day | W1 | W2 | W3 | W4 | W5 | W6 | D7 | D8 | D9 | ... | Gas_Usage | Electricity_Usage | Water_Usage | Detergent_1 | Detergent_2 | Softener | Bleach | Aroma | Bag | CoinLoss | \n",
       "|---|---|---|---|---|---|\n",
       "| 1      | 28     | 34     | 40     | 35     | 22     | 35     | 36     | 43     | 30     | ...    |  7100  | 28     |  87452 | 3      |  3     | 4      |  0     | 3      | 0      | 56     | \n",
       "| 2      | 28     | 22     | 71     | 61     | 75     | 64     | 62     | 52     | 47     | ...    |  8814  | 34     |  97839 | 3      |  4     | 3      | 14     | 1      | 2      | 48     | \n",
       "| 3      | 25     | 37     | 72     | 68     | 73     | 59     | 58     | 66     | 53     | ...    |  6936  | 25     |  97839 | 6      |  4     | 5      |  0     | 4      | 3      | 76     | \n",
       "| 4      | 21     | 20     | 73     | 66     | 75     | 84     | 80     | 57     | 67     | ...    | 10540  | 30     | 101318 | 4      | 11     | 2      |  0     | 0      | 2      | 14     | \n",
       "| 5      | 10     | 26     | 33     | 29     | 37     | 32     | 64     | 44     | 49     | ...    |  5028  | 23     |  47572 | 2      |  3     | 3      |  0     | 2      | 2      |  0     | \n",
       "| 6      | 37     | 56     | 53     | 40     | 28     | 50     | 45     | 42     | 19     | ...    |  6734  | 25     |  79860 | 5      |  1     | 4      |  0     | 0      | 3      | 14     | \n",
       "\n",
       "\n"
      ],
      "text/plain": [
       "  Day W1 W2 W3 W4 W5 W6 D7 D8 D9 ... Gas_Usage Electricity_Usage Water_Usage\n",
       "1 1   28 34 40 35 22 35 36 43 30 ...  7100     28                 87452     \n",
       "2 2   28 22 71 61 75 64 62 52 47 ...  8814     34                 97839     \n",
       "3 3   25 37 72 68 73 59 58 66 53 ...  6936     25                 97839     \n",
       "4 4   21 20 73 66 75 84 80 57 67 ... 10540     30                101318     \n",
       "5 5   10 26 33 29 37 32 64 44 49 ...  5028     23                 47572     \n",
       "6 6   37 56 53 40 28 50 45 42 19 ...  6734     25                 79860     \n",
       "  Detergent_1 Detergent_2 Softener Bleach Aroma Bag CoinLoss\n",
       "1 3            3          4         0     3     0   56      \n",
       "2 3            4          3        14     1     2   48      \n",
       "3 6            4          5         0     4     3   76      \n",
       "4 4           11          2         0     0     2   14      \n",
       "5 2            3          3         0     2     2    0      \n",
       "6 5            1          4         0     0     3   14      "
      ]
     },
     "metadata": {},
     "output_type": "display_data"
    }
   ],
   "source": [
    "excel2 = read_excel('laundry.xlsx')\n",
    "head(excel2)"
   ]
  },
  {
   "cell_type": "code",
   "execution_count": 21,
   "metadata": {
    "scrolled": true
   },
   "outputs": [
    {
     "data": {
      "text/html": [
       "<table>\n",
       "<thead><tr><th scope=col>weight</th><th scope=col>feed</th></tr></thead>\n",
       "<tbody>\n",
       "\t<tr><td>179      </td><td>horsebean</td></tr>\n",
       "\t<tr><td>160      </td><td>horsebean</td></tr>\n",
       "\t<tr><td>136      </td><td>horsebean</td></tr>\n",
       "\t<tr><td>227      </td><td>horsebean</td></tr>\n",
       "\t<tr><td>217      </td><td>horsebean</td></tr>\n",
       "\t<tr><td>168      </td><td>horsebean</td></tr>\n",
       "</tbody>\n",
       "</table>\n"
      ],
      "text/latex": [
       "\\begin{tabular}{r|ll}\n",
       " weight & feed\\\\\n",
       "\\hline\n",
       "\t 179       & horsebean\\\\\n",
       "\t 160       & horsebean\\\\\n",
       "\t 136       & horsebean\\\\\n",
       "\t 227       & horsebean\\\\\n",
       "\t 217       & horsebean\\\\\n",
       "\t 168       & horsebean\\\\\n",
       "\\end{tabular}\n"
      ],
      "text/markdown": [
       "\n",
       "weight | feed | \n",
       "|---|---|---|---|---|---|\n",
       "| 179       | horsebean | \n",
       "| 160       | horsebean | \n",
       "| 136       | horsebean | \n",
       "| 227       | horsebean | \n",
       "| 217       | horsebean | \n",
       "| 168       | horsebean | \n",
       "\n",
       "\n"
      ],
      "text/plain": [
       "  weight feed     \n",
       "1 179    horsebean\n",
       "2 160    horsebean\n",
       "3 136    horsebean\n",
       "4 227    horsebean\n",
       "5 217    horsebean\n",
       "6 168    horsebean"
      ]
     },
     "metadata": {},
     "output_type": "display_data"
    }
   ],
   "source": [
    "excel3 = read_excel(xlsx_example, sheet = \"chickwts\")\n",
    "head(excel3)"
   ]
  },
  {
   "cell_type": "code",
   "execution_count": 22,
   "metadata": {},
   "outputs": [
    {
     "data": {
      "text/html": [
       "<table>\n",
       "<thead><tr><th scope=col>lat</th><th scope=col>long</th><th scope=col>depth</th><th scope=col>mag</th><th scope=col>stations</th></tr></thead>\n",
       "<tbody>\n",
       "\t<tr><td>-20.42</td><td>181.62</td><td>562   </td><td>4.8   </td><td>41    </td></tr>\n",
       "\t<tr><td>-20.62</td><td>181.03</td><td>650   </td><td>4.2   </td><td>15    </td></tr>\n",
       "\t<tr><td>-26.00</td><td>184.10</td><td> 42   </td><td>5.4   </td><td>43    </td></tr>\n",
       "\t<tr><td>-17.97</td><td>181.66</td><td>626   </td><td>4.1   </td><td>19    </td></tr>\n",
       "\t<tr><td>-20.42</td><td>181.96</td><td>649   </td><td>4.0   </td><td>11    </td></tr>\n",
       "\t<tr><td>-19.68</td><td>184.31</td><td>195   </td><td>4.0   </td><td>12    </td></tr>\n",
       "</tbody>\n",
       "</table>\n"
      ],
      "text/latex": [
       "\\begin{tabular}{r|lllll}\n",
       " lat & long & depth & mag & stations\\\\\n",
       "\\hline\n",
       "\t -20.42 & 181.62 & 562    & 4.8    & 41    \\\\\n",
       "\t -20.62 & 181.03 & 650    & 4.2    & 15    \\\\\n",
       "\t -26.00 & 184.10 &  42    & 5.4    & 43    \\\\\n",
       "\t -17.97 & 181.66 & 626    & 4.1    & 19    \\\\\n",
       "\t -20.42 & 181.96 & 649    & 4.0    & 11    \\\\\n",
       "\t -19.68 & 184.31 & 195    & 4.0    & 12    \\\\\n",
       "\\end{tabular}\n"
      ],
      "text/markdown": [
       "\n",
       "lat | long | depth | mag | stations | \n",
       "|---|---|---|---|---|---|\n",
       "| -20.42 | 181.62 | 562    | 4.8    | 41     | \n",
       "| -20.62 | 181.03 | 650    | 4.2    | 15     | \n",
       "| -26.00 | 184.10 |  42    | 5.4    | 43     | \n",
       "| -17.97 | 181.66 | 626    | 4.1    | 19     | \n",
       "| -20.42 | 181.96 | 649    | 4.0    | 11     | \n",
       "| -19.68 | 184.31 | 195    | 4.0    | 12     | \n",
       "\n",
       "\n"
      ],
      "text/plain": [
       "  lat    long   depth mag stations\n",
       "1 -20.42 181.62 562   4.8 41      \n",
       "2 -20.62 181.03 650   4.2 15      \n",
       "3 -26.00 184.10  42   5.4 43      \n",
       "4 -17.97 181.66 626   4.1 19      \n",
       "5 -20.42 181.96 649   4.0 11      \n",
       "6 -19.68 184.31 195   4.0 12      "
      ]
     },
     "metadata": {},
     "output_type": "display_data"
    }
   ],
   "source": [
    "excel4 = read_excel(xlsx_example, sheet = 4)\n",
    "head(excel4)"
   ]
  },
  {
   "cell_type": "code",
   "execution_count": 23,
   "metadata": {},
   "outputs": [
    {
     "data": {
      "text/html": [
       "<table>\n",
       "<thead><tr><th scope=col>Sepal.Length</th><th scope=col>Sepal.Width</th><th scope=col>Petal.Length</th><th scope=col>Petal.Width</th><th scope=col>Species</th></tr></thead>\n",
       "<tbody>\n",
       "\t<tr><td>5.1   </td><td>3.5   </td><td>1.4   </td><td>0.2   </td><td>setosa</td></tr>\n",
       "\t<tr><td>4.9   </td><td>3.0   </td><td>1.4   </td><td>0.2   </td><td>setosa</td></tr>\n",
       "\t<tr><td>4.7   </td><td>3.2   </td><td>1.3   </td><td>0.2   </td><td>setosa</td></tr>\n",
       "</tbody>\n",
       "</table>\n"
      ],
      "text/latex": [
       "\\begin{tabular}{r|lllll}\n",
       " Sepal.Length & Sepal.Width & Petal.Length & Petal.Width & Species\\\\\n",
       "\\hline\n",
       "\t 5.1    & 3.5    & 1.4    & 0.2    & setosa\\\\\n",
       "\t 4.9    & 3.0    & 1.4    & 0.2    & setosa\\\\\n",
       "\t 4.7    & 3.2    & 1.3    & 0.2    & setosa\\\\\n",
       "\\end{tabular}\n"
      ],
      "text/markdown": [
       "\n",
       "Sepal.Length | Sepal.Width | Petal.Length | Petal.Width | Species | \n",
       "|---|---|---|\n",
       "| 5.1    | 3.5    | 1.4    | 0.2    | setosa | \n",
       "| 4.9    | 3.0    | 1.4    | 0.2    | setosa | \n",
       "| 4.7    | 3.2    | 1.3    | 0.2    | setosa | \n",
       "\n",
       "\n"
      ],
      "text/plain": [
       "  Sepal.Length Sepal.Width Petal.Length Petal.Width Species\n",
       "1 5.1          3.5         1.4          0.2         setosa \n",
       "2 4.9          3.0         1.4          0.2         setosa \n",
       "3 4.7          3.2         1.3          0.2         setosa "
      ]
     },
     "metadata": {},
     "output_type": "display_data"
    }
   ],
   "source": [
    "read_excel(xlsx_example, n_max = 3)"
   ]
  },
  {
   "cell_type": "code",
   "execution_count": 24,
   "metadata": {},
   "outputs": [
    {
     "data": {
      "text/html": [
       "<table>\n",
       "<thead><tr><th scope=col>Petal.Length</th></tr></thead>\n",
       "<tbody>\n",
       "\t<tr><td>1.4</td></tr>\n",
       "\t<tr><td>1.4</td></tr>\n",
       "\t<tr><td>1.3</td></tr>\n",
       "</tbody>\n",
       "</table>\n"
      ],
      "text/latex": [
       "\\begin{tabular}{r|l}\n",
       " Petal.Length\\\\\n",
       "\\hline\n",
       "\t 1.4\\\\\n",
       "\t 1.4\\\\\n",
       "\t 1.3\\\\\n",
       "\\end{tabular}\n"
      ],
      "text/markdown": [
       "\n",
       "Petal.Length | \n",
       "|---|---|---|\n",
       "| 1.4 | \n",
       "| 1.4 | \n",
       "| 1.3 | \n",
       "\n",
       "\n"
      ],
      "text/plain": [
       "  Petal.Length\n",
       "1 1.4         \n",
       "2 1.4         \n",
       "3 1.3         "
      ]
     },
     "metadata": {},
     "output_type": "display_data"
    }
   ],
   "source": [
    "read_excel(xlsx_example, range = \"C1:C4\")"
   ]
  },
  {
   "cell_type": "code",
   "execution_count": 25,
   "metadata": {},
   "outputs": [
    {
     "data": {
      "text/html": [
       "<table>\n",
       "<thead><tr><th scope=col>Sepal.Length</th><th scope=col>Sepal.Width</th><th scope=col>Petal.Length</th><th scope=col>Petal.Width</th><th scope=col>Species</th></tr></thead>\n",
       "<tbody>\n",
       "\t<tr><td>5.1   </td><td>3.5   </td><td>1.4   </td><td>0.2   </td><td>setosa</td></tr>\n",
       "\t<tr><td>4.9   </td><td>3.0   </td><td>1.4   </td><td>0.2   </td><td>setosa</td></tr>\n",
       "\t<tr><td>4.7   </td><td>3.2   </td><td>1.3   </td><td>0.2   </td><td>setosa</td></tr>\n",
       "</tbody>\n",
       "</table>\n"
      ],
      "text/latex": [
       "\\begin{tabular}{r|lllll}\n",
       " Sepal.Length & Sepal.Width & Petal.Length & Petal.Width & Species\\\\\n",
       "\\hline\n",
       "\t 5.1    & 3.5    & 1.4    & 0.2    & setosa\\\\\n",
       "\t 4.9    & 3.0    & 1.4    & 0.2    & setosa\\\\\n",
       "\t 4.7    & 3.2    & 1.3    & 0.2    & setosa\\\\\n",
       "\\end{tabular}\n"
      ],
      "text/markdown": [
       "\n",
       "Sepal.Length | Sepal.Width | Petal.Length | Petal.Width | Species | \n",
       "|---|---|---|\n",
       "| 5.1    | 3.5    | 1.4    | 0.2    | setosa | \n",
       "| 4.9    | 3.0    | 1.4    | 0.2    | setosa | \n",
       "| 4.7    | 3.2    | 1.3    | 0.2    | setosa | \n",
       "\n",
       "\n"
      ],
      "text/plain": [
       "  Sepal.Length Sepal.Width Petal.Length Petal.Width Species\n",
       "1 5.1          3.5         1.4          0.2         setosa \n",
       "2 4.9          3.0         1.4          0.2         setosa \n",
       "3 4.7          3.2         1.3          0.2         setosa "
      ]
     },
     "metadata": {},
     "output_type": "display_data"
    }
   ],
   "source": [
    "read_excel(xlsx_example, range = cell_rows(1:4))"
   ]
  },
  {
   "cell_type": "code",
   "execution_count": 26,
   "metadata": {
    "scrolled": true
   },
   "outputs": [
    {
     "data": {
      "text/html": [
       "<table>\n",
       "<thead><tr><th scope=col>Sepal.Width</th><th scope=col>Petal.Length</th><th scope=col>Petal.Width</th></tr></thead>\n",
       "<tbody>\n",
       "\t<tr><td>3.5</td><td>1.4</td><td>0.2</td></tr>\n",
       "\t<tr><td>3.0</td><td>1.4</td><td>0.2</td></tr>\n",
       "\t<tr><td>3.2</td><td>1.3</td><td>0.2</td></tr>\n",
       "\t<tr><td>3.1</td><td>1.5</td><td>0.2</td></tr>\n",
       "\t<tr><td>3.6</td><td>1.4</td><td>0.2</td></tr>\n",
       "\t<tr><td>3.9</td><td>1.7</td><td>0.4</td></tr>\n",
       "\t<tr><td>3.4</td><td>1.4</td><td>0.3</td></tr>\n",
       "\t<tr><td>3.4</td><td>1.5</td><td>0.2</td></tr>\n",
       "\t<tr><td>2.9</td><td>1.4</td><td>0.2</td></tr>\n",
       "\t<tr><td>3.1</td><td>1.5</td><td>0.1</td></tr>\n",
       "\t<tr><td>3.7</td><td>1.5</td><td>0.2</td></tr>\n",
       "\t<tr><td>3.4</td><td>1.6</td><td>0.2</td></tr>\n",
       "\t<tr><td>3.0</td><td>1.4</td><td>0.1</td></tr>\n",
       "\t<tr><td>3.0</td><td>1.1</td><td>0.1</td></tr>\n",
       "\t<tr><td>4.0</td><td>1.2</td><td>0.2</td></tr>\n",
       "\t<tr><td>4.4</td><td>1.5</td><td>0.4</td></tr>\n",
       "\t<tr><td>3.9</td><td>1.3</td><td>0.4</td></tr>\n",
       "\t<tr><td>3.5</td><td>1.4</td><td>0.3</td></tr>\n",
       "\t<tr><td>3.8</td><td>1.7</td><td>0.3</td></tr>\n",
       "\t<tr><td>3.8</td><td>1.5</td><td>0.3</td></tr>\n",
       "\t<tr><td>3.4</td><td>1.7</td><td>0.2</td></tr>\n",
       "\t<tr><td>3.7</td><td>1.5</td><td>0.4</td></tr>\n",
       "\t<tr><td>3.6</td><td>1.0</td><td>0.2</td></tr>\n",
       "\t<tr><td>3.3</td><td>1.7</td><td>0.5</td></tr>\n",
       "\t<tr><td>3.4</td><td>1.9</td><td>0.2</td></tr>\n",
       "\t<tr><td>3.0</td><td>1.6</td><td>0.2</td></tr>\n",
       "\t<tr><td>3.4</td><td>1.6</td><td>0.4</td></tr>\n",
       "\t<tr><td>3.5</td><td>1.5</td><td>0.2</td></tr>\n",
       "\t<tr><td>3.4</td><td>1.4</td><td>0.2</td></tr>\n",
       "\t<tr><td>3.2</td><td>1.6</td><td>0.2</td></tr>\n",
       "\t<tr><td>...</td><td>...</td><td>...</td></tr>\n",
       "\t<tr><td>3.2</td><td>5.7</td><td>2.3</td></tr>\n",
       "\t<tr><td>2.8</td><td>4.9</td><td>2.0</td></tr>\n",
       "\t<tr><td>2.8</td><td>6.7</td><td>2.0</td></tr>\n",
       "\t<tr><td>2.7</td><td>4.9</td><td>1.8</td></tr>\n",
       "\t<tr><td>3.3</td><td>5.7</td><td>2.1</td></tr>\n",
       "\t<tr><td>3.2</td><td>6.0</td><td>1.8</td></tr>\n",
       "\t<tr><td>2.8</td><td>4.8</td><td>1.8</td></tr>\n",
       "\t<tr><td>3.0</td><td>4.9</td><td>1.8</td></tr>\n",
       "\t<tr><td>2.8</td><td>5.6</td><td>2.1</td></tr>\n",
       "\t<tr><td>3.0</td><td>5.8</td><td>1.6</td></tr>\n",
       "\t<tr><td>2.8</td><td>6.1</td><td>1.9</td></tr>\n",
       "\t<tr><td>3.8</td><td>6.4</td><td>2.0</td></tr>\n",
       "\t<tr><td>2.8</td><td>5.6</td><td>2.2</td></tr>\n",
       "\t<tr><td>2.8</td><td>5.1</td><td>1.5</td></tr>\n",
       "\t<tr><td>2.6</td><td>5.6</td><td>1.4</td></tr>\n",
       "\t<tr><td>3.0</td><td>6.1</td><td>2.3</td></tr>\n",
       "\t<tr><td>3.4</td><td>5.6</td><td>2.4</td></tr>\n",
       "\t<tr><td>3.1</td><td>5.5</td><td>1.8</td></tr>\n",
       "\t<tr><td>3.0</td><td>4.8</td><td>1.8</td></tr>\n",
       "\t<tr><td>3.1</td><td>5.4</td><td>2.1</td></tr>\n",
       "\t<tr><td>3.1</td><td>5.6</td><td>2.4</td></tr>\n",
       "\t<tr><td>3.1</td><td>5.1</td><td>2.3</td></tr>\n",
       "\t<tr><td>2.7</td><td>5.1</td><td>1.9</td></tr>\n",
       "\t<tr><td>3.2</td><td>5.9</td><td>2.3</td></tr>\n",
       "\t<tr><td>3.3</td><td>5.7</td><td>2.5</td></tr>\n",
       "\t<tr><td>3.0</td><td>5.2</td><td>2.3</td></tr>\n",
       "\t<tr><td>2.5</td><td>5.0</td><td>1.9</td></tr>\n",
       "\t<tr><td>3.0</td><td>5.2</td><td>2.0</td></tr>\n",
       "\t<tr><td>3.4</td><td>5.4</td><td>2.3</td></tr>\n",
       "\t<tr><td>3.0</td><td>5.1</td><td>1.8</td></tr>\n",
       "</tbody>\n",
       "</table>\n"
      ],
      "text/latex": [
       "\\begin{tabular}{r|lll}\n",
       " Sepal.Width & Petal.Length & Petal.Width\\\\\n",
       "\\hline\n",
       "\t 3.5 & 1.4 & 0.2\\\\\n",
       "\t 3.0 & 1.4 & 0.2\\\\\n",
       "\t 3.2 & 1.3 & 0.2\\\\\n",
       "\t 3.1 & 1.5 & 0.2\\\\\n",
       "\t 3.6 & 1.4 & 0.2\\\\\n",
       "\t 3.9 & 1.7 & 0.4\\\\\n",
       "\t 3.4 & 1.4 & 0.3\\\\\n",
       "\t 3.4 & 1.5 & 0.2\\\\\n",
       "\t 2.9 & 1.4 & 0.2\\\\\n",
       "\t 3.1 & 1.5 & 0.1\\\\\n",
       "\t 3.7 & 1.5 & 0.2\\\\\n",
       "\t 3.4 & 1.6 & 0.2\\\\\n",
       "\t 3.0 & 1.4 & 0.1\\\\\n",
       "\t 3.0 & 1.1 & 0.1\\\\\n",
       "\t 4.0 & 1.2 & 0.2\\\\\n",
       "\t 4.4 & 1.5 & 0.4\\\\\n",
       "\t 3.9 & 1.3 & 0.4\\\\\n",
       "\t 3.5 & 1.4 & 0.3\\\\\n",
       "\t 3.8 & 1.7 & 0.3\\\\\n",
       "\t 3.8 & 1.5 & 0.3\\\\\n",
       "\t 3.4 & 1.7 & 0.2\\\\\n",
       "\t 3.7 & 1.5 & 0.4\\\\\n",
       "\t 3.6 & 1.0 & 0.2\\\\\n",
       "\t 3.3 & 1.7 & 0.5\\\\\n",
       "\t 3.4 & 1.9 & 0.2\\\\\n",
       "\t 3.0 & 1.6 & 0.2\\\\\n",
       "\t 3.4 & 1.6 & 0.4\\\\\n",
       "\t 3.5 & 1.5 & 0.2\\\\\n",
       "\t 3.4 & 1.4 & 0.2\\\\\n",
       "\t 3.2 & 1.6 & 0.2\\\\\n",
       "\t ... & ... & ...\\\\\n",
       "\t 3.2 & 5.7 & 2.3\\\\\n",
       "\t 2.8 & 4.9 & 2.0\\\\\n",
       "\t 2.8 & 6.7 & 2.0\\\\\n",
       "\t 2.7 & 4.9 & 1.8\\\\\n",
       "\t 3.3 & 5.7 & 2.1\\\\\n",
       "\t 3.2 & 6.0 & 1.8\\\\\n",
       "\t 2.8 & 4.8 & 1.8\\\\\n",
       "\t 3.0 & 4.9 & 1.8\\\\\n",
       "\t 2.8 & 5.6 & 2.1\\\\\n",
       "\t 3.0 & 5.8 & 1.6\\\\\n",
       "\t 2.8 & 6.1 & 1.9\\\\\n",
       "\t 3.8 & 6.4 & 2.0\\\\\n",
       "\t 2.8 & 5.6 & 2.2\\\\\n",
       "\t 2.8 & 5.1 & 1.5\\\\\n",
       "\t 2.6 & 5.6 & 1.4\\\\\n",
       "\t 3.0 & 6.1 & 2.3\\\\\n",
       "\t 3.4 & 5.6 & 2.4\\\\\n",
       "\t 3.1 & 5.5 & 1.8\\\\\n",
       "\t 3.0 & 4.8 & 1.8\\\\\n",
       "\t 3.1 & 5.4 & 2.1\\\\\n",
       "\t 3.1 & 5.6 & 2.4\\\\\n",
       "\t 3.1 & 5.1 & 2.3\\\\\n",
       "\t 2.7 & 5.1 & 1.9\\\\\n",
       "\t 3.2 & 5.9 & 2.3\\\\\n",
       "\t 3.3 & 5.7 & 2.5\\\\\n",
       "\t 3.0 & 5.2 & 2.3\\\\\n",
       "\t 2.5 & 5.0 & 1.9\\\\\n",
       "\t 3.0 & 5.2 & 2.0\\\\\n",
       "\t 3.4 & 5.4 & 2.3\\\\\n",
       "\t 3.0 & 5.1 & 1.8\\\\\n",
       "\\end{tabular}\n"
      ],
      "text/markdown": [
       "\n",
       "Sepal.Width | Petal.Length | Petal.Width | \n",
       "|---|---|---|---|---|---|---|---|---|---|---|---|---|---|---|---|---|---|---|---|---|---|---|---|---|---|---|---|---|---|---|---|---|---|---|---|---|---|---|---|---|---|---|---|---|---|---|---|---|---|---|---|---|---|---|---|---|---|---|---|---|\n",
       "| 3.5 | 1.4 | 0.2 | \n",
       "| 3.0 | 1.4 | 0.2 | \n",
       "| 3.2 | 1.3 | 0.2 | \n",
       "| 3.1 | 1.5 | 0.2 | \n",
       "| 3.6 | 1.4 | 0.2 | \n",
       "| 3.9 | 1.7 | 0.4 | \n",
       "| 3.4 | 1.4 | 0.3 | \n",
       "| 3.4 | 1.5 | 0.2 | \n",
       "| 2.9 | 1.4 | 0.2 | \n",
       "| 3.1 | 1.5 | 0.1 | \n",
       "| 3.7 | 1.5 | 0.2 | \n",
       "| 3.4 | 1.6 | 0.2 | \n",
       "| 3.0 | 1.4 | 0.1 | \n",
       "| 3.0 | 1.1 | 0.1 | \n",
       "| 4.0 | 1.2 | 0.2 | \n",
       "| 4.4 | 1.5 | 0.4 | \n",
       "| 3.9 | 1.3 | 0.4 | \n",
       "| 3.5 | 1.4 | 0.3 | \n",
       "| 3.8 | 1.7 | 0.3 | \n",
       "| 3.8 | 1.5 | 0.3 | \n",
       "| 3.4 | 1.7 | 0.2 | \n",
       "| 3.7 | 1.5 | 0.4 | \n",
       "| 3.6 | 1.0 | 0.2 | \n",
       "| 3.3 | 1.7 | 0.5 | \n",
       "| 3.4 | 1.9 | 0.2 | \n",
       "| 3.0 | 1.6 | 0.2 | \n",
       "| 3.4 | 1.6 | 0.4 | \n",
       "| 3.5 | 1.5 | 0.2 | \n",
       "| 3.4 | 1.4 | 0.2 | \n",
       "| 3.2 | 1.6 | 0.2 | \n",
       "| ... | ... | ... | \n",
       "| 3.2 | 5.7 | 2.3 | \n",
       "| 2.8 | 4.9 | 2.0 | \n",
       "| 2.8 | 6.7 | 2.0 | \n",
       "| 2.7 | 4.9 | 1.8 | \n",
       "| 3.3 | 5.7 | 2.1 | \n",
       "| 3.2 | 6.0 | 1.8 | \n",
       "| 2.8 | 4.8 | 1.8 | \n",
       "| 3.0 | 4.9 | 1.8 | \n",
       "| 2.8 | 5.6 | 2.1 | \n",
       "| 3.0 | 5.8 | 1.6 | \n",
       "| 2.8 | 6.1 | 1.9 | \n",
       "| 3.8 | 6.4 | 2.0 | \n",
       "| 2.8 | 5.6 | 2.2 | \n",
       "| 2.8 | 5.1 | 1.5 | \n",
       "| 2.6 | 5.6 | 1.4 | \n",
       "| 3.0 | 6.1 | 2.3 | \n",
       "| 3.4 | 5.6 | 2.4 | \n",
       "| 3.1 | 5.5 | 1.8 | \n",
       "| 3.0 | 4.8 | 1.8 | \n",
       "| 3.1 | 5.4 | 2.1 | \n",
       "| 3.1 | 5.6 | 2.4 | \n",
       "| 3.1 | 5.1 | 2.3 | \n",
       "| 2.7 | 5.1 | 1.9 | \n",
       "| 3.2 | 5.9 | 2.3 | \n",
       "| 3.3 | 5.7 | 2.5 | \n",
       "| 3.0 | 5.2 | 2.3 | \n",
       "| 2.5 | 5.0 | 1.9 | \n",
       "| 3.0 | 5.2 | 2.0 | \n",
       "| 3.4 | 5.4 | 2.3 | \n",
       "| 3.0 | 5.1 | 1.8 | \n",
       "\n",
       "\n"
      ],
      "text/plain": [
       "    Sepal.Width Petal.Length Petal.Width\n",
       "1   3.5         1.4          0.2        \n",
       "2   3.0         1.4          0.2        \n",
       "3   3.2         1.3          0.2        \n",
       "4   3.1         1.5          0.2        \n",
       "5   3.6         1.4          0.2        \n",
       "6   3.9         1.7          0.4        \n",
       "7   3.4         1.4          0.3        \n",
       "8   3.4         1.5          0.2        \n",
       "9   2.9         1.4          0.2        \n",
       "10  3.1         1.5          0.1        \n",
       "11  3.7         1.5          0.2        \n",
       "12  3.4         1.6          0.2        \n",
       "13  3.0         1.4          0.1        \n",
       "14  3.0         1.1          0.1        \n",
       "15  4.0         1.2          0.2        \n",
       "16  4.4         1.5          0.4        \n",
       "17  3.9         1.3          0.4        \n",
       "18  3.5         1.4          0.3        \n",
       "19  3.8         1.7          0.3        \n",
       "20  3.8         1.5          0.3        \n",
       "21  3.4         1.7          0.2        \n",
       "22  3.7         1.5          0.4        \n",
       "23  3.6         1.0          0.2        \n",
       "24  3.3         1.7          0.5        \n",
       "25  3.4         1.9          0.2        \n",
       "26  3.0         1.6          0.2        \n",
       "27  3.4         1.6          0.4        \n",
       "28  3.5         1.5          0.2        \n",
       "29  3.4         1.4          0.2        \n",
       "30  3.2         1.6          0.2        \n",
       "... ...         ...          ...        \n",
       "121 3.2         5.7          2.3        \n",
       "122 2.8         4.9          2.0        \n",
       "123 2.8         6.7          2.0        \n",
       "124 2.7         4.9          1.8        \n",
       "125 3.3         5.7          2.1        \n",
       "126 3.2         6.0          1.8        \n",
       "127 2.8         4.8          1.8        \n",
       "128 3.0         4.9          1.8        \n",
       "129 2.8         5.6          2.1        \n",
       "130 3.0         5.8          1.6        \n",
       "131 2.8         6.1          1.9        \n",
       "132 3.8         6.4          2.0        \n",
       "133 2.8         5.6          2.2        \n",
       "134 2.8         5.1          1.5        \n",
       "135 2.6         5.6          1.4        \n",
       "136 3.0         6.1          2.3        \n",
       "137 3.4         5.6          2.4        \n",
       "138 3.1         5.5          1.8        \n",
       "139 3.0         4.8          1.8        \n",
       "140 3.1         5.4          2.1        \n",
       "141 3.1         5.6          2.4        \n",
       "142 3.1         5.1          2.3        \n",
       "143 2.7         5.1          1.9        \n",
       "144 3.2         5.9          2.3        \n",
       "145 3.3         5.7          2.5        \n",
       "146 3.0         5.2          2.3        \n",
       "147 2.5         5.0          1.9        \n",
       "148 3.0         5.2          2.0        \n",
       "149 3.4         5.4          2.3        \n",
       "150 3.0         5.1          1.8        "
      ]
     },
     "metadata": {},
     "output_type": "display_data"
    }
   ],
   "source": [
    "read_excel(xlsx_example, range = cell_cols(\"B:D\"))"
   ]
  },
  {
   "cell_type": "markdown",
   "metadata": {},
   "source": [
    "### Reading CSV (Comma separated values)"
   ]
  },
  {
   "cell_type": "code",
   "execution_count": 27,
   "metadata": {},
   "outputs": [
    {
     "data": {
      "text/html": [
       "<table>\n",
       "<thead><tr><th scope=col>Day</th><th scope=col>W1</th><th scope=col>W2</th><th scope=col>W3</th><th scope=col>W4</th><th scope=col>W5</th><th scope=col>W6</th><th scope=col>D7</th><th scope=col>D8</th><th scope=col>D9</th><th scope=col>...</th><th scope=col>Gas_Usage</th><th scope=col>Electricity_Usage</th><th scope=col>Water_Usage</th><th scope=col>Detergent_1</th><th scope=col>Detergent_2</th><th scope=col>Softener</th><th scope=col>Bleach</th><th scope=col>Aroma</th><th scope=col>Bag</th><th scope=col>CoinLoss</th></tr></thead>\n",
       "<tbody>\n",
       "\t<tr><td>1     </td><td>28    </td><td>34    </td><td>40    </td><td>35    </td><td>22    </td><td>35    </td><td>36    </td><td>43    </td><td>30    </td><td>...   </td><td> 7100 </td><td>28    </td><td> 87452</td><td>3     </td><td> 3    </td><td>4     </td><td> 0    </td><td>3     </td><td>0     </td><td>56    </td></tr>\n",
       "\t<tr><td>2     </td><td>28    </td><td>22    </td><td>71    </td><td>61    </td><td>75    </td><td>64    </td><td>62    </td><td>52    </td><td>47    </td><td>...   </td><td> 8814 </td><td>34    </td><td> 97839</td><td>3     </td><td> 4    </td><td>3     </td><td>14    </td><td>1     </td><td>2     </td><td>48    </td></tr>\n",
       "\t<tr><td>3     </td><td>25    </td><td>37    </td><td>72    </td><td>68    </td><td>73    </td><td>59    </td><td>58    </td><td>66    </td><td>53    </td><td>...   </td><td> 6936 </td><td>25    </td><td> 97839</td><td>6     </td><td> 4    </td><td>5     </td><td> 0    </td><td>4     </td><td>3     </td><td>76    </td></tr>\n",
       "\t<tr><td>4     </td><td>21    </td><td>20    </td><td>73    </td><td>66    </td><td>75    </td><td>84    </td><td>80    </td><td>57    </td><td>67    </td><td>...   </td><td>10540 </td><td>30    </td><td>101318</td><td>4     </td><td>11    </td><td>2     </td><td> 0    </td><td>0     </td><td>2     </td><td>14    </td></tr>\n",
       "\t<tr><td>5     </td><td>10    </td><td>26    </td><td>33    </td><td>29    </td><td>37    </td><td>32    </td><td>64    </td><td>44    </td><td>49    </td><td>...   </td><td> 5028 </td><td>23    </td><td> 47572</td><td>2     </td><td> 3    </td><td>3     </td><td> 0    </td><td>2     </td><td>2     </td><td> 0    </td></tr>\n",
       "\t<tr><td>6     </td><td>37    </td><td>56    </td><td>53    </td><td>40    </td><td>28    </td><td>50    </td><td>45    </td><td>42    </td><td>19    </td><td>...   </td><td> 6734 </td><td>25    </td><td> 79860</td><td>5     </td><td> 1    </td><td>4     </td><td> 0    </td><td>0     </td><td>3     </td><td>14    </td></tr>\n",
       "</tbody>\n",
       "</table>\n"
      ],
      "text/latex": [
       "\\begin{tabular}{r|lllllllllllllllllllllll}\n",
       " Day & W1 & W2 & W3 & W4 & W5 & W6 & D7 & D8 & D9 & ... & Gas\\_Usage & Electricity\\_Usage & Water\\_Usage & Detergent\\_1 & Detergent\\_2 & Softener & Bleach & Aroma & Bag & CoinLoss\\\\\n",
       "\\hline\n",
       "\t 1      & 28     & 34     & 40     & 35     & 22     & 35     & 36     & 43     & 30     & ...    &  7100  & 28     &  87452 & 3      &  3     & 4      &  0     & 3      & 0      & 56    \\\\\n",
       "\t 2      & 28     & 22     & 71     & 61     & 75     & 64     & 62     & 52     & 47     & ...    &  8814  & 34     &  97839 & 3      &  4     & 3      & 14     & 1      & 2      & 48    \\\\\n",
       "\t 3      & 25     & 37     & 72     & 68     & 73     & 59     & 58     & 66     & 53     & ...    &  6936  & 25     &  97839 & 6      &  4     & 5      &  0     & 4      & 3      & 76    \\\\\n",
       "\t 4      & 21     & 20     & 73     & 66     & 75     & 84     & 80     & 57     & 67     & ...    & 10540  & 30     & 101318 & 4      & 11     & 2      &  0     & 0      & 2      & 14    \\\\\n",
       "\t 5      & 10     & 26     & 33     & 29     & 37     & 32     & 64     & 44     & 49     & ...    &  5028  & 23     &  47572 & 2      &  3     & 3      &  0     & 2      & 2      &  0    \\\\\n",
       "\t 6      & 37     & 56     & 53     & 40     & 28     & 50     & 45     & 42     & 19     & ...    &  6734  & 25     &  79860 & 5      &  1     & 4      &  0     & 0      & 3      & 14    \\\\\n",
       "\\end{tabular}\n"
      ],
      "text/markdown": [
       "\n",
       "Day | W1 | W2 | W3 | W4 | W5 | W6 | D7 | D8 | D9 | ... | Gas_Usage | Electricity_Usage | Water_Usage | Detergent_1 | Detergent_2 | Softener | Bleach | Aroma | Bag | CoinLoss | \n",
       "|---|---|---|---|---|---|\n",
       "| 1      | 28     | 34     | 40     | 35     | 22     | 35     | 36     | 43     | 30     | ...    |  7100  | 28     |  87452 | 3      |  3     | 4      |  0     | 3      | 0      | 56     | \n",
       "| 2      | 28     | 22     | 71     | 61     | 75     | 64     | 62     | 52     | 47     | ...    |  8814  | 34     |  97839 | 3      |  4     | 3      | 14     | 1      | 2      | 48     | \n",
       "| 3      | 25     | 37     | 72     | 68     | 73     | 59     | 58     | 66     | 53     | ...    |  6936  | 25     |  97839 | 6      |  4     | 5      |  0     | 4      | 3      | 76     | \n",
       "| 4      | 21     | 20     | 73     | 66     | 75     | 84     | 80     | 57     | 67     | ...    | 10540  | 30     | 101318 | 4      | 11     | 2      |  0     | 0      | 2      | 14     | \n",
       "| 5      | 10     | 26     | 33     | 29     | 37     | 32     | 64     | 44     | 49     | ...    |  5028  | 23     |  47572 | 2      |  3     | 3      |  0     | 2      | 2      |  0     | \n",
       "| 6      | 37     | 56     | 53     | 40     | 28     | 50     | 45     | 42     | 19     | ...    |  6734  | 25     |  79860 | 5      |  1     | 4      |  0     | 0      | 3      | 14     | \n",
       "\n",
       "\n"
      ],
      "text/plain": [
       "  Day W1 W2 W3 W4 W5 W6 D7 D8 D9 ... Gas_Usage Electricity_Usage Water_Usage\n",
       "1 1   28 34 40 35 22 35 36 43 30 ...  7100     28                 87452     \n",
       "2 2   28 22 71 61 75 64 62 52 47 ...  8814     34                 97839     \n",
       "3 3   25 37 72 68 73 59 58 66 53 ...  6936     25                 97839     \n",
       "4 4   21 20 73 66 75 84 80 57 67 ... 10540     30                101318     \n",
       "5 5   10 26 33 29 37 32 64 44 49 ...  5028     23                 47572     \n",
       "6 6   37 56 53 40 28 50 45 42 19 ...  6734     25                 79860     \n",
       "  Detergent_1 Detergent_2 Softener Bleach Aroma Bag CoinLoss\n",
       "1 3            3          4         0     3     0   56      \n",
       "2 3            4          3        14     1     2   48      \n",
       "3 6            4          5         0     4     3   76      \n",
       "4 4           11          2         0     0     2   14      \n",
       "5 2            3          3         0     2     2    0      \n",
       "6 5            1          4         0     0     3   14      "
      ]
     },
     "metadata": {},
     "output_type": "display_data"
    },
    {
     "data": {
      "text/html": [
       "<table>\n",
       "<thead><tr><th scope=col>Day</th><th scope=col>W1</th><th scope=col>W2</th><th scope=col>W3</th><th scope=col>W4</th><th scope=col>W5</th><th scope=col>W6</th><th scope=col>D7</th><th scope=col>D8</th><th scope=col>D9</th><th scope=col>...</th><th scope=col>Gas_Usage</th><th scope=col>Electricity_Usage</th><th scope=col>Water_Usage</th><th scope=col>Detergent_1</th><th scope=col>Detergent_2</th><th scope=col>Softener</th><th scope=col>Bleach</th><th scope=col>Aroma</th><th scope=col>Bag</th><th scope=col>CoinLoss</th></tr></thead>\n",
       "<tbody>\n",
       "\t<tr><td>1     </td><td>28    </td><td>34    </td><td>40    </td><td>35    </td><td>22    </td><td>35    </td><td>36    </td><td>43    </td><td>30    </td><td>...   </td><td> 7100 </td><td>28    </td><td> 87452</td><td>3     </td><td> 3    </td><td>4     </td><td> 0    </td><td>3     </td><td>0     </td><td>56    </td></tr>\n",
       "\t<tr><td>2     </td><td>28    </td><td>22    </td><td>71    </td><td>61    </td><td>75    </td><td>64    </td><td>62    </td><td>52    </td><td>47    </td><td>...   </td><td> 8814 </td><td>34    </td><td> 97839</td><td>3     </td><td> 4    </td><td>3     </td><td>14    </td><td>1     </td><td>2     </td><td>48    </td></tr>\n",
       "\t<tr><td>3     </td><td>25    </td><td>37    </td><td>72    </td><td>68    </td><td>73    </td><td>59    </td><td>58    </td><td>66    </td><td>53    </td><td>...   </td><td> 6936 </td><td>25    </td><td> 97839</td><td>6     </td><td> 4    </td><td>5     </td><td> 0    </td><td>4     </td><td>3     </td><td>76    </td></tr>\n",
       "\t<tr><td>4     </td><td>21    </td><td>20    </td><td>73    </td><td>66    </td><td>75    </td><td>84    </td><td>80    </td><td>57    </td><td>67    </td><td>...   </td><td>10540 </td><td>30    </td><td>101318</td><td>4     </td><td>11    </td><td>2     </td><td> 0    </td><td>0     </td><td>2     </td><td>14    </td></tr>\n",
       "\t<tr><td>5     </td><td>10    </td><td>26    </td><td>33    </td><td>29    </td><td>37    </td><td>32    </td><td>64    </td><td>44    </td><td>49    </td><td>...   </td><td> 5028 </td><td>23    </td><td> 47572</td><td>2     </td><td> 3    </td><td>3     </td><td> 0    </td><td>2     </td><td>2     </td><td> 0    </td></tr>\n",
       "\t<tr><td>6     </td><td>37    </td><td>56    </td><td>53    </td><td>40    </td><td>28    </td><td>50    </td><td>45    </td><td>42    </td><td>19    </td><td>...   </td><td> 6734 </td><td>25    </td><td> 79860</td><td>5     </td><td> 1    </td><td>4     </td><td> 0    </td><td>0     </td><td>3     </td><td>14    </td></tr>\n",
       "</tbody>\n",
       "</table>\n"
      ],
      "text/latex": [
       "\\begin{tabular}{r|lllllllllllllllllllllll}\n",
       " Day & W1 & W2 & W3 & W4 & W5 & W6 & D7 & D8 & D9 & ... & Gas\\_Usage & Electricity\\_Usage & Water\\_Usage & Detergent\\_1 & Detergent\\_2 & Softener & Bleach & Aroma & Bag & CoinLoss\\\\\n",
       "\\hline\n",
       "\t 1      & 28     & 34     & 40     & 35     & 22     & 35     & 36     & 43     & 30     & ...    &  7100  & 28     &  87452 & 3      &  3     & 4      &  0     & 3      & 0      & 56    \\\\\n",
       "\t 2      & 28     & 22     & 71     & 61     & 75     & 64     & 62     & 52     & 47     & ...    &  8814  & 34     &  97839 & 3      &  4     & 3      & 14     & 1      & 2      & 48    \\\\\n",
       "\t 3      & 25     & 37     & 72     & 68     & 73     & 59     & 58     & 66     & 53     & ...    &  6936  & 25     &  97839 & 6      &  4     & 5      &  0     & 4      & 3      & 76    \\\\\n",
       "\t 4      & 21     & 20     & 73     & 66     & 75     & 84     & 80     & 57     & 67     & ...    & 10540  & 30     & 101318 & 4      & 11     & 2      &  0     & 0      & 2      & 14    \\\\\n",
       "\t 5      & 10     & 26     & 33     & 29     & 37     & 32     & 64     & 44     & 49     & ...    &  5028  & 23     &  47572 & 2      &  3     & 3      &  0     & 2      & 2      &  0    \\\\\n",
       "\t 6      & 37     & 56     & 53     & 40     & 28     & 50     & 45     & 42     & 19     & ...    &  6734  & 25     &  79860 & 5      &  1     & 4      &  0     & 0      & 3      & 14    \\\\\n",
       "\\end{tabular}\n"
      ],
      "text/markdown": [
       "\n",
       "Day | W1 | W2 | W3 | W4 | W5 | W6 | D7 | D8 | D9 | ... | Gas_Usage | Electricity_Usage | Water_Usage | Detergent_1 | Detergent_2 | Softener | Bleach | Aroma | Bag | CoinLoss | \n",
       "|---|---|---|---|---|---|\n",
       "| 1      | 28     | 34     | 40     | 35     | 22     | 35     | 36     | 43     | 30     | ...    |  7100  | 28     |  87452 | 3      |  3     | 4      |  0     | 3      | 0      | 56     | \n",
       "| 2      | 28     | 22     | 71     | 61     | 75     | 64     | 62     | 52     | 47     | ...    |  8814  | 34     |  97839 | 3      |  4     | 3      | 14     | 1      | 2      | 48     | \n",
       "| 3      | 25     | 37     | 72     | 68     | 73     | 59     | 58     | 66     | 53     | ...    |  6936  | 25     |  97839 | 6      |  4     | 5      |  0     | 4      | 3      | 76     | \n",
       "| 4      | 21     | 20     | 73     | 66     | 75     | 84     | 80     | 57     | 67     | ...    | 10540  | 30     | 101318 | 4      | 11     | 2      |  0     | 0      | 2      | 14     | \n",
       "| 5      | 10     | 26     | 33     | 29     | 37     | 32     | 64     | 44     | 49     | ...    |  5028  | 23     |  47572 | 2      |  3     | 3      |  0     | 2      | 2      |  0     | \n",
       "| 6      | 37     | 56     | 53     | 40     | 28     | 50     | 45     | 42     | 19     | ...    |  6734  | 25     |  79860 | 5      |  1     | 4      |  0     | 0      | 3      | 14     | \n",
       "\n",
       "\n"
      ],
      "text/plain": [
       "  Day W1 W2 W3 W4 W5 W6 D7 D8 D9 ... Gas_Usage Electricity_Usage Water_Usage\n",
       "1 1   28 34 40 35 22 35 36 43 30 ...  7100     28                 87452     \n",
       "2 2   28 22 71 61 75 64 62 52 47 ...  8814     34                 97839     \n",
       "3 3   25 37 72 68 73 59 58 66 53 ...  6936     25                 97839     \n",
       "4 4   21 20 73 66 75 84 80 57 67 ... 10540     30                101318     \n",
       "5 5   10 26 33 29 37 32 64 44 49 ...  5028     23                 47572     \n",
       "6 6   37 56 53 40 28 50 45 42 19 ...  6734     25                 79860     \n",
       "  Detergent_1 Detergent_2 Softener Bleach Aroma Bag CoinLoss\n",
       "1 3            3          4         0     3     0   56      \n",
       "2 3            4          3        14     1     2   48      \n",
       "3 6            4          5         0     4     3   76      \n",
       "4 4           11          2         0     0     2   14      \n",
       "5 2            3          3         0     2     2    0      \n",
       "6 5            1          4         0     0     3   14      "
      ]
     },
     "metadata": {},
     "output_type": "display_data"
    }
   ],
   "source": [
    "csv1 = read.csv('laundry.csv') #csv read file that is seperted by comma\n",
    "head(csv1)\n",
    "\n",
    "csv2 = read.csv2('bank.csv') #csv2 read file that is seperated by semicolon\n",
    "head(csv1)"
   ]
  },
  {
   "cell_type": "markdown",
   "metadata": {},
   "source": [
    "### Reading JSON (Javascript Object Notation)\n",
    "- is a lightweight data-interchange format. It is easy for humans to read and write. It is easy for machines to parse and generate. \n",
    "\n",
    "#### JSON is built on two structures:\n",
    "- A collection of name/value pairs. In various languages, this is realized as an object, record, struct, dictionary, hash table, keyed list, or associative array.\n",
    "- An ordered list of values. In most languages, this is realized as an array, vector, list, or sequence.\n",
    "\n",
    "#### Example of JSON data\n",
    "\n",
    "```\n",
    "{\"menu\": {\n",
    "  \"id\": \"file\",\n",
    "  \"value\": \"File\",\n",
    "  \"popup\": {\n",
    "    \"menuitem\": [\n",
    "      {\"value\": \"New\", \"onclick\": \"CreateNewDoc()\"},\n",
    "      {\"value\": \"Open\", \"onclick\": \"OpenDoc()\"},\n",
    "      {\"value\": \"Close\", \"onclick\": \"CloseDoc()\"}\n",
    "    ]\n",
    "  }\n",
    "}}\n",
    "```"
   ]
  },
  {
   "cell_type": "code",
   "execution_count": 28,
   "metadata": {},
   "outputs": [
    {
     "name": "stdout",
     "output_type": "stream",
     "text": [
      "package 'jsonlite' successfully unpacked and MD5 sums checked\n"
     ]
    },
    {
     "name": "stderr",
     "output_type": "stream",
     "text": [
      "Warning message:\n",
      "\"cannot remove prior installation of package 'jsonlite'\""
     ]
    },
    {
     "name": "stdout",
     "output_type": "stream",
     "text": [
      "\n",
      "The downloaded binary packages are in\n",
      "\tC:\\Users\\iddy9\\AppData\\Local\\Temp\\RtmpghHzve\\downloaded_packages\n"
     ]
    },
    {
     "data": {
      "text/html": [
       "<table>\n",
       "<thead><tr><th scope=col>_id</th><th scope=col>SEKTOR / TAHUN</th><th scope=col>2011</th><th scope=col>2012</th><th scope=col>2013</th><th scope=col>2014</th><th scope=col>2015</th><th scope=col>2016</th></tr></thead>\n",
       "<tbody>\n",
       "\t<tr><td>1              </td><td>  PEMBINAAN    </td><td>223688         </td><td>226554         </td><td>434200         </td><td>411819         </td><td>450364         </td><td>387934         </td></tr>\n",
       "\t<tr><td>2              </td><td>  PEMBUATAN    </td><td>580820         </td><td>605926         </td><td>751772         </td><td>747866         </td><td>745131         </td><td>253120         </td></tr>\n",
       "\t<tr><td>3              </td><td>  PERKHIDMATAN </td><td>132919         </td><td>138823         </td><td>269321         </td><td>270048         </td><td>293433         </td><td>648621         </td></tr>\n",
       "\t<tr><td>4              </td><td>  PERLADANGAN  </td><td>299217         </td><td>314329         </td><td>431611         </td><td>317410         </td><td>300770         </td><td>268478         </td></tr>\n",
       "\t<tr><td>5              </td><td>  PERTANIAN    </td><td>152325         </td><td>143021         </td><td>193482         </td><td>170680         </td><td>196710         </td><td>173641         </td></tr>\n",
       "\t<tr><td>6              </td><td> PEMBANTU RUMAH</td><td>    NA         </td><td>    NA         </td><td>    NA         </td><td>    NA         </td><td>    NA         </td><td>134575         </td></tr>\n",
       "</tbody>\n",
       "</table>\n"
      ],
      "text/latex": [
       "\\begin{tabular}{r|llllllll}\n",
       " \\_id & SEKTOR / TAHUN & 2011 & 2012 & 2013 & 2014 & 2015 & 2016\\\\\n",
       "\\hline\n",
       "\t 1               &   PEMBINAAN     & 223688          & 226554          & 434200          & 411819          & 450364          & 387934         \\\\\n",
       "\t 2               &   PEMBUATAN     & 580820          & 605926          & 751772          & 747866          & 745131          & 253120         \\\\\n",
       "\t 3               &   PERKHIDMATAN  & 132919          & 138823          & 269321          & 270048          & 293433          & 648621         \\\\\n",
       "\t 4               &   PERLADANGAN   & 299217          & 314329          & 431611          & 317410          & 300770          & 268478         \\\\\n",
       "\t 5               &   PERTANIAN     & 152325          & 143021          & 193482          & 170680          & 196710          & 173641         \\\\\n",
       "\t 6               &  PEMBANTU RUMAH &     NA          &     NA          &     NA          &     NA          &     NA          & 134575         \\\\\n",
       "\\end{tabular}\n"
      ],
      "text/markdown": [
       "\n",
       "_id | SEKTOR / TAHUN | 2011 | 2012 | 2013 | 2014 | 2015 | 2016 | \n",
       "|---|---|---|---|---|---|\n",
       "| 1               |   PEMBINAAN     | 223688          | 226554          | 434200          | 411819          | 450364          | 387934          | \n",
       "| 2               |   PEMBUATAN     | 580820          | 605926          | 751772          | 747866          | 745131          | 253120          | \n",
       "| 3               |   PERKHIDMATAN  | 132919          | 138823          | 269321          | 270048          | 293433          | 648621          | \n",
       "| 4               |   PERLADANGAN   | 299217          | 314329          | 431611          | 317410          | 300770          | 268478          | \n",
       "| 5               |   PERTANIAN     | 152325          | 143021          | 193482          | 170680          | 196710          | 173641          | \n",
       "| 6               |  PEMBANTU RUMAH |     NA          |     NA          |     NA          |     NA          |     NA          | 134575          | \n",
       "\n",
       "\n"
      ],
      "text/plain": [
       "  _id SEKTOR / TAHUN  2011   2012   2013   2014   2015   2016  \n",
       "1 1     PEMBINAAN     223688 226554 434200 411819 450364 387934\n",
       "2 2     PEMBUATAN     580820 605926 751772 747866 745131 253120\n",
       "3 3     PERKHIDMATAN  132919 138823 269321 270048 293433 648621\n",
       "4 4     PERLADANGAN   299217 314329 431611 317410 300770 268478\n",
       "5 5     PERTANIAN     152325 143021 193482 170680 196710 173641\n",
       "6 6    PEMBANTU RUMAH     NA     NA     NA     NA     NA 134575"
      ]
     },
     "metadata": {},
     "output_type": "display_data"
    }
   ],
   "source": [
    "install.packages('jsonlite',repo='http://cran.us.r-project.org')\n",
    "library(sas7bdat)\n",
    "library(jsonlite)\n",
    "\n",
    "url = 'http://www.data.gov.my/data/ms_MY/dataset/b3a0b3cf-55c0-4926-9110-5c57703997ba/resource/3fa5de2a-4402-45d1-b13b-0f632a27c392/download/jumlah-pekerja-asing-plks-aktif-mengikut-sektor-2011---2016.json'\n",
    "json = fromJSON(url)\n",
    "head(json)"
   ]
  },
  {
   "cell_type": "code",
   "execution_count": 29,
   "metadata": {},
   "outputs": [
    {
     "data": {
      "text/html": [
       "<ol class=list-inline>\n",
       "\t<li>223688</li>\n",
       "\t<li>580820</li>\n",
       "\t<li>132919</li>\n",
       "\t<li>299217</li>\n",
       "\t<li>152325</li>\n",
       "\t<li>&lt;NA&gt;</li>\n",
       "\t<li>1388969</li>\n",
       "</ol>\n"
      ],
      "text/latex": [
       "\\begin{enumerate*}\n",
       "\\item 223688\n",
       "\\item 580820\n",
       "\\item 132919\n",
       "\\item 299217\n",
       "\\item 152325\n",
       "\\item <NA>\n",
       "\\item 1388969\n",
       "\\end{enumerate*}\n"
      ],
      "text/markdown": [
       "1. 223688\n",
       "2. 580820\n",
       "3. 132919\n",
       "4. 299217\n",
       "5. 152325\n",
       "6. &lt;NA&gt;\n",
       "7. 1388969\n",
       "\n",
       "\n"
      ],
      "text/plain": [
       "[1]  223688  580820  132919  299217  152325      NA 1388969"
      ]
     },
     "metadata": {},
     "output_type": "display_data"
    }
   ],
   "source": [
    "json$'2011'"
   ]
  },
  {
   "cell_type": "code",
   "execution_count": 30,
   "metadata": {},
   "outputs": [
    {
     "data": {
      "text/html": [
       "580820"
      ],
      "text/latex": [
       "580820"
      ],
      "text/markdown": [
       "580820"
      ],
      "text/plain": [
       "[1] 580820"
      ]
     },
     "metadata": {},
     "output_type": "display_data"
    }
   ],
   "source": [
    "json$`2011`[2]"
   ]
  },
  {
   "cell_type": "markdown",
   "metadata": {},
   "source": [
    "# Tidyr and Dplyr Packages\n"
   ]
  },
  {
   "cell_type": "code",
   "execution_count": 31,
   "metadata": {},
   "outputs": [
    {
     "name": "stdout",
     "output_type": "stream",
     "text": [
      "package 'tidyr' successfully unpacked and MD5 sums checked\n"
     ]
    },
    {
     "name": "stderr",
     "output_type": "stream",
     "text": [
      "Warning message:\n",
      "\"cannot remove prior installation of package 'tidyr'\""
     ]
    },
    {
     "name": "stdout",
     "output_type": "stream",
     "text": [
      "\n",
      "The downloaded binary packages are in\n",
      "\tC:\\Users\\iddy9\\AppData\\Local\\Temp\\RtmpghHzve\\downloaded_packages\n",
      "package 'dplyr' successfully unpacked and MD5 sums checked\n"
     ]
    },
    {
     "name": "stderr",
     "output_type": "stream",
     "text": [
      "Warning message:\n",
      "\"cannot remove prior installation of package 'dplyr'\""
     ]
    },
    {
     "name": "stdout",
     "output_type": "stream",
     "text": [
      "\n",
      "The downloaded binary packages are in\n",
      "\tC:\\Users\\iddy9\\AppData\\Local\\Temp\\RtmpghHzve\\downloaded_packages\n"
     ]
    },
    {
     "name": "stderr",
     "output_type": "stream",
     "text": [
      "\n",
      "Attaching package: 'dplyr'\n",
      "\n",
      "The following objects are masked from 'package:data.table':\n",
      "\n",
      "    between, first, last\n",
      "\n",
      "The following objects are masked from 'package:stats':\n",
      "\n",
      "    filter, lag\n",
      "\n",
      "The following objects are masked from 'package:base':\n",
      "\n",
      "    intersect, setdiff, setequal, union\n",
      "\n"
     ]
    }
   ],
   "source": [
    "  install.packages('tidyr',repo='http://cran.us.r-project.org')\n",
    " install.packages('dplyr',repo='http://cran.us.r-project.org')\n",
    "\n",
    "library(dplyr)\n",
    "library(tidyr)\n"
   ]
  },
  {
   "cell_type": "markdown",
   "metadata": {},
   "source": [
    "### Functions in tidyr\n",
    "- gather() - convert wide data to longer format.\n",
    "- separate() - split one column into multiple columns.\n",
    "- unite() - combine two or more columns into one.\n",
    "\n",
    "### Functions in dplyr\n",
    "- select() - select columns\n",
    "- filter() - select data with matching criteria\n",
    "- group_by() - perform grouping of data\n",
    "- summarise() - summarization of data\n",
    "- arrange() - sort dataset\n",
    "- mutate() - manipulate column data"
   ]
  },
  {
   "cell_type": "code",
   "execution_count": 32,
   "metadata": {
    "collapsed": true
   },
   "outputs": [],
   "source": [
    "temp_MY = data.frame(Week = c(1,2,3,4,5,6), \n",
    "                     KL = c(35,36,34,37,38,NA), \n",
    "                     JB = c(34,34,35,37,37,37),\n",
    "                     Melaka = c(35,35,36,37,37,NA),\n",
    "                     Penang = c(36,37,37,38,35,NA))"
   ]
  },
  {
   "cell_type": "code",
   "execution_count": 33,
   "metadata": {},
   "outputs": [
    {
     "data": {
      "text/html": [
       "<table>\n",
       "<thead><tr><th scope=col>Week</th><th scope=col>KL</th><th scope=col>JB</th><th scope=col>Melaka</th><th scope=col>Penang</th></tr></thead>\n",
       "<tbody>\n",
       "\t<tr><td>1 </td><td>35</td><td>34</td><td>35</td><td>36</td></tr>\n",
       "\t<tr><td>2 </td><td>36</td><td>34</td><td>35</td><td>37</td></tr>\n",
       "\t<tr><td>3 </td><td>34</td><td>35</td><td>36</td><td>37</td></tr>\n",
       "\t<tr><td>4 </td><td>37</td><td>37</td><td>37</td><td>38</td></tr>\n",
       "\t<tr><td>5 </td><td>38</td><td>37</td><td>37</td><td>35</td></tr>\n",
       "\t<tr><td>6 </td><td>NA</td><td>37</td><td>NA</td><td>NA</td></tr>\n",
       "</tbody>\n",
       "</table>\n"
      ],
      "text/latex": [
       "\\begin{tabular}{r|lllll}\n",
       " Week & KL & JB & Melaka & Penang\\\\\n",
       "\\hline\n",
       "\t 1  & 35 & 34 & 35 & 36\\\\\n",
       "\t 2  & 36 & 34 & 35 & 37\\\\\n",
       "\t 3  & 34 & 35 & 36 & 37\\\\\n",
       "\t 4  & 37 & 37 & 37 & 38\\\\\n",
       "\t 5  & 38 & 37 & 37 & 35\\\\\n",
       "\t 6  & NA & 37 & NA & NA\\\\\n",
       "\\end{tabular}\n"
      ],
      "text/markdown": [
       "\n",
       "Week | KL | JB | Melaka | Penang | \n",
       "|---|---|---|---|---|---|\n",
       "| 1  | 35 | 34 | 35 | 36 | \n",
       "| 2  | 36 | 34 | 35 | 37 | \n",
       "| 3  | 34 | 35 | 36 | 37 | \n",
       "| 4  | 37 | 37 | 37 | 38 | \n",
       "| 5  | 38 | 37 | 37 | 35 | \n",
       "| 6  | NA | 37 | NA | NA | \n",
       "\n",
       "\n"
      ],
      "text/plain": [
       "  Week KL JB Melaka Penang\n",
       "1 1    35 34 35     36    \n",
       "2 2    36 34 35     37    \n",
       "3 3    34 35 36     37    \n",
       "4 4    37 37 37     38    \n",
       "5 5    38 37 37     35    \n",
       "6 6    NA 37 NA     NA    "
      ]
     },
     "metadata": {},
     "output_type": "display_data"
    }
   ],
   "source": [
    "# Is the dataset fulfil \"tidy\" dataset criteria?\n",
    "temp_MY\n",
    "#filter(temp_MY,key='City','Temperature',KL:JB)"
   ]
  },
  {
   "cell_type": "code",
   "execution_count": 34,
   "metadata": {},
   "outputs": [
    {
     "data": {
      "text/html": [
       "<table>\n",
       "<thead><tr><th scope=col>Week</th><th scope=col>City</th><th scope=col>Temperature</th></tr></thead>\n",
       "<tbody>\n",
       "\t<tr><td>1     </td><td>KL    </td><td>35    </td></tr>\n",
       "\t<tr><td>2     </td><td>KL    </td><td>36    </td></tr>\n",
       "\t<tr><td>3     </td><td>KL    </td><td>34    </td></tr>\n",
       "\t<tr><td>4     </td><td>KL    </td><td>37    </td></tr>\n",
       "\t<tr><td>5     </td><td>KL    </td><td>38    </td></tr>\n",
       "\t<tr><td>6     </td><td>KL    </td><td>NA    </td></tr>\n",
       "\t<tr><td>1     </td><td>JB    </td><td>34    </td></tr>\n",
       "\t<tr><td>2     </td><td>JB    </td><td>34    </td></tr>\n",
       "\t<tr><td>3     </td><td>JB    </td><td>35    </td></tr>\n",
       "\t<tr><td>4     </td><td>JB    </td><td>37    </td></tr>\n",
       "\t<tr><td>5     </td><td>JB    </td><td>37    </td></tr>\n",
       "\t<tr><td>6     </td><td>JB    </td><td>37    </td></tr>\n",
       "\t<tr><td>1     </td><td>Melaka</td><td>35    </td></tr>\n",
       "\t<tr><td>2     </td><td>Melaka</td><td>35    </td></tr>\n",
       "\t<tr><td>3     </td><td>Melaka</td><td>36    </td></tr>\n",
       "\t<tr><td>4     </td><td>Melaka</td><td>37    </td></tr>\n",
       "\t<tr><td>5     </td><td>Melaka</td><td>37    </td></tr>\n",
       "\t<tr><td>6     </td><td>Melaka</td><td>NA    </td></tr>\n",
       "\t<tr><td>1     </td><td>Penang</td><td>36    </td></tr>\n",
       "\t<tr><td>2     </td><td>Penang</td><td>37    </td></tr>\n",
       "\t<tr><td>3     </td><td>Penang</td><td>37    </td></tr>\n",
       "\t<tr><td>4     </td><td>Penang</td><td>38    </td></tr>\n",
       "\t<tr><td>5     </td><td>Penang</td><td>35    </td></tr>\n",
       "\t<tr><td>6     </td><td>Penang</td><td>NA    </td></tr>\n",
       "</tbody>\n",
       "</table>\n"
      ],
      "text/latex": [
       "\\begin{tabular}{r|lll}\n",
       " Week & City & Temperature\\\\\n",
       "\\hline\n",
       "\t 1      & KL     & 35    \\\\\n",
       "\t 2      & KL     & 36    \\\\\n",
       "\t 3      & KL     & 34    \\\\\n",
       "\t 4      & KL     & 37    \\\\\n",
       "\t 5      & KL     & 38    \\\\\n",
       "\t 6      & KL     & NA    \\\\\n",
       "\t 1      & JB     & 34    \\\\\n",
       "\t 2      & JB     & 34    \\\\\n",
       "\t 3      & JB     & 35    \\\\\n",
       "\t 4      & JB     & 37    \\\\\n",
       "\t 5      & JB     & 37    \\\\\n",
       "\t 6      & JB     & 37    \\\\\n",
       "\t 1      & Melaka & 35    \\\\\n",
       "\t 2      & Melaka & 35    \\\\\n",
       "\t 3      & Melaka & 36    \\\\\n",
       "\t 4      & Melaka & 37    \\\\\n",
       "\t 5      & Melaka & 37    \\\\\n",
       "\t 6      & Melaka & NA    \\\\\n",
       "\t 1      & Penang & 36    \\\\\n",
       "\t 2      & Penang & 37    \\\\\n",
       "\t 3      & Penang & 37    \\\\\n",
       "\t 4      & Penang & 38    \\\\\n",
       "\t 5      & Penang & 35    \\\\\n",
       "\t 6      & Penang & NA    \\\\\n",
       "\\end{tabular}\n"
      ],
      "text/markdown": [
       "\n",
       "Week | City | Temperature | \n",
       "|---|---|---|---|---|---|---|---|---|---|---|---|---|---|---|---|---|---|---|---|---|---|---|---|\n",
       "| 1      | KL     | 35     | \n",
       "| 2      | KL     | 36     | \n",
       "| 3      | KL     | 34     | \n",
       "| 4      | KL     | 37     | \n",
       "| 5      | KL     | 38     | \n",
       "| 6      | KL     | NA     | \n",
       "| 1      | JB     | 34     | \n",
       "| 2      | JB     | 34     | \n",
       "| 3      | JB     | 35     | \n",
       "| 4      | JB     | 37     | \n",
       "| 5      | JB     | 37     | \n",
       "| 6      | JB     | 37     | \n",
       "| 1      | Melaka | 35     | \n",
       "| 2      | Melaka | 35     | \n",
       "| 3      | Melaka | 36     | \n",
       "| 4      | Melaka | 37     | \n",
       "| 5      | Melaka | 37     | \n",
       "| 6      | Melaka | NA     | \n",
       "| 1      | Penang | 36     | \n",
       "| 2      | Penang | 37     | \n",
       "| 3      | Penang | 37     | \n",
       "| 4      | Penang | 38     | \n",
       "| 5      | Penang | 35     | \n",
       "| 6      | Penang | NA     | \n",
       "\n",
       "\n"
      ],
      "text/plain": [
       "   Week City   Temperature\n",
       "1  1    KL     35         \n",
       "2  2    KL     36         \n",
       "3  3    KL     34         \n",
       "4  4    KL     37         \n",
       "5  5    KL     38         \n",
       "6  6    KL     NA         \n",
       "7  1    JB     34         \n",
       "8  2    JB     34         \n",
       "9  3    JB     35         \n",
       "10 4    JB     37         \n",
       "11 5    JB     37         \n",
       "12 6    JB     37         \n",
       "13 1    Melaka 35         \n",
       "14 2    Melaka 35         \n",
       "15 3    Melaka 36         \n",
       "16 4    Melaka 37         \n",
       "17 5    Melaka 37         \n",
       "18 6    Melaka NA         \n",
       "19 1    Penang 36         \n",
       "20 2    Penang 37         \n",
       "21 3    Penang 37         \n",
       "22 4    Penang 38         \n",
       "23 5    Penang 35         \n",
       "24 6    Penang NA         "
      ]
     },
     "metadata": {},
     "output_type": "display_data"
    }
   ],
   "source": [
    "temp_MY_tidy = gather(temp_MY, key = \"City\", value = \"Temperature\", KL:Penang) \n",
    "#key -utk groupby \n",
    "#create another column for temp\n",
    "\n",
    "temp_MY_tidy\n"
   ]
  },
  {
   "cell_type": "code",
   "execution_count": 35,
   "metadata": {
    "collapsed": true
   },
   "outputs": [],
   "source": [
    "city_avg_temp = summarise(group_by(temp_MY_tidy, City), mean(Temperature,na.rm = TRUE), max(Temperature,na.rm =TRUE),min(Temperature,na.rm =TRUE),median(Temperature,na.rm =TRUE))"
   ]
  },
  {
   "cell_type": "code",
   "execution_count": 36,
   "metadata": {},
   "outputs": [
    {
     "data": {
      "text/html": [
       "<table>\n",
       "<thead><tr><th scope=col>City</th><th scope=col>mean(Temperature, na.rm = TRUE)</th><th scope=col>max(Temperature, na.rm = TRUE)</th><th scope=col>min(Temperature, na.rm = TRUE)</th><th scope=col>median(Temperature, na.rm = TRUE)</th></tr></thead>\n",
       "<tbody>\n",
       "\t<tr><td>JB      </td><td>35.66667</td><td>37      </td><td>34      </td><td>36      </td></tr>\n",
       "\t<tr><td>KL      </td><td>36.00000</td><td>38      </td><td>34      </td><td>36      </td></tr>\n",
       "\t<tr><td>Melaka  </td><td>36.00000</td><td>37      </td><td>35      </td><td>36      </td></tr>\n",
       "\t<tr><td>Penang  </td><td>36.60000</td><td>38      </td><td>35      </td><td>37      </td></tr>\n",
       "</tbody>\n",
       "</table>\n"
      ],
      "text/latex": [
       "\\begin{tabular}{r|lllll}\n",
       " City & mean(Temperature, na.rm = TRUE) & max(Temperature, na.rm = TRUE) & min(Temperature, na.rm = TRUE) & median(Temperature, na.rm = TRUE)\\\\\n",
       "\\hline\n",
       "\t JB       & 35.66667 & 37       & 34       & 36      \\\\\n",
       "\t KL       & 36.00000 & 38       & 34       & 36      \\\\\n",
       "\t Melaka   & 36.00000 & 37       & 35       & 36      \\\\\n",
       "\t Penang   & 36.60000 & 38       & 35       & 37      \\\\\n",
       "\\end{tabular}\n"
      ],
      "text/markdown": [
       "\n",
       "City | mean(Temperature, na.rm = TRUE) | max(Temperature, na.rm = TRUE) | min(Temperature, na.rm = TRUE) | median(Temperature, na.rm = TRUE) | \n",
       "|---|---|---|---|\n",
       "| JB       | 35.66667 | 37       | 34       | 36       | \n",
       "| KL       | 36.00000 | 38       | 34       | 36       | \n",
       "| Melaka   | 36.00000 | 37       | 35       | 36       | \n",
       "| Penang   | 36.60000 | 38       | 35       | 37       | \n",
       "\n",
       "\n"
      ],
      "text/plain": [
       "  City   mean(Temperature, na.rm = TRUE) max(Temperature, na.rm = TRUE)\n",
       "1 JB     35.66667                        37                            \n",
       "2 KL     36.00000                        38                            \n",
       "3 Melaka 36.00000                        37                            \n",
       "4 Penang 36.60000                        38                            \n",
       "  min(Temperature, na.rm = TRUE) median(Temperature, na.rm = TRUE)\n",
       "1 34                             36                               \n",
       "2 34                             36                               \n",
       "3 35                             36                               \n",
       "4 35                             37                               "
      ]
     },
     "metadata": {},
     "output_type": "display_data"
    }
   ],
   "source": [
    "city_avg_temp"
   ]
  },
  {
   "cell_type": "code",
   "execution_count": 37,
   "metadata": {},
   "outputs": [
    {
     "data": {
      "text/html": [
       "<table>\n",
       "<thead><tr><th scope=col>City</th><th scope=col>mean</th><th scope=col>count</th><th scope=col>sd</th></tr></thead>\n",
       "<tbody>\n",
       "\t<tr><td>JB      </td><td>35.66667</td><td>6       </td><td>1.505545</td></tr>\n",
       "\t<tr><td>KL      </td><td>36.00000</td><td>6       </td><td>1.581139</td></tr>\n",
       "\t<tr><td>Melaka  </td><td>36.00000</td><td>6       </td><td>1.000000</td></tr>\n",
       "\t<tr><td>Penang  </td><td>36.60000</td><td>6       </td><td>1.140175</td></tr>\n",
       "</tbody>\n",
       "</table>\n"
      ],
      "text/latex": [
       "\\begin{tabular}{r|llll}\n",
       " City & mean & count & sd\\\\\n",
       "\\hline\n",
       "\t JB       & 35.66667 & 6        & 1.505545\\\\\n",
       "\t KL       & 36.00000 & 6        & 1.581139\\\\\n",
       "\t Melaka   & 36.00000 & 6        & 1.000000\\\\\n",
       "\t Penang   & 36.60000 & 6        & 1.140175\\\\\n",
       "\\end{tabular}\n"
      ],
      "text/markdown": [
       "\n",
       "City | mean | count | sd | \n",
       "|---|---|---|---|\n",
       "| JB       | 35.66667 | 6        | 1.505545 | \n",
       "| KL       | 36.00000 | 6        | 1.581139 | \n",
       "| Melaka   | 36.00000 | 6        | 1.000000 | \n",
       "| Penang   | 36.60000 | 6        | 1.140175 | \n",
       "\n",
       "\n"
      ],
      "text/plain": [
       "  City   mean     count sd      \n",
       "1 JB     35.66667 6     1.505545\n",
       "2 KL     36.00000 6     1.581139\n",
       "3 Melaka 36.00000 6     1.000000\n",
       "4 Penang 36.60000 6     1.140175"
      ]
     },
     "metadata": {},
     "output_type": "display_data"
    }
   ],
   "source": [
    "city_summary = summarise(group_by(temp_MY_tidy, City), mean = mean(Temperature, na.rm = TRUE), count = n(), sd = sd(Temperature, na.rm = TRUE))\n",
    "city_summary\n"
   ]
  },
  {
   "cell_type": "markdown",
   "metadata": {},
   "source": [
    "## <font color=Green>Exercise</font>\n",
    "- Summarize of weekly temperature for KL and JB only"
   ]
  },
  {
   "cell_type": "code",
   "execution_count": 38,
   "metadata": {},
   "outputs": [
    {
     "ename": "ERROR",
     "evalue": "Error in parse(text = x, srcfile = src): <text>:5:35: unexpected ','\n4: gro\n5: city_summary = summarise(gro,City),\n                                     ^\n",
     "output_type": "error",
     "traceback": [
      "Error in parse(text = x, srcfile = src): <text>:5:35: unexpected ','\n4: gro\n5: city_summary = summarise(gro,City),\n                                     ^\nTraceback:\n"
     ]
    }
   ],
   "source": [
    "#city_summary1=summarise\n",
    "temp_MY_tidy = gather(temp_MY,key='City','Temperature')\n",
    "gro=group_by(temp_MY_tidy,City)\n",
    "gro\n",
    "city_summary = summarise(gro,City),mean = mean(Temperature, na.rm = TRUE), count = n(), sd = sd(Temperature, na.rm = TRUE), max(Temperature, na.rm = TRUE), min(Temperature, na.rm = TRUE))\n",
    "city_summary\n"
   ]
  },
  {
   "cell_type": "code",
   "execution_count": null,
   "metadata": {},
   "outputs": [],
   "source": [
    "bank = read.csv('bank.csv', sep=';')\n",
    "head(bank)"
   ]
  },
  {
   "cell_type": "code",
   "execution_count": null,
   "metadata": {},
   "outputs": [],
   "source": [
    "bank_unite = unite(bank, dayMonth, day, month)\n",
    "head(bank_unite)"
   ]
  },
  {
   "cell_type": "code",
   "execution_count": null,
   "metadata": {},
   "outputs": [],
   "source": [
    "bank_separate = separate(bank_unite, dayMonth, c('newDay','newMonth'))\n",
    "head(bank_separate)"
   ]
  },
  {
   "cell_type": "code",
   "execution_count": null,
   "metadata": {},
   "outputs": [],
   "source": [
    "bank_select = select(bank, job, marital)\n",
    "head(bank_select)"
   ]
  },
  {
   "cell_type": "code",
   "execution_count": null,
   "metadata": {},
   "outputs": [],
   "source": [
    "# Similar with subsetting\n",
    "bank_filter = filter(bank, job=='technician' & marital == 'married')\n",
    "head(bank_filter)\n",
    "nrow(bank_filter)"
   ]
  },
  {
   "cell_type": "code",
   "execution_count": null,
   "metadata": {},
   "outputs": [],
   "source": [
    "\n",
    "# Similar with subsetting\n",
    "bank_filter2 = filter(bank, job=='technician' | marital == 'married')\n",
    "head(bank_filter2)"
   ]
  },
  {
   "cell_type": "code",
   "execution_count": null,
   "metadata": {
    "scrolled": true
   },
   "outputs": [],
   "source": [
    "#sorting\n",
    "bank_arrange = arrange(bank, job)\n",
    "head(bank_arrange)"
   ]
  },
  {
   "cell_type": "code",
   "execution_count": null,
   "metadata": {},
   "outputs": [],
   "source": [
    "bank_arrange = arrange(bank, desc(job))\n",
    "head(bank_arrange)"
   ]
  },
  {
   "cell_type": "code",
   "execution_count": null,
   "metadata": {},
   "outputs": [],
   "source": [
    "bank_arrange_multiple = arrange(bank, marital, desc(balance))\n",
    "head(bank_arrange_multiple)"
   ]
  },
  {
   "cell_type": "code",
   "execution_count": null,
   "metadata": {},
   "outputs": [],
   "source": [
    "bank_distinct = distinct(bank, job) #select unique values\n",
    "head(bank_distinct)"
   ]
  },
  {
   "cell_type": "code",
   "execution_count": null,
   "metadata": {},
   "outputs": [],
   "source": [
    "bank_distinct_multiple = distinct(bank, job, education) #return unique values\n",
    "head(bank_distinct_multiple)"
   ]
  },
  {
   "cell_type": "code",
   "execution_count": null,
   "metadata": {},
   "outputs": [],
   "source": [
    "bank_mutate = mutate(bank, newBalance = balance*2) #create new columns,mcm append\n",
    "head(bank_mutate) "
   ]
  },
  {
   "cell_type": "code",
   "execution_count": null,
   "metadata": {},
   "outputs": [],
   "source": [
    "bank_transmute = transmute(bank, newBalance = balance*2, halfDuration = duration/2)\n",
    "head(bank_transmute ) #only show the new modified values"
   ]
  },
  {
   "cell_type": "code",
   "execution_count": null,
   "metadata": {
    "scrolled": true
   },
   "outputs": [],
   "source": [
    "# Piping\n",
    "bank_job_edu = group_by(bank, job, education)\n",
    "bank_sel = select(bank,job,age, marital, balance, housing)\n",
    "bank_summ = summarise(bank_job_edu, age_mean = mean(age), balance_mean = mean(balance))\n",
    "bank_fil = filter(bank_summ, age_mean < 30)\n",
    "bank_fil\n"
   ]
  },
  {
   "cell_type": "code",
   "execution_count": null,
   "metadata": {},
   "outputs": [],
   "source": [
    "# Piping %>%\n",
    "bank %>% #data\n",
    "  group_by(job, education) %>% #continue\n",
    "  select(age, marital, balance, housing) %>%\n",
    "  summarise(\n",
    "    age_mean = mean(age, na.rm = TRUE),\n",
    "    balance_mean = mean(balance, na.rm = TRUE)\n",
    "  ) %>%\n",
    "  filter(age_mean < 30)"
   ]
  },
  {
   "cell_type": "markdown",
   "metadata": {},
   "source": [
    "## <font color=Green>Exercise</font>\n",
    "- which job keeps most money in the bank, arrange by highest to lowest"
   ]
  },
  {
   "cell_type": "code",
   "execution_count": null,
   "metadata": {},
   "outputs": [],
   "source": [
    "# #head(bank)\n",
    "# # bank_arranged = arrange(bank, desc(balance), balance)\n",
    "# # bank_arranged\n",
    "# # bank_transmute = transmute(bank, balance = arrange(bank, desc(balance), job = arrange(bank, desc(job))\n",
    "# # bank_transmute\n",
    "# bankgroup=group_by(bank,job, balance)\n",
    "# bankgroup\n",
    "# #bank_sel = select( bank, job, balance)\n",
    "# #bank_sel\n",
    "# #bank_transmute = transmute(bank_sel, balance = desc(balance), job = desc(job))\n",
    "# #bank_transmute\n",
    "mostwanted=select(arrange(bank,desc(balance)),job,balance)\n",
    "mostwanted\n",
    "\n"
   ]
  },
  {
   "cell_type": "code",
   "execution_count": null,
   "metadata": {},
   "outputs": [],
   "source": [
    "bank %>%\n",
    "group_by(job) %>%\n",
    "summarise(mean_money=mean(balance)) %>%\n",
    "arrange(desc(mean_money))"
   ]
  },
  {
   "cell_type": "markdown",
   "metadata": {},
   "source": [
    "### Merging"
   ]
  },
  {
   "cell_type": "code",
   "execution_count": null,
   "metadata": {},
   "outputs": [],
   "source": [
    "monitors = data.frame(monitorid=c(1,2,3), \n",
    "                      lat = c(42.46757, 42.04915, 39.11054), \n",
    "                      long = c(-87.81005, -88.27303, -90.32408))\n",
    "pollutants = data.frame(pollutant = c('ozone', 'so2', 'ozone', 'no2'),\n",
    "                       duration = c(1,1,8,1),\n",
    "                       monitorid = c(1,1,2,4))\n",
    "monitors\n",
    "pollutants"
   ]
  },
  {
   "cell_type": "markdown",
   "metadata": {},
   "source": [
    "<b>inner_join()</b> This function combines the columns from both data frames, but only keeps rows where the value in the key column matches in both data frames."
   ]
  },
  {
   "cell_type": "code",
   "execution_count": null,
   "metadata": {},
   "outputs": [],
   "source": [
    "inner_join(pollutants, monitors, by = \"monitorid\")"
   ]
  },
  {
   "cell_type": "markdown",
   "metadata": {},
   "source": [
    "<b>left_join()</b> keep all of the left dataframe information, even if there wasn’t a corresponding record in the monitors data frame"
   ]
  },
  {
   "cell_type": "code",
   "execution_count": null,
   "metadata": {},
   "outputs": [],
   "source": [
    "left_join(pollutants, monitors, by = \"monitorid\")"
   ]
  },
  {
   "cell_type": "markdown",
   "metadata": {},
   "source": [
    "<b>full_join()</b> keep all records from both data frames"
   ]
  },
  {
   "cell_type": "code",
   "execution_count": null,
   "metadata": {},
   "outputs": [],
   "source": [
    "full_join(pollutants, monitors, by = \"monitorid\")"
   ]
  },
  {
   "cell_type": "markdown",
   "metadata": {},
   "source": [
    "### String Manipulation"
   ]
  },
  {
   "cell_type": "code",
   "execution_count": null,
   "metadata": {},
   "outputs": [],
   "source": [
    "dengue = read.csv('dengue.csv')\n",
    "names(dengue)"
   ]
  },
  {
   "cell_type": "code",
   "execution_count": null,
   "metadata": {},
   "outputs": [],
   "source": [
    "# Remove dot in all field names\n",
    "names(dengue) = gsub('.',' ', names(dengue), fixed = TRUE) # fixed = TRUE to make sure gsub treats \".\" and a dot not a function\n",
    "# names(dengue) = gsub(\"\\\\.\",'', names(dengue)) #alternative\n",
    "names(dengue)\n"
   ]
  },
  {
   "cell_type": "code",
   "execution_count": null,
   "metadata": {},
   "outputs": [],
   "source": [
    "names(dengue) = c('Year','Week','State','District','Location','Total','Outbreak Duration')\n",
    "names(dengue)\n",
    "head(dengue)"
   ]
  },
  {
   "cell_type": "code",
   "execution_count": null,
   "metadata": {},
   "outputs": [],
   "source": [
    "print(names(dengue)[2])\n",
    "names(dengue)[2] = 'Week No'\n",
    "print(names(dengue)[2])"
   ]
  },
  {
   "cell_type": "code",
   "execution_count": null,
   "metadata": {},
   "outputs": [],
   "source": [
    "names(dengue)"
   ]
  },
  {
   "cell_type": "code",
   "execution_count": null,
   "metadata": {},
   "outputs": [],
   "source": [
    "names(dengue) = gsub(' ','_', names(dengue))\n",
    "head(dengue)"
   ]
  },
  {
   "cell_type": "code",
   "execution_count": null,
   "metadata": {
    "collapsed": true
   },
   "outputs": [],
   "source": [
    "# Inspect the variable location, correct the wrong spelling e.g. \"Tmn\" to \"Taman\"\n",
    "\n",
    "dengue$Location = gsub('Tmn','Taman',dengue$Location)\n",
    "dengue$Location"
   ]
  },
  {
   "cell_type": "code",
   "execution_count": null,
   "metadata": {
    "collapsed": true
   },
   "outputs": [],
   "source": [
    "dengue$Location = gsub(\"Kg\",\"Kampung\",dengue$Location)\n",
    "dengue$Location = gsub(\"Ss\",\"Seksyen\",dengue$Location)\n",
    "dengue$Location"
   ]
  },
  {
   "cell_type": "code",
   "execution_count": null,
   "metadata": {},
   "outputs": [],
   "source": [
    "# String Split\n",
    "strsplit('hello Malaysia !',' ')"
   ]
  },
  {
   "cell_type": "code",
   "execution_count": null,
   "metadata": {},
   "outputs": [],
   "source": [
    "# Finding values\n",
    "# How many times the word \"Taman\" has appeared in the \"Location\" field?\n",
    "grep('Taman', dengue$Location) #return index\n",
    "# grep('Taman', dengue$Location, value = TRUE)\n",
    "# dengue[grep('Taman', dengue$Location),]"
   ]
  },
  {
   "cell_type": "code",
   "execution_count": null,
   "metadata": {},
   "outputs": [],
   "source": [
    "grepl('Taman',dengue$Location)"
   ]
  },
  {
   "cell_type": "code",
   "execution_count": null,
   "metadata": {
    "collapsed": true
   },
   "outputs": [],
   "source": [
    "dengue[grepl('Seksyen|Medan', dengue$Location),]"
   ]
  },
  {
   "cell_type": "code",
   "execution_count": null,
   "metadata": {
    "collapsed": true
   },
   "outputs": [],
   "source": [
    "# Finding values using regular expression\n",
    "# Retrive locations that begins with the character \"T\" and contains character \"1\" from Location\n",
    "dengue[grep('^T(.*)1', dengue$Location),]\n"
   ]
  },
  {
   "cell_type": "markdown",
   "metadata": {},
   "source": [
    "## <font color=Green>Exercise</font>\n",
    "- Look for all locations with the words \"Jalan\" and \"Jaya\".\n",
    "- Retrieve all records with the word \"Taman\" in \"Location\" in the district \"Petaling\".\n",
    "- How many \"Kampung\" in Selangor and Perak?"
   ]
  },
  {
   "cell_type": "code",
   "execution_count": null,
   "metadata": {
    "collapsed": true
   },
   "outputs": [],
   "source": [
    "# temp_Mx = gather(dengue, key = \"District\", value = \"Location\", Selangor:Perak) \n",
    "# temp_Mx[grep('Kampung', dengue$Location),]\n",
    "exe5=dengue[grepl('Selangor|Perak',dengue$State),]\n",
    "exe5=exe5[grepl('Kampung',exe5$Location),]\n",
    "nrow(exe5)\n",
    "head(exe5)"
   ]
  },
  {
   "cell_type": "code",
   "execution_count": null,
   "metadata": {},
   "outputs": [],
   "source": [
    "exe4=dengue[grep('Petaling', dengue$District)]\n",
    "exe4=exe4[grep('Taman', exe4$Location)]\n",
    "nrow(exe4)"
   ]
  },
  {
   "cell_type": "code",
   "execution_count": null,
   "metadata": {
    "collapsed": true
   },
   "outputs": [],
   "source": [
    "#t=dengue$Location[grep('Jalan','Jaya')]\n",
    "#t\n",
    "exe3 = dengue[grep('Jalan(.*)Jaya', dengue$Location),]\n",
    "exe3\n",
    "\n"
   ]
  },
  {
   "cell_type": "code",
   "execution_count": null,
   "metadata": {
    "collapsed": true
   },
   "outputs": [],
   "source": []
  },
  {
   "cell_type": "markdown",
   "metadata": {},
   "source": [
    "# data.table Packages\n",
    "- Inherits form data.frame\n",
    "- All functions that work in data.frame will work with data.table\n",
    "- Designed to work much faster for subsetting, grouping, and updating\n",
    "\n",
    "DT[<font color=Green>i</font>, <font color=Blue>j</font>, <font color=Orange>by</font>]\n",
    "\n",
    "```\n",
    "R:      i                j        by\n",
    "SQL:  where   select | update  group by\n",
    "```\n"
   ]
  },
  {
   "cell_type": "code",
   "execution_count": null,
   "metadata": {
    "collapsed": true
   },
   "outputs": [],
   "source": [
    " #install.packages('data.table', repo='http://cran.us.r-project.org')\n",
    "library(data.table)"
   ]
  },
  {
   "cell_type": "code",
   "execution_count": null,
   "metadata": {},
   "outputs": [],
   "source": [
    "df = data.frame(x=rep(c('a','b','c'),each = 3), y = c(1,3,6), z = 1:9)\n",
    "df"
   ]
  },
  {
   "cell_type": "code",
   "execution_count": null,
   "metadata": {},
   "outputs": [],
   "source": [
    "dt = data.table(x=rep(c('a','b','c'),each = 3), y = c(1,3,6), z = 1:9)\n",
    "dt"
   ]
  },
  {
   "cell_type": "code",
   "execution_count": null,
   "metadata": {},
   "outputs": [],
   "source": [
    "class(df)\n",
    "class(dt)"
   ]
  },
  {
   "cell_type": "code",
   "execution_count": null,
   "metadata": {},
   "outputs": [],
   "source": [
    "# Convert dataframe to datatable\n",
    "class(data.table(df))"
   ]
  },
  {
   "cell_type": "code",
   "execution_count": null,
   "metadata": {},
   "outputs": [],
   "source": [
    "# subseting: select row 3 to 5 for \n",
    "df[3:5,]\n",
    "dt[3:5]"
   ]
  },
  {
   "cell_type": "code",
   "execution_count": null,
   "metadata": {},
   "outputs": [],
   "source": [
    "# Show all the records where x==a\n",
    "df[df$x == 'a',]\n",
    "dt[x =='a']"
   ]
  },
  {
   "cell_type": "code",
   "execution_count": null,
   "metadata": {},
   "outputs": [],
   "source": [
    "# Sum of z with group by x\n",
    "dt[, list(mean(z)),by=x]\n",
    "dt[, .(mean(z)),by=x]"
   ]
  },
  {
   "cell_type": "code",
   "execution_count": null,
   "metadata": {},
   "outputs": [],
   "source": [
    "dt[x=='a', .(mean(z)),by=x]"
   ]
  },
  {
   "cell_type": "markdown",
   "metadata": {},
   "source": [
    "## <font color=Green>Exercise</font>\n",
    "- Find the max for column y and mean for column z with group by x\n",
    "- Find the square root of column y and store in column w\n",
    "- Use \"library(datasets)\" load iris dataset, get the mean for Sepal.Width and group the results by Species\n",
    "- Using bank datset above, which job keeps most money in the bank, arrange by highest to lowest (repeate this exercise using datatable)"
   ]
  },
  {
   "cell_type": "code",
   "execution_count": null,
   "metadata": {
    "collapsed": true
   },
   "outputs": [],
   "source": [
    "library(datasets)"
   ]
  },
  {
   "cell_type": "code",
   "execution_count": null,
   "metadata": {},
   "outputs": [],
   "source": [
    "dt_bank=data.table(bank)\n",
    "mostwanted=select(arrange(dt_bank,desc(balance)),job,balance)\n",
    "mostwanted"
   ]
  },
  {
   "cell_type": "code",
   "execution_count": null,
   "metadata": {
    "collapsed": true
   },
   "outputs": [],
   "source": [
    "dt_iris=data.table(iris)\n",
    "dt_iris[, .(mean(Sepal.Width)),by=Species]\n",
    "dt_iris\n",
    "#iris_dt[, .(mean(Sepal.Width)), by=Species]"
   ]
  },
  {
   "cell_type": "code",
   "execution_count": 13,
   "metadata": {
    "collapsed": true
   },
   "outputs": [
    {
     "data": {
      "text/html": [
       "<table>\n",
       "<thead><tr><th scope=col>x</th><th scope=col>V1</th></tr></thead>\n",
       "<tbody>\n",
       "\t<tr><td>a</td><td>2</td></tr>\n",
       "\t<tr><td>b</td><td>5</td></tr>\n",
       "\t<tr><td>c</td><td>8</td></tr>\n",
       "</tbody>\n",
       "</table>\n"
      ],
      "text/latex": [
       "\\begin{tabular}{r|ll}\n",
       " x & V1\\\\\n",
       "\\hline\n",
       "\t a & 2\\\\\n",
       "\t b & 5\\\\\n",
       "\t c & 8\\\\\n",
       "\\end{tabular}\n"
      ],
      "text/markdown": [
       "\n",
       "x | V1 | \n",
       "|---|---|---|\n",
       "| a | 2 | \n",
       "| b | 5 | \n",
       "| c | 8 | \n",
       "\n",
       "\n"
      ],
      "text/plain": [
       "  x V1\n",
       "1 a 2 \n",
       "2 b 5 \n",
       "3 c 8 "
      ]
     },
     "metadata": {},
     "output_type": "display_data"
    },
    {
     "data": {
      "text/html": [
       "<table>\n",
       "<thead><tr><th scope=col>x</th><th scope=col>V1</th></tr></thead>\n",
       "<tbody>\n",
       "\t<tr><td>a</td><td>6</td></tr>\n",
       "\t<tr><td>b</td><td>6</td></tr>\n",
       "\t<tr><td>c</td><td>6</td></tr>\n",
       "</tbody>\n",
       "</table>\n"
      ],
      "text/latex": [
       "\\begin{tabular}{r|ll}\n",
       " x & V1\\\\\n",
       "\\hline\n",
       "\t a & 6\\\\\n",
       "\t b & 6\\\\\n",
       "\t c & 6\\\\\n",
       "\\end{tabular}\n"
      ],
      "text/markdown": [
       "\n",
       "x | V1 | \n",
       "|---|---|---|\n",
       "| a | 6 | \n",
       "| b | 6 | \n",
       "| c | 6 | \n",
       "\n",
       "\n"
      ],
      "text/plain": [
       "  x V1\n",
       "1 a 6 \n",
       "2 b 6 \n",
       "3 c 6 "
      ]
     },
     "metadata": {},
     "output_type": "display_data"
    }
   ],
   "source": [
    "dt[, .(mean(z)), by=x]\n",
    "dt[, .(max(y)), by=x]\n"
   ]
  },
  {
   "cell_type": "code",
   "execution_count": null,
   "metadata": {
    "collapsed": true
   },
   "outputs": [],
   "source": []
  },
  {
   "cell_type": "code",
   "execution_count": null,
   "metadata": {
    "collapsed": true
   },
   "outputs": [],
   "source": []
  }
 ],
 "metadata": {
  "anaconda-cloud": {},
  "kernelspec": {
   "display_name": "R",
   "language": "R",
   "name": "ir"
  },
  "language_info": {
   "codemirror_mode": "r",
   "file_extension": ".r",
   "mimetype": "text/x-r-source",
   "name": "R",
   "pygments_lexer": "r",
   "version": "3.4.2"
  }
 },
 "nbformat": 4,
 "nbformat_minor": 2
}
