{
 "cells": [
  {
   "cell_type": "markdown",
   "metadata": {},
   "source": [
    "# R Programming\n",
    "\n",
    "- R is a software environment for data analysis, statistical computing, and graphics. \n",
    "- It is also a programming language. \n",
    "- Like Python, R is free and open-source. \n",
    "- Compared to Python, R's syntax is more natural to use and allows you to complete data analyses in fewer lines of code.\n",
    "\n",
    "# Fundamentals\n",
    "\n",
    "- First appeared in 1992 \n",
    "- Provides Statistical and AI techniques\n",
    "- Gives Visualization capabilities \n",
    "- It's highly extensible\n",
    "\n",
    "\n",
    "- It comes with <b>base</b> package and the rest should be installed\n",
    "- Around 4000 packages are available in CRAN\n",
    "\n",
    "# Installation (https://www.datacamp.com/community/blog/jupyter-notebook-r)\n",
    "\n",
    "- install.packages(c('repr', 'IRdisplay', 'evaluate', 'crayon', 'pbdZMQ', 'devtools', 'uuid', 'digest'))\n",
    "- devtools::install_github('IRkernel/IRkernel')\n",
    "- IRkernel::installspec()\n",
    "\n",
    "or\n",
    "\n",
    "- conda install -c r r-essentials\n"
   ]
  },
  {
   "cell_type": "markdown",
   "metadata": {},
   "source": [
    "# Getting Started"
   ]
  },
  {
   "cell_type": "markdown",
   "metadata": {},
   "source": [
    "# Variables"
   ]
  },
  {
   "cell_type": "code",
   "execution_count": 1,
   "metadata": {},
   "outputs": [
    {
     "name": "stdout",
     "output_type": "stream",
     "text": [
      "[1] 1\n",
      "[1] 2\n"
     ]
    }
   ],
   "source": [
    "#assignment operator \"<-\" & \"=\"\n",
    "x <- 1\n",
    "y = 2\n",
    "\n",
    "print(x)\n",
    "print(y)"
   ]
  },
  {
   "cell_type": "markdown",
   "metadata": {},
   "source": [
    "### Data Types\n",
    "- Logical : TRUE, FALSE\n",
    "- Numeric/Integer : 1, 20, 404\n",
    "- Numeric/Double = 1.1, 3.2, 404\n",
    "- Character = 'Test', \"Hello\", 'TRUE'\n",
    "- Raw = 54 65 73 74 <b>(Raw Bytes)</b>\n",
    "- Complex = 3 + 2i"
   ]
  },
  {
   "cell_type": "code",
   "execution_count": 8,
   "metadata": {},
   "outputs": [
    {
     "name": "stdout",
     "output_type": "stream",
     "text": [
      "[1] \"numeric\"\n",
      "[1] \"complex\"\n"
     ]
    }
   ],
   "source": [
    "a = 1\n",
    "b = 1.1\n",
    "c = '1.2'\n",
    "d = 'abc'\n",
    "e = 2L + 1.3\n",
    "f = FALSE\n",
    "g = charToRaw(\"Test\")\n",
    "i = 2+5i\n",
    "\n",
    "print(class(a))\n",
    "# print(class(b))\n",
    "# print(class(c))\n",
    "# print(class(d))\n",
    "#print(class(e))\n",
    " #print(class(f))\n",
    "#print(class(g))\n",
    " print(class(i))\n"
   ]
  },
  {
   "cell_type": "code",
   "execution_count": 10,
   "metadata": {},
   "outputs": [
    {
     "data": {
      "text/html": [
       "FALSE"
      ],
      "text/latex": [
       "FALSE"
      ],
      "text/markdown": [
       "FALSE"
      ],
      "text/plain": [
       "[1] FALSE"
      ]
     },
     "metadata": {},
     "output_type": "display_data"
    },
    {
     "data": {
      "text/html": [
       "TRUE"
      ],
      "text/latex": [
       "TRUE"
      ],
      "text/markdown": [
       "TRUE"
      ],
      "text/plain": [
       "[1] TRUE"
      ]
     },
     "metadata": {},
     "output_type": "display_data"
    },
    {
     "data": {
      "text/html": [
       "FALSE"
      ],
      "text/latex": [
       "FALSE"
      ],
      "text/markdown": [
       "FALSE"
      ],
      "text/plain": [
       "[1] FALSE"
      ]
     },
     "metadata": {},
     "output_type": "display_data"
    },
    {
     "data": {
      "text/html": [
       "TRUE"
      ],
      "text/latex": [
       "TRUE"
      ],
      "text/markdown": [
       "TRUE"
      ],
      "text/plain": [
       "[1] TRUE"
      ]
     },
     "metadata": {},
     "output_type": "display_data"
    }
   ],
   "source": [
    "# Check variable data type\n",
    "a_int = 3\n",
    "is.integer(a_int)\n",
    "is.numeric(a_int)\n",
    "#is.type_of data(character,logical,integer,numerical)\n",
    "\n",
    "is.integer(1.1)\n",
    "is.numeric(1.1)"
   ]
  },
  {
   "cell_type": "code",
   "execution_count": 16,
   "metadata": {},
   "outputs": [
    {
     "name": "stdout",
     "output_type": "stream",
     "text": [
      "[1] 1\n",
      "[1] 9\n",
      "[1] 1\n"
     ]
    },
    {
     "name": "stderr",
     "output_type": "stream",
     "text": [
      "Warning message in eval(expr, envir, enclos):\n",
      "\"NAs introduced by coercion\""
     ]
    },
    {
     "name": "stdout",
     "output_type": "stream",
     "text": [
      "[1] NA\n"
     ]
    },
    {
     "name": "stderr",
     "output_type": "stream",
     "text": [
      "Warning message in eval(expr, envir, enclos):\n",
      "\"imaginary parts discarded in coercion\""
     ]
    },
    {
     "name": "stdout",
     "output_type": "stream",
     "text": [
      "[1] 2\n"
     ]
    }
   ],
   "source": [
    "# Data type conversion\n",
    "a_int = as.integer(a)\n",
    "print(a_int)\n",
    "b = 9.9\n",
    " b_int = as.integer(b)\n",
    "print(b_int)\n",
    "c = 1.2L\n",
    " c_int = as.integer(c)\n",
    " print(c_int)\n",
    "\n",
    "# d_int = as.integer(d)\n",
    "# print(d_int)\n",
    "f = 'FALSE'\n",
    "f_int = as.integer(f) #logical convert to int returns 1 for true and 0 for false\n",
    "print(f_int)\n",
    "\n",
    "# g_int = as.integer(g)\n",
    "# print(g_int)\n",
    "\n",
    "i_int = as.integer(i)\n",
    " print(i_int)"
   ]
  },
  {
   "cell_type": "code",
   "execution_count": 18,
   "metadata": {},
   "outputs": [
    {
     "name": "stdout",
     "output_type": "stream",
     "text": [
      "[1] \"Hello World !!\"\n"
     ]
    }
   ],
   "source": [
    "# To concatinate two or more strings\n",
    "name = 'World'\n",
    "greeting = paste('Hello', name, '!!')\n",
    "print (greeting)"
   ]
  },
  {
   "cell_type": "code",
   "execution_count": 20,
   "metadata": {},
   "outputs": [
    {
     "data": {
      "text/html": [
       "'string1string2'"
      ],
      "text/latex": [
       "'string1string2'"
      ],
      "text/markdown": [
       "'string1string2'"
      ],
      "text/plain": [
       "[1] \"string1string2\""
      ]
     },
     "metadata": {},
     "output_type": "display_data"
    }
   ],
   "source": [
    "paste0('string1','string2')"
   ]
  },
  {
   "cell_type": "code",
   "execution_count": 24,
   "metadata": {},
   "outputs": [
    {
     "data": {
      "text/html": [
       "<ol class=list-inline>\n",
       "\t<li>'a_int'</li>\n",
       "\t<li>'b'</li>\n",
       "\t<li>'b_int'</li>\n",
       "\t<li>'c'</li>\n",
       "\t<li>'c_int'</li>\n",
       "\t<li>'d'</li>\n",
       "\t<li>'e'</li>\n",
       "\t<li>'f'</li>\n",
       "\t<li>'f_int'</li>\n",
       "\t<li>'g'</li>\n",
       "\t<li>'greeting'</li>\n",
       "\t<li>'i'</li>\n",
       "\t<li>'i_int'</li>\n",
       "\t<li>'name'</li>\n",
       "\t<li>'x'</li>\n",
       "\t<li>'y'</li>\n",
       "</ol>\n"
      ],
      "text/latex": [
       "\\begin{enumerate*}\n",
       "\\item 'a\\_int'\n",
       "\\item 'b'\n",
       "\\item 'b\\_int'\n",
       "\\item 'c'\n",
       "\\item 'c\\_int'\n",
       "\\item 'd'\n",
       "\\item 'e'\n",
       "\\item 'f'\n",
       "\\item 'f\\_int'\n",
       "\\item 'g'\n",
       "\\item 'greeting'\n",
       "\\item 'i'\n",
       "\\item 'i\\_int'\n",
       "\\item 'name'\n",
       "\\item 'x'\n",
       "\\item 'y'\n",
       "\\end{enumerate*}\n"
      ],
      "text/markdown": [
       "1. 'a_int'\n",
       "2. 'b'\n",
       "3. 'b_int'\n",
       "4. 'c'\n",
       "5. 'c_int'\n",
       "6. 'd'\n",
       "7. 'e'\n",
       "8. 'f'\n",
       "9. 'f_int'\n",
       "10. 'g'\n",
       "11. 'greeting'\n",
       "12. 'i'\n",
       "13. 'i_int'\n",
       "14. 'name'\n",
       "15. 'x'\n",
       "16. 'y'\n",
       "\n",
       "\n"
      ],
      "text/plain": [
       " [1] \"a_int\"    \"b\"        \"b_int\"    \"c\"        \"c_int\"    \"d\"       \n",
       " [7] \"e\"        \"f\"        \"f_int\"    \"g\"        \"greeting\" \"i\"       \n",
       "[13] \"i_int\"    \"name\"     \"x\"        \"y\"       "
      ]
     },
     "metadata": {},
     "output_type": "display_data"
    },
    {
     "name": "stderr",
     "output_type": "stream",
     "text": [
      "Warning message in rm(a):\n",
      "\"object 'a' not found\""
     ]
    },
    {
     "data": {
      "text/html": [
       "<ol class=list-inline>\n",
       "\t<li>'a_int'</li>\n",
       "\t<li>'b'</li>\n",
       "\t<li>'b_int'</li>\n",
       "\t<li>'c'</li>\n",
       "\t<li>'c_int'</li>\n",
       "\t<li>'d'</li>\n",
       "\t<li>'e'</li>\n",
       "\t<li>'f'</li>\n",
       "\t<li>'f_int'</li>\n",
       "\t<li>'g'</li>\n",
       "\t<li>'greeting'</li>\n",
       "\t<li>'i'</li>\n",
       "\t<li>'i_int'</li>\n",
       "\t<li>'name'</li>\n",
       "\t<li>'x'</li>\n",
       "\t<li>'y'</li>\n",
       "</ol>\n"
      ],
      "text/latex": [
       "\\begin{enumerate*}\n",
       "\\item 'a\\_int'\n",
       "\\item 'b'\n",
       "\\item 'b\\_int'\n",
       "\\item 'c'\n",
       "\\item 'c\\_int'\n",
       "\\item 'd'\n",
       "\\item 'e'\n",
       "\\item 'f'\n",
       "\\item 'f\\_int'\n",
       "\\item 'g'\n",
       "\\item 'greeting'\n",
       "\\item 'i'\n",
       "\\item 'i\\_int'\n",
       "\\item 'name'\n",
       "\\item 'x'\n",
       "\\item 'y'\n",
       "\\end{enumerate*}\n"
      ],
      "text/markdown": [
       "1. 'a_int'\n",
       "2. 'b'\n",
       "3. 'b_int'\n",
       "4. 'c'\n",
       "5. 'c_int'\n",
       "6. 'd'\n",
       "7. 'e'\n",
       "8. 'f'\n",
       "9. 'f_int'\n",
       "10. 'g'\n",
       "11. 'greeting'\n",
       "12. 'i'\n",
       "13. 'i_int'\n",
       "14. 'name'\n",
       "15. 'x'\n",
       "16. 'y'\n",
       "\n",
       "\n"
      ],
      "text/plain": [
       " [1] \"a_int\"    \"b\"        \"b_int\"    \"c\"        \"c_int\"    \"d\"       \n",
       " [7] \"e\"        \"f\"        \"f_int\"    \"g\"        \"greeting\" \"i\"       \n",
       "[13] \"i_int\"    \"name\"     \"x\"        \"y\"       "
      ]
     },
     "metadata": {},
     "output_type": "display_data"
    }
   ],
   "source": [
    "# To check the variables you have created\n",
    "ls()\n",
    "\n",
    "rm(a) #to remove 'a' variable\n",
    "\n",
    "ls()\n"
   ]
  },
  {
   "cell_type": "markdown",
   "metadata": {},
   "source": [
    "### Types of Operators\n",
    "#### Arithmetic Operators\n",
    "- \"+\" : Addition\n",
    "- \"-\" : Substraction\n",
    "- \"*\" : Multiplication\n",
    "- \"/\" : Division\n",
    "- \"%%\" : Modulus/Reminder\n",
    "- \"%/%\" : Result of division (quotient)\n",
    "- \"^\" : exponentiation\n",
    "\n",
    "#### Relational Operators (Evaluate values to true or false)\n",
    "- \"==\" : Equal\n",
    "- \"!=\" : Not Equal\n",
    "- \"<\" : Less than\n",
    "- \"<=\" : Less than or Equal\n",
    "- \">\" : More than\n",
    "- \">=\" : More than or Equal\n",
    "\n",
    "#### Logical Operators (Evaluate logical values to true or false)\n",
    "- \"&\" : And\n",
    "- \"|\" : Or\n",
    "- \"!\" : Not\n"
   ]
  },
  {
   "cell_type": "code",
   "execution_count": 25,
   "metadata": {},
   "outputs": [
    {
     "name": "stdout",
     "output_type": "stream",
     "text": [
      "[1] 8\n",
      "[1] 2\n",
      "[1] 15\n",
      "[1] 1.666667\n",
      "[1] 2\n",
      "[1] 1\n",
      "[1] 125\n"
     ]
    }
   ],
   "source": [
    "x=5; y=3\n",
    "\n",
    "print(x+y)\n",
    "print(x-y)\n",
    "print(x*y)\n",
    "print(x/y)\n",
    "print(x%%y)\n",
    "print(x%/%y) #remove decimalpoint\n",
    "print(x^y)"
   ]
  },
  {
   "cell_type": "code",
   "execution_count": 26,
   "metadata": {},
   "outputs": [
    {
     "name": "stdout",
     "output_type": "stream",
     "text": [
      "[1] FALSE\n",
      "[1] TRUE\n",
      "[1] TRUE\n",
      "[1] TRUE\n",
      "[1] TRUE\n",
      "[1] TRUE\n",
      "[1] TRUE\n"
     ]
    }
   ],
   "source": [
    "x=5; y=3\n",
    "\n",
    "print(x == y)\n",
    "print(x != y)\n",
    "print(x > y)\n",
    "\n",
    "print(TRUE & TRUE)\n",
    "print(TRUE & !FALSE)\n",
    "print(x == x & x > y)\n",
    "print(x == y | x > y)"
   ]
  },
  {
   "cell_type": "markdown",
   "metadata": {},
   "source": [
    "# Data structures\n",
    "- is a specialized format for organizing and storing data\n",
    "- R Base data structures can be organized by their dimensionality and whether they are homogeneous or heterogeneous\n",
    "  - <font color=blue><b>Homogeneous</b></font>: all elements must be of the same type, e.g. <i>Vector, Matrix</i>\n",
    "  - <font color=blue><b>Heterogeneous</b></font>: the elements can be of diﬀerent type, e.g. <i>List, DataFrame</i>"
   ]
  },
  {
   "cell_type": "markdown",
   "metadata": {},
   "source": [
    "## 1. Vector\n",
    "\n",
    "- A vector is a series of values, stored toghether as a single object. \n",
    "- Vectors can be created in R using the <b>c()</b> function, which stands for combine.\n",
    "\n",
    "Note: All elements of a vector should be of one data-type."
   ]
  },
  {
   "cell_type": "code",
   "execution_count": 34,
   "metadata": {},
   "outputs": [
    {
     "data": {
      "text/html": [
       "'double'"
      ],
      "text/latex": [
       "'double'"
      ],
      "text/markdown": [
       "'double'"
      ],
      "text/plain": [
       "[1] \"double\""
      ]
     },
     "metadata": {},
     "output_type": "display_data"
    },
    {
     "data": {
      "text/html": [
       "'numeric'"
      ],
      "text/latex": [
       "'numeric'"
      ],
      "text/markdown": [
       "'numeric'"
      ],
      "text/plain": [
       "[1] \"numeric\""
      ]
     },
     "metadata": {},
     "output_type": "display_data"
    },
    {
     "data": {
      "text/html": [
       "<ol class=list-inline>\n",
       "\t<li>'NasiLemak'</li>\n",
       "\t<li>'Donut'</li>\n",
       "\t<li>'NasiAyam'</li>\n",
       "\t<li>'RotiSardin'</li>\n",
       "\t<li>'AsamPedas'</li>\n",
       "\t<li>'Kuih'</li>\n",
       "</ol>\n"
      ],
      "text/latex": [
       "\\begin{enumerate*}\n",
       "\\item 'NasiLemak'\n",
       "\\item 'Donut'\n",
       "\\item 'NasiAyam'\n",
       "\\item 'RotiSardin'\n",
       "\\item 'AsamPedas'\n",
       "\\item 'Kuih'\n",
       "\\end{enumerate*}\n"
      ],
      "text/markdown": [
       "1. 'NasiLemak'\n",
       "2. 'Donut'\n",
       "3. 'NasiAyam'\n",
       "4. 'RotiSardin'\n",
       "5. 'AsamPedas'\n",
       "6. 'Kuih'\n",
       "\n",
       "\n"
      ],
      "text/plain": [
       "[1] \"NasiLemak\"  \"Donut\"      \"NasiAyam\"   \"RotiSardin\" \"AsamPedas\" \n",
       "[6] \"Kuih\"      "
      ]
     },
     "metadata": {},
     "output_type": "display_data"
    }
   ],
   "source": [
    "vec = c(1,1.3,1.0,2L)\n",
    "typeof(vec)\n",
    "class(vec)\n",
    "food = c('NasiLemak', 'Donut', 'NasiAyam', 'RotiSardin', 'AsamPedas', 'Kuih')\n",
    "food"
   ]
  },
  {
   "cell_type": "code",
   "execution_count": 35,
   "metadata": {},
   "outputs": [
    {
     "name": "stdout",
     "output_type": "stream",
     "text": [
      "[1] \"Malaysia\"  \"Japan\"     \"Iran\"      \"Singapore\" \"Germany\"  \n",
      "[1]  4.00  2.00  0.00  8.65 93.00  4.00  9.00  3.00\n"
     ]
    }
   ],
   "source": [
    "# To define a vector\n",
    "weights = c(4, 2, 0, 8.65, 93, 4, 9, 3)\n",
    "countries = c(\"Malaysia\", \"Japan\", \"Iran\", \"Singapore\", \"Germany\")\n",
    "\n",
    "print (countries) \n",
    "print (weights)"
   ]
  },
  {
   "cell_type": "code",
   "execution_count": 39,
   "metadata": {},
   "outputs": [
    {
     "data": {
      "text/html": [
       "<ol class=list-inline>\n",
       "\t<li>'Malaysia'</li>\n",
       "\t<li>'Iran'</li>\n",
       "\t<li>'Germany'</li>\n",
       "</ol>\n"
      ],
      "text/latex": [
       "\\begin{enumerate*}\n",
       "\\item 'Malaysia'\n",
       "\\item 'Iran'\n",
       "\\item 'Germany'\n",
       "\\end{enumerate*}\n"
      ],
      "text/markdown": [
       "1. 'Malaysia'\n",
       "2. 'Iran'\n",
       "3. 'Germany'\n",
       "\n",
       "\n"
      ],
      "text/plain": [
       "[1] \"Malaysia\" \"Iran\"     \"Germany\" "
      ]
     },
     "metadata": {},
     "output_type": "display_data"
    }
   ],
   "source": [
    "# Indexing\n",
    "countries[c(1,3,5)] #R starts indexing at 1"
   ]
  },
  {
   "cell_type": "code",
   "execution_count": 37,
   "metadata": {},
   "outputs": [
    {
     "data": {
      "text/html": [
       "<ol class=list-inline>\n",
       "\t<li>'Japan'</li>\n",
       "\t<li>'Iran'</li>\n",
       "\t<li>'Singapore'</li>\n",
       "</ol>\n"
      ],
      "text/latex": [
       "\\begin{enumerate*}\n",
       "\\item 'Japan'\n",
       "\\item 'Iran'\n",
       "\\item 'Singapore'\n",
       "\\end{enumerate*}\n"
      ],
      "text/markdown": [
       "1. 'Japan'\n",
       "2. 'Iran'\n",
       "3. 'Singapore'\n",
       "\n",
       "\n"
      ],
      "text/plain": [
       "[1] \"Japan\"     \"Iran\"      \"Singapore\""
      ]
     },
     "metadata": {},
     "output_type": "display_data"
    },
    {
     "data": {
      "text/html": [
       "<ol class=list-inline>\n",
       "\t<li>'Singapore'</li>\n",
       "\t<li>'Iran'</li>\n",
       "\t<li>'Japan'</li>\n",
       "</ol>\n"
      ],
      "text/latex": [
       "\\begin{enumerate*}\n",
       "\\item 'Singapore'\n",
       "\\item 'Iran'\n",
       "\\item 'Japan'\n",
       "\\end{enumerate*}\n"
      ],
      "text/markdown": [
       "1. 'Singapore'\n",
       "2. 'Iran'\n",
       "3. 'Japan'\n",
       "\n",
       "\n"
      ],
      "text/plain": [
       "[1] \"Singapore\" \"Iran\"      \"Japan\"    "
      ]
     },
     "metadata": {},
     "output_type": "display_data"
    }
   ],
   "source": [
    "countries[2:4]\n",
    "countries[4:2]"
   ]
  },
  {
   "cell_type": "code",
   "execution_count": 40,
   "metadata": {},
   "outputs": [
    {
     "data": {
      "text/html": [
       "<ol class=list-inline>\n",
       "\t<li>4</li>\n",
       "\t<li>8.65</li>\n",
       "</ol>\n"
      ],
      "text/latex": [
       "\\begin{enumerate*}\n",
       "\\item 4\n",
       "\\item 8.65\n",
       "\\end{enumerate*}\n"
      ],
      "text/markdown": [
       "1. 4\n",
       "2. 8.65\n",
       "\n",
       "\n"
      ],
      "text/plain": [
       "[1] 4.00 8.65"
      ]
     },
     "metadata": {},
     "output_type": "display_data"
    }
   ],
   "source": [
    "# To show 1st and 4th elements of weights\n",
    "weights[c(1, 4)]"
   ]
  },
  {
   "cell_type": "code",
   "execution_count": 41,
   "metadata": {},
   "outputs": [
    {
     "data": {
      "text/html": [
       "<ol class=list-inline>\n",
       "\t<li>'Japan'</li>\n",
       "\t<li>'Iran'</li>\n",
       "\t<li>'Germany'</li>\n",
       "</ol>\n"
      ],
      "text/latex": [
       "\\begin{enumerate*}\n",
       "\\item 'Japan'\n",
       "\\item 'Iran'\n",
       "\\item 'Germany'\n",
       "\\end{enumerate*}\n"
      ],
      "text/markdown": [
       "1. 'Japan'\n",
       "2. 'Iran'\n",
       "3. 'Germany'\n",
       "\n",
       "\n"
      ],
      "text/plain": [
       "[1] \"Japan\"   \"Iran\"    \"Germany\""
      ]
     },
     "metadata": {},
     "output_type": "display_data"
    }
   ],
   "source": [
    "# To show all elements of countries except 1st and 4th\n",
    "countries[-c(1, 4)] # - is like to remove the element in the vector  "
   ]
  },
  {
   "cell_type": "code",
   "execution_count": 42,
   "metadata": {},
   "outputs": [
    {
     "data": {
      "text/html": [
       "<ol class=list-inline>\n",
       "\t<li>'Singapore'</li>\n",
       "\t<li>'Germany'</li>\n",
       "</ol>\n"
      ],
      "text/latex": [
       "\\begin{enumerate*}\n",
       "\\item 'Singapore'\n",
       "\\item 'Germany'\n",
       "\\end{enumerate*}\n"
      ],
      "text/markdown": [
       "1. 'Singapore'\n",
       "2. 'Germany'\n",
       "\n",
       "\n"
      ],
      "text/plain": [
       "[1] \"Singapore\" \"Germany\"  "
      ]
     },
     "metadata": {},
     "output_type": "display_data"
    }
   ],
   "source": [
    "remove = c(1,2,3)\n",
    "countries2 = countries[-remove]\n",
    "countries2"
   ]
  },
  {
   "cell_type": "code",
   "execution_count": 45,
   "metadata": {},
   "outputs": [
    {
     "data": {
      "text/html": [
       "'double'"
      ],
      "text/latex": [
       "'double'"
      ],
      "text/markdown": [
       "'double'"
      ],
      "text/plain": [
       "[1] \"double\""
      ]
     },
     "metadata": {},
     "output_type": "display_data"
    },
    {
     "data": {
      "text/html": [
       "'character'"
      ],
      "text/latex": [
       "'character'"
      ],
      "text/markdown": [
       "'character'"
      ],
      "text/plain": [
       "[1] \"character\""
      ]
     },
     "metadata": {},
     "output_type": "display_data"
    },
    {
     "name": "stdout",
     "output_type": "stream",
     "text": [
      "[1] \"Number of elements in countries:  5\"\n"
     ]
    },
    {
     "data": {
      "text/html": [
       "FALSE"
      ],
      "text/latex": [
       "FALSE"
      ],
      "text/markdown": [
       "FALSE"
      ],
      "text/plain": [
       "[1] FALSE"
      ]
     },
     "metadata": {},
     "output_type": "display_data"
    },
    {
     "data": {
      "text/html": [
       "TRUE"
      ],
      "text/latex": [
       "TRUE"
      ],
      "text/markdown": [
       "TRUE"
      ],
      "text/plain": [
       "[1] TRUE"
      ]
     },
     "metadata": {},
     "output_type": "display_data"
    }
   ],
   "source": [
    "# To take more information about an object\n",
    "\n",
    "# What Data Type?\n",
    "typeof(weights)\n",
    "typeof(countries)\n",
    "\n",
    "# How many elements\n",
    "print (paste(\"Number of elements in countries: \", length(countries)))\n",
    "\n",
    "# To check data type of an object\n",
    "is.double(countries)\n",
    "is.character(countries)"
   ]
  },
  {
   "cell_type": "code",
   "execution_count": 46,
   "metadata": {},
   "outputs": [
    {
     "data": {
      "text/plain": [
       "NULL"
      ]
     },
     "metadata": {},
     "output_type": "display_data"
    },
    {
     "data": {
      "text/html": [
       "<dl class=dl-horizontal>\n",
       "\t<dt>Apple</dt>\n",
       "\t\t<dd>4</dd>\n",
       "\t<dt>Orange</dt>\n",
       "\t\t<dd>2</dd>\n",
       "\t<dt>Kivi</dt>\n",
       "\t\t<dd>0</dd>\n",
       "\t<dt>Watermelon</dt>\n",
       "\t\t<dd>8.65</dd>\n",
       "\t<dt>Strawberry</dt>\n",
       "\t\t<dd>93</dd>\n",
       "\t<dt>Blueberry</dt>\n",
       "\t\t<dd>4</dd>\n",
       "\t<dt>Banana</dt>\n",
       "\t\t<dd>9</dd>\n",
       "\t<dt>Durian</dt>\n",
       "\t\t<dd>3</dd>\n",
       "</dl>\n"
      ],
      "text/latex": [
       "\\begin{description*}\n",
       "\\item[Apple] 4\n",
       "\\item[Orange] 2\n",
       "\\item[Kivi] 0\n",
       "\\item[Watermelon] 8.65\n",
       "\\item[Strawberry] 93\n",
       "\\item[Blueberry] 4\n",
       "\\item[Banana] 9\n",
       "\\item[Durian] 3\n",
       "\\end{description*}\n"
      ],
      "text/markdown": [
       "Apple\n",
       ":   4Orange\n",
       ":   2Kivi\n",
       ":   0Watermelon\n",
       ":   8.65Strawberry\n",
       ":   93Blueberry\n",
       ":   4Banana\n",
       ":   9Durian\n",
       ":   3\n",
       "\n"
      ],
      "text/plain": [
       "     Apple     Orange       Kivi Watermelon Strawberry  Blueberry     Banana \n",
       "      4.00       2.00       0.00       8.65      93.00       4.00       9.00 \n",
       "    Durian \n",
       "      3.00 "
      ]
     },
     "metadata": {},
     "output_type": "display_data"
    },
    {
     "data": {
      "text/html": [
       "<strong>Watermelon:</strong> 8.65"
      ],
      "text/latex": [
       "\\textbf{Watermelon:} 8.65"
      ],
      "text/markdown": [
       "**Watermelon:** 8.65"
      ],
      "text/plain": [
       "Watermelon \n",
       "      8.65 "
      ]
     },
     "metadata": {},
     "output_type": "display_data"
    }
   ],
   "source": [
    "# To name elements of a vector\n",
    "names(weights)\n",
    "names(weights) = c(\"Apple\", \"Orange\", \"Kivi\", \"Watermelon\", \"Strawberry\", \"Blueberry\", \"Banana\", \"Durian\")\n",
    "\n",
    "weights\n",
    "weights[\"Watermelon\"]"
   ]
  },
  {
   "cell_type": "code",
   "execution_count": 51,
   "metadata": {},
   "outputs": [
    {
     "data": {
      "text/html": [
       "<strong>Horse:</strong> 12"
      ],
      "text/latex": [
       "\\textbf{Horse:} 12"
      ],
      "text/markdown": [
       "**Horse:** 12"
      ],
      "text/plain": [
       "Horse \n",
       "   12 "
      ]
     },
     "metadata": {},
     "output_type": "display_data"
    }
   ],
   "source": [
    "animals = c(Lion = 3, Horse = 12, Fish = 53, Eagle = 6)\n",
    "animals['Horse']"
   ]
  },
  {
   "cell_type": "code",
   "execution_count": 53,
   "metadata": {},
   "outputs": [
    {
     "data": {
      "text/html": [
       "<dl class=dl-horizontal>\n",
       "\t<dt>Lion</dt>\n",
       "\t\t<dd>FALSE</dd>\n",
       "\t<dt>Horse</dt>\n",
       "\t\t<dd>TRUE</dd>\n",
       "\t<dt>Fish</dt>\n",
       "\t\t<dd>TRUE</dd>\n",
       "\t<dt>Eagle</dt>\n",
       "\t\t<dd>FALSE</dd>\n",
       "</dl>\n"
      ],
      "text/latex": [
       "\\begin{description*}\n",
       "\\item[Lion] FALSE\n",
       "\\item[Horse] TRUE\n",
       "\\item[Fish] TRUE\n",
       "\\item[Eagle] FALSE\n",
       "\\end{description*}\n"
      ],
      "text/markdown": [
       "Lion\n",
       ":   FALSEHorse\n",
       ":   TRUEFish\n",
       ":   TRUEEagle\n",
       ":   FALSE\n",
       "\n"
      ],
      "text/plain": [
       " Lion Horse  Fish Eagle \n",
       "FALSE  TRUE  TRUE FALSE "
      ]
     },
     "metadata": {},
     "output_type": "display_data"
    }
   ],
   "source": [
    "animals > 10"
   ]
  },
  {
   "cell_type": "code",
   "execution_count": 54,
   "metadata": {},
   "outputs": [
    {
     "data": {
      "text/html": [
       "<dl class=dl-horizontal>\n",
       "\t<dt>Lion</dt>\n",
       "\t\t<dd>13</dd>\n",
       "\t<dt>Horse</dt>\n",
       "\t\t<dd>22</dd>\n",
       "\t<dt>Fish</dt>\n",
       "\t\t<dd>63</dd>\n",
       "\t<dt>Eagle</dt>\n",
       "\t\t<dd>16</dd>\n",
       "</dl>\n"
      ],
      "text/latex": [
       "\\begin{description*}\n",
       "\\item[Lion] 13\n",
       "\\item[Horse] 22\n",
       "\\item[Fish] 63\n",
       "\\item[Eagle] 16\n",
       "\\end{description*}\n"
      ],
      "text/markdown": [
       "Lion\n",
       ":   13Horse\n",
       ":   22Fish\n",
       ":   63Eagle\n",
       ":   16\n",
       "\n"
      ],
      "text/plain": [
       " Lion Horse  Fish Eagle \n",
       "   13    22    63    16 "
      ]
     },
     "metadata": {},
     "output_type": "display_data"
    }
   ],
   "source": [
    "animals + 10 #its like broadcasting"
   ]
  },
  {
   "cell_type": "code",
   "execution_count": 55,
   "metadata": {},
   "outputs": [
    {
     "data": {
      "text/html": [
       "<dl class=dl-horizontal>\n",
       "\t<dt>Lion</dt>\n",
       "\t\t<dd>3</dd>\n",
       "\t<dt>Eagle</dt>\n",
       "\t\t<dd>6</dd>\n",
       "</dl>\n"
      ],
      "text/latex": [
       "\\begin{description*}\n",
       "\\item[Lion] 3\n",
       "\\item[Eagle] 6\n",
       "\\end{description*}\n"
      ],
      "text/markdown": [
       "Lion\n",
       ":   3Eagle\n",
       ":   6\n",
       "\n"
      ],
      "text/plain": [
       " Lion Eagle \n",
       "    3     6 "
      ]
     },
     "metadata": {},
     "output_type": "display_data"
    }
   ],
   "source": [
    "animals[animals < 10]"
   ]
  },
  {
   "cell_type": "code",
   "execution_count": 56,
   "metadata": {},
   "outputs": [
    {
     "data": {
      "text/html": [
       "<dl class=dl-horizontal>\n",
       "\t<dt>Lion</dt>\n",
       "\t\t<dd>3</dd>\n",
       "\t<dt>Horse</dt>\n",
       "\t\t<dd>12</dd>\n",
       "\t<dt>Fish</dt>\n",
       "\t\t<dd>53</dd>\n",
       "</dl>\n"
      ],
      "text/latex": [
       "\\begin{description*}\n",
       "\\item[Lion] 3\n",
       "\\item[Horse] 12\n",
       "\\item[Fish] 53\n",
       "\\end{description*}\n"
      ],
      "text/markdown": [
       "Lion\n",
       ":   3Horse\n",
       ":   12Fish\n",
       ":   53\n",
       "\n"
      ],
      "text/plain": [
       " Lion Horse  Fish \n",
       "    3    12    53 "
      ]
     },
     "metadata": {},
     "output_type": "display_data"
    }
   ],
   "source": [
    "test = c(TRUE,TRUE,TRUE,FALSE)\n",
    "animals[test]"
   ]
  },
  {
   "cell_type": "code",
   "execution_count": 59,
   "metadata": {},
   "outputs": [
    {
     "data": {
      "text/html": [
       "<ol class=list-inline>\n",
       "\t<li>TRUE</li>\n",
       "\t<li>FALSE</li>\n",
       "\t<li>TRUE</li>\n",
       "\t<li>TRUE</li>\n",
       "</ol>\n"
      ],
      "text/latex": [
       "\\begin{enumerate*}\n",
       "\\item TRUE\n",
       "\\item FALSE\n",
       "\\item TRUE\n",
       "\\item TRUE\n",
       "\\end{enumerate*}\n"
      ],
      "text/markdown": [
       "1. TRUE\n",
       "2. FALSE\n",
       "3. TRUE\n",
       "4. TRUE\n",
       "\n",
       "\n"
      ],
      "text/plain": [
       "[1]  TRUE FALSE  TRUE  TRUE"
      ]
     },
     "metadata": {},
     "output_type": "display_data"
    }
   ],
   "source": [
    "as.logical(c(1,0,1,2)) #converting to logical\n",
    "                       #any value except zero will return FALSE"
   ]
  },
  {
   "cell_type": "code",
   "execution_count": 57,
   "metadata": {},
   "outputs": [
    {
     "data": {
      "text/html": [
       "<dl class=dl-horizontal>\n",
       "\t<dt>Lion</dt>\n",
       "\t\t<dd>3</dd>\n",
       "\t<dt>Fish</dt>\n",
       "\t\t<dd>53</dd>\n",
       "\t<dt>Eagle</dt>\n",
       "\t\t<dd>6</dd>\n",
       "</dl>\n"
      ],
      "text/latex": [
       "\\begin{description*}\n",
       "\\item[Lion] 3\n",
       "\\item[Fish] 53\n",
       "\\item[Eagle] 6\n",
       "\\end{description*}\n"
      ],
      "text/markdown": [
       "Lion\n",
       ":   3Fish\n",
       ":   53Eagle\n",
       ":   6\n",
       "\n"
      ],
      "text/plain": [
       " Lion  Fish Eagle \n",
       "    3    53     6 "
      ]
     },
     "metadata": {},
     "output_type": "display_data"
    }
   ],
   "source": [
    "animals[as.logical(c(1,0,1,2))]"
   ]
  },
  {
   "cell_type": "code",
   "execution_count": 52,
   "metadata": {},
   "outputs": [
    {
     "data": {
      "text/html": [
       "<dl class=dl-horizontal>\n",
       "\t<dt>Horse</dt>\n",
       "\t\t<dd>12</dd>\n",
       "\t<dt>Fish</dt>\n",
       "\t\t<dd>53</dd>\n",
       "</dl>\n"
      ],
      "text/latex": [
       "\\begin{description*}\n",
       "\\item[Horse] 12\n",
       "\\item[Fish] 53\n",
       "\\end{description*}\n"
      ],
      "text/markdown": [
       "Horse\n",
       ":   12Fish\n",
       ":   53\n",
       "\n"
      ],
      "text/plain": [
       "Horse  Fish \n",
       "   12    53 "
      ]
     },
     "metadata": {},
     "output_type": "display_data"
    }
   ],
   "source": [
    "animals[!animals < 10]"
   ]
  },
  {
   "cell_type": "code",
   "execution_count": 62,
   "metadata": {
    "collapsed": true
   },
   "outputs": [],
   "source": [
    "help(seq)"
   ]
  },
  {
   "cell_type": "code",
   "execution_count": 68,
   "metadata": {},
   "outputs": [
    {
     "data": {
      "text/html": [
       "<ol class=list-inline>\n",
       "\t<li>1</li>\n",
       "\t<li>3</li>\n",
       "\t<li>5</li>\n",
       "\t<li>7</li>\n",
       "\t<li>9</li>\n",
       "</ol>\n"
      ],
      "text/latex": [
       "\\begin{enumerate*}\n",
       "\\item 1\n",
       "\\item 3\n",
       "\\item 5\n",
       "\\item 7\n",
       "\\item 9\n",
       "\\end{enumerate*}\n"
      ],
      "text/markdown": [
       "1. 1\n",
       "2. 3\n",
       "3. 5\n",
       "4. 7\n",
       "5. 9\n",
       "\n",
       "\n"
      ],
      "text/plain": [
       "[1] 1 3 5 7 9"
      ]
     },
     "metadata": {},
     "output_type": "display_data"
    }
   ],
   "source": [
    "t = seq(1,10, by = 2)\n",
    "t"
   ]
  },
  {
   "cell_type": "code",
   "execution_count": 61,
   "metadata": {},
   "outputs": [
    {
     "name": "stdout",
     "output_type": "stream",
     "text": [
      " [1]  1  2  3  4  5  6  7  8  9 10\n"
     ]
    },
    {
     "data": {
      "text/html": [
       "TRUE"
      ],
      "text/latex": [
       "TRUE"
      ],
      "text/markdown": [
       "TRUE"
      ],
      "text/plain": [
       "[1] TRUE"
      ]
     },
     "metadata": {},
     "output_type": "display_data"
    },
    {
     "name": "stdout",
     "output_type": "stream",
     "text": [
      " [1]  1  2  3  4  5  6  7  8  9 10\n",
      "[1] 1 3 5 7 9\n"
     ]
    },
    {
     "data": {
      "text/html": [
       "'Length of x_seq: 10'"
      ],
      "text/latex": [
       "'Length of x\\_seq: 10'"
      ],
      "text/markdown": [
       "'Length of x_seq: 10'"
      ],
      "text/plain": [
       "[1] \"Length of x_seq: 10\""
      ]
     },
     "metadata": {},
     "output_type": "display_data"
    },
    {
     "data": {
      "text/html": [
       "'Length of z_seq: 5'"
      ],
      "text/latex": [
       "'Length of z\\_seq: 5'"
      ],
      "text/markdown": [
       "'Length of z_seq: 5'"
      ],
      "text/plain": [
       "[1] \"Length of z_seq: 5\""
      ]
     },
     "metadata": {},
     "output_type": "display_data"
    }
   ],
   "source": [
    "# Sequence generation\n",
    "x_seq = 1:10\n",
    "print(x_seq)\n",
    "is.vector(x)\n",
    "\n",
    "y_seq = seq(10)\n",
    "print(y_seq)\n",
    "\n",
    "z_seq = seq(1, 10, by = 2)  \n",
    "print(z_seq)\n",
    "\n",
    "paste('Length of x_seq:',length(x_seq))\n",
    "paste('Length of z_seq:',length(z_seq))"
   ]
  },
  {
   "cell_type": "code",
   "execution_count": 69,
   "metadata": {},
   "outputs": [
    {
     "data": {
      "text/html": [
       "<ol class=list-inline>\n",
       "\t<li>0</li>\n",
       "\t<li>0</li>\n",
       "\t<li>0</li>\n",
       "\t<li>0</li>\n",
       "\t<li>0</li>\n",
       "\t<li>0</li>\n",
       "\t<li>0</li>\n",
       "\t<li>0</li>\n",
       "\t<li>0</li>\n",
       "\t<li>0</li>\n",
       "</ol>\n"
      ],
      "text/latex": [
       "\\begin{enumerate*}\n",
       "\\item 0\n",
       "\\item 0\n",
       "\\item 0\n",
       "\\item 0\n",
       "\\item 0\n",
       "\\item 0\n",
       "\\item 0\n",
       "\\item 0\n",
       "\\item 0\n",
       "\\item 0\n",
       "\\end{enumerate*}\n"
      ],
      "text/markdown": [
       "1. 0\n",
       "2. 0\n",
       "3. 0\n",
       "4. 0\n",
       "5. 0\n",
       "6. 0\n",
       "7. 0\n",
       "8. 0\n",
       "9. 0\n",
       "10. 0\n",
       "\n",
       "\n"
      ],
      "text/plain": [
       " [1] 0 0 0 0 0 0 0 0 0 0"
      ]
     },
     "metadata": {},
     "output_type": "display_data"
    },
    {
     "data": {
      "text/html": [
       "<ol class=list-inline>\n",
       "\t<li>2</li>\n",
       "\t<li>4</li>\n",
       "\t<li>6</li>\n",
       "\t<li>8</li>\n",
       "\t<li>10</li>\n",
       "\t<li>12</li>\n",
       "\t<li>14</li>\n",
       "\t<li>16</li>\n",
       "\t<li>18</li>\n",
       "\t<li>20</li>\n",
       "</ol>\n"
      ],
      "text/latex": [
       "\\begin{enumerate*}\n",
       "\\item 2\n",
       "\\item 4\n",
       "\\item 6\n",
       "\\item 8\n",
       "\\item 10\n",
       "\\item 12\n",
       "\\item 14\n",
       "\\item 16\n",
       "\\item 18\n",
       "\\item 20\n",
       "\\end{enumerate*}\n"
      ],
      "text/markdown": [
       "1. 2\n",
       "2. 4\n",
       "3. 6\n",
       "4. 8\n",
       "5. 10\n",
       "6. 12\n",
       "7. 14\n",
       "8. 16\n",
       "9. 18\n",
       "10. 20\n",
       "\n",
       "\n"
      ],
      "text/plain": [
       " [1]  2  4  6  8 10 12 14 16 18 20"
      ]
     },
     "metadata": {},
     "output_type": "display_data"
    }
   ],
   "source": [
    "# Computation on vector\n",
    "x_seq - y_seq #1st element of vector x - 1st element of vector y\n",
    "\n",
    "# can x_seq - z_seq?\n",
    "x_seq * 2"
   ]
  },
  {
   "cell_type": "markdown",
   "metadata": {},
   "source": [
    "### 1.1. Appending values to a vector\n",
    "\n",
    "- <b>append(x, values, after = length(x))</b>\n",
    "    - x is the target vector\n",
    "    - values is the list a value(s)\n",
    "    - after is index of the location we want to append after."
   ]
  },
  {
   "cell_type": "code",
   "execution_count": 75,
   "metadata": {},
   "outputs": [
    {
     "data": {
      "text/html": [
       "<ol class=list-inline>\n",
       "\t<li>'Malaysia'</li>\n",
       "\t<li>'Japan'</li>\n",
       "\t<li>'Iran'</li>\n",
       "\t<li>'Singapore'</li>\n",
       "\t<li>'Germany'</li>\n",
       "</ol>\n"
      ],
      "text/latex": [
       "\\begin{enumerate*}\n",
       "\\item 'Malaysia'\n",
       "\\item 'Japan'\n",
       "\\item 'Iran'\n",
       "\\item 'Singapore'\n",
       "\\item 'Germany'\n",
       "\\end{enumerate*}\n"
      ],
      "text/markdown": [
       "1. 'Malaysia'\n",
       "2. 'Japan'\n",
       "3. 'Iran'\n",
       "4. 'Singapore'\n",
       "5. 'Germany'\n",
       "\n",
       "\n"
      ],
      "text/plain": [
       "[1] \"Malaysia\"  \"Japan\"     \"Iran\"      \"Singapore\" \"Germany\"  "
      ]
     },
     "metadata": {},
     "output_type": "display_data"
    },
    {
     "data": {
      "text/html": [
       "'==================================================================='"
      ],
      "text/latex": [
       "'==================================================================='"
      ],
      "text/markdown": [
       "'==================================================================='"
      ],
      "text/plain": [
       "[1] \"===================================================================\""
      ]
     },
     "metadata": {},
     "output_type": "display_data"
    },
    {
     "data": {
      "text/html": [
       "<ol class=list-inline>\n",
       "\t<li>'Malaysia'</li>\n",
       "\t<li>'Japan'</li>\n",
       "\t<li>'Korea'</li>\n",
       "\t<li>'Russia'</li>\n",
       "\t<li>'Iran'</li>\n",
       "\t<li>'Singapore'</li>\n",
       "\t<li>'Germany'</li>\n",
       "</ol>\n"
      ],
      "text/latex": [
       "\\begin{enumerate*}\n",
       "\\item 'Malaysia'\n",
       "\\item 'Japan'\n",
       "\\item 'Korea'\n",
       "\\item 'Russia'\n",
       "\\item 'Iran'\n",
       "\\item 'Singapore'\n",
       "\\item 'Germany'\n",
       "\\end{enumerate*}\n"
      ],
      "text/markdown": [
       "1. 'Malaysia'\n",
       "2. 'Japan'\n",
       "3. 'Korea'\n",
       "4. 'Russia'\n",
       "5. 'Iran'\n",
       "6. 'Singapore'\n",
       "7. 'Germany'\n",
       "\n",
       "\n"
      ],
      "text/plain": [
       "[1] \"Malaysia\"  \"Japan\"     \"Korea\"     \"Russia\"    \"Iran\"      \"Singapore\"\n",
       "[7] \"Germany\"  "
      ]
     },
     "metadata": {},
     "output_type": "display_data"
    },
    {
     "data": {
      "text/html": [
       "'==================================================================='"
      ],
      "text/latex": [
       "'==================================================================='"
      ],
      "text/markdown": [
       "'==================================================================='"
      ],
      "text/plain": [
       "[1] \"===================================================================\""
      ]
     },
     "metadata": {},
     "output_type": "display_data"
    },
    {
     "data": {
      "text/html": [
       "<ol class=list-inline>\n",
       "\t<li>'Malaysia'</li>\n",
       "\t<li>'Japan'</li>\n",
       "\t<li>'Korea'</li>\n",
       "\t<li>'Russia'</li>\n",
       "\t<li>'Iran'</li>\n",
       "\t<li>'Singapore'</li>\n",
       "\t<li>'Germany'</li>\n",
       "\t<li>'Brazil'</li>\n",
       "</ol>\n"
      ],
      "text/latex": [
       "\\begin{enumerate*}\n",
       "\\item 'Malaysia'\n",
       "\\item 'Japan'\n",
       "\\item 'Korea'\n",
       "\\item 'Russia'\n",
       "\\item 'Iran'\n",
       "\\item 'Singapore'\n",
       "\\item 'Germany'\n",
       "\\item 'Brazil'\n",
       "\\end{enumerate*}\n"
      ],
      "text/markdown": [
       "1. 'Malaysia'\n",
       "2. 'Japan'\n",
       "3. 'Korea'\n",
       "4. 'Russia'\n",
       "5. 'Iran'\n",
       "6. 'Singapore'\n",
       "7. 'Germany'\n",
       "8. 'Brazil'\n",
       "\n",
       "\n"
      ],
      "text/plain": [
       "[1] \"Malaysia\"  \"Japan\"     \"Korea\"     \"Russia\"    \"Iran\"      \"Singapore\"\n",
       "[7] \"Germany\"   \"Brazil\"   "
      ]
     },
     "metadata": {},
     "output_type": "display_data"
    }
   ],
   "source": [
    "countries = c(\"Malaysia\", \"Japan\", \"Iran\", \"Singapore\", \"Germany\")\n",
    "countries\n",
    "\"===================================================================\"\n",
    "countries = append(countries, c(\"Korea\", \"Russia\"), 2)\n",
    "countries\n",
    "\"===================================================================\"\n",
    "countries = append(countries, \"Brazil\")\n",
    "countries\n",
    "\n"
   ]
  },
  {
   "cell_type": "markdown",
   "metadata": {},
   "source": [
    "## 2. List\n",
    "\n",
    "- A list can be considered a vector that its elements can be of any data type, including lists.\n",
    "- Lists can be defined by <b>list()</b> function.\n",
    "- Lists sometimes called “recursive” vectors, because a list can contain other lists.\n",
    "- <b>[[ and $ to subset and extend lists</b>"
   ]
  },
  {
   "cell_type": "code",
   "execution_count": 85,
   "metadata": {},
   "outputs": [
    {
     "data": {
      "text/html": [
       "'============================'"
      ],
      "text/latex": [
       "'============================'"
      ],
      "text/markdown": [
       "'============================'"
      ],
      "text/plain": [
       "[1] \"============================\""
      ]
     },
     "metadata": {},
     "output_type": "display_data"
    },
    {
     "data": {
      "text/html": [
       "3"
      ],
      "text/latex": [
       "3"
      ],
      "text/markdown": [
       "3"
      ],
      "text/plain": [
       "[1] 3"
      ]
     },
     "metadata": {},
     "output_type": "display_data"
    },
    {
     "data": {
      "text/html": [
       "<ol>\n",
       "\t<li><dl>\n",
       "\t<dt>$attr1</dt>\n",
       "\t\t<dd>3</dd>\n",
       "\t<dt>$attr2</dt>\n",
       "\t\t<dd>TRUE</dd>\n",
       "\t<dt>$attr3</dt>\n",
       "\t\t<dd>&lt;NA&gt;</dd>\n",
       "\t<dt>$attr4</dt>\n",
       "\t\t<dd>'Kuala Lumpur'</dd>\n",
       "</dl>\n",
       "</li>\n",
       "\t<li><dl>\n",
       "\t<dt>$attr1</dt>\n",
       "\t\t<dd>3</dd>\n",
       "\t<dt>$attr2</dt>\n",
       "\t\t<dd>TRUE</dd>\n",
       "\t<dt>$attr3</dt>\n",
       "\t\t<dd>&lt;NA&gt;</dd>\n",
       "\t<dt>$attr4</dt>\n",
       "\t\t<dd>'Kuala Lumpur'</dd>\n",
       "</dl>\n",
       "</li>\n",
       "\t<li><dl>\n",
       "\t<dt>$attr1</dt>\n",
       "\t\t<dd>3</dd>\n",
       "\t<dt>$attr2</dt>\n",
       "\t\t<dd>TRUE</dd>\n",
       "\t<dt>$attr3</dt>\n",
       "\t\t<dd>&lt;NA&gt;</dd>\n",
       "\t<dt>$attr4</dt>\n",
       "\t\t<dd>'Kuala Lumpur'</dd>\n",
       "</dl>\n",
       "</li>\n",
       "</ol>\n"
      ],
      "text/latex": [
       "\\begin{enumerate}\n",
       "\\item \\begin{description}\n",
       "\\item[\\$attr1] 3\n",
       "\\item[\\$attr2] TRUE\n",
       "\\item[\\$attr3] <NA>\n",
       "\\item[\\$attr4] 'Kuala Lumpur'\n",
       "\\end{description}\n",
       "\n",
       "\\item \\begin{description}\n",
       "\\item[\\$attr1] 3\n",
       "\\item[\\$attr2] TRUE\n",
       "\\item[\\$attr3] <NA>\n",
       "\\item[\\$attr4] 'Kuala Lumpur'\n",
       "\\end{description}\n",
       "\n",
       "\\item \\begin{description}\n",
       "\\item[\\$attr1] 3\n",
       "\\item[\\$attr2] TRUE\n",
       "\\item[\\$attr3] <NA>\n",
       "\\item[\\$attr4] 'Kuala Lumpur'\n",
       "\\end{description}\n",
       "\n",
       "\\end{enumerate}\n"
      ],
      "text/markdown": [
       "1. $attr1\n",
       ":   3\n",
       "$attr2\n",
       ":   TRUE\n",
       "$attr3\n",
       ":   &lt;NA&gt;\n",
       "$attr4\n",
       ":   'Kuala Lumpur'\n",
       "\n",
       "\n",
       "\n",
       "2. $attr1\n",
       ":   3\n",
       "$attr2\n",
       ":   TRUE\n",
       "$attr3\n",
       ":   &lt;NA&gt;\n",
       "$attr4\n",
       ":   'Kuala Lumpur'\n",
       "\n",
       "\n",
       "\n",
       "3. $attr1\n",
       ":   3\n",
       "$attr2\n",
       ":   TRUE\n",
       "$attr3\n",
       ":   &lt;NA&gt;\n",
       "$attr4\n",
       ":   'Kuala Lumpur'\n",
       "\n",
       "\n",
       "\n",
       "\n",
       "\n"
      ],
      "text/plain": [
       "[[1]]\n",
       "[[1]]$attr1\n",
       "[1] 3\n",
       "\n",
       "[[1]]$attr2\n",
       "[1] TRUE\n",
       "\n",
       "[[1]]$attr3\n",
       "[1] NA\n",
       "\n",
       "[[1]]$attr4\n",
       "[1] \"Kuala Lumpur\"\n",
       "\n",
       "\n",
       "[[2]]\n",
       "[[2]]$attr1\n",
       "[1] 3\n",
       "\n",
       "[[2]]$attr2\n",
       "[1] TRUE\n",
       "\n",
       "[[2]]$attr3\n",
       "[1] NA\n",
       "\n",
       "[[2]]$attr4\n",
       "[1] \"Kuala Lumpur\"\n",
       "\n",
       "\n",
       "[[3]]\n",
       "[[3]]$attr1\n",
       "[1] 3\n",
       "\n",
       "[[3]]$attr2\n",
       "[1] TRUE\n",
       "\n",
       "[[3]]$attr3\n",
       "[1] NA\n",
       "\n",
       "[[3]]$attr4\n",
       "[1] \"Kuala Lumpur\"\n",
       "\n"
      ]
     },
     "metadata": {},
     "output_type": "display_data"
    },
    {
     "data": {
      "text/html": [
       "'Kuala Lumpur'"
      ],
      "text/latex": [
       "'Kuala Lumpur'"
      ],
      "text/markdown": [
       "'Kuala Lumpur'"
      ],
      "text/plain": [
       "[1] \"Kuala Lumpur\""
      ]
     },
     "metadata": {},
     "output_type": "display_data"
    },
    {
     "data": {
      "text/html": [
       "'============================'"
      ],
      "text/latex": [
       "'============================'"
      ],
      "text/markdown": [
       "'============================'"
      ],
      "text/plain": [
       "[1] \"============================\""
      ]
     },
     "metadata": {},
     "output_type": "display_data"
    }
   ],
   "source": [
    "mylist = list(attr1 = 3, attr2 = TRUE, attr3 = NA, attr4 = \"Kuala Lumpur\")\n",
    "# mylist\n",
    "'============================'\n",
    "# mylist[1]\n",
    "mylist[[1]] #list in a list\n",
    "# mylist$attr1\n",
    "mylist2 = list(mylist,mylist,mylist)\n",
    "mylist2\n",
    "mylist2[[1]][[4]]\n",
    "\n",
    "'============================'\n",
    "# mylist[4]\n",
    "# mylist[[4]]\n",
    "# mylist$attr4\n"
   ]
  },
  {
   "cell_type": "code",
   "execution_count": 79,
   "metadata": {},
   "outputs": [
    {
     "data": {
      "text/html": [
       "'============================'"
      ],
      "text/latex": [
       "'============================'"
      ],
      "text/markdown": [
       "'============================'"
      ],
      "text/plain": [
       "[1] \"============================\""
      ]
     },
     "metadata": {},
     "output_type": "display_data"
    }
   ],
   "source": [
    "mylist2 = list(attr1 = 3, attr2 = TRUE, attr3 = NA, attr4 = \"Kuala Lumpur\", \n",
    "               city=list(city1=\"KL\", city2=\"PJ\", city3=\"JB\"))\n",
    "# mylist2\n",
    "'============================'\n",
    "# mylist2[['city']][['city1']]\n",
    "# mylist2$city$city2"
   ]
  },
  {
   "cell_type": "markdown",
   "metadata": {},
   "source": [
    "## 3. Matrix\n",
    "\n",
    "- A matrix is a collection of data elements of the <font color=red>same data type</font> arranged in a <b>two-dimensional rectangular layout</b>.<br>\n",
    "- R can hold a matrix using <b>matrix()</b> function."
   ]
  },
  {
   "cell_type": "code",
   "execution_count": 1,
   "metadata": {},
   "outputs": [
    {
     "data": {
      "text/html": [
       "<table>\n",
       "<tbody>\n",
       "\t<tr><td> 4 </td><td>-5 </td><td>5  </td><td>103</td></tr>\n",
       "\t<tr><td> 7 </td><td> 6 </td><td>7  </td><td> 21</td></tr>\n",
       "\t<tr><td>12 </td><td> 0 </td><td>1  </td><td> -9</td></tr>\n",
       "</tbody>\n",
       "</table>\n"
      ],
      "text/latex": [
       "\\begin{tabular}{llll}\n",
       "\t  4  & -5  & 5   & 103\\\\\n",
       "\t  7  &  6  & 7   &  21\\\\\n",
       "\t 12  &  0  & 1   &  -9\\\\\n",
       "\\end{tabular}\n"
      ],
      "text/markdown": [
       "\n",
       "|  4  | -5  | 5   | 103 | \n",
       "|  7  |  6  | 7   |  21 | \n",
       "| 12  |  0  | 1   |  -9 | \n",
       "\n",
       "\n"
      ],
      "text/plain": [
       "     [,1] [,2] [,3] [,4]\n",
       "[1,]  4   -5   5    103 \n",
       "[2,]  7    6   7     21 \n",
       "[3,] 12    0   1     -9 "
      ]
     },
     "metadata": {},
     "output_type": "display_data"
    }
   ],
   "source": [
    "# How to create a matrix?\n",
    "m = matrix(c(4, 7, 12, -5, 6, 0, 5, 7, 1, 103, 21, -9), \n",
    "           nrow = 3, \n",
    "           ncol = 4)\n",
    "m"
   ]
  },
  {
   "cell_type": "code",
   "execution_count": 2,
   "metadata": {},
   "outputs": [
    {
     "data": {
      "text/html": [
       "<table>\n",
       "<tbody>\n",
       "\t<tr><td>4  </td><td>  7</td><td>12 </td><td>-5 </td></tr>\n",
       "\t<tr><td>6  </td><td>  0</td><td> 5 </td><td> 7 </td></tr>\n",
       "\t<tr><td>1  </td><td>103</td><td>21 </td><td>-9 </td></tr>\n",
       "</tbody>\n",
       "</table>\n"
      ],
      "text/latex": [
       "\\begin{tabular}{llll}\n",
       "\t 4   &   7 & 12  & -5 \\\\\n",
       "\t 6   &   0 &  5  &  7 \\\\\n",
       "\t 1   & 103 & 21  & -9 \\\\\n",
       "\\end{tabular}\n"
      ],
      "text/markdown": [
       "\n",
       "| 4   |   7 | 12  | -5  | \n",
       "| 6   |   0 |  5  |  7  | \n",
       "| 1   | 103 | 21  | -9  | \n",
       "\n",
       "\n"
      ],
      "text/plain": [
       "     [,1] [,2] [,3] [,4]\n",
       "[1,] 4      7  12   -5  \n",
       "[2,] 6      0   5    7  \n",
       "[3,] 1    103  21   -9  "
      ]
     },
     "metadata": {},
     "output_type": "display_data"
    }
   ],
   "source": [
    "m = matrix(c(4, 7, 12, -5, 6, 0, 5, 7, 1, 103, 21, -9), \n",
    "           nrow = 3, \n",
    "           ncol = 4,\n",
    "           byrow = TRUE)\n",
    "m"
   ]
  },
  {
   "cell_type": "code",
   "execution_count": 3,
   "metadata": {},
   "outputs": [
    {
     "data": {
      "text/html": [
       "<table>\n",
       "<thead><tr><th></th><th scope=col>col1</th><th scope=col>col2</th><th scope=col>col3</th><th scope=col>col4</th></tr></thead>\n",
       "<tbody>\n",
       "\t<tr><th scope=row>r1</th><td>4  </td><td>  7</td><td>12 </td><td>-5 </td></tr>\n",
       "\t<tr><th scope=row>r2</th><td>6  </td><td>  0</td><td> 5 </td><td> 7 </td></tr>\n",
       "\t<tr><th scope=row>r3</th><td>1  </td><td>103</td><td>21 </td><td>-9 </td></tr>\n",
       "</tbody>\n",
       "</table>\n"
      ],
      "text/latex": [
       "\\begin{tabular}{r|llll}\n",
       "  & col1 & col2 & col3 & col4\\\\\n",
       "\\hline\n",
       "\tr1 & 4   &   7 & 12  & -5 \\\\\n",
       "\tr2 & 6   &   0 &  5  &  7 \\\\\n",
       "\tr3 & 1   & 103 & 21  & -9 \\\\\n",
       "\\end{tabular}\n"
      ],
      "text/markdown": [
       "\n",
       "| <!--/--> | col1 | col2 | col3 | col4 | \n",
       "|---|---|---|\n",
       "| r1 | 4   |   7 | 12  | -5  | \n",
       "| r2 | 6   |   0 |  5  |  7  | \n",
       "| r3 | 1   | 103 | 21  | -9  | \n",
       "\n",
       "\n"
      ],
      "text/plain": [
       "   col1 col2 col3 col4\n",
       "r1 4      7  12   -5  \n",
       "r2 6      0   5    7  \n",
       "r3 1    103  21   -9  "
      ]
     },
     "metadata": {},
     "output_type": "display_data"
    }
   ],
   "source": [
    "# To name dimensions\n",
    "dimnames(m) = list(c('r1', 'r2', 'r3'),\n",
    "                    c('col1', 'col2', 'col3', 'col4'))\n",
    "m"
   ]
  },
  {
   "cell_type": "code",
   "execution_count": 5,
   "metadata": {},
   "outputs": [
    {
     "data": {
      "text/html": [
       "5"
      ],
      "text/latex": [
       "5"
      ],
      "text/markdown": [
       "5"
      ],
      "text/plain": [
       "[1] 5"
      ]
     },
     "metadata": {},
     "output_type": "display_data"
    },
    {
     "data": {
      "text/html": [
       "<dl class=dl-horizontal>\n",
       "\t<dt>col1</dt>\n",
       "\t\t<dd>6</dd>\n",
       "\t<dt>col2</dt>\n",
       "\t\t<dd>0</dd>\n",
       "\t<dt>col3</dt>\n",
       "\t\t<dd>5</dd>\n",
       "\t<dt>col4</dt>\n",
       "\t\t<dd>7</dd>\n",
       "</dl>\n"
      ],
      "text/latex": [
       "\\begin{description*}\n",
       "\\item[col1] 6\n",
       "\\item[col2] 0\n",
       "\\item[col3] 5\n",
       "\\item[col4] 7\n",
       "\\end{description*}\n"
      ],
      "text/markdown": [
       "col1\n",
       ":   6col2\n",
       ":   0col3\n",
       ":   5col4\n",
       ":   7\n",
       "\n"
      ],
      "text/plain": [
       "col1 col2 col3 col4 \n",
       "   6    0    5    7 "
      ]
     },
     "metadata": {},
     "output_type": "display_data"
    },
    {
     "data": {
      "text/html": [
       "<dl class=dl-horizontal>\n",
       "\t<dt>r1</dt>\n",
       "\t\t<dd>12</dd>\n",
       "\t<dt>r2</dt>\n",
       "\t\t<dd>5</dd>\n",
       "\t<dt>r3</dt>\n",
       "\t\t<dd>21</dd>\n",
       "</dl>\n"
      ],
      "text/latex": [
       "\\begin{description*}\n",
       "\\item[r1] 12\n",
       "\\item[r2] 5\n",
       "\\item[r3] 21\n",
       "\\end{description*}\n"
      ],
      "text/markdown": [
       "r1\n",
       ":   12r2\n",
       ":   5r3\n",
       ":   21\n",
       "\n"
      ],
      "text/plain": [
       "r1 r2 r3 \n",
       "12  5 21 "
      ]
     },
     "metadata": {},
     "output_type": "display_data"
    },
    {
     "data": {
      "text/html": [
       "<table>\n",
       "<thead><tr><th></th><th scope=col>col1</th><th scope=col>col4</th></tr></thead>\n",
       "<tbody>\n",
       "\t<tr><th scope=row>r2</th><td>6 </td><td> 7</td></tr>\n",
       "\t<tr><th scope=row>r3</th><td>1 </td><td>-9</td></tr>\n",
       "</tbody>\n",
       "</table>\n"
      ],
      "text/latex": [
       "\\begin{tabular}{r|ll}\n",
       "  & col1 & col4\\\\\n",
       "\\hline\n",
       "\tr2 & 6  &  7\\\\\n",
       "\tr3 & 1  & -9\\\\\n",
       "\\end{tabular}\n"
      ],
      "text/markdown": [
       "\n",
       "| <!--/--> | col1 | col4 | \n",
       "|---|---|\n",
       "| r2 | 6  |  7 | \n",
       "| r3 | 1  | -9 | \n",
       "\n",
       "\n"
      ],
      "text/plain": [
       "   col1 col4\n",
       "r2 6     7  \n",
       "r3 1    -9  "
      ]
     },
     "metadata": {},
     "output_type": "display_data"
    }
   ],
   "source": [
    "# to show an element located in m-th row and n-th columns\n",
    "m[2, 3]\n",
    "\n",
    "# to show sub-matrix\n",
    "m[2,] #m[row,column]\n",
    "m[, 3]\n",
    "m[c(2, 3), c(1, 4)]"
   ]
  },
  {
   "cell_type": "code",
   "execution_count": 6,
   "metadata": {},
   "outputs": [
    {
     "data": {
      "text/html": [
       "<table>\n",
       "<thead><tr><th></th><th scope=col>r1</th><th scope=col>r2</th><th scope=col>r3</th></tr></thead>\n",
       "<tbody>\n",
       "\t<tr><th scope=row>col1</th><td> 4 </td><td>6  </td><td>  1</td></tr>\n",
       "\t<tr><th scope=row>col2</th><td> 7 </td><td>0  </td><td>103</td></tr>\n",
       "\t<tr><th scope=row>col3</th><td>12 </td><td>5  </td><td> 21</td></tr>\n",
       "\t<tr><th scope=row>col4</th><td>-5 </td><td>7  </td><td> -9</td></tr>\n",
       "</tbody>\n",
       "</table>\n"
      ],
      "text/latex": [
       "\\begin{tabular}{r|lll}\n",
       "  & r1 & r2 & r3\\\\\n",
       "\\hline\n",
       "\tcol1 &  4  & 6   &   1\\\\\n",
       "\tcol2 &  7  & 0   & 103\\\\\n",
       "\tcol3 & 12  & 5   &  21\\\\\n",
       "\tcol4 & -5  & 7   &  -9\\\\\n",
       "\\end{tabular}\n"
      ],
      "text/markdown": [
       "\n",
       "| <!--/--> | r1 | r2 | r3 | \n",
       "|---|---|---|---|\n",
       "| col1 |  4  | 6   |   1 | \n",
       "| col2 |  7  | 0   | 103 | \n",
       "| col3 | 12  | 5   |  21 | \n",
       "| col4 | -5  | 7   |  -9 | \n",
       "\n",
       "\n"
      ],
      "text/plain": [
       "     r1 r2 r3 \n",
       "col1  4 6    1\n",
       "col2  7 0  103\n",
       "col3 12 5   21\n",
       "col4 -5 7   -9"
      ]
     },
     "metadata": {},
     "output_type": "display_data"
    }
   ],
   "source": [
    "# Matrix transpose\n",
    "t(m)"
   ]
  },
  {
   "cell_type": "code",
   "execution_count": 7,
   "metadata": {
    "scrolled": true
   },
   "outputs": [
    {
     "data": {
      "text/html": [
       "<table>\n",
       "<thead><tr><th></th><th scope=col>r1</th><th scope=col>r2</th><th scope=col>r3</th></tr></thead>\n",
       "<tbody>\n",
       "\t<tr><th scope=row>r1</th><td> 234 </td><td> 49  </td><td> 1022</td></tr>\n",
       "\t<tr><th scope=row>r2</th><td>  49 </td><td>110  </td><td>   48</td></tr>\n",
       "\t<tr><th scope=row>r3</th><td>1022 </td><td> 48  </td><td>11132</td></tr>\n",
       "</tbody>\n",
       "</table>\n"
      ],
      "text/latex": [
       "\\begin{tabular}{r|lll}\n",
       "  & r1 & r2 & r3\\\\\n",
       "\\hline\n",
       "\tr1 &  234  &  49   &  1022\\\\\n",
       "\tr2 &   49  & 110   &    48\\\\\n",
       "\tr3 & 1022  &  48   & 11132\\\\\n",
       "\\end{tabular}\n"
      ],
      "text/markdown": [
       "\n",
       "| <!--/--> | r1 | r2 | r3 | \n",
       "|---|---|---|\n",
       "| r1 |  234  |  49   |  1022 | \n",
       "| r2 |   49  | 110   |    48 | \n",
       "| r3 | 1022  |  48   | 11132 | \n",
       "\n",
       "\n"
      ],
      "text/plain": [
       "   r1   r2  r3   \n",
       "r1  234  49  1022\n",
       "r2   49 110    48\n",
       "r3 1022  48 11132"
      ]
     },
     "metadata": {},
     "output_type": "display_data"
    }
   ],
   "source": [
    "# To perform Matrix Multiplication\n",
    "\n",
    "m %*% t(m)"
   ]
  },
  {
   "cell_type": "markdown",
   "metadata": {},
   "source": [
    "## 4. Factor\n",
    "\n",
    "Factors are used to represent <b>categorical variables</b>\n",
    "Two types of categorical variable:\n",
    "- Nominal : The order of the values does not have any meaning (Gender, Colors, Blood Types)\n",
    "- Ordinal : The order of the values mean something (Size, Ranking)\n",
    "\n",
    "<br><b><font color=red>By default R sorts levels alphabetically</font></b>\n",
    "<br><b>factor()</b> function is being used in R to make a factor."
   ]
  },
  {
   "cell_type": "code",
   "execution_count": 9,
   "metadata": {},
   "outputs": [
    {
     "data": {
      "text/html": [
       "<ol class=list-inline>\n",
       "\t<li>'Mon'</li>\n",
       "\t<li>'Tue'</li>\n",
       "\t<li>'Wed'</li>\n",
       "\t<li>'Thu'</li>\n",
       "\t<li>'Fri'</li>\n",
       "\t<li>'Sat'</li>\n",
       "\t<li>'Sun'</li>\n",
       "</ol>\n"
      ],
      "text/latex": [
       "\\begin{enumerate*}\n",
       "\\item 'Mon'\n",
       "\\item 'Tue'\n",
       "\\item 'Wed'\n",
       "\\item 'Thu'\n",
       "\\item 'Fri'\n",
       "\\item 'Sat'\n",
       "\\item 'Sun'\n",
       "\\end{enumerate*}\n"
      ],
      "text/markdown": [
       "1. 'Mon'\n",
       "2. 'Tue'\n",
       "3. 'Wed'\n",
       "4. 'Thu'\n",
       "5. 'Fri'\n",
       "6. 'Sat'\n",
       "7. 'Sun'\n",
       "\n",
       "\n"
      ],
      "text/plain": [
       "[1] \"Mon\" \"Tue\" \"Wed\" \"Thu\" \"Fri\" \"Sat\" \"Sun\""
      ]
     },
     "metadata": {},
     "output_type": "display_data"
    },
    {
     "data": {
      "text/html": [
       "<ol class=list-inline>\n",
       "\t<li>Mon</li>\n",
       "\t<li>Tue</li>\n",
       "\t<li>Wed</li>\n",
       "\t<li>Thu</li>\n",
       "\t<li>Fri</li>\n",
       "\t<li>Sat</li>\n",
       "\t<li>Sun</li>\n",
       "</ol>\n"
      ],
      "text/latex": [
       "\\begin{enumerate*}\n",
       "\\item Mon\n",
       "\\item Tue\n",
       "\\item Wed\n",
       "\\item Thu\n",
       "\\item Fri\n",
       "\\item Sat\n",
       "\\item Sun\n",
       "\\end{enumerate*}\n"
      ],
      "text/markdown": [
       "1. Mon\n",
       "2. Tue\n",
       "3. Wed\n",
       "4. Thu\n",
       "5. Fri\n",
       "6. Sat\n",
       "7. Sun\n",
       "\n",
       "\n"
      ],
      "text/plain": [
       "[1] Mon Tue Wed Thu Fri Sat Sun\n",
       "Levels: Fri Mon Sat Sun Thu Tue Wed"
      ]
     },
     "metadata": {},
     "output_type": "display_data"
    },
    {
     "data": {
      "text/html": [
       "'integer'"
      ],
      "text/latex": [
       "'integer'"
      ],
      "text/markdown": [
       "'integer'"
      ],
      "text/plain": [
       "[1] \"integer\""
      ]
     },
     "metadata": {},
     "output_type": "display_data"
    },
    {
     "data": {
      "text/html": [
       "TRUE"
      ],
      "text/latex": [
       "TRUE"
      ],
      "text/markdown": [
       "TRUE"
      ],
      "text/plain": [
       "[1] TRUE"
      ]
     },
     "metadata": {},
     "output_type": "display_data"
    }
   ],
   "source": [
    "# How to make a vector in accordance to a vector of strings?\n",
    "day = c('Mon', 'Tue', 'Wed', 'Thu', 'Fri', 'Sat', 'Sun') \n",
    "day\n",
    "\n",
    "day_factor = factor(day) \n",
    "day_factor\n",
    "typeof(day_factor)\n",
    "is.factor(day_factor)"
   ]
  },
  {
   "cell_type": "code",
   "execution_count": 10,
   "metadata": {},
   "outputs": [
    {
     "data": {
      "text/html": [
       "<ol class=list-inline>\n",
       "\t<li>'Fri'</li>\n",
       "\t<li>'Mon'</li>\n",
       "\t<li>'Sat'</li>\n",
       "\t<li>'Sun'</li>\n",
       "\t<li>'Thu'</li>\n",
       "\t<li>'Tue'</li>\n",
       "\t<li>'Wed'</li>\n",
       "</ol>\n"
      ],
      "text/latex": [
       "\\begin{enumerate*}\n",
       "\\item 'Fri'\n",
       "\\item 'Mon'\n",
       "\\item 'Sat'\n",
       "\\item 'Sun'\n",
       "\\item 'Thu'\n",
       "\\item 'Tue'\n",
       "\\item 'Wed'\n",
       "\\end{enumerate*}\n"
      ],
      "text/markdown": [
       "1. 'Fri'\n",
       "2. 'Mon'\n",
       "3. 'Sat'\n",
       "4. 'Sun'\n",
       "5. 'Thu'\n",
       "6. 'Tue'\n",
       "7. 'Wed'\n",
       "\n",
       "\n"
      ],
      "text/plain": [
       "[1] \"Fri\" \"Mon\" \"Sat\" \"Sun\" \"Thu\" \"Tue\" \"Wed\""
      ]
     },
     "metadata": {},
     "output_type": "display_data"
    }
   ],
   "source": [
    "levels(day_factor) #to check orders of category #alphabetically"
   ]
  },
  {
   "cell_type": "code",
   "execution_count": 11,
   "metadata": {},
   "outputs": [
    {
     "data": {
      "text/html": [
       "<ol class=list-inline>\n",
       "\t<li>'Tue'</li>\n",
       "\t<li>'Thu'</li>\n",
       "\t<li>'Wed'</li>\n",
       "</ol>\n"
      ],
      "text/latex": [
       "\\begin{enumerate*}\n",
       "\\item 'Tue'\n",
       "\\item 'Thu'\n",
       "\\item 'Wed'\n",
       "\\end{enumerate*}\n"
      ],
      "text/markdown": [
       "1. 'Tue'\n",
       "2. 'Thu'\n",
       "3. 'Wed'\n",
       "\n",
       "\n"
      ],
      "text/plain": [
       "[1] \"Tue\" \"Thu\" \"Wed\""
      ]
     },
     "metadata": {},
     "output_type": "display_data"
    },
    {
     "data": {
      "text/html": [
       "<ol class=list-inline>\n",
       "\t<li>Tue</li>\n",
       "\t<li>Thu</li>\n",
       "\t<li>Wed</li>\n",
       "</ol>\n"
      ],
      "text/latex": [
       "\\begin{enumerate*}\n",
       "\\item Tue\n",
       "\\item Thu\n",
       "\\item Wed\n",
       "\\end{enumerate*}\n"
      ],
      "text/markdown": [
       "1. Tue\n",
       "2. Thu\n",
       "3. Wed\n",
       "\n",
       "\n"
      ],
      "text/plain": [
       "[1] Tue Thu Wed\n",
       "Levels: Mon Tue Wed Thu Fri Sat Sun"
      ]
     },
     "metadata": {},
     "output_type": "display_data"
    },
    {
     "data": {
      "text/html": [
       "<ol class=list-inline>\n",
       "\t<li>'Mon'</li>\n",
       "\t<li>'Tue'</li>\n",
       "\t<li>'Wed'</li>\n",
       "\t<li>'Thu'</li>\n",
       "\t<li>'Fri'</li>\n",
       "\t<li>'Sat'</li>\n",
       "\t<li>'Sun'</li>\n",
       "</ol>\n"
      ],
      "text/latex": [
       "\\begin{enumerate*}\n",
       "\\item 'Mon'\n",
       "\\item 'Tue'\n",
       "\\item 'Wed'\n",
       "\\item 'Thu'\n",
       "\\item 'Fri'\n",
       "\\item 'Sat'\n",
       "\\item 'Sun'\n",
       "\\end{enumerate*}\n"
      ],
      "text/markdown": [
       "1. 'Mon'\n",
       "2. 'Tue'\n",
       "3. 'Wed'\n",
       "4. 'Thu'\n",
       "5. 'Fri'\n",
       "6. 'Sat'\n",
       "7. 'Sun'\n",
       "\n",
       "\n"
      ],
      "text/plain": [
       "[1] \"Mon\" \"Tue\" \"Wed\" \"Thu\" \"Fri\" \"Sat\" \"Sun\""
      ]
     },
     "metadata": {},
     "output_type": "display_data"
    },
    {
     "name": "stderr",
     "output_type": "stream",
     "text": [
      "Warning message in Ops.factor(day_factor2[1], day_factor2[2]):\n",
      "\"'<' not meaningful for factors\""
     ]
    },
    {
     "data": {
      "text/html": [
       "&lt;NA&gt;"
      ],
      "text/latex": [
       "<NA>"
      ],
      "text/markdown": [
       "&lt;NA&gt;"
      ],
      "text/plain": [
       "[1] NA"
      ]
     },
     "metadata": {},
     "output_type": "display_data"
    }
   ],
   "source": [
    "# To make the vector level sorted as we want\n",
    "day2 = c('Tue','Thu','Wed')\n",
    "day2\n",
    "\n",
    "day_level = c('Mon', 'Tue', 'Wed', 'Thu', 'Fri', 'Sat', 'Sun') \n",
    "day_factor2 = factor(day2, levels = day_level) \n",
    "day_factor2\n",
    "\n",
    "levels(day_factor2)\n",
    "\n",
    "day_factor2[1] < day_factor2[2]"
   ]
  },
  {
   "cell_type": "code",
   "execution_count": 14,
   "metadata": {
    "scrolled": true
   },
   "outputs": [
    {
     "data": {
      "text/html": [
       "<ol class=list-inline>\n",
       "\t<li>'Tue'</li>\n",
       "\t<li>'Tue'</li>\n",
       "\t<li>'Tue'</li>\n",
       "\t<li>'Mon'</li>\n",
       "\t<li>'Fri'</li>\n",
       "\t<li>'Sat'</li>\n",
       "\t<li>'Sun'</li>\n",
       "\t<li>'Mon'</li>\n",
       "\t<li>'Fri'</li>\n",
       "\t<li>'Sat'</li>\n",
       "\t<li>'Sun'</li>\n",
       "\t<li>'Mon'</li>\n",
       "</ol>\n"
      ],
      "text/latex": [
       "\\begin{enumerate*}\n",
       "\\item 'Tue'\n",
       "\\item 'Tue'\n",
       "\\item 'Tue'\n",
       "\\item 'Mon'\n",
       "\\item 'Fri'\n",
       "\\item 'Sat'\n",
       "\\item 'Sun'\n",
       "\\item 'Mon'\n",
       "\\item 'Fri'\n",
       "\\item 'Sat'\n",
       "\\item 'Sun'\n",
       "\\item 'Mon'\n",
       "\\end{enumerate*}\n"
      ],
      "text/markdown": [
       "1. 'Tue'\n",
       "2. 'Tue'\n",
       "3. 'Tue'\n",
       "4. 'Mon'\n",
       "5. 'Fri'\n",
       "6. 'Sat'\n",
       "7. 'Sun'\n",
       "8. 'Mon'\n",
       "9. 'Fri'\n",
       "10. 'Sat'\n",
       "11. 'Sun'\n",
       "12. 'Mon'\n",
       "\n",
       "\n"
      ],
      "text/plain": [
       " [1] \"Tue\" \"Tue\" \"Tue\" \"Mon\" \"Fri\" \"Sat\" \"Sun\" \"Mon\" \"Fri\" \"Sat\" \"Sun\" \"Mon\""
      ]
     },
     "metadata": {},
     "output_type": "display_data"
    },
    {
     "name": "stdout",
     "output_type": "stream",
     "text": [
      " Ord.factor w/ 7 levels \"Mon\"<\"Tue\"<\"Wed\"<..: 2 2 2 1 5 6 7 1 5 6 ...\n"
     ]
    },
    {
     "data": {
      "text/html": [
       "<ol class=list-inline>\n",
       "\t<li>Tue</li>\n",
       "\t<li>Tue</li>\n",
       "\t<li>Tue</li>\n",
       "\t<li>Mon</li>\n",
       "\t<li>Fri</li>\n",
       "\t<li>Sat</li>\n",
       "\t<li>Sun</li>\n",
       "\t<li>Mon</li>\n",
       "\t<li>Fri</li>\n",
       "\t<li>Sat</li>\n",
       "\t<li>Sun</li>\n",
       "\t<li>Mon</li>\n",
       "</ol>\n"
      ],
      "text/latex": [
       "\\begin{enumerate*}\n",
       "\\item Tue\n",
       "\\item Tue\n",
       "\\item Tue\n",
       "\\item Mon\n",
       "\\item Fri\n",
       "\\item Sat\n",
       "\\item Sun\n",
       "\\item Mon\n",
       "\\item Fri\n",
       "\\item Sat\n",
       "\\item Sun\n",
       "\\item Mon\n",
       "\\end{enumerate*}\n"
      ],
      "text/markdown": [
       "1. Tue\n",
       "2. Tue\n",
       "3. Tue\n",
       "4. Mon\n",
       "5. Fri\n",
       "6. Sat\n",
       "7. Sun\n",
       "8. Mon\n",
       "9. Fri\n",
       "10. Sat\n",
       "11. Sun\n",
       "12. Mon\n",
       "\n",
       "\n"
      ],
      "text/plain": [
       " [1] Tue Tue Tue Mon Fri Sat Sun Mon Fri Sat Sun Mon\n",
       "Levels: Mon < Tue < Wed < Thu < Fri < Sat < Sun"
      ]
     },
     "metadata": {},
     "output_type": "display_data"
    },
    {
     "name": "stdout",
     "output_type": "stream",
     "text": [
      " Ord.factor w/ 7 levels \"Mon\"<\"Tue\"<\"Wed\"<..: 2 2 2 1 5 6 7 1 5 6 ...\n"
     ]
    },
    {
     "data": {
      "text/html": [
       "TRUE"
      ],
      "text/latex": [
       "TRUE"
      ],
      "text/markdown": [
       "TRUE"
      ],
      "text/plain": [
       "[1] TRUE"
      ]
     },
     "metadata": {},
     "output_type": "display_data"
    }
   ],
   "source": [
    "day3 = c('Tue','Tue','Tue','Mon','Fri','Sat','Sun','Mon','Fri','Sat','Sun','Mon')\n",
    "day3\n",
    "str(day_factor3)\n",
    "day_factor3 = factor(day3, levels = day_level, ordered=TRUE) #because we have set in order\n",
    "day_factor3\n",
    "\n",
    "str(day_factor3)\n",
    "day_factor3[1] > day_factor3[4]"
   ]
  },
  {
   "cell_type": "markdown",
   "metadata": {},
   "source": [
    "## 5. DataFrame\n",
    "\n",
    "- To hold observations (entities) data, stronger data structure is needed.\n",
    "- <b>A DataFrame is used for storing data tables. \n",
    "- It is a list of vectors of equal length. </b>\n",
    "- In fact, we can create a DataFrame by combining vectors.\n",
    "- DataFrames are suitable to work with DataSets.\n",
    "\n",
    "In DataFrames:\n",
    "- Every row represents an obsservation (entity)\n",
    "- Every column represents value of an attribute of an observation (e.g. Name, Nge, Gender, etc)\n",
    "- Can contain elements of diﬀerent types but elements in same column have the same type"
   ]
  },
  {
   "cell_type": "code",
   "execution_count": 15,
   "metadata": {},
   "outputs": [
    {
     "data": {
      "text/html": [
       "<table>\n",
       "<thead><tr><th scope=col>Name</th><th scope=col>Age</th><th scope=col>Graduated</th></tr></thead>\n",
       "<tbody>\n",
       "\t<tr><td>Rish   </td><td>35     </td><td> TRUE  </td></tr>\n",
       "\t<tr><td>William</td><td>18     </td><td>FALSE  </td></tr>\n",
       "\t<tr><td>John   </td><td>53     </td><td>FALSE  </td></tr>\n",
       "\t<tr><td>Sara   </td><td>28     </td><td> TRUE  </td></tr>\n",
       "</tbody>\n",
       "</table>\n"
      ],
      "text/latex": [
       "\\begin{tabular}{r|lll}\n",
       " Name & Age & Graduated\\\\\n",
       "\\hline\n",
       "\t Rish    & 35      &  TRUE  \\\\\n",
       "\t William & 18      & FALSE  \\\\\n",
       "\t John    & 53      & FALSE  \\\\\n",
       "\t Sara    & 28      &  TRUE  \\\\\n",
       "\\end{tabular}\n"
      ],
      "text/markdown": [
       "\n",
       "Name | Age | Graduated | \n",
       "|---|---|---|---|\n",
       "| Rish    | 35      |  TRUE   | \n",
       "| William | 18      | FALSE   | \n",
       "| John    | 53      | FALSE   | \n",
       "| Sara    | 28      |  TRUE   | \n",
       "\n",
       "\n"
      ],
      "text/plain": [
       "  Name    Age Graduated\n",
       "1 Rish    35   TRUE    \n",
       "2 William 18  FALSE    \n",
       "3 John    53  FALSE    \n",
       "4 Sara    28   TRUE    "
      ]
     },
     "metadata": {},
     "output_type": "display_data"
    },
    {
     "name": "stdout",
     "output_type": "stream",
     "text": [
      "'data.frame':\t4 obs. of  3 variables:\n",
      " $ Name     : chr  \"Rish\" \"William\" \"John\" \"Sara\"\n",
      " $ Age      : num  35 18 53 28\n",
      " $ Graduated: logi  TRUE FALSE FALSE TRUE\n"
     ]
    }
   ],
   "source": [
    "# To create a DataFrame\n",
    "# 1. Putting some vectors together using data.frame() function\n",
    "Name = c(\"Rish\", \"William\", \"John\", \"Sara\")\n",
    "Age = c(35, 18, 53, 28)\n",
    "Graduated = c(TRUE, FALSE, FALSE, TRUE)\n",
    "students = data.frame(Name, Age, Graduated, stringsAsFactors = FALSE) # Strings will be stored as factors\n",
    "\n",
    "#data.frame(Name,Age,Graduated)# to create a dataframe\n",
    "\n",
    "students\n",
    "str(students)"
   ]
  },
  {
   "cell_type": "code",
   "execution_count": 16,
   "metadata": {},
   "outputs": [
    {
     "data": {
      "text/html": [
       "<ol class=list-inline>\n",
       "\t<li>4</li>\n",
       "\t<li>3</li>\n",
       "</ol>\n"
      ],
      "text/latex": [
       "\\begin{enumerate*}\n",
       "\\item 4\n",
       "\\item 3\n",
       "\\end{enumerate*}\n"
      ],
      "text/markdown": [
       "1. 4\n",
       "2. 3\n",
       "\n",
       "\n"
      ],
      "text/plain": [
       "[1] 4 3"
      ]
     },
     "metadata": {},
     "output_type": "display_data"
    }
   ],
   "source": [
    "dim(students)"
   ]
  },
  {
   "cell_type": "code",
   "execution_count": 17,
   "metadata": {},
   "outputs": [
    {
     "data": {
      "text/html": [
       "4"
      ],
      "text/latex": [
       "4"
      ],
      "text/markdown": [
       "4"
      ],
      "text/plain": [
       "[1] 4"
      ]
     },
     "metadata": {},
     "output_type": "display_data"
    },
    {
     "data": {
      "text/html": [
       "3"
      ],
      "text/latex": [
       "3"
      ],
      "text/markdown": [
       "3"
      ],
      "text/plain": [
       "[1] 3"
      ]
     },
     "metadata": {},
     "output_type": "display_data"
    }
   ],
   "source": [
    "nrow(students)\n",
    "ncol(students)"
   ]
  },
  {
   "cell_type": "code",
   "execution_count": 18,
   "metadata": {},
   "outputs": [
    {
     "data": {
      "text/html": [
       "<table>\n",
       "<thead><tr><th scope=col>Name</th></tr></thead>\n",
       "<tbody>\n",
       "\t<tr><td>Rish   </td></tr>\n",
       "\t<tr><td>William</td></tr>\n",
       "\t<tr><td>John   </td></tr>\n",
       "\t<tr><td>Sara   </td></tr>\n",
       "</tbody>\n",
       "</table>\n"
      ],
      "text/latex": [
       "\\begin{tabular}{r|l}\n",
       " Name\\\\\n",
       "\\hline\n",
       "\t Rish   \\\\\n",
       "\t William\\\\\n",
       "\t John   \\\\\n",
       "\t Sara   \\\\\n",
       "\\end{tabular}\n"
      ],
      "text/markdown": [
       "\n",
       "Name | \n",
       "|---|---|---|---|\n",
       "| Rish    | \n",
       "| William | \n",
       "| John    | \n",
       "| Sara    | \n",
       "\n",
       "\n"
      ],
      "text/plain": [
       "  Name   \n",
       "1 Rish   \n",
       "2 William\n",
       "3 John   \n",
       "4 Sara   "
      ]
     },
     "metadata": {},
     "output_type": "display_data"
    }
   ],
   "source": [
    "students[1] #shown column 1 only"
   ]
  },
  {
   "cell_type": "code",
   "execution_count": 19,
   "metadata": {},
   "outputs": [
    {
     "data": {
      "text/html": [
       "<table>\n",
       "<thead><tr><th scope=col>Name</th></tr></thead>\n",
       "<tbody>\n",
       "\t<tr><td>Rish   </td></tr>\n",
       "\t<tr><td>William</td></tr>\n",
       "\t<tr><td>John   </td></tr>\n",
       "\t<tr><td>Sara   </td></tr>\n",
       "</tbody>\n",
       "</table>\n"
      ],
      "text/latex": [
       "\\begin{tabular}{r|l}\n",
       " Name\\\\\n",
       "\\hline\n",
       "\t Rish   \\\\\n",
       "\t William\\\\\n",
       "\t John   \\\\\n",
       "\t Sara   \\\\\n",
       "\\end{tabular}\n"
      ],
      "text/markdown": [
       "\n",
       "Name | \n",
       "|---|---|---|---|\n",
       "| Rish    | \n",
       "| William | \n",
       "| John    | \n",
       "| Sara    | \n",
       "\n",
       "\n"
      ],
      "text/plain": [
       "  Name   \n",
       "1 Rish   \n",
       "2 William\n",
       "3 John   \n",
       "4 Sara   "
      ]
     },
     "metadata": {},
     "output_type": "display_data"
    },
    {
     "data": {
      "text/html": [
       "<table>\n",
       "<thead><tr><th scope=col>Name</th><th scope=col>Age</th><th scope=col>Graduated</th></tr></thead>\n",
       "<tbody>\n",
       "\t<tr><td>Rish</td><td>35  </td><td>TRUE</td></tr>\n",
       "</tbody>\n",
       "</table>\n"
      ],
      "text/latex": [
       "\\begin{tabular}{r|lll}\n",
       " Name & Age & Graduated\\\\\n",
       "\\hline\n",
       "\t Rish & 35   & TRUE\\\\\n",
       "\\end{tabular}\n"
      ],
      "text/markdown": [
       "\n",
       "Name | Age | Graduated | \n",
       "|---|\n",
       "| Rish | 35   | TRUE | \n",
       "\n",
       "\n"
      ],
      "text/plain": [
       "  Name Age Graduated\n",
       "1 Rish 35  TRUE     "
      ]
     },
     "metadata": {},
     "output_type": "display_data"
    }
   ],
   "source": [
    "# Selection\n",
    "students[1]\n",
    "students[1,]"
   ]
  },
  {
   "cell_type": "code",
   "execution_count": 20,
   "metadata": {},
   "outputs": [
    {
     "data": {
      "text/html": [
       "'data.frame'"
      ],
      "text/latex": [
       "'data.frame'"
      ],
      "text/markdown": [
       "'data.frame'"
      ],
      "text/plain": [
       "[1] \"data.frame\""
      ]
     },
     "metadata": {},
     "output_type": "display_data"
    },
    {
     "data": {
      "text/html": [
       "'list'"
      ],
      "text/latex": [
       "'list'"
      ],
      "text/markdown": [
       "'list'"
      ],
      "text/plain": [
       "[1] \"list\""
      ]
     },
     "metadata": {},
     "output_type": "display_data"
    }
   ],
   "source": [
    "# # data frames are stored in memory as list but they are wrapped into data.frame objects.\n",
    "class(students)\n",
    "typeof(students) #list can have multiple daata types"
   ]
  },
  {
   "cell_type": "code",
   "execution_count": 22,
   "metadata": {},
   "outputs": [
    {
     "data": {
      "text/html": [
       "FALSE"
      ],
      "text/latex": [
       "FALSE"
      ],
      "text/markdown": [
       "FALSE"
      ],
      "text/plain": [
       "[1] FALSE"
      ]
     },
     "metadata": {},
     "output_type": "display_data"
    }
   ],
   "source": [
    "students[3,3] #check whether john graduated #indexing way"
   ]
  },
  {
   "cell_type": "code",
   "execution_count": 21,
   "metadata": {},
   "outputs": [
    {
     "data": {
      "text/html": [
       "'William'"
      ],
      "text/latex": [
       "'William'"
      ],
      "text/markdown": [
       "'William'"
      ],
      "text/plain": [
       "[1] \"William\""
      ]
     },
     "metadata": {},
     "output_type": "display_data"
    },
    {
     "data": {
      "text/html": [
       "<table>\n",
       "<thead><tr><th></th><th scope=col>Name</th><th scope=col>Graduated</th></tr></thead>\n",
       "<tbody>\n",
       "\t<tr><th scope=row>2</th><td>William</td><td>FALSE  </td></tr>\n",
       "</tbody>\n",
       "</table>\n"
      ],
      "text/latex": [
       "\\begin{tabular}{r|ll}\n",
       "  & Name & Graduated\\\\\n",
       "\\hline\n",
       "\t2 & William & FALSE  \\\\\n",
       "\\end{tabular}\n"
      ],
      "text/markdown": [
       "\n",
       "| <!--/--> | Name | Graduated | \n",
       "|---|\n",
       "| 2 | William | FALSE   | \n",
       "\n",
       "\n"
      ],
      "text/plain": [
       "  Name    Graduated\n",
       "2 William FALSE    "
      ]
     },
     "metadata": {},
     "output_type": "display_data"
    }
   ],
   "source": [
    "students[2, 1]\n",
    "students[2, c(1,3)]"
   ]
  },
  {
   "cell_type": "code",
   "execution_count": 23,
   "metadata": {},
   "outputs": [
    {
     "data": {
      "text/html": [
       "<ol class=list-inline>\n",
       "\t<li>35</li>\n",
       "\t<li>18</li>\n",
       "\t<li>53</li>\n",
       "\t<li>28</li>\n",
       "</ol>\n"
      ],
      "text/latex": [
       "\\begin{enumerate*}\n",
       "\\item 35\n",
       "\\item 18\n",
       "\\item 53\n",
       "\\item 28\n",
       "\\end{enumerate*}\n"
      ],
      "text/markdown": [
       "1. 35\n",
       "2. 18\n",
       "3. 53\n",
       "4. 28\n",
       "\n",
       "\n"
      ],
      "text/plain": [
       "[1] 35 18 53 28"
      ]
     },
     "metadata": {},
     "output_type": "display_data"
    },
    {
     "data": {
      "text/html": [
       "<ol class=list-inline>\n",
       "\t<li>35</li>\n",
       "\t<li>18</li>\n",
       "\t<li>53</li>\n",
       "\t<li>28</li>\n",
       "</ol>\n"
      ],
      "text/latex": [
       "\\begin{enumerate*}\n",
       "\\item 35\n",
       "\\item 18\n",
       "\\item 53\n",
       "\\item 28\n",
       "\\end{enumerate*}\n"
      ],
      "text/markdown": [
       "1. 35\n",
       "2. 18\n",
       "3. 53\n",
       "4. 28\n",
       "\n",
       "\n"
      ],
      "text/plain": [
       "[1] 35 18 53 28"
      ]
     },
     "metadata": {},
     "output_type": "display_data"
    },
    {
     "data": {
      "text/html": [
       "<table>\n",
       "<thead><tr><th scope=col>Age</th></tr></thead>\n",
       "<tbody>\n",
       "\t<tr><td>35</td></tr>\n",
       "\t<tr><td>18</td></tr>\n",
       "\t<tr><td>53</td></tr>\n",
       "\t<tr><td>28</td></tr>\n",
       "</tbody>\n",
       "</table>\n"
      ],
      "text/latex": [
       "\\begin{tabular}{r|l}\n",
       " Age\\\\\n",
       "\\hline\n",
       "\t 35\\\\\n",
       "\t 18\\\\\n",
       "\t 53\\\\\n",
       "\t 28\\\\\n",
       "\\end{tabular}\n"
      ],
      "text/markdown": [
       "\n",
       "Age | \n",
       "|---|---|---|---|\n",
       "| 35 | \n",
       "| 18 | \n",
       "| 53 | \n",
       "| 28 | \n",
       "\n",
       "\n"
      ],
      "text/plain": [
       "  Age\n",
       "1 35 \n",
       "2 18 \n",
       "3 53 \n",
       "4 28 "
      ]
     },
     "metadata": {},
     "output_type": "display_data"
    }
   ],
   "source": [
    "# Column selection\n",
    "students$Age # return vector\n",
    "students[['Age']] # return vector\n",
    "\n",
    "students['Age'] # return list"
   ]
  },
  {
   "cell_type": "code",
   "execution_count": 33,
   "metadata": {},
   "outputs": [
    {
     "name": "stderr",
     "output_type": "stream",
     "text": [
      "Warning message in `[<-.data.frame`(`*tmp*`, , 3, value = structure(list(Name = \"Ardianto\", :\n",
      "\"provided 3 variables to replace 1 variables\""
     ]
    },
    {
     "data": {
      "text/html": [
       "<table>\n",
       "<thead><tr><th scope=col>Name</th><th scope=col>Age</th><th scope=col>Graduated</th></tr></thead>\n",
       "<tbody>\n",
       "\t<tr><td>Rish    </td><td>37      </td><td>Ardianto</td></tr>\n",
       "\t<tr><td>William </td><td>29      </td><td>Ardianto</td></tr>\n",
       "\t<tr><td>Ardianto</td><td>26      </td><td>Ardianto</td></tr>\n",
       "\t<tr><td>Sara    </td><td>19      </td><td>Ardianto</td></tr>\n",
       "</tbody>\n",
       "</table>\n"
      ],
      "text/latex": [
       "\\begin{tabular}{r|lll}\n",
       " Name & Age & Graduated\\\\\n",
       "\\hline\n",
       "\t Rish     & 37       & Ardianto\\\\\n",
       "\t William  & 29       & Ardianto\\\\\n",
       "\t Ardianto & 26       & Ardianto\\\\\n",
       "\t Sara     & 19       & Ardianto\\\\\n",
       "\\end{tabular}\n"
      ],
      "text/markdown": [
       "\n",
       "Name | Age | Graduated | \n",
       "|---|---|---|---|\n",
       "| Rish     | 37       | Ardianto | \n",
       "| William  | 29       | Ardianto | \n",
       "| Ardianto | 26       | Ardianto | \n",
       "| Sara     | 19       | Ardianto | \n",
       "\n",
       "\n"
      ],
      "text/plain": [
       "  Name     Age Graduated\n",
       "1 Rish     37  Ardianto \n",
       "2 William  29  Ardianto \n",
       "3 Ardianto 26  Ardianto \n",
       "4 Sara     19  Ardianto "
      ]
     },
     "metadata": {},
     "output_type": "display_data"
    }
   ],
   "source": [
    "# Change row value\n",
    "students[,3] = list(Name = \"Ardianto\", Age = 26, Graduated = TRUE)\n",
    "students"
   ]
  },
  {
   "cell_type": "code",
   "execution_count": 31,
   "metadata": {},
   "outputs": [
    {
     "data": {
      "text/html": [
       "<table>\n",
       "<thead><tr><th scope=col>Name</th><th scope=col>Age</th><th scope=col>Graduated</th></tr></thead>\n",
       "<tbody>\n",
       "\t<tr><td>Rish    </td><td>37      </td><td>35      </td></tr>\n",
       "\t<tr><td>William </td><td>29      </td><td>33      </td></tr>\n",
       "\t<tr><td>Ardianto</td><td>67      </td><td>21      </td></tr>\n",
       "\t<tr><td>Sara    </td><td>19      </td><td>25      </td></tr>\n",
       "</tbody>\n",
       "</table>\n"
      ],
      "text/latex": [
       "\\begin{tabular}{r|lll}\n",
       " Name & Age & Graduated\\\\\n",
       "\\hline\n",
       "\t Rish     & 37       & 35      \\\\\n",
       "\t William  & 29       & 33      \\\\\n",
       "\t Ardianto & 67       & 21      \\\\\n",
       "\t Sara     & 19       & 25      \\\\\n",
       "\\end{tabular}\n"
      ],
      "text/markdown": [
       "\n",
       "Name | Age | Graduated | \n",
       "|---|---|---|---|\n",
       "| Rish     | 37       | 35       | \n",
       "| William  | 29       | 33       | \n",
       "| Ardianto | 67       | 21       | \n",
       "| Sara     | 19       | 25       | \n",
       "\n",
       "\n"
      ],
      "text/plain": [
       "  Name     Age Graduated\n",
       "1 Rish     37  35       \n",
       "2 William  29  33       \n",
       "3 Ardianto 67  21       \n",
       "4 Sara     19  25       "
      ]
     },
     "metadata": {},
     "output_type": "display_data"
    }
   ],
   "source": [
    "# Change column value\n",
    "students[, 2] = c(37, 29, 67, 19)\n",
    "students"
   ]
  },
  {
   "cell_type": "code",
   "execution_count": 34,
   "metadata": {},
   "outputs": [
    {
     "data": {
      "text/html": [
       "<table>\n",
       "<thead><tr><th scope=col>Name</th><th scope=col>Age</th><th scope=col>Graduated</th></tr></thead>\n",
       "<tbody>\n",
       "\t<tr><td>Rish    </td><td>37      </td><td>TRUE    </td></tr>\n",
       "\t<tr><td>William </td><td>29      </td><td>TRUE    </td></tr>\n",
       "\t<tr><td>Ardianto</td><td>26      </td><td>FALSE   </td></tr>\n",
       "\t<tr><td>Sara    </td><td>19      </td><td>TRUE    </td></tr>\n",
       "</tbody>\n",
       "</table>\n"
      ],
      "text/latex": [
       "\\begin{tabular}{r|lll}\n",
       " Name & Age & Graduated\\\\\n",
       "\\hline\n",
       "\t Rish     & 37       & TRUE    \\\\\n",
       "\t William  & 29       & TRUE    \\\\\n",
       "\t Ardianto & 26       & FALSE   \\\\\n",
       "\t Sara     & 19       & TRUE    \\\\\n",
       "\\end{tabular}\n"
      ],
      "text/markdown": [
       "\n",
       "Name | Age | Graduated | \n",
       "|---|---|---|---|\n",
       "| Rish     | 37       | TRUE     | \n",
       "| William  | 29       | TRUE     | \n",
       "| Ardianto | 26       | FALSE    | \n",
       "| Sara     | 19       | TRUE     | \n",
       "\n",
       "\n"
      ],
      "text/plain": [
       "  Name     Age Graduated\n",
       "1 Rish     37  TRUE     \n",
       "2 William  29  TRUE     \n",
       "3 Ardianto 26  FALSE    \n",
       "4 Sara     19  TRUE     "
      ]
     },
     "metadata": {},
     "output_type": "display_data"
    }
   ],
   "source": [
    "students[,3] = c('TRUE','TRUE','FALSE','TRUE')\n",
    "students"
   ]
  },
  {
   "cell_type": "code",
   "execution_count": 35,
   "metadata": {},
   "outputs": [
    {
     "data": {
      "text/html": [
       "<ol class=list-inline>\n",
       "\t<li>'Name'</li>\n",
       "\t<li>'Age'</li>\n",
       "\t<li>'Graduated'</li>\n",
       "</ol>\n"
      ],
      "text/latex": [
       "\\begin{enumerate*}\n",
       "\\item 'Name'\n",
       "\\item 'Age'\n",
       "\\item 'Graduated'\n",
       "\\end{enumerate*}\n"
      ],
      "text/markdown": [
       "1. 'Name'\n",
       "2. 'Age'\n",
       "3. 'Graduated'\n",
       "\n",
       "\n"
      ],
      "text/plain": [
       "[1] \"Name\"      \"Age\"       \"Graduated\""
      ]
     },
     "metadata": {},
     "output_type": "display_data"
    },
    {
     "data": {
      "text/html": [
       "<ol class=list-inline>\n",
       "\t<li>'Name'</li>\n",
       "\t<li>'Age'</li>\n",
       "\t<li>'Graduated'</li>\n",
       "</ol>\n"
      ],
      "text/latex": [
       "\\begin{enumerate*}\n",
       "\\item 'Name'\n",
       "\\item 'Age'\n",
       "\\item 'Graduated'\n",
       "\\end{enumerate*}\n"
      ],
      "text/markdown": [
       "1. 'Name'\n",
       "2. 'Age'\n",
       "3. 'Graduated'\n",
       "\n",
       "\n"
      ],
      "text/plain": [
       "[1] \"Name\"      \"Age\"       \"Graduated\""
      ]
     },
     "metadata": {},
     "output_type": "display_data"
    }
   ],
   "source": [
    "names(students)\n",
    "colnames(students)"
   ]
  },
  {
   "cell_type": "code",
   "execution_count": 40,
   "metadata": {},
   "outputs": [
    {
     "ename": "ERROR",
     "evalue": "Error in `rownames<-`(`*tmp*`, value = c(\"a\", \"b\", \"c\", \"d\")): attempt to set 'rownames' on an object with no dimensions\n",
     "output_type": "error",
     "traceback": [
      "Error in `rownames<-`(`*tmp*`, value = c(\"a\", \"b\", \"c\", \"d\")): attempt to set 'rownames' on an object with no dimensions\nTraceback:\n",
      "1. `rownames<-`(`*tmp*`, value = c(\"a\", \"b\", \"c\", \"d\"))",
      "2. stop(\"attempt to set 'rownames' on an object with no dimensions\")"
     ]
    }
   ],
   "source": [
    "rownames(Name) = c('a','b','c','d')\n",
    "Name['a']"
   ]
  },
  {
   "cell_type": "code",
   "execution_count": 37,
   "metadata": {},
   "outputs": [
    {
     "data": {
      "text/html": [
       "<table>\n",
       "<thead><tr><th scope=col>Name2</th><th scope=col>Age2</th><th scope=col>Graduated2</th></tr></thead>\n",
       "<tbody>\n",
       "\t<tr><td>Rish    </td><td>37      </td><td>TRUE    </td></tr>\n",
       "\t<tr><td>William </td><td>29      </td><td>TRUE    </td></tr>\n",
       "\t<tr><td>Ardianto</td><td>26      </td><td>FALSE   </td></tr>\n",
       "\t<tr><td>Sara    </td><td>19      </td><td>TRUE    </td></tr>\n",
       "</tbody>\n",
       "</table>\n"
      ],
      "text/latex": [
       "\\begin{tabular}{r|lll}\n",
       " Name2 & Age2 & Graduated2\\\\\n",
       "\\hline\n",
       "\t Rish     & 37       & TRUE    \\\\\n",
       "\t William  & 29       & TRUE    \\\\\n",
       "\t Ardianto & 26       & FALSE   \\\\\n",
       "\t Sara     & 19       & TRUE    \\\\\n",
       "\\end{tabular}\n"
      ],
      "text/markdown": [
       "\n",
       "Name2 | Age2 | Graduated2 | \n",
       "|---|---|---|---|\n",
       "| Rish     | 37       | TRUE     | \n",
       "| William  | 29       | TRUE     | \n",
       "| Ardianto | 26       | FALSE    | \n",
       "| Sara     | 19       | TRUE     | \n",
       "\n",
       "\n"
      ],
      "text/plain": [
       "  Name2    Age2 Graduated2\n",
       "1 Rish     37   TRUE      \n",
       "2 William  29   TRUE      \n",
       "3 Ardianto 26   FALSE     \n",
       "4 Sara     19   TRUE      "
      ]
     },
     "metadata": {},
     "output_type": "display_data"
    }
   ],
   "source": [
    "# rename column\n",
    "colnames(students) = c('Name2','Age2','Graduated2')\n",
    "students\n",
    "\n",
    "colnames(students) = c('Name','Age','Graduated')"
   ]
  },
  {
   "cell_type": "markdown",
   "metadata": {},
   "source": [
    "### 5.1. How to extend?\n",
    "\n",
    "#### 5.1.1. Adding a column"
   ]
  },
  {
   "cell_type": "code",
   "execution_count": 41,
   "metadata": {},
   "outputs": [
    {
     "data": {
      "text/html": [
       "<table>\n",
       "<thead><tr><th></th><th scope=col>Name</th><th scope=col>Age</th><th scope=col>Graduated</th><th scope=col>Height</th></tr></thead>\n",
       "<tbody>\n",
       "\t<tr><th scope=row>a</th><td>Rish    </td><td>37      </td><td>TRUE    </td><td>177     </td></tr>\n",
       "\t<tr><th scope=row>b</th><td>William </td><td>29      </td><td>TRUE    </td><td>162     </td></tr>\n",
       "\t<tr><th scope=row>c</th><td>Ardianto</td><td>26      </td><td>FALSE   </td><td>168     </td></tr>\n",
       "\t<tr><th scope=row>d</th><td>Sara    </td><td>19      </td><td>TRUE    </td><td>170     </td></tr>\n",
       "</tbody>\n",
       "</table>\n"
      ],
      "text/latex": [
       "\\begin{tabular}{r|llll}\n",
       "  & Name & Age & Graduated & Height\\\\\n",
       "\\hline\n",
       "\ta & Rish     & 37       & TRUE     & 177     \\\\\n",
       "\tb & William  & 29       & TRUE     & 162     \\\\\n",
       "\tc & Ardianto & 26       & FALSE    & 168     \\\\\n",
       "\td & Sara     & 19       & TRUE     & 170     \\\\\n",
       "\\end{tabular}\n"
      ],
      "text/markdown": [
       "\n",
       "| <!--/--> | Name | Age | Graduated | Height | \n",
       "|---|---|---|---|\n",
       "| a | Rish     | 37       | TRUE     | 177      | \n",
       "| b | William  | 29       | TRUE     | 162      | \n",
       "| c | Ardianto | 26       | FALSE    | 168      | \n",
       "| d | Sara     | 19       | TRUE     | 170      | \n",
       "\n",
       "\n"
      ],
      "text/plain": [
       "  Name     Age Graduated Height\n",
       "a Rish     37  TRUE      177   \n",
       "b William  29  TRUE      162   \n",
       "c Ardianto 26  FALSE     168   \n",
       "d Sara     19  TRUE      170   "
      ]
     },
     "metadata": {},
     "output_type": "display_data"
    }
   ],
   "source": [
    "height = c(177, 162, 168, 170)\n",
    "\n",
    "students$Height = height #sort of append\n",
    "students"
   ]
  },
  {
   "cell_type": "code",
   "execution_count": 42,
   "metadata": {},
   "outputs": [
    {
     "data": {
      "text/html": [
       "<table>\n",
       "<thead><tr><th></th><th scope=col>Name</th><th scope=col>Age</th><th scope=col>Graduated</th><th scope=col>Height</th><th scope=col>Weight</th></tr></thead>\n",
       "<tbody>\n",
       "\t<tr><th scope=row>a</th><td>Rish    </td><td>37      </td><td>TRUE    </td><td>177     </td><td>83      </td></tr>\n",
       "\t<tr><th scope=row>b</th><td>William </td><td>29      </td><td>TRUE    </td><td>162     </td><td>60      </td></tr>\n",
       "\t<tr><th scope=row>c</th><td>Ardianto</td><td>26      </td><td>FALSE   </td><td>168     </td><td>75      </td></tr>\n",
       "\t<tr><th scope=row>d</th><td>Sara    </td><td>19      </td><td>TRUE    </td><td>170     </td><td>80      </td></tr>\n",
       "</tbody>\n",
       "</table>\n"
      ],
      "text/latex": [
       "\\begin{tabular}{r|lllll}\n",
       "  & Name & Age & Graduated & Height & Weight\\\\\n",
       "\\hline\n",
       "\ta & Rish     & 37       & TRUE     & 177      & 83      \\\\\n",
       "\tb & William  & 29       & TRUE     & 162      & 60      \\\\\n",
       "\tc & Ardianto & 26       & FALSE    & 168      & 75      \\\\\n",
       "\td & Sara     & 19       & TRUE     & 170      & 80      \\\\\n",
       "\\end{tabular}\n"
      ],
      "text/markdown": [
       "\n",
       "| <!--/--> | Name | Age | Graduated | Height | Weight | \n",
       "|---|---|---|---|\n",
       "| a | Rish     | 37       | TRUE     | 177      | 83       | \n",
       "| b | William  | 29       | TRUE     | 162      | 60       | \n",
       "| c | Ardianto | 26       | FALSE    | 168      | 75       | \n",
       "| d | Sara     | 19       | TRUE     | 170      | 80       | \n",
       "\n",
       "\n"
      ],
      "text/plain": [
       "  Name     Age Graduated Height Weight\n",
       "a Rish     37  TRUE      177    83    \n",
       "b William  29  TRUE      162    60    \n",
       "c Ardianto 26  FALSE     168    75    \n",
       "d Sara     19  TRUE      170    80    "
      ]
     },
     "metadata": {},
     "output_type": "display_data"
    }
   ],
   "source": [
    "Weight = c(83, 60, 75, 80)\n",
    "students = cbind(students, Weight) #cbind(dframe,thing you want to add)\n",
    "\n",
    "students"
   ]
  },
  {
   "cell_type": "markdown",
   "metadata": {},
   "source": [
    "#### 5.1.2. Adding an observation (row)"
   ]
  },
  {
   "cell_type": "code",
   "execution_count": 43,
   "metadata": {},
   "outputs": [
    {
     "data": {
      "text/html": [
       "<table>\n",
       "<thead><tr><th></th><th scope=col>Name</th><th scope=col>Age</th><th scope=col>Graduated</th><th scope=col>Height</th><th scope=col>Weight</th></tr></thead>\n",
       "<tbody>\n",
       "\t<tr><th scope=row>a</th><td>Rish    </td><td>37      </td><td>TRUE    </td><td>177     </td><td>83      </td></tr>\n",
       "\t<tr><th scope=row>b</th><td>William </td><td>29      </td><td>TRUE    </td><td>162     </td><td>60      </td></tr>\n",
       "\t<tr><th scope=row>c</th><td>Ardianto</td><td>26      </td><td>FALSE   </td><td>168     </td><td>75      </td></tr>\n",
       "\t<tr><th scope=row>d</th><td>Sara    </td><td>19      </td><td>TRUE    </td><td>170     </td><td>80      </td></tr>\n",
       "\t<tr><th scope=row>1</th><td>Ali     </td><td>21      </td><td>FALSE   </td><td>169     </td><td>68      </td></tr>\n",
       "\t<tr><th scope=row>11</th><td>Marcus  </td><td>24      </td><td>TRUE    </td><td>173     </td><td>75      </td></tr>\n",
       "</tbody>\n",
       "</table>\n"
      ],
      "text/latex": [
       "\\begin{tabular}{r|lllll}\n",
       "  & Name & Age & Graduated & Height & Weight\\\\\n",
       "\\hline\n",
       "\ta & Rish     & 37       & TRUE     & 177      & 83      \\\\\n",
       "\tb & William  & 29       & TRUE     & 162      & 60      \\\\\n",
       "\tc & Ardianto & 26       & FALSE    & 168      & 75      \\\\\n",
       "\td & Sara     & 19       & TRUE     & 170      & 80      \\\\\n",
       "\t1 & Ali      & 21       & FALSE    & 169      & 68      \\\\\n",
       "\t11 & Marcus   & 24       & TRUE     & 173      & 75      \\\\\n",
       "\\end{tabular}\n"
      ],
      "text/markdown": [
       "\n",
       "| <!--/--> | Name | Age | Graduated | Height | Weight | \n",
       "|---|---|---|---|---|---|\n",
       "| a | Rish     | 37       | TRUE     | 177      | 83       | \n",
       "| b | William  | 29       | TRUE     | 162      | 60       | \n",
       "| c | Ardianto | 26       | FALSE    | 168      | 75       | \n",
       "| d | Sara     | 19       | TRUE     | 170      | 80       | \n",
       "| 1 | Ali      | 21       | FALSE    | 169      | 68       | \n",
       "| 11 | Marcus   | 24       | TRUE     | 173      | 75       | \n",
       "\n",
       "\n"
      ],
      "text/plain": [
       "   Name     Age Graduated Height Weight\n",
       "a  Rish     37  TRUE      177    83    \n",
       "b  William  29  TRUE      162    60    \n",
       "c  Ardianto 26  FALSE     168    75    \n",
       "d  Sara     19  TRUE      170    80    \n",
       "1  Ali      21  FALSE     169    68    \n",
       "11 Marcus   24  TRUE      173    75    "
      ]
     },
     "metadata": {},
     "output_type": "display_data"
    }
   ],
   "source": [
    "ali = data.frame(Name = \"Ali\" , Age = 21, Graduated = FALSE, Height = 169, Weight = 68)\n",
    "students = rbind(students, ali)\n",
    "\n",
    "marcus = data.frame(Name = \"Marcus\" , Age = 24, Graduated = TRUE, Height = 173, Weight = 75)\n",
    "students = rbind(students, marcus)\n",
    "\n",
    "students"
   ]
  },
  {
   "cell_type": "code",
   "execution_count": 46,
   "metadata": {},
   "outputs": [
    {
     "data": {
      "text/html": [
       "<table>\n",
       "<thead><tr><th></th><th scope=col>Name</th><th scope=col>Age</th><th scope=col>Graduated</th><th scope=col>Height</th><th scope=col>Weight</th></tr></thead>\n",
       "<tbody>\n",
       "\t<tr><th scope=row>a</th><td>Rish    </td><td>37      </td><td>TRUE    </td><td>177     </td><td>83      </td></tr>\n",
       "\t<tr><th scope=row>b</th><td>William </td><td>29      </td><td>TRUE    </td><td>162     </td><td>60      </td></tr>\n",
       "\t<tr><th scope=row>c</th><td>Ardianto</td><td>26      </td><td>FALSE   </td><td>168     </td><td>75      </td></tr>\n",
       "</tbody>\n",
       "</table>\n"
      ],
      "text/latex": [
       "\\begin{tabular}{r|lllll}\n",
       "  & Name & Age & Graduated & Height & Weight\\\\\n",
       "\\hline\n",
       "\ta & Rish     & 37       & TRUE     & 177      & 83      \\\\\n",
       "\tb & William  & 29       & TRUE     & 162      & 60      \\\\\n",
       "\tc & Ardianto & 26       & FALSE    & 168      & 75      \\\\\n",
       "\\end{tabular}\n"
      ],
      "text/markdown": [
       "\n",
       "| <!--/--> | Name | Age | Graduated | Height | Weight | \n",
       "|---|---|---|\n",
       "| a | Rish     | 37       | TRUE     | 177      | 83       | \n",
       "| b | William  | 29       | TRUE     | 162      | 60       | \n",
       "| c | Ardianto | 26       | FALSE    | 168      | 75       | \n",
       "\n",
       "\n"
      ],
      "text/plain": [
       "  Name     Age Graduated Height Weight\n",
       "a Rish     37  TRUE      177    83    \n",
       "b William  29  TRUE      162    60    \n",
       "c Ardianto 26  FALSE     168    75    "
      ]
     },
     "metadata": {},
     "output_type": "display_data"
    }
   ],
   "source": [
    "# remove rows\n",
    "students = students[-c(4, 5),]\n",
    "students"
   ]
  },
  {
   "cell_type": "markdown",
   "metadata": {},
   "source": [
    "## <font color=Green><b>Exercise:</b></font>\n",
    "- Create a dataframe of your friends (at least 5 attributes)"
   ]
  },
  {
   "cell_type": "code",
   "execution_count": 61,
   "metadata": {
    "scrolled": false
   },
   "outputs": [
    {
     "data": {
      "text/html": [
       "<table>\n",
       "<thead><tr><th scope=col>Name</th><th scope=col>Age</th><th scope=col>Graduated</th></tr></thead>\n",
       "<tbody>\n",
       "\t<tr><td>Ah Wei  </td><td>35+0i   </td><td> TRUE   </td></tr>\n",
       "\t<tr><td>Fadhli  </td><td>23+0i   </td><td>FALSE   </td></tr>\n",
       "\t<tr><td>Raqif   </td><td>23+0i   </td><td>FALSE   </td></tr>\n",
       "\t<tr><td>Irfan   </td><td>25+0i   </td><td> TRUE   </td></tr>\n",
       "\t<tr><td>Kevin   </td><td>30+0i   </td><td> TRUE   </td></tr>\n",
       "\t<tr><td>Izhar   </td><td>42+0i   </td><td> TRUE   </td></tr>\n",
       "\t<tr><td>Facebook</td><td> 0+4i   </td><td>FALSE   </td></tr>\n",
       "</tbody>\n",
       "</table>\n"
      ],
      "text/latex": [
       "\\begin{tabular}{r|lll}\n",
       " Name & Age & Graduated\\\\\n",
       "\\hline\n",
       "\t Ah Wei   & 35+0i    &  TRUE   \\\\\n",
       "\t Fadhli   & 23+0i    & FALSE   \\\\\n",
       "\t Raqif    & 23+0i    & FALSE   \\\\\n",
       "\t Irfan    & 25+0i    &  TRUE   \\\\\n",
       "\t Kevin    & 30+0i    &  TRUE   \\\\\n",
       "\t Izhar    & 42+0i    &  TRUE   \\\\\n",
       "\t Facebook &  0+4i    & FALSE   \\\\\n",
       "\\end{tabular}\n"
      ],
      "text/markdown": [
       "\n",
       "Name | Age | Graduated | \n",
       "|---|---|---|---|---|---|---|\n",
       "| Ah Wei   | 35+0i    |  TRUE    | \n",
       "| Fadhli   | 23+0i    | FALSE    | \n",
       "| Raqif    | 23+0i    | FALSE    | \n",
       "| Irfan    | 25+0i    |  TRUE    | \n",
       "| Kevin    | 30+0i    |  TRUE    | \n",
       "| Izhar    | 42+0i    |  TRUE    | \n",
       "| Facebook |  0+4i    | FALSE    | \n",
       "\n",
       "\n"
      ],
      "text/plain": [
       "  Name     Age   Graduated\n",
       "1 Ah Wei   35+0i  TRUE    \n",
       "2 Fadhli   23+0i FALSE    \n",
       "3 Raqif    23+0i FALSE    \n",
       "4 Irfan    25+0i  TRUE    \n",
       "5 Kevin    30+0i  TRUE    \n",
       "6 Izhar    42+0i  TRUE    \n",
       "7 Facebook  0+4i FALSE    "
      ]
     },
     "metadata": {},
     "output_type": "display_data"
    },
    {
     "data": {
      "text/html": [
       "<table>\n",
       "<thead><tr><th scope=col>Name</th></tr></thead>\n",
       "<tbody>\n",
       "\t<tr><td>Ah Wei  </td></tr>\n",
       "\t<tr><td>Fadhli  </td></tr>\n",
       "\t<tr><td>Raqif   </td></tr>\n",
       "\t<tr><td>Irfan   </td></tr>\n",
       "\t<tr><td>Kevin   </td></tr>\n",
       "\t<tr><td>Izhar   </td></tr>\n",
       "\t<tr><td>Facebook</td></tr>\n",
       "</tbody>\n",
       "</table>\n"
      ],
      "text/latex": [
       "\\begin{tabular}{r|l}\n",
       " Name\\\\\n",
       "\\hline\n",
       "\t Ah Wei  \\\\\n",
       "\t Fadhli  \\\\\n",
       "\t Raqif   \\\\\n",
       "\t Irfan   \\\\\n",
       "\t Kevin   \\\\\n",
       "\t Izhar   \\\\\n",
       "\t Facebook\\\\\n",
       "\\end{tabular}\n"
      ],
      "text/markdown": [
       "\n",
       "Name | \n",
       "|---|---|---|---|---|---|---|\n",
       "| Ah Wei   | \n",
       "| Fadhli   | \n",
       "| Raqif    | \n",
       "| Irfan    | \n",
       "| Kevin    | \n",
       "| Izhar    | \n",
       "| Facebook | \n",
       "\n",
       "\n"
      ],
      "text/plain": [
       "  Name    \n",
       "1 Ah Wei  \n",
       "2 Fadhli  \n",
       "3 Raqif   \n",
       "4 Irfan   \n",
       "5 Kevin   \n",
       "6 Izhar   \n",
       "7 Facebook"
      ]
     },
     "metadata": {},
     "output_type": "display_data"
    }
   ],
   "source": [
    "Name = c(\"Ah Wei\", \"Fadhli\", \"Raqif\", \"Irfan\",'Kevin','Izhar','Facebook')\n",
    "Age = c(35, 23, 23, 25,30,42,4i)\n",
    "Graduated = c(TRUE, FALSE, FALSE, TRUE,TRUE,TRUE,FALSE)\n",
    "friends = data.frame(Name, Age, Graduated) # Strings will be stored as factors\n",
    "\n",
    "friends \n",
    "friends[1]"
   ]
  },
  {
   "cell_type": "markdown",
   "metadata": {},
   "source": [
    "### 5.2. Subsetting (Must know)\n",
    "- Select and exclude variables and observations."
   ]
  },
  {
   "cell_type": "code",
   "execution_count": 65,
   "metadata": {},
   "outputs": [
    {
     "data": {
      "text/html": [
       "<table>\n",
       "<thead><tr><th></th><th scope=col>Name</th><th scope=col>Age</th><th scope=col>Graduated</th><th scope=col>Height</th><th scope=col>Weight</th></tr></thead>\n",
       "<tbody>\n",
       "\t<tr><th scope=row>a</th><td>Rish    </td><td>37      </td><td>TRUE    </td><td>177     </td><td>83      </td></tr>\n",
       "\t<tr><th scope=row>b</th><td>William </td><td>29      </td><td>TRUE    </td><td>162     </td><td>60      </td></tr>\n",
       "\t<tr><th scope=row>c</th><td>Ardianto</td><td>26      </td><td>FALSE   </td><td>168     </td><td>75      </td></tr>\n",
       "</tbody>\n",
       "</table>\n"
      ],
      "text/latex": [
       "\\begin{tabular}{r|lllll}\n",
       "  & Name & Age & Graduated & Height & Weight\\\\\n",
       "\\hline\n",
       "\ta & Rish     & 37       & TRUE     & 177      & 83      \\\\\n",
       "\tb & William  & 29       & TRUE     & 162      & 60      \\\\\n",
       "\tc & Ardianto & 26       & FALSE    & 168      & 75      \\\\\n",
       "\\end{tabular}\n"
      ],
      "text/markdown": [
       "\n",
       "| <!--/--> | Name | Age | Graduated | Height | Weight | \n",
       "|---|---|---|\n",
       "| a | Rish     | 37       | TRUE     | 177      | 83       | \n",
       "| b | William  | 29       | TRUE     | 162      | 60       | \n",
       "| c | Ardianto | 26       | FALSE    | 168      | 75       | \n",
       "\n",
       "\n"
      ],
      "text/plain": [
       "  Name     Age Graduated Height Weight\n",
       "a Rish     37  TRUE      177    83    \n",
       "b William  29  TRUE      162    60    \n",
       "c Ardianto 26  FALSE     168    75    "
      ]
     },
     "metadata": {},
     "output_type": "display_data"
    },
    {
     "data": {
      "text/html": [
       "<ol class=list-inline>\n",
       "\t<li>TRUE</li>\n",
       "\t<li>TRUE</li>\n",
       "\t<li>FALSE</li>\n",
       "</ol>\n"
      ],
      "text/latex": [
       "\\begin{enumerate*}\n",
       "\\item TRUE\n",
       "\\item TRUE\n",
       "\\item FALSE\n",
       "\\end{enumerate*}\n"
      ],
      "text/markdown": [
       "1. TRUE\n",
       "2. TRUE\n",
       "3. FALSE\n",
       "\n",
       "\n"
      ],
      "text/plain": [
       "[1]  TRUE  TRUE FALSE"
      ]
     },
     "metadata": {},
     "output_type": "display_data"
    }
   ],
   "source": [
    "students\n",
    "students$Graduated == TRUE"
   ]
  },
  {
   "cell_type": "code",
   "execution_count": 63,
   "metadata": {},
   "outputs": [
    {
     "data": {
      "text/html": [
       "<table>\n",
       "<thead><tr><th></th><th scope=col>Name</th><th scope=col>Name.1</th><th scope=col>Name.2</th><th scope=col>Name.3</th><th scope=col>Name.4</th><th scope=col>Name.5</th><th scope=col>Name.6</th></tr></thead>\n",
       "<tbody>\n",
       "\t<tr><th scope=row>a</th><td>Rish    </td><td>Rish    </td><td>Rish    </td><td>Rish    </td><td>Rish    </td><td>Rish    </td><td>Rish    </td></tr>\n",
       "\t<tr><th scope=row>b</th><td>William </td><td>William </td><td>William </td><td>William </td><td>William </td><td>William </td><td>William </td></tr>\n",
       "\t<tr><th scope=row>c</th><td>Ardianto</td><td>Ardianto</td><td>Ardianto</td><td>Ardianto</td><td>Ardianto</td><td>Ardianto</td><td>Ardianto</td></tr>\n",
       "</tbody>\n",
       "</table>\n"
      ],
      "text/latex": [
       "\\begin{tabular}{r|lllllll}\n",
       "  & Name & Name.1 & Name.2 & Name.3 & Name.4 & Name.5 & Name.6\\\\\n",
       "\\hline\n",
       "\ta & Rish     & Rish     & Rish     & Rish     & Rish     & Rish     & Rish    \\\\\n",
       "\tb & William  & William  & William  & William  & William  & William  & William \\\\\n",
       "\tc & Ardianto & Ardianto & Ardianto & Ardianto & Ardianto & Ardianto & Ardianto\\\\\n",
       "\\end{tabular}\n"
      ],
      "text/markdown": [
       "\n",
       "| <!--/--> | Name | Name.1 | Name.2 | Name.3 | Name.4 | Name.5 | Name.6 | \n",
       "|---|---|---|\n",
       "| a | Rish     | Rish     | Rish     | Rish     | Rish     | Rish     | Rish     | \n",
       "| b | William  | William  | William  | William  | William  | William  | William  | \n",
       "| c | Ardianto | Ardianto | Ardianto | Ardianto | Ardianto | Ardianto | Ardianto | \n",
       "\n",
       "\n"
      ],
      "text/plain": [
       "  Name     Name.1   Name.2   Name.3   Name.4   Name.5   Name.6  \n",
       "a Rish     Rish     Rish     Rish     Rish     Rish     Rish    \n",
       "b William  William  William  William  William  William  William \n",
       "c Ardianto Ardianto Ardianto Ardianto Ardianto Ardianto Ardianto"
      ]
     },
     "metadata": {},
     "output_type": "display_data"
    }
   ],
   "source": [
    "students[,c(1,1,1,1,1,1,1)]"
   ]
  },
  {
   "cell_type": "code",
   "execution_count": 66,
   "metadata": {},
   "outputs": [
    {
     "data": {
      "text/html": [
       "<table>\n",
       "<thead><tr><th></th><th scope=col>Name</th><th scope=col>Age</th><th scope=col>Graduated</th><th scope=col>Height</th><th scope=col>Weight</th></tr></thead>\n",
       "<tbody>\n",
       "\t<tr><th scope=row>a</th><td>Rish    </td><td>37      </td><td>TRUE    </td><td>177     </td><td>83      </td></tr>\n",
       "\t<tr><th scope=row>a.1</th><td>Rish    </td><td>37      </td><td>TRUE    </td><td>177     </td><td>83      </td></tr>\n",
       "\t<tr><th scope=row>b</th><td>William </td><td>29      </td><td>TRUE    </td><td>162     </td><td>60      </td></tr>\n",
       "\t<tr><th scope=row>b.1</th><td>William </td><td>29      </td><td>TRUE    </td><td>162     </td><td>60      </td></tr>\n",
       "\t<tr><th scope=row>c</th><td>Ardianto</td><td>26      </td><td>FALSE   </td><td>168     </td><td>75      </td></tr>\n",
       "\t<tr><th scope=row>c.1</th><td>Ardianto</td><td>26      </td><td>FALSE   </td><td>168     </td><td>75      </td></tr>\n",
       "</tbody>\n",
       "</table>\n"
      ],
      "text/latex": [
       "\\begin{tabular}{r|lllll}\n",
       "  & Name & Age & Graduated & Height & Weight\\\\\n",
       "\\hline\n",
       "\ta & Rish     & 37       & TRUE     & 177      & 83      \\\\\n",
       "\ta.1 & Rish     & 37       & TRUE     & 177      & 83      \\\\\n",
       "\tb & William  & 29       & TRUE     & 162      & 60      \\\\\n",
       "\tb.1 & William  & 29       & TRUE     & 162      & 60      \\\\\n",
       "\tc & Ardianto & 26       & FALSE    & 168      & 75      \\\\\n",
       "\tc.1 & Ardianto & 26       & FALSE    & 168      & 75      \\\\\n",
       "\\end{tabular}\n"
      ],
      "text/markdown": [
       "\n",
       "| <!--/--> | Name | Age | Graduated | Height | Weight | \n",
       "|---|---|---|---|---|---|\n",
       "| a | Rish     | 37       | TRUE     | 177      | 83       | \n",
       "| a.1 | Rish     | 37       | TRUE     | 177      | 83       | \n",
       "| b | William  | 29       | TRUE     | 162      | 60       | \n",
       "| b.1 | William  | 29       | TRUE     | 162      | 60       | \n",
       "| c | Ardianto | 26       | FALSE    | 168      | 75       | \n",
       "| c.1 | Ardianto | 26       | FALSE    | 168      | 75       | \n",
       "\n",
       "\n"
      ],
      "text/plain": [
       "    Name     Age Graduated Height Weight\n",
       "a   Rish     37  TRUE      177    83    \n",
       "a.1 Rish     37  TRUE      177    83    \n",
       "b   William  29  TRUE      162    60    \n",
       "b.1 William  29  TRUE      162    60    \n",
       "c   Ardianto 26  FALSE     168    75    \n",
       "c.1 Ardianto 26  FALSE     168    75    "
      ]
     },
     "metadata": {},
     "output_type": "display_data"
    }
   ],
   "source": [
    "students[c(1,1,2,2,3,3),]"
   ]
  },
  {
   "cell_type": "code",
   "execution_count": 67,
   "metadata": {},
   "outputs": [
    {
     "data": {
      "text/html": [
       "<ol class=list-inline>\n",
       "\t<li>TRUE</li>\n",
       "\t<li>TRUE</li>\n",
       "\t<li>FALSE</li>\n",
       "</ol>\n"
      ],
      "text/latex": [
       "\\begin{enumerate*}\n",
       "\\item TRUE\n",
       "\\item TRUE\n",
       "\\item FALSE\n",
       "\\end{enumerate*}\n"
      ],
      "text/markdown": [
       "1. TRUE\n",
       "2. TRUE\n",
       "3. FALSE\n",
       "\n",
       "\n"
      ],
      "text/plain": [
       "[1]  TRUE  TRUE FALSE"
      ]
     },
     "metadata": {},
     "output_type": "display_data"
    }
   ],
   "source": [
    "gratuated_student = students$Graduated == TRUE\n",
    "gratuated_student"
   ]
  },
  {
   "cell_type": "code",
   "execution_count": 68,
   "metadata": {},
   "outputs": [
    {
     "data": {
      "text/html": [
       "<table>\n",
       "<thead><tr><th></th><th scope=col>Name</th><th scope=col>Age</th><th scope=col>Graduated</th><th scope=col>Height</th><th scope=col>Weight</th></tr></thead>\n",
       "<tbody>\n",
       "\t<tr><th scope=row>a</th><td>Rish   </td><td>37     </td><td>TRUE   </td><td>177    </td><td>83     </td></tr>\n",
       "\t<tr><th scope=row>b</th><td>William</td><td>29     </td><td>TRUE   </td><td>162    </td><td>60     </td></tr>\n",
       "</tbody>\n",
       "</table>\n"
      ],
      "text/latex": [
       "\\begin{tabular}{r|lllll}\n",
       "  & Name & Age & Graduated & Height & Weight\\\\\n",
       "\\hline\n",
       "\ta & Rish    & 37      & TRUE    & 177     & 83     \\\\\n",
       "\tb & William & 29      & TRUE    & 162     & 60     \\\\\n",
       "\\end{tabular}\n"
      ],
      "text/markdown": [
       "\n",
       "| <!--/--> | Name | Age | Graduated | Height | Weight | \n",
       "|---|---|\n",
       "| a | Rish    | 37      | TRUE    | 177     | 83      | \n",
       "| b | William | 29      | TRUE    | 162     | 60      | \n",
       "\n",
       "\n"
      ],
      "text/plain": [
       "  Name    Age Graduated Height Weight\n",
       "a Rish    37  TRUE      177    83    \n",
       "b William 29  TRUE      162    60    "
      ]
     },
     "metadata": {},
     "output_type": "display_data"
    }
   ],
   "source": [
    "students[gratuated_student,]"
   ]
  },
  {
   "cell_type": "code",
   "execution_count": 69,
   "metadata": {},
   "outputs": [
    {
     "data": {
      "text/html": [
       "<table>\n",
       "<thead><tr><th></th><th scope=col>Name</th><th scope=col>Age</th></tr></thead>\n",
       "<tbody>\n",
       "\t<tr><th scope=row>a</th><td>Rish   </td><td>37     </td></tr>\n",
       "\t<tr><th scope=row>b</th><td>William</td><td>29     </td></tr>\n",
       "</tbody>\n",
       "</table>\n"
      ],
      "text/latex": [
       "\\begin{tabular}{r|ll}\n",
       "  & Name & Age\\\\\n",
       "\\hline\n",
       "\ta & Rish    & 37     \\\\\n",
       "\tb & William & 29     \\\\\n",
       "\\end{tabular}\n"
      ],
      "text/markdown": [
       "\n",
       "| <!--/--> | Name | Age | \n",
       "|---|---|\n",
       "| a | Rish    | 37      | \n",
       "| b | William | 29      | \n",
       "\n",
       "\n"
      ],
      "text/plain": [
       "  Name    Age\n",
       "a Rish    37 \n",
       "b William 29 "
      ]
     },
     "metadata": {},
     "output_type": "display_data"
    }
   ],
   "source": [
    "students[gratuated_student,c(1,2)]"
   ]
  },
  {
   "cell_type": "markdown",
   "metadata": {},
   "source": [
    "### 5.2. Order and Sort"
   ]
  },
  {
   "cell_type": "code",
   "execution_count": 70,
   "metadata": {},
   "outputs": [
    {
     "data": {
      "text/html": [
       "<ol class=list-inline>\n",
       "\t<li>3</li>\n",
       "\t<li>2</li>\n",
       "\t<li>1</li>\n",
       "</ol>\n"
      ],
      "text/latex": [
       "\\begin{enumerate*}\n",
       "\\item 3\n",
       "\\item 2\n",
       "\\item 1\n",
       "\\end{enumerate*}\n"
      ],
      "text/markdown": [
       "1. 3\n",
       "2. 2\n",
       "3. 1\n",
       "\n",
       "\n"
      ],
      "text/plain": [
       "[1] 3 2 1"
      ]
     },
     "metadata": {},
     "output_type": "display_data"
    }
   ],
   "source": [
    "order(students$Age)\n",
    "# students[order(students$Age),]"
   ]
  },
  {
   "cell_type": "code",
   "execution_count": 71,
   "metadata": {},
   "outputs": [
    {
     "data": {
      "text/html": [
       "<ol class=list-inline>\n",
       "\t<li>26</li>\n",
       "\t<li>29</li>\n",
       "\t<li>37</li>\n",
       "</ol>\n"
      ],
      "text/latex": [
       "\\begin{enumerate*}\n",
       "\\item 26\n",
       "\\item 29\n",
       "\\item 37\n",
       "\\end{enumerate*}\n"
      ],
      "text/markdown": [
       "1. 26\n",
       "2. 29\n",
       "3. 37\n",
       "\n",
       "\n"
      ],
      "text/plain": [
       "[1] 26 29 37"
      ]
     },
     "metadata": {},
     "output_type": "display_data"
    }
   ],
   "source": [
    "sort(students$Age)"
   ]
  },
  {
   "cell_type": "markdown",
   "metadata": {},
   "source": [
    "R comes with some built-in data frames helping us to enhance our analysis skills.\n",
    "<br>Try looking into the following data frames:\n",
    "- women\n",
    "- mtcars\n",
    "- USArrests\n",
    "- chickwts\n",
    "- airquality"
   ]
  },
  {
   "cell_type": "code",
   "execution_count": 80,
   "metadata": {},
   "outputs": [
    {
     "data": {
      "text/html": [
       "<table>\n",
       "<thead><tr><th></th><th scope=col>mpg</th><th scope=col>cyl</th><th scope=col>disp</th><th scope=col>hp</th><th scope=col>drat</th><th scope=col>wt</th><th scope=col>qsec</th><th scope=col>vs</th><th scope=col>am</th><th scope=col>gear</th><th scope=col>carb</th></tr></thead>\n",
       "<tbody>\n",
       "\t<tr><th scope=row>Mazda RX4</th><td>21.0 </td><td>6    </td><td>160  </td><td>110  </td><td>3.90 </td><td>2.620</td><td>16.46</td><td>0    </td><td>1    </td><td>4    </td><td>4    </td></tr>\n",
       "\t<tr><th scope=row>Mazda RX4 Wag</th><td>21.0 </td><td>6    </td><td>160  </td><td>110  </td><td>3.90 </td><td>2.875</td><td>17.02</td><td>0    </td><td>1    </td><td>4    </td><td>4    </td></tr>\n",
       "\t<tr><th scope=row>Datsun 710</th><td>22.8 </td><td>4    </td><td>108  </td><td> 93  </td><td>3.85 </td><td>2.320</td><td>18.61</td><td>1    </td><td>1    </td><td>4    </td><td>1    </td></tr>\n",
       "\t<tr><th scope=row>Hornet 4 Drive</th><td>21.4 </td><td>6    </td><td>258  </td><td>110  </td><td>3.08 </td><td>3.215</td><td>19.44</td><td>1    </td><td>0    </td><td>3    </td><td>1    </td></tr>\n",
       "\t<tr><th scope=row>Hornet Sportabout</th><td>18.7 </td><td>8    </td><td>360  </td><td>175  </td><td>3.15 </td><td>3.440</td><td>17.02</td><td>0    </td><td>0    </td><td>3    </td><td>2    </td></tr>\n",
       "</tbody>\n",
       "</table>\n"
      ],
      "text/latex": [
       "\\begin{tabular}{r|lllllllllll}\n",
       "  & mpg & cyl & disp & hp & drat & wt & qsec & vs & am & gear & carb\\\\\n",
       "\\hline\n",
       "\tMazda RX4 & 21.0  & 6     & 160   & 110   & 3.90  & 2.620 & 16.46 & 0     & 1     & 4     & 4    \\\\\n",
       "\tMazda RX4 Wag & 21.0  & 6     & 160   & 110   & 3.90  & 2.875 & 17.02 & 0     & 1     & 4     & 4    \\\\\n",
       "\tDatsun 710 & 22.8  & 4     & 108   &  93   & 3.85  & 2.320 & 18.61 & 1     & 1     & 4     & 1    \\\\\n",
       "\tHornet 4 Drive & 21.4  & 6     & 258   & 110   & 3.08  & 3.215 & 19.44 & 1     & 0     & 3     & 1    \\\\\n",
       "\tHornet Sportabout & 18.7  & 8     & 360   & 175   & 3.15  & 3.440 & 17.02 & 0     & 0     & 3     & 2    \\\\\n",
       "\\end{tabular}\n"
      ],
      "text/markdown": [
       "\n",
       "| <!--/--> | mpg | cyl | disp | hp | drat | wt | qsec | vs | am | gear | carb | \n",
       "|---|---|---|---|---|\n",
       "| Mazda RX4 | 21.0  | 6     | 160   | 110   | 3.90  | 2.620 | 16.46 | 0     | 1     | 4     | 4     | \n",
       "| Mazda RX4 Wag | 21.0  | 6     | 160   | 110   | 3.90  | 2.875 | 17.02 | 0     | 1     | 4     | 4     | \n",
       "| Datsun 710 | 22.8  | 4     | 108   |  93   | 3.85  | 2.320 | 18.61 | 1     | 1     | 4     | 1     | \n",
       "| Hornet 4 Drive | 21.4  | 6     | 258   | 110   | 3.08  | 3.215 | 19.44 | 1     | 0     | 3     | 1     | \n",
       "| Hornet Sportabout | 18.7  | 8     | 360   | 175   | 3.15  | 3.440 | 17.02 | 0     | 0     | 3     | 2     | \n",
       "\n",
       "\n"
      ],
      "text/plain": [
       "                  mpg  cyl disp hp  drat wt    qsec  vs am gear carb\n",
       "Mazda RX4         21.0 6   160  110 3.90 2.620 16.46 0  1  4    4   \n",
       "Mazda RX4 Wag     21.0 6   160  110 3.90 2.875 17.02 0  1  4    4   \n",
       "Datsun 710        22.8 4   108   93 3.85 2.320 18.61 1  1  4    1   \n",
       "Hornet 4 Drive    21.4 6   258  110 3.08 3.215 19.44 1  0  3    1   \n",
       "Hornet Sportabout 18.7 8   360  175 3.15 3.440 17.02 0  0  3    2   "
      ]
     },
     "metadata": {},
     "output_type": "display_data"
    },
    {
     "data": {
      "text/html": [
       "<table>\n",
       "<thead><tr><th></th><th scope=col>mpg</th><th scope=col>cyl</th><th scope=col>disp</th><th scope=col>hp</th><th scope=col>drat</th><th scope=col>wt</th><th scope=col>qsec</th><th scope=col>vs</th><th scope=col>am</th><th scope=col>gear</th><th scope=col>carb</th></tr></thead>\n",
       "<tbody>\n",
       "\t<tr><th scope=row>Mazda RX4</th><td>21.0 </td><td>6    </td><td>160.0</td><td>110  </td><td>3.90 </td><td>2.620</td><td>16.46</td><td>0    </td><td>1    </td><td>4    </td><td>4    </td></tr>\n",
       "\t<tr><th scope=row>Mazda RX4 Wag</th><td>21.0 </td><td>6    </td><td>160.0</td><td>110  </td><td>3.90 </td><td>2.875</td><td>17.02</td><td>0    </td><td>1    </td><td>4    </td><td>4    </td></tr>\n",
       "\t<tr><th scope=row>Datsun 710</th><td>22.8 </td><td>4    </td><td>108.0</td><td> 93  </td><td>3.85 </td><td>2.320</td><td>18.61</td><td>1    </td><td>1    </td><td>4    </td><td>1    </td></tr>\n",
       "\t<tr><th scope=row>Hornet 4 Drive</th><td>21.4 </td><td>6    </td><td>258.0</td><td>110  </td><td>3.08 </td><td>3.215</td><td>19.44</td><td>1    </td><td>0    </td><td>3    </td><td>1    </td></tr>\n",
       "\t<tr><th scope=row>Hornet Sportabout</th><td>18.7 </td><td>8    </td><td>360.0</td><td>175  </td><td>3.15 </td><td>3.440</td><td>17.02</td><td>0    </td><td>0    </td><td>3    </td><td>2    </td></tr>\n",
       "\t<tr><th scope=row>Valiant</th><td>18.1 </td><td>6    </td><td>225.0</td><td>105  </td><td>2.76 </td><td>3.460</td><td>20.22</td><td>1    </td><td>0    </td><td>3    </td><td>1    </td></tr>\n",
       "\t<tr><th scope=row>Duster 360</th><td>14.3 </td><td>8    </td><td>360.0</td><td>245  </td><td>3.21 </td><td>3.570</td><td>15.84</td><td>0    </td><td>0    </td><td>3    </td><td>4    </td></tr>\n",
       "\t<tr><th scope=row>Merc 240D</th><td>24.4 </td><td>4    </td><td>146.7</td><td> 62  </td><td>3.69 </td><td>3.190</td><td>20.00</td><td>1    </td><td>0    </td><td>4    </td><td>2    </td></tr>\n",
       "\t<tr><th scope=row>Merc 230</th><td>22.8 </td><td>4    </td><td>140.8</td><td> 95  </td><td>3.92 </td><td>3.150</td><td>22.90</td><td>1    </td><td>0    </td><td>4    </td><td>2    </td></tr>\n",
       "\t<tr><th scope=row>Merc 280</th><td>19.2 </td><td>6    </td><td>167.6</td><td>123  </td><td>3.92 </td><td>3.440</td><td>18.30</td><td>1    </td><td>0    </td><td>4    </td><td>4    </td></tr>\n",
       "\t<tr><th scope=row>Merc 280C</th><td>17.8 </td><td>6    </td><td>167.6</td><td>123  </td><td>3.92 </td><td>3.440</td><td>18.90</td><td>1    </td><td>0    </td><td>4    </td><td>4    </td></tr>\n",
       "\t<tr><th scope=row>Merc 450SE</th><td>16.4 </td><td>8    </td><td>275.8</td><td>180  </td><td>3.07 </td><td>4.070</td><td>17.40</td><td>0    </td><td>0    </td><td>3    </td><td>3    </td></tr>\n",
       "\t<tr><th scope=row>Merc 450SL</th><td>17.3 </td><td>8    </td><td>275.8</td><td>180  </td><td>3.07 </td><td>3.730</td><td>17.60</td><td>0    </td><td>0    </td><td>3    </td><td>3    </td></tr>\n",
       "\t<tr><th scope=row>Merc 450SLC</th><td>15.2 </td><td>8    </td><td>275.8</td><td>180  </td><td>3.07 </td><td>3.780</td><td>18.00</td><td>0    </td><td>0    </td><td>3    </td><td>3    </td></tr>\n",
       "\t<tr><th scope=row>Cadillac Fleetwood</th><td>10.4 </td><td>8    </td><td>472.0</td><td>205  </td><td>2.93 </td><td>5.250</td><td>17.98</td><td>0    </td><td>0    </td><td>3    </td><td>4    </td></tr>\n",
       "\t<tr><th scope=row>Lincoln Continental</th><td>10.4 </td><td>8    </td><td>460.0</td><td>215  </td><td>3.00 </td><td>5.424</td><td>17.82</td><td>0    </td><td>0    </td><td>3    </td><td>4    </td></tr>\n",
       "\t<tr><th scope=row>Chrysler Imperial</th><td>14.7 </td><td>8    </td><td>440.0</td><td>230  </td><td>3.23 </td><td>5.345</td><td>17.42</td><td>0    </td><td>0    </td><td>3    </td><td>4    </td></tr>\n",
       "\t<tr><th scope=row>Fiat 128</th><td>32.4 </td><td>4    </td><td> 78.7</td><td> 66  </td><td>4.08 </td><td>2.200</td><td>19.47</td><td>1    </td><td>1    </td><td>4    </td><td>1    </td></tr>\n",
       "\t<tr><th scope=row>Honda Civic</th><td>30.4 </td><td>4    </td><td> 75.7</td><td> 52  </td><td>4.93 </td><td>1.615</td><td>18.52</td><td>1    </td><td>1    </td><td>4    </td><td>2    </td></tr>\n",
       "\t<tr><th scope=row>Toyota Corolla</th><td>33.9 </td><td>4    </td><td> 71.1</td><td> 65  </td><td>4.22 </td><td>1.835</td><td>19.90</td><td>1    </td><td>1    </td><td>4    </td><td>1    </td></tr>\n",
       "\t<tr><th scope=row>Toyota Corona</th><td>21.5 </td><td>4    </td><td>120.1</td><td> 97  </td><td>3.70 </td><td>2.465</td><td>20.01</td><td>1    </td><td>0    </td><td>3    </td><td>1    </td></tr>\n",
       "\t<tr><th scope=row>Dodge Challenger</th><td>15.5 </td><td>8    </td><td>318.0</td><td>150  </td><td>2.76 </td><td>3.520</td><td>16.87</td><td>0    </td><td>0    </td><td>3    </td><td>2    </td></tr>\n",
       "\t<tr><th scope=row>AMC Javelin</th><td>15.2 </td><td>8    </td><td>304.0</td><td>150  </td><td>3.15 </td><td>3.435</td><td>17.30</td><td>0    </td><td>0    </td><td>3    </td><td>2    </td></tr>\n",
       "\t<tr><th scope=row>Camaro Z28</th><td>13.3 </td><td>8    </td><td>350.0</td><td>245  </td><td>3.73 </td><td>3.840</td><td>15.41</td><td>0    </td><td>0    </td><td>3    </td><td>4    </td></tr>\n",
       "\t<tr><th scope=row>Pontiac Firebird</th><td>19.2 </td><td>8    </td><td>400.0</td><td>175  </td><td>3.08 </td><td>3.845</td><td>17.05</td><td>0    </td><td>0    </td><td>3    </td><td>2    </td></tr>\n",
       "\t<tr><th scope=row>Fiat X1-9</th><td>27.3 </td><td>4    </td><td> 79.0</td><td> 66  </td><td>4.08 </td><td>1.935</td><td>18.90</td><td>1    </td><td>1    </td><td>4    </td><td>1    </td></tr>\n",
       "\t<tr><th scope=row>Porsche 914-2</th><td>26.0 </td><td>4    </td><td>120.3</td><td> 91  </td><td>4.43 </td><td>2.140</td><td>16.70</td><td>0    </td><td>1    </td><td>5    </td><td>2    </td></tr>\n",
       "\t<tr><th scope=row>Lotus Europa</th><td>30.4 </td><td>4    </td><td> 95.1</td><td>113  </td><td>3.77 </td><td>1.513</td><td>16.90</td><td>1    </td><td>1    </td><td>5    </td><td>2    </td></tr>\n",
       "\t<tr><th scope=row>Ford Pantera L</th><td>15.8 </td><td>8    </td><td>351.0</td><td>264  </td><td>4.22 </td><td>3.170</td><td>14.50</td><td>0    </td><td>1    </td><td>5    </td><td>4    </td></tr>\n",
       "\t<tr><th scope=row>Ferrari Dino</th><td>19.7 </td><td>6    </td><td>145.0</td><td>175  </td><td>3.62 </td><td>2.770</td><td>15.50</td><td>0    </td><td>1    </td><td>5    </td><td>6    </td></tr>\n",
       "\t<tr><th scope=row>Maserati Bora</th><td>15.0 </td><td>8    </td><td>301.0</td><td>335  </td><td>3.54 </td><td>3.570</td><td>14.60</td><td>0    </td><td>1    </td><td>5    </td><td>8    </td></tr>\n",
       "\t<tr><th scope=row>Volvo 142E</th><td>21.4 </td><td>4    </td><td>121.0</td><td>109  </td><td>4.11 </td><td>2.780</td><td>18.60</td><td>1    </td><td>1    </td><td>4    </td><td>2    </td></tr>\n",
       "</tbody>\n",
       "</table>\n"
      ],
      "text/latex": [
       "\\begin{tabular}{r|lllllllllll}\n",
       "  & mpg & cyl & disp & hp & drat & wt & qsec & vs & am & gear & carb\\\\\n",
       "\\hline\n",
       "\tMazda RX4 & 21.0  & 6     & 160.0 & 110   & 3.90  & 2.620 & 16.46 & 0     & 1     & 4     & 4    \\\\\n",
       "\tMazda RX4 Wag & 21.0  & 6     & 160.0 & 110   & 3.90  & 2.875 & 17.02 & 0     & 1     & 4     & 4    \\\\\n",
       "\tDatsun 710 & 22.8  & 4     & 108.0 &  93   & 3.85  & 2.320 & 18.61 & 1     & 1     & 4     & 1    \\\\\n",
       "\tHornet 4 Drive & 21.4  & 6     & 258.0 & 110   & 3.08  & 3.215 & 19.44 & 1     & 0     & 3     & 1    \\\\\n",
       "\tHornet Sportabout & 18.7  & 8     & 360.0 & 175   & 3.15  & 3.440 & 17.02 & 0     & 0     & 3     & 2    \\\\\n",
       "\tValiant & 18.1  & 6     & 225.0 & 105   & 2.76  & 3.460 & 20.22 & 1     & 0     & 3     & 1    \\\\\n",
       "\tDuster 360 & 14.3  & 8     & 360.0 & 245   & 3.21  & 3.570 & 15.84 & 0     & 0     & 3     & 4    \\\\\n",
       "\tMerc 240D & 24.4  & 4     & 146.7 &  62   & 3.69  & 3.190 & 20.00 & 1     & 0     & 4     & 2    \\\\\n",
       "\tMerc 230 & 22.8  & 4     & 140.8 &  95   & 3.92  & 3.150 & 22.90 & 1     & 0     & 4     & 2    \\\\\n",
       "\tMerc 280 & 19.2  & 6     & 167.6 & 123   & 3.92  & 3.440 & 18.30 & 1     & 0     & 4     & 4    \\\\\n",
       "\tMerc 280C & 17.8  & 6     & 167.6 & 123   & 3.92  & 3.440 & 18.90 & 1     & 0     & 4     & 4    \\\\\n",
       "\tMerc 450SE & 16.4  & 8     & 275.8 & 180   & 3.07  & 4.070 & 17.40 & 0     & 0     & 3     & 3    \\\\\n",
       "\tMerc 450SL & 17.3  & 8     & 275.8 & 180   & 3.07  & 3.730 & 17.60 & 0     & 0     & 3     & 3    \\\\\n",
       "\tMerc 450SLC & 15.2  & 8     & 275.8 & 180   & 3.07  & 3.780 & 18.00 & 0     & 0     & 3     & 3    \\\\\n",
       "\tCadillac Fleetwood & 10.4  & 8     & 472.0 & 205   & 2.93  & 5.250 & 17.98 & 0     & 0     & 3     & 4    \\\\\n",
       "\tLincoln Continental & 10.4  & 8     & 460.0 & 215   & 3.00  & 5.424 & 17.82 & 0     & 0     & 3     & 4    \\\\\n",
       "\tChrysler Imperial & 14.7  & 8     & 440.0 & 230   & 3.23  & 5.345 & 17.42 & 0     & 0     & 3     & 4    \\\\\n",
       "\tFiat 128 & 32.4  & 4     &  78.7 &  66   & 4.08  & 2.200 & 19.47 & 1     & 1     & 4     & 1    \\\\\n",
       "\tHonda Civic & 30.4  & 4     &  75.7 &  52   & 4.93  & 1.615 & 18.52 & 1     & 1     & 4     & 2    \\\\\n",
       "\tToyota Corolla & 33.9  & 4     &  71.1 &  65   & 4.22  & 1.835 & 19.90 & 1     & 1     & 4     & 1    \\\\\n",
       "\tToyota Corona & 21.5  & 4     & 120.1 &  97   & 3.70  & 2.465 & 20.01 & 1     & 0     & 3     & 1    \\\\\n",
       "\tDodge Challenger & 15.5  & 8     & 318.0 & 150   & 2.76  & 3.520 & 16.87 & 0     & 0     & 3     & 2    \\\\\n",
       "\tAMC Javelin & 15.2  & 8     & 304.0 & 150   & 3.15  & 3.435 & 17.30 & 0     & 0     & 3     & 2    \\\\\n",
       "\tCamaro Z28 & 13.3  & 8     & 350.0 & 245   & 3.73  & 3.840 & 15.41 & 0     & 0     & 3     & 4    \\\\\n",
       "\tPontiac Firebird & 19.2  & 8     & 400.0 & 175   & 3.08  & 3.845 & 17.05 & 0     & 0     & 3     & 2    \\\\\n",
       "\tFiat X1-9 & 27.3  & 4     &  79.0 &  66   & 4.08  & 1.935 & 18.90 & 1     & 1     & 4     & 1    \\\\\n",
       "\tPorsche 914-2 & 26.0  & 4     & 120.3 &  91   & 4.43  & 2.140 & 16.70 & 0     & 1     & 5     & 2    \\\\\n",
       "\tLotus Europa & 30.4  & 4     &  95.1 & 113   & 3.77  & 1.513 & 16.90 & 1     & 1     & 5     & 2    \\\\\n",
       "\tFord Pantera L & 15.8  & 8     & 351.0 & 264   & 4.22  & 3.170 & 14.50 & 0     & 1     & 5     & 4    \\\\\n",
       "\tFerrari Dino & 19.7  & 6     & 145.0 & 175   & 3.62  & 2.770 & 15.50 & 0     & 1     & 5     & 6    \\\\\n",
       "\tMaserati Bora & 15.0  & 8     & 301.0 & 335   & 3.54  & 3.570 & 14.60 & 0     & 1     & 5     & 8    \\\\\n",
       "\tVolvo 142E & 21.4  & 4     & 121.0 & 109   & 4.11  & 2.780 & 18.60 & 1     & 1     & 4     & 2    \\\\\n",
       "\\end{tabular}\n"
      ],
      "text/markdown": [
       "\n",
       "| <!--/--> | mpg | cyl | disp | hp | drat | wt | qsec | vs | am | gear | carb | \n",
       "|---|---|---|---|---|---|---|---|---|---|---|---|---|---|---|---|---|---|---|---|---|---|---|---|---|---|---|---|---|---|---|---|\n",
       "| Mazda RX4 | 21.0  | 6     | 160.0 | 110   | 3.90  | 2.620 | 16.46 | 0     | 1     | 4     | 4     | \n",
       "| Mazda RX4 Wag | 21.0  | 6     | 160.0 | 110   | 3.90  | 2.875 | 17.02 | 0     | 1     | 4     | 4     | \n",
       "| Datsun 710 | 22.8  | 4     | 108.0 |  93   | 3.85  | 2.320 | 18.61 | 1     | 1     | 4     | 1     | \n",
       "| Hornet 4 Drive | 21.4  | 6     | 258.0 | 110   | 3.08  | 3.215 | 19.44 | 1     | 0     | 3     | 1     | \n",
       "| Hornet Sportabout | 18.7  | 8     | 360.0 | 175   | 3.15  | 3.440 | 17.02 | 0     | 0     | 3     | 2     | \n",
       "| Valiant | 18.1  | 6     | 225.0 | 105   | 2.76  | 3.460 | 20.22 | 1     | 0     | 3     | 1     | \n",
       "| Duster 360 | 14.3  | 8     | 360.0 | 245   | 3.21  | 3.570 | 15.84 | 0     | 0     | 3     | 4     | \n",
       "| Merc 240D | 24.4  | 4     | 146.7 |  62   | 3.69  | 3.190 | 20.00 | 1     | 0     | 4     | 2     | \n",
       "| Merc 230 | 22.8  | 4     | 140.8 |  95   | 3.92  | 3.150 | 22.90 | 1     | 0     | 4     | 2     | \n",
       "| Merc 280 | 19.2  | 6     | 167.6 | 123   | 3.92  | 3.440 | 18.30 | 1     | 0     | 4     | 4     | \n",
       "| Merc 280C | 17.8  | 6     | 167.6 | 123   | 3.92  | 3.440 | 18.90 | 1     | 0     | 4     | 4     | \n",
       "| Merc 450SE | 16.4  | 8     | 275.8 | 180   | 3.07  | 4.070 | 17.40 | 0     | 0     | 3     | 3     | \n",
       "| Merc 450SL | 17.3  | 8     | 275.8 | 180   | 3.07  | 3.730 | 17.60 | 0     | 0     | 3     | 3     | \n",
       "| Merc 450SLC | 15.2  | 8     | 275.8 | 180   | 3.07  | 3.780 | 18.00 | 0     | 0     | 3     | 3     | \n",
       "| Cadillac Fleetwood | 10.4  | 8     | 472.0 | 205   | 2.93  | 5.250 | 17.98 | 0     | 0     | 3     | 4     | \n",
       "| Lincoln Continental | 10.4  | 8     | 460.0 | 215   | 3.00  | 5.424 | 17.82 | 0     | 0     | 3     | 4     | \n",
       "| Chrysler Imperial | 14.7  | 8     | 440.0 | 230   | 3.23  | 5.345 | 17.42 | 0     | 0     | 3     | 4     | \n",
       "| Fiat 128 | 32.4  | 4     |  78.7 |  66   | 4.08  | 2.200 | 19.47 | 1     | 1     | 4     | 1     | \n",
       "| Honda Civic | 30.4  | 4     |  75.7 |  52   | 4.93  | 1.615 | 18.52 | 1     | 1     | 4     | 2     | \n",
       "| Toyota Corolla | 33.9  | 4     |  71.1 |  65   | 4.22  | 1.835 | 19.90 | 1     | 1     | 4     | 1     | \n",
       "| Toyota Corona | 21.5  | 4     | 120.1 |  97   | 3.70  | 2.465 | 20.01 | 1     | 0     | 3     | 1     | \n",
       "| Dodge Challenger | 15.5  | 8     | 318.0 | 150   | 2.76  | 3.520 | 16.87 | 0     | 0     | 3     | 2     | \n",
       "| AMC Javelin | 15.2  | 8     | 304.0 | 150   | 3.15  | 3.435 | 17.30 | 0     | 0     | 3     | 2     | \n",
       "| Camaro Z28 | 13.3  | 8     | 350.0 | 245   | 3.73  | 3.840 | 15.41 | 0     | 0     | 3     | 4     | \n",
       "| Pontiac Firebird | 19.2  | 8     | 400.0 | 175   | 3.08  | 3.845 | 17.05 | 0     | 0     | 3     | 2     | \n",
       "| Fiat X1-9 | 27.3  | 4     |  79.0 |  66   | 4.08  | 1.935 | 18.90 | 1     | 1     | 4     | 1     | \n",
       "| Porsche 914-2 | 26.0  | 4     | 120.3 |  91   | 4.43  | 2.140 | 16.70 | 0     | 1     | 5     | 2     | \n",
       "| Lotus Europa | 30.4  | 4     |  95.1 | 113   | 3.77  | 1.513 | 16.90 | 1     | 1     | 5     | 2     | \n",
       "| Ford Pantera L | 15.8  | 8     | 351.0 | 264   | 4.22  | 3.170 | 14.50 | 0     | 1     | 5     | 4     | \n",
       "| Ferrari Dino | 19.7  | 6     | 145.0 | 175   | 3.62  | 2.770 | 15.50 | 0     | 1     | 5     | 6     | \n",
       "| Maserati Bora | 15.0  | 8     | 301.0 | 335   | 3.54  | 3.570 | 14.60 | 0     | 1     | 5     | 8     | \n",
       "| Volvo 142E | 21.4  | 4     | 121.0 | 109   | 4.11  | 2.780 | 18.60 | 1     | 1     | 4     | 2     | \n",
       "\n",
       "\n"
      ],
      "text/plain": [
       "                    mpg  cyl disp  hp  drat wt    qsec  vs am gear carb\n",
       "Mazda RX4           21.0 6   160.0 110 3.90 2.620 16.46 0  1  4    4   \n",
       "Mazda RX4 Wag       21.0 6   160.0 110 3.90 2.875 17.02 0  1  4    4   \n",
       "Datsun 710          22.8 4   108.0  93 3.85 2.320 18.61 1  1  4    1   \n",
       "Hornet 4 Drive      21.4 6   258.0 110 3.08 3.215 19.44 1  0  3    1   \n",
       "Hornet Sportabout   18.7 8   360.0 175 3.15 3.440 17.02 0  0  3    2   \n",
       "Valiant             18.1 6   225.0 105 2.76 3.460 20.22 1  0  3    1   \n",
       "Duster 360          14.3 8   360.0 245 3.21 3.570 15.84 0  0  3    4   \n",
       "Merc 240D           24.4 4   146.7  62 3.69 3.190 20.00 1  0  4    2   \n",
       "Merc 230            22.8 4   140.8  95 3.92 3.150 22.90 1  0  4    2   \n",
       "Merc 280            19.2 6   167.6 123 3.92 3.440 18.30 1  0  4    4   \n",
       "Merc 280C           17.8 6   167.6 123 3.92 3.440 18.90 1  0  4    4   \n",
       "Merc 450SE          16.4 8   275.8 180 3.07 4.070 17.40 0  0  3    3   \n",
       "Merc 450SL          17.3 8   275.8 180 3.07 3.730 17.60 0  0  3    3   \n",
       "Merc 450SLC         15.2 8   275.8 180 3.07 3.780 18.00 0  0  3    3   \n",
       "Cadillac Fleetwood  10.4 8   472.0 205 2.93 5.250 17.98 0  0  3    4   \n",
       "Lincoln Continental 10.4 8   460.0 215 3.00 5.424 17.82 0  0  3    4   \n",
       "Chrysler Imperial   14.7 8   440.0 230 3.23 5.345 17.42 0  0  3    4   \n",
       "Fiat 128            32.4 4    78.7  66 4.08 2.200 19.47 1  1  4    1   \n",
       "Honda Civic         30.4 4    75.7  52 4.93 1.615 18.52 1  1  4    2   \n",
       "Toyota Corolla      33.9 4    71.1  65 4.22 1.835 19.90 1  1  4    1   \n",
       "Toyota Corona       21.5 4   120.1  97 3.70 2.465 20.01 1  0  3    1   \n",
       "Dodge Challenger    15.5 8   318.0 150 2.76 3.520 16.87 0  0  3    2   \n",
       "AMC Javelin         15.2 8   304.0 150 3.15 3.435 17.30 0  0  3    2   \n",
       "Camaro Z28          13.3 8   350.0 245 3.73 3.840 15.41 0  0  3    4   \n",
       "Pontiac Firebird    19.2 8   400.0 175 3.08 3.845 17.05 0  0  3    2   \n",
       "Fiat X1-9           27.3 4    79.0  66 4.08 1.935 18.90 1  1  4    1   \n",
       "Porsche 914-2       26.0 4   120.3  91 4.43 2.140 16.70 0  1  5    2   \n",
       "Lotus Europa        30.4 4    95.1 113 3.77 1.513 16.90 1  1  5    2   \n",
       "Ford Pantera L      15.8 8   351.0 264 4.22 3.170 14.50 0  1  5    4   \n",
       "Ferrari Dino        19.7 6   145.0 175 3.62 2.770 15.50 0  1  5    6   \n",
       "Maserati Bora       15.0 8   301.0 335 3.54 3.570 14.60 0  1  5    8   \n",
       "Volvo 142E          21.4 4   121.0 109 4.11 2.780 18.60 1  1  4    2   "
      ]
     },
     "metadata": {},
     "output_type": "display_data"
    }
   ],
   "source": [
    "# show the first 5 rows from mtcars dataset\n",
    "head(mtcars, 5) #can choose hiw many rows to display\n",
    "mtcars"
   ]
  },
  {
   "cell_type": "code",
   "execution_count": 73,
   "metadata": {},
   "outputs": [
    {
     "data": {
      "text/html": [
       "<ol class=list-inline>\n",
       "\t<li>'Maserati Bora'</li>\n",
       "\t<li>'Ford Pantera L'</li>\n",
       "\t<li>'Duster 360'</li>\n",
       "</ol>\n"
      ],
      "text/latex": [
       "\\begin{enumerate*}\n",
       "\\item 'Maserati Bora'\n",
       "\\item 'Ford Pantera L'\n",
       "\\item 'Duster 360'\n",
       "\\end{enumerate*}\n"
      ],
      "text/markdown": [
       "1. 'Maserati Bora'\n",
       "2. 'Ford Pantera L'\n",
       "3. 'Duster 360'\n",
       "\n",
       "\n"
      ],
      "text/plain": [
       "[1] \"Maserati Bora\"  \"Ford Pantera L\" \"Duster 360\"    "
      ]
     },
     "metadata": {},
     "output_type": "display_data"
    }
   ],
   "source": [
    "# Top 3 powerfull cars\n",
    "rownames(head(mtcars[order(mtcars$hp, decreasing = TRUE),], 3))"
   ]
  },
  {
   "cell_type": "code",
   "execution_count": 82,
   "metadata": {},
   "outputs": [
    {
     "data": {
      "text/html": [
       "<ol class=list-inline>\n",
       "\t<li>31</li>\n",
       "\t<li>29</li>\n",
       "\t<li>7</li>\n",
       "\t<li>24</li>\n",
       "\t<li>17</li>\n",
       "\t<li>16</li>\n",
       "\t<li>15</li>\n",
       "\t<li>12</li>\n",
       "\t<li>13</li>\n",
       "\t<li>14</li>\n",
       "\t<li>5</li>\n",
       "\t<li>25</li>\n",
       "\t<li>30</li>\n",
       "\t<li>22</li>\n",
       "\t<li>23</li>\n",
       "\t<li>10</li>\n",
       "\t<li>11</li>\n",
       "\t<li>28</li>\n",
       "\t<li>1</li>\n",
       "\t<li>2</li>\n",
       "\t<li>4</li>\n",
       "\t<li>32</li>\n",
       "\t<li>6</li>\n",
       "\t<li>21</li>\n",
       "\t<li>9</li>\n",
       "\t<li>3</li>\n",
       "\t<li>27</li>\n",
       "\t<li>18</li>\n",
       "\t<li>26</li>\n",
       "\t<li>20</li>\n",
       "\t<li>8</li>\n",
       "\t<li>19</li>\n",
       "</ol>\n"
      ],
      "text/latex": [
       "\\begin{enumerate*}\n",
       "\\item 31\n",
       "\\item 29\n",
       "\\item 7\n",
       "\\item 24\n",
       "\\item 17\n",
       "\\item 16\n",
       "\\item 15\n",
       "\\item 12\n",
       "\\item 13\n",
       "\\item 14\n",
       "\\item 5\n",
       "\\item 25\n",
       "\\item 30\n",
       "\\item 22\n",
       "\\item 23\n",
       "\\item 10\n",
       "\\item 11\n",
       "\\item 28\n",
       "\\item 1\n",
       "\\item 2\n",
       "\\item 4\n",
       "\\item 32\n",
       "\\item 6\n",
       "\\item 21\n",
       "\\item 9\n",
       "\\item 3\n",
       "\\item 27\n",
       "\\item 18\n",
       "\\item 26\n",
       "\\item 20\n",
       "\\item 8\n",
       "\\item 19\n",
       "\\end{enumerate*}\n"
      ],
      "text/markdown": [
       "1. 31\n",
       "2. 29\n",
       "3. 7\n",
       "4. 24\n",
       "5. 17\n",
       "6. 16\n",
       "7. 15\n",
       "8. 12\n",
       "9. 13\n",
       "10. 14\n",
       "11. 5\n",
       "12. 25\n",
       "13. 30\n",
       "14. 22\n",
       "15. 23\n",
       "16. 10\n",
       "17. 11\n",
       "18. 28\n",
       "19. 1\n",
       "20. 2\n",
       "21. 4\n",
       "22. 32\n",
       "23. 6\n",
       "24. 21\n",
       "25. 9\n",
       "26. 3\n",
       "27. 27\n",
       "28. 18\n",
       "29. 26\n",
       "30. 20\n",
       "31. 8\n",
       "32. 19\n",
       "\n",
       "\n"
      ],
      "text/plain": [
       " [1] 31 29  7 24 17 16 15 12 13 14  5 25 30 22 23 10 11 28  1  2  4 32  6 21  9\n",
       "[26]  3 27 18 26 20  8 19"
      ]
     },
     "metadata": {},
     "output_type": "display_data"
    }
   ],
   "source": [
    "order(mtcars$hp, decreasing = TRUE)"
   ]
  },
  {
   "cell_type": "code",
   "execution_count": 84,
   "metadata": {},
   "outputs": [
    {
     "ename": "ERROR",
     "evalue": "Error in parse(text = x, srcfile = src): <text>:2:0: unexpected end of input\n1: head(mtcars[order(mtcars$hp, decreasing = TRUE),]\n   ^\n",
     "output_type": "error",
     "traceback": [
      "Error in parse(text = x, srcfile = src): <text>:2:0: unexpected end of input\n1: head(mtcars[order(mtcars$hp, decreasing = TRUE),]\n   ^\nTraceback:\n"
     ]
    }
   ],
   "source": [
    "head(mtcars[order(mtcars$hp, decreasing = TRUE),]"
   ]
  },
  {
   "cell_type": "code",
   "execution_count": 86,
   "metadata": {},
   "outputs": [
    {
     "data": {
      "text/html": [
       "<ol class=list-inline>\n",
       "\t<li>'Duster 360'</li>\n",
       "\t<li>'Camaro Z28'</li>\n",
       "\t<li>'Chrysler Imperial'</li>\n",
       "</ol>\n"
      ],
      "text/latex": [
       "\\begin{enumerate*}\n",
       "\\item 'Duster 360'\n",
       "\\item 'Camaro Z28'\n",
       "\\item 'Chrysler Imperial'\n",
       "\\end{enumerate*}\n"
      ],
      "text/markdown": [
       "1. 'Duster 360'\n",
       "2. 'Camaro Z28'\n",
       "3. 'Chrysler Imperial'\n",
       "\n",
       "\n"
      ],
      "text/plain": [
       "[1] \"Duster 360\"        \"Camaro Z28\"        \"Chrysler Imperial\""
      ]
     },
     "metadata": {},
     "output_type": "display_data"
    }
   ],
   "source": [
    "# The most powerfull 3-gear car\n",
    "mtcar3 = mtcars[mtcars$gear==3,] #sort cars that have only 3 gears\n",
    "rownames(head(mtcar3[order(mtcar3$hp, decreasing = TRUE),], 3))"
   ]
  },
  {
   "cell_type": "code",
   "execution_count": 75,
   "metadata": {},
   "outputs": [
    {
     "data": {
      "text/html": [
       "<table>\n",
       "<thead><tr><th></th><th scope=col>mpg</th><th scope=col>cyl</th><th scope=col>disp</th><th scope=col>hp</th><th scope=col>drat</th><th scope=col>wt</th><th scope=col>qsec</th><th scope=col>vs</th><th scope=col>am</th><th scope=col>gear</th><th scope=col>carb</th></tr></thead>\n",
       "<tbody>\n",
       "\t<tr><th scope=row>Duster 360</th><td>14.3 </td><td>8    </td><td>360  </td><td>245  </td><td>3.21 </td><td>3.57 </td><td>15.84</td><td>0    </td><td>0    </td><td>3    </td><td>4    </td></tr>\n",
       "\t<tr><th scope=row>Camaro Z28</th><td>13.3 </td><td>8    </td><td>350  </td><td>245  </td><td>3.73 </td><td>3.84 </td><td>15.41</td><td>0    </td><td>0    </td><td>3    </td><td>4    </td></tr>\n",
       "</tbody>\n",
       "</table>\n"
      ],
      "text/latex": [
       "\\begin{tabular}{r|lllllllllll}\n",
       "  & mpg & cyl & disp & hp & drat & wt & qsec & vs & am & gear & carb\\\\\n",
       "\\hline\n",
       "\tDuster 360 & 14.3  & 8     & 360   & 245   & 3.21  & 3.57  & 15.84 & 0     & 0     & 3     & 4    \\\\\n",
       "\tCamaro Z28 & 13.3  & 8     & 350   & 245   & 3.73  & 3.84  & 15.41 & 0     & 0     & 3     & 4    \\\\\n",
       "\\end{tabular}\n"
      ],
      "text/markdown": [
       "\n",
       "| <!--/--> | mpg | cyl | disp | hp | drat | wt | qsec | vs | am | gear | carb | \n",
       "|---|---|\n",
       "| Duster 360 | 14.3  | 8     | 360   | 245   | 3.21  | 3.57  | 15.84 | 0     | 0     | 3     | 4     | \n",
       "| Camaro Z28 | 13.3  | 8     | 350   | 245   | 3.73  | 3.84  | 15.41 | 0     | 0     | 3     | 4     | \n",
       "\n",
       "\n"
      ],
      "text/plain": [
       "           mpg  cyl disp hp  drat wt   qsec  vs am gear carb\n",
       "Duster 360 14.3 8   360  245 3.21 3.57 15.84 0  0  3    4   \n",
       "Camaro Z28 13.3 8   350  245 3.73 3.84 15.41 0  0  3    4   "
      ]
     },
     "metadata": {},
     "output_type": "display_data"
    }
   ],
   "source": [
    "# The most powerfull 3-gear car\n",
    "maxhp3 = max(mtcars[mtcars$gear==3,]$hp)\n",
    "mtcars[mtcars$hp==maxhp3,] #maxhp3 have 245 hp"
   ]
  },
  {
   "cell_type": "code",
   "execution_count": 76,
   "metadata": {},
   "outputs": [
    {
     "data": {
      "text/html": [
       "<table>\n",
       "<thead><tr><th></th><th scope=col>Murder</th><th scope=col>Assault</th><th scope=col>UrbanPop</th><th scope=col>Rape</th></tr></thead>\n",
       "<tbody>\n",
       "\t<tr><th scope=row>Washington</th><td>4.0 </td><td>145 </td><td>73  </td><td>26.2</td></tr>\n",
       "\t<tr><th scope=row>West Virginia</th><td>5.7 </td><td> 81 </td><td>39  </td><td> 9.3</td></tr>\n",
       "\t<tr><th scope=row>Wisconsin</th><td>2.6 </td><td> 53 </td><td>66  </td><td>10.8</td></tr>\n",
       "\t<tr><th scope=row>Wyoming</th><td>6.8 </td><td>161 </td><td>60  </td><td>15.6</td></tr>\n",
       "</tbody>\n",
       "</table>\n"
      ],
      "text/latex": [
       "\\begin{tabular}{r|llll}\n",
       "  & Murder & Assault & UrbanPop & Rape\\\\\n",
       "\\hline\n",
       "\tWashington & 4.0  & 145  & 73   & 26.2\\\\\n",
       "\tWest Virginia & 5.7  &  81  & 39   &  9.3\\\\\n",
       "\tWisconsin & 2.6  &  53  & 66   & 10.8\\\\\n",
       "\tWyoming & 6.8  & 161  & 60   & 15.6\\\\\n",
       "\\end{tabular}\n"
      ],
      "text/markdown": [
       "\n",
       "| <!--/--> | Murder | Assault | UrbanPop | Rape | \n",
       "|---|---|---|---|\n",
       "| Washington | 4.0  | 145  | 73   | 26.2 | \n",
       "| West Virginia | 5.7  |  81  | 39   |  9.3 | \n",
       "| Wisconsin | 2.6  |  53  | 66   | 10.8 | \n",
       "| Wyoming | 6.8  | 161  | 60   | 15.6 | \n",
       "\n",
       "\n"
      ],
      "text/plain": [
       "              Murder Assault UrbanPop Rape\n",
       "Washington    4.0    145     73       26.2\n",
       "West Virginia 5.7     81     39        9.3\n",
       "Wisconsin     2.6     53     66       10.8\n",
       "Wyoming       6.8    161     60       15.6"
      ]
     },
     "metadata": {},
     "output_type": "display_data"
    }
   ],
   "source": [
    "# Show the last 4 rows of USArrests\n",
    "tail(USArrests, 4)"
   ]
  },
  {
   "cell_type": "code",
   "execution_count": 77,
   "metadata": {},
   "outputs": [
    {
     "data": {
      "text/html": [
       "<ol class=list-inline>\n",
       "\t<li>'Murder'</li>\n",
       "\t<li>'Assault'</li>\n",
       "\t<li>'UrbanPop'</li>\n",
       "\t<li>'Rape'</li>\n",
       "</ol>\n"
      ],
      "text/latex": [
       "\\begin{enumerate*}\n",
       "\\item 'Murder'\n",
       "\\item 'Assault'\n",
       "\\item 'UrbanPop'\n",
       "\\item 'Rape'\n",
       "\\end{enumerate*}\n"
      ],
      "text/markdown": [
       "1. 'Murder'\n",
       "2. 'Assault'\n",
       "3. 'UrbanPop'\n",
       "4. 'Rape'\n",
       "\n",
       "\n"
      ],
      "text/plain": [
       "[1] \"Murder\"   \"Assault\"  \"UrbanPop\" \"Rape\"    "
      ]
     },
     "metadata": {},
     "output_type": "display_data"
    }
   ],
   "source": [
    "colnames(USArrests)"
   ]
  },
  {
   "cell_type": "code",
   "execution_count": 78,
   "metadata": {},
   "outputs": [
    {
     "data": {
      "text/html": [
       "<ol class=list-inline>\n",
       "\t<li>'Fiat X1-9'</li>\n",
       "\t<li>'Porsche 914-2'</li>\n",
       "\t<li>'Lotus Europa'</li>\n",
       "\t<li>'Ford Pantera L'</li>\n",
       "\t<li>'Ferrari Dino'</li>\n",
       "\t<li>'Maserati Bora'</li>\n",
       "\t<li>'Volvo 142E'</li>\n",
       "</ol>\n"
      ],
      "text/latex": [
       "\\begin{enumerate*}\n",
       "\\item 'Fiat X1-9'\n",
       "\\item 'Porsche 914-2'\n",
       "\\item 'Lotus Europa'\n",
       "\\item 'Ford Pantera L'\n",
       "\\item 'Ferrari Dino'\n",
       "\\item 'Maserati Bora'\n",
       "\\item 'Volvo 142E'\n",
       "\\end{enumerate*}\n"
      ],
      "text/markdown": [
       "1. 'Fiat X1-9'\n",
       "2. 'Porsche 914-2'\n",
       "3. 'Lotus Europa'\n",
       "4. 'Ford Pantera L'\n",
       "5. 'Ferrari Dino'\n",
       "6. 'Maserati Bora'\n",
       "7. 'Volvo 142E'\n",
       "\n",
       "\n"
      ],
      "text/plain": [
       "[1] \"Fiat X1-9\"      \"Porsche 914-2\"  \"Lotus Europa\"   \"Ford Pantera L\"\n",
       "[5] \"Ferrari Dino\"   \"Maserati Bora\"  \"Volvo 142E\"    "
      ]
     },
     "metadata": {},
     "output_type": "display_data"
    }
   ],
   "source": [
    "rownames(tail(mtcars, 7))"
   ]
  },
  {
   "cell_type": "code",
   "execution_count": 79,
   "metadata": {},
   "outputs": [
    {
     "data": {
      "text/html": [
       "<table>\n",
       "<thead><tr><th></th><th scope=col>Murder</th><th scope=col>Assault</th><th scope=col>UrbanPop</th><th scope=col>Rape</th></tr></thead>\n",
       "<tbody>\n",
       "\t<tr><th scope=row>North Dakota</th><td>0.8</td><td>45 </td><td>44 </td><td>7.3</td></tr>\n",
       "</tbody>\n",
       "</table>\n"
      ],
      "text/latex": [
       "\\begin{tabular}{r|llll}\n",
       "  & Murder & Assault & UrbanPop & Rape\\\\\n",
       "\\hline\n",
       "\tNorth Dakota & 0.8 & 45  & 44  & 7.3\\\\\n",
       "\\end{tabular}\n"
      ],
      "text/markdown": [
       "\n",
       "| <!--/--> | Murder | Assault | UrbanPop | Rape | \n",
       "|---|\n",
       "| North Dakota | 0.8 | 45  | 44  | 7.3 | \n",
       "\n",
       "\n"
      ],
      "text/plain": [
       "             Murder Assault UrbanPop Rape\n",
       "North Dakota 0.8    45      44       7.3 "
      ]
     },
     "metadata": {},
     "output_type": "display_data"
    },
    {
     "data": {
      "text/html": [
       "<table>\n",
       "<thead><tr><th></th><th scope=col>Murder</th><th scope=col>Assault</th><th scope=col>UrbanPop</th><th scope=col>Rape</th></tr></thead>\n",
       "<tbody>\n",
       "\t<tr><th scope=row>Georgia</th><td>17.4</td><td>211 </td><td>60  </td><td>25.8</td></tr>\n",
       "</tbody>\n",
       "</table>\n"
      ],
      "text/latex": [
       "\\begin{tabular}{r|llll}\n",
       "  & Murder & Assault & UrbanPop & Rape\\\\\n",
       "\\hline\n",
       "\tGeorgia & 17.4 & 211  & 60   & 25.8\\\\\n",
       "\\end{tabular}\n"
      ],
      "text/markdown": [
       "\n",
       "| <!--/--> | Murder | Assault | UrbanPop | Rape | \n",
       "|---|\n",
       "| Georgia | 17.4 | 211  | 60   | 25.8 | \n",
       "\n",
       "\n"
      ],
      "text/plain": [
       "        Murder Assault UrbanPop Rape\n",
       "Georgia 17.4   211     60       25.8"
      ]
     },
     "metadata": {},
     "output_type": "display_data"
    }
   ],
   "source": [
    "#State(s) with minimum Murder\n",
    "minmurder = min(USArrests$Murder)\n",
    "USArrests[USArrests$Murder == minmurder,]\n",
    "\n",
    "#State(s) with maximum Murder\n",
    "maxmurder = max(USArrests$Murder)\n",
    "USArrests[USArrests$Murder == maxmurder,]"
   ]
  },
  {
   "cell_type": "markdown",
   "metadata": {},
   "source": [
    "## 6. Missing values\n",
    "\n",
    "- Missing values in R are denoted by either <font color=red><b>NA</b></font> or <font color=red><b>NaN</b></font>. \n",
    "- <b>NaN</b> is used for undefined mathematical operations.\n",
    "    - <font color=green>is.nan()</font> can be used to check for it.\n",
    "- <b>NA</b> is usually used for everything else\n",
    "    - <font color=green>is.na()</font> can be used to check for it.\n",
    "\n",
    "\n",
    "- <font color=red>NaN value is also NA, but the converse is not true.</font>"
   ]
  },
  {
   "cell_type": "code",
   "execution_count": 87,
   "metadata": {},
   "outputs": [
    {
     "name": "stdout",
     "output_type": "stream",
     "text": [
      "[1]   4   0  -7 NaN  23  NA -60\n"
     ]
    },
    {
     "data": {
      "text/html": [
       "'========================='"
      ],
      "text/latex": [
       "'========================='"
      ],
      "text/markdown": [
       "'========================='"
      ],
      "text/plain": [
       "[1] \"=========================\""
      ]
     },
     "metadata": {},
     "output_type": "display_data"
    },
    {
     "data": {
      "text/html": [
       "<ol class=list-inline>\n",
       "\t<li>FALSE</li>\n",
       "\t<li>FALSE</li>\n",
       "\t<li>FALSE</li>\n",
       "\t<li>TRUE</li>\n",
       "\t<li>FALSE</li>\n",
       "\t<li>FALSE</li>\n",
       "\t<li>FALSE</li>\n",
       "</ol>\n"
      ],
      "text/latex": [
       "\\begin{enumerate*}\n",
       "\\item FALSE\n",
       "\\item FALSE\n",
       "\\item FALSE\n",
       "\\item TRUE\n",
       "\\item FALSE\n",
       "\\item FALSE\n",
       "\\item FALSE\n",
       "\\end{enumerate*}\n"
      ],
      "text/markdown": [
       "1. FALSE\n",
       "2. FALSE\n",
       "3. FALSE\n",
       "4. TRUE\n",
       "5. FALSE\n",
       "6. FALSE\n",
       "7. FALSE\n",
       "\n",
       "\n"
      ],
      "text/plain": [
       "[1] FALSE FALSE FALSE  TRUE FALSE FALSE FALSE"
      ]
     },
     "metadata": {},
     "output_type": "display_data"
    },
    {
     "data": {
      "text/html": [
       "'========================='"
      ],
      "text/latex": [
       "'========================='"
      ],
      "text/markdown": [
       "'========================='"
      ],
      "text/plain": [
       "[1] \"=========================\""
      ]
     },
     "metadata": {},
     "output_type": "display_data"
    },
    {
     "data": {
      "text/html": [
       "<ol class=list-inline>\n",
       "\t<li>FALSE</li>\n",
       "\t<li>FALSE</li>\n",
       "\t<li>FALSE</li>\n",
       "\t<li>TRUE</li>\n",
       "\t<li>FALSE</li>\n",
       "\t<li>TRUE</li>\n",
       "\t<li>FALSE</li>\n",
       "</ol>\n"
      ],
      "text/latex": [
       "\\begin{enumerate*}\n",
       "\\item FALSE\n",
       "\\item FALSE\n",
       "\\item FALSE\n",
       "\\item TRUE\n",
       "\\item FALSE\n",
       "\\item TRUE\n",
       "\\item FALSE\n",
       "\\end{enumerate*}\n"
      ],
      "text/markdown": [
       "1. FALSE\n",
       "2. FALSE\n",
       "3. FALSE\n",
       "4. TRUE\n",
       "5. FALSE\n",
       "6. TRUE\n",
       "7. FALSE\n",
       "\n",
       "\n"
      ],
      "text/plain": [
       "[1] FALSE FALSE FALSE  TRUE FALSE  TRUE FALSE"
      ]
     },
     "metadata": {},
     "output_type": "display_data"
    }
   ],
   "source": [
    "testvals = c(4, 0 , -7, NaN, 23, NA, -60)\n",
    "print (testvals)\n",
    "\"=========================\"\n",
    "is.nan(testvals)\n",
    "\"=========================\"\n",
    "is.na(testvals)"
   ]
  },
  {
   "cell_type": "code",
   "execution_count": 88,
   "metadata": {
    "collapsed": true
   },
   "outputs": [],
   "source": [
    "students2 = students"
   ]
  },
  {
   "cell_type": "code",
   "execution_count": 89,
   "metadata": {},
   "outputs": [
    {
     "data": {
      "text/html": [
       "<table>\n",
       "<thead><tr><th></th><th scope=col>Name</th><th scope=col>Age</th><th scope=col>Graduated</th><th scope=col>Height</th><th scope=col>Weight</th></tr></thead>\n",
       "<tbody>\n",
       "\t<tr><th scope=row>a</th><td>Rish    </td><td>37      </td><td>TRUE    </td><td> NA     </td><td>83      </td></tr>\n",
       "\t<tr><th scope=row>b</th><td>NA      </td><td>29      </td><td>TRUE    </td><td>162     </td><td>60      </td></tr>\n",
       "\t<tr><th scope=row>c</th><td>Ardianto</td><td>NA      </td><td>FALSE   </td><td>168     </td><td>75      </td></tr>\n",
       "\t<tr><th scope=row>4</th><td>NA      </td><td>NA      </td><td>NaN     </td><td> NA     </td><td>NA      </td></tr>\n",
       "</tbody>\n",
       "</table>\n"
      ],
      "text/latex": [
       "\\begin{tabular}{r|lllll}\n",
       "  & Name & Age & Graduated & Height & Weight\\\\\n",
       "\\hline\n",
       "\ta & Rish     & 37       & TRUE     &  NA      & 83      \\\\\n",
       "\tb & NA       & 29       & TRUE     & 162      & 60      \\\\\n",
       "\tc & Ardianto & NA       & FALSE    & 168      & 75      \\\\\n",
       "\t4 & NA       & NA       & NaN      &  NA      & NA      \\\\\n",
       "\\end{tabular}\n"
      ],
      "text/markdown": [
       "\n",
       "| <!--/--> | Name | Age | Graduated | Height | Weight | \n",
       "|---|---|---|---|\n",
       "| a | Rish     | 37       | TRUE     |  NA      | 83       | \n",
       "| b | NA       | 29       | TRUE     | 162      | 60       | \n",
       "| c | Ardianto | NA       | FALSE    | 168      | 75       | \n",
       "| 4 | NA       | NA       | NaN      |  NA      | NA       | \n",
       "\n",
       "\n"
      ],
      "text/plain": [
       "  Name     Age Graduated Height Weight\n",
       "a Rish     37  TRUE       NA    83    \n",
       "b NA       29  TRUE      162    60    \n",
       "c Ardianto NA  FALSE     168    75    \n",
       "4 NA       NA  NaN        NA    NA    "
      ]
     },
     "metadata": {},
     "output_type": "display_data"
    }
   ],
   "source": [
    "students2[2,1]=NA\n",
    "students2[1,4]=NA\n",
    "students2[4,3]=NaN\n",
    "students2[3,2]=NA\n",
    "students2"
   ]
  },
  {
   "cell_type": "code",
   "execution_count": 90,
   "metadata": {},
   "outputs": [
    {
     "data": {
      "text/html": [
       "<table>\n",
       "<thead><tr><th></th><th scope=col>Name</th><th scope=col>Age</th><th scope=col>Graduated</th><th scope=col>Height</th><th scope=col>Weight</th></tr></thead>\n",
       "<tbody>\n",
       "\t<tr><th scope=row>a</th><td>FALSE</td><td>FALSE</td><td>FALSE</td><td> TRUE</td><td>FALSE</td></tr>\n",
       "\t<tr><th scope=row>b</th><td> TRUE</td><td>FALSE</td><td>FALSE</td><td>FALSE</td><td>FALSE</td></tr>\n",
       "\t<tr><th scope=row>c</th><td>FALSE</td><td> TRUE</td><td>FALSE</td><td>FALSE</td><td>FALSE</td></tr>\n",
       "\t<tr><th scope=row>4</th><td> TRUE</td><td> TRUE</td><td>FALSE</td><td> TRUE</td><td> TRUE</td></tr>\n",
       "</tbody>\n",
       "</table>\n"
      ],
      "text/latex": [
       "\\begin{tabular}{r|lllll}\n",
       "  & Name & Age & Graduated & Height & Weight\\\\\n",
       "\\hline\n",
       "\ta & FALSE & FALSE & FALSE &  TRUE & FALSE\\\\\n",
       "\tb &  TRUE & FALSE & FALSE & FALSE & FALSE\\\\\n",
       "\tc & FALSE &  TRUE & FALSE & FALSE & FALSE\\\\\n",
       "\t4 &  TRUE &  TRUE & FALSE &  TRUE &  TRUE\\\\\n",
       "\\end{tabular}\n"
      ],
      "text/markdown": [
       "\n",
       "| <!--/--> | Name | Age | Graduated | Height | Weight | \n",
       "|---|---|---|---|\n",
       "| a | FALSE | FALSE | FALSE |  TRUE | FALSE | \n",
       "| b |  TRUE | FALSE | FALSE | FALSE | FALSE | \n",
       "| c | FALSE |  TRUE | FALSE | FALSE | FALSE | \n",
       "| 4 |  TRUE |  TRUE | FALSE |  TRUE |  TRUE | \n",
       "\n",
       "\n"
      ],
      "text/plain": [
       "  Name  Age   Graduated Height Weight\n",
       "a FALSE FALSE FALSE      TRUE  FALSE \n",
       "b  TRUE FALSE FALSE     FALSE  FALSE \n",
       "c FALSE  TRUE FALSE     FALSE  FALSE \n",
       "4  TRUE  TRUE FALSE      TRUE   TRUE "
      ]
     },
     "metadata": {},
     "output_type": "display_data"
    }
   ],
   "source": [
    "missing_values = is.na(students2)\n",
    "missing_values"
   ]
  },
  {
   "cell_type": "markdown",
   "metadata": {},
   "source": [
    "### 6.1. How to remove NA values?\n",
    "\n",
    "#### 6.1.1. using is.na() function:"
   ]
  },
  {
   "cell_type": "code",
   "execution_count": 91,
   "metadata": {},
   "outputs": [
    {
     "data": {
      "text/html": [
       "<ol class=list-inline>\n",
       "\t<li>FALSE</li>\n",
       "\t<li>FALSE</li>\n",
       "\t<li>FALSE</li>\n",
       "\t<li>TRUE</li>\n",
       "\t<li>FALSE</li>\n",
       "\t<li>TRUE</li>\n",
       "\t<li>FALSE</li>\n",
       "</ol>\n"
      ],
      "text/latex": [
       "\\begin{enumerate*}\n",
       "\\item FALSE\n",
       "\\item FALSE\n",
       "\\item FALSE\n",
       "\\item TRUE\n",
       "\\item FALSE\n",
       "\\item TRUE\n",
       "\\item FALSE\n",
       "\\end{enumerate*}\n"
      ],
      "text/markdown": [
       "1. FALSE\n",
       "2. FALSE\n",
       "3. FALSE\n",
       "4. TRUE\n",
       "5. FALSE\n",
       "6. TRUE\n",
       "7. FALSE\n",
       "\n",
       "\n"
      ],
      "text/plain": [
       "[1] FALSE FALSE FALSE  TRUE FALSE  TRUE FALSE"
      ]
     },
     "metadata": {},
     "output_type": "display_data"
    },
    {
     "data": {
      "text/html": [
       "<ol class=list-inline>\n",
       "\t<li>TRUE</li>\n",
       "\t<li>TRUE</li>\n",
       "\t<li>TRUE</li>\n",
       "\t<li>FALSE</li>\n",
       "\t<li>TRUE</li>\n",
       "\t<li>FALSE</li>\n",
       "\t<li>TRUE</li>\n",
       "</ol>\n"
      ],
      "text/latex": [
       "\\begin{enumerate*}\n",
       "\\item TRUE\n",
       "\\item TRUE\n",
       "\\item TRUE\n",
       "\\item FALSE\n",
       "\\item TRUE\n",
       "\\item FALSE\n",
       "\\item TRUE\n",
       "\\end{enumerate*}\n"
      ],
      "text/markdown": [
       "1. TRUE\n",
       "2. TRUE\n",
       "3. TRUE\n",
       "4. FALSE\n",
       "5. TRUE\n",
       "6. FALSE\n",
       "7. TRUE\n",
       "\n",
       "\n"
      ],
      "text/plain": [
       "[1]  TRUE  TRUE  TRUE FALSE  TRUE FALSE  TRUE"
      ]
     },
     "metadata": {},
     "output_type": "display_data"
    },
    {
     "data": {
      "text/html": [
       "<ol class=list-inline>\n",
       "\t<li>4</li>\n",
       "\t<li>0</li>\n",
       "\t<li>-7</li>\n",
       "\t<li>23</li>\n",
       "\t<li>-60</li>\n",
       "</ol>\n"
      ],
      "text/latex": [
       "\\begin{enumerate*}\n",
       "\\item 4\n",
       "\\item 0\n",
       "\\item -7\n",
       "\\item 23\n",
       "\\item -60\n",
       "\\end{enumerate*}\n"
      ],
      "text/markdown": [
       "1. 4\n",
       "2. 0\n",
       "3. -7\n",
       "4. 23\n",
       "5. -60\n",
       "\n",
       "\n"
      ],
      "text/plain": [
       "[1]   4   0  -7  23 -60"
      ]
     },
     "metadata": {},
     "output_type": "display_data"
    }
   ],
   "source": [
    "testvals = c(4, 0 , -7, NaN, 23, NA, -60)\n",
    "missing_values = is.na(testvals)\n",
    "missing_values\n",
    "# inverse missing value\n",
    "!missing_values\n",
    "\n",
    "testvals[!missing_values]"
   ]
  },
  {
   "cell_type": "markdown",
   "metadata": {},
   "source": [
    "#### 7.1.2. using complete.cases() function:\n"
   ]
  },
  {
   "cell_type": "code",
   "execution_count": null,
   "metadata": {
    "collapsed": true
   },
   "outputs": [],
   "source": [
    "available_values = complete.cases(testvals)\n",
    "available_values\n",
    "\"================================\"\n",
    "testvals[available_values]"
   ]
  },
  {
   "cell_type": "code",
   "execution_count": 92,
   "metadata": {},
   "outputs": [
    {
     "data": {
      "text/html": [
       "<ol class=list-inline>\n",
       "\t<li>TRUE</li>\n",
       "\t<li>FALSE</li>\n",
       "\t<li>TRUE</li>\n",
       "\t<li>FALSE</li>\n",
       "\t<li>TRUE</li>\n",
       "\t<li>FALSE</li>\n",
       "\t<li>TRUE</li>\n",
       "</ol>\n"
      ],
      "text/latex": [
       "\\begin{enumerate*}\n",
       "\\item TRUE\n",
       "\\item FALSE\n",
       "\\item TRUE\n",
       "\\item FALSE\n",
       "\\item TRUE\n",
       "\\item FALSE\n",
       "\\item TRUE\n",
       "\\end{enumerate*}\n"
      ],
      "text/markdown": [
       "1. TRUE\n",
       "2. FALSE\n",
       "3. TRUE\n",
       "4. FALSE\n",
       "5. TRUE\n",
       "6. FALSE\n",
       "7. TRUE\n",
       "\n",
       "\n"
      ],
      "text/plain": [
       "[1]  TRUE FALSE  TRUE FALSE  TRUE FALSE  TRUE"
      ]
     },
     "metadata": {},
     "output_type": "display_data"
    }
   ],
   "source": [
    "testvals1 = c( 4 , 0 ,  -7,  NaN, 23,  NA, -60)\n",
    "testvals2 = c(\"a\", NA , \"b\", \"c\", \"d\", NA, \"e\")\n",
    "\n",
    "available_values = complete.cases(testvals1, testvals2)\n",
    "available_values"
   ]
  },
  {
   "cell_type": "markdown",
   "metadata": {},
   "source": [
    "## <font color=Green><b>Exercise:</b></font>\n",
    "\n",
    "1. How many rows have missing vales in Ozone and Solar.R columns?\n",
    "2. How many rows have missing vales in both Ozone and Solar.R columns?\n",
    "3. Assign the dataset into another object called cair. Try to replace all NA values of every column with mean value of the column."
   ]
  },
  {
   "cell_type": "code",
   "execution_count": 110,
   "metadata": {},
   "outputs": [
    {
     "data": {
      "text/html": [
       "37"
      ],
      "text/latex": [
       "37"
      ],
      "text/markdown": [
       "37"
      ],
      "text/plain": [
       "[1] 37"
      ]
     },
     "metadata": {},
     "output_type": "display_data"
    },
    {
     "data": {
      "text/html": [
       "7"
      ],
      "text/latex": [
       "7"
      ],
      "text/markdown": [
       "7"
      ],
      "text/plain": [
       "[1] 7"
      ]
     },
     "metadata": {},
     "output_type": "display_data"
    },
    {
     "data": {
      "text/html": [
       "2"
      ],
      "text/latex": [
       "2"
      ],
      "text/markdown": [
       "2"
      ],
      "text/plain": [
       "[1] 2"
      ]
     },
     "metadata": {},
     "output_type": "display_data"
    },
    {
     "data": {
      "text/html": [
       "<table>\n",
       "<thead><tr><th scope=col>Ozone</th><th scope=col>Solar.R</th><th scope=col>Wind</th><th scope=col>Temp</th><th scope=col>Month</th><th scope=col>Day</th></tr></thead>\n",
       "<tbody>\n",
       "\t<tr><td>FALSE</td><td>FALSE</td><td>FALSE</td><td>FALSE</td><td>FALSE</td><td>FALSE</td></tr>\n",
       "\t<tr><td>FALSE</td><td>FALSE</td><td>FALSE</td><td>FALSE</td><td>FALSE</td><td>FALSE</td></tr>\n",
       "\t<tr><td>FALSE</td><td>FALSE</td><td>FALSE</td><td>FALSE</td><td>FALSE</td><td>FALSE</td></tr>\n",
       "\t<tr><td>FALSE</td><td>FALSE</td><td>FALSE</td><td>FALSE</td><td>FALSE</td><td>FALSE</td></tr>\n",
       "\t<tr><td> TRUE</td><td> TRUE</td><td>FALSE</td><td>FALSE</td><td>FALSE</td><td>FALSE</td></tr>\n",
       "\t<tr><td>FALSE</td><td> TRUE</td><td>FALSE</td><td>FALSE</td><td>FALSE</td><td>FALSE</td></tr>\n",
       "\t<tr><td>FALSE</td><td>FALSE</td><td>FALSE</td><td>FALSE</td><td>FALSE</td><td>FALSE</td></tr>\n",
       "\t<tr><td>FALSE</td><td>FALSE</td><td>FALSE</td><td>FALSE</td><td>FALSE</td><td>FALSE</td></tr>\n",
       "\t<tr><td>FALSE</td><td>FALSE</td><td>FALSE</td><td>FALSE</td><td>FALSE</td><td>FALSE</td></tr>\n",
       "\t<tr><td> TRUE</td><td>FALSE</td><td>FALSE</td><td>FALSE</td><td>FALSE</td><td>FALSE</td></tr>\n",
       "\t<tr><td>FALSE</td><td> TRUE</td><td>FALSE</td><td>FALSE</td><td>FALSE</td><td>FALSE</td></tr>\n",
       "\t<tr><td>FALSE</td><td>FALSE</td><td>FALSE</td><td>FALSE</td><td>FALSE</td><td>FALSE</td></tr>\n",
       "\t<tr><td>FALSE</td><td>FALSE</td><td>FALSE</td><td>FALSE</td><td>FALSE</td><td>FALSE</td></tr>\n",
       "\t<tr><td>FALSE</td><td>FALSE</td><td>FALSE</td><td>FALSE</td><td>FALSE</td><td>FALSE</td></tr>\n",
       "\t<tr><td>FALSE</td><td>FALSE</td><td>FALSE</td><td>FALSE</td><td>FALSE</td><td>FALSE</td></tr>\n",
       "\t<tr><td>FALSE</td><td>FALSE</td><td>FALSE</td><td>FALSE</td><td>FALSE</td><td>FALSE</td></tr>\n",
       "\t<tr><td>FALSE</td><td>FALSE</td><td>FALSE</td><td>FALSE</td><td>FALSE</td><td>FALSE</td></tr>\n",
       "\t<tr><td>FALSE</td><td>FALSE</td><td>FALSE</td><td>FALSE</td><td>FALSE</td><td>FALSE</td></tr>\n",
       "\t<tr><td>FALSE</td><td>FALSE</td><td>FALSE</td><td>FALSE</td><td>FALSE</td><td>FALSE</td></tr>\n",
       "\t<tr><td>FALSE</td><td>FALSE</td><td>FALSE</td><td>FALSE</td><td>FALSE</td><td>FALSE</td></tr>\n",
       "\t<tr><td>FALSE</td><td>FALSE</td><td>FALSE</td><td>FALSE</td><td>FALSE</td><td>FALSE</td></tr>\n",
       "\t<tr><td>FALSE</td><td>FALSE</td><td>FALSE</td><td>FALSE</td><td>FALSE</td><td>FALSE</td></tr>\n",
       "\t<tr><td>FALSE</td><td>FALSE</td><td>FALSE</td><td>FALSE</td><td>FALSE</td><td>FALSE</td></tr>\n",
       "\t<tr><td>FALSE</td><td>FALSE</td><td>FALSE</td><td>FALSE</td><td>FALSE</td><td>FALSE</td></tr>\n",
       "\t<tr><td> TRUE</td><td>FALSE</td><td>FALSE</td><td>FALSE</td><td>FALSE</td><td>FALSE</td></tr>\n",
       "\t<tr><td> TRUE</td><td>FALSE</td><td>FALSE</td><td>FALSE</td><td>FALSE</td><td>FALSE</td></tr>\n",
       "\t<tr><td> TRUE</td><td> TRUE</td><td>FALSE</td><td>FALSE</td><td>FALSE</td><td>FALSE</td></tr>\n",
       "\t<tr><td>FALSE</td><td>FALSE</td><td>FALSE</td><td>FALSE</td><td>FALSE</td><td>FALSE</td></tr>\n",
       "\t<tr><td>FALSE</td><td>FALSE</td><td>FALSE</td><td>FALSE</td><td>FALSE</td><td>FALSE</td></tr>\n",
       "\t<tr><td>FALSE</td><td>FALSE</td><td>FALSE</td><td>FALSE</td><td>FALSE</td><td>FALSE</td></tr>\n",
       "\t<tr><td>...</td><td>...</td><td>...</td><td>...</td><td>...</td><td>...</td></tr>\n",
       "\t<tr><td>FALSE</td><td>FALSE</td><td>FALSE</td><td>FALSE</td><td>FALSE</td><td>FALSE</td></tr>\n",
       "\t<tr><td>FALSE</td><td>FALSE</td><td>FALSE</td><td>FALSE</td><td>FALSE</td><td>FALSE</td></tr>\n",
       "\t<tr><td>FALSE</td><td>FALSE</td><td>FALSE</td><td>FALSE</td><td>FALSE</td><td>FALSE</td></tr>\n",
       "\t<tr><td>FALSE</td><td>FALSE</td><td>FALSE</td><td>FALSE</td><td>FALSE</td><td>FALSE</td></tr>\n",
       "\t<tr><td>FALSE</td><td>FALSE</td><td>FALSE</td><td>FALSE</td><td>FALSE</td><td>FALSE</td></tr>\n",
       "\t<tr><td>FALSE</td><td>FALSE</td><td>FALSE</td><td>FALSE</td><td>FALSE</td><td>FALSE</td></tr>\n",
       "\t<tr><td>FALSE</td><td>FALSE</td><td>FALSE</td><td>FALSE</td><td>FALSE</td><td>FALSE</td></tr>\n",
       "\t<tr><td>FALSE</td><td>FALSE</td><td>FALSE</td><td>FALSE</td><td>FALSE</td><td>FALSE</td></tr>\n",
       "\t<tr><td>FALSE</td><td>FALSE</td><td>FALSE</td><td>FALSE</td><td>FALSE</td><td>FALSE</td></tr>\n",
       "\t<tr><td>FALSE</td><td>FALSE</td><td>FALSE</td><td>FALSE</td><td>FALSE</td><td>FALSE</td></tr>\n",
       "\t<tr><td>FALSE</td><td>FALSE</td><td>FALSE</td><td>FALSE</td><td>FALSE</td><td>FALSE</td></tr>\n",
       "\t<tr><td>FALSE</td><td>FALSE</td><td>FALSE</td><td>FALSE</td><td>FALSE</td><td>FALSE</td></tr>\n",
       "\t<tr><td>FALSE</td><td>FALSE</td><td>FALSE</td><td>FALSE</td><td>FALSE</td><td>FALSE</td></tr>\n",
       "\t<tr><td>FALSE</td><td>FALSE</td><td>FALSE</td><td>FALSE</td><td>FALSE</td><td>FALSE</td></tr>\n",
       "\t<tr><td>FALSE</td><td>FALSE</td><td>FALSE</td><td>FALSE</td><td>FALSE</td><td>FALSE</td></tr>\n",
       "\t<tr><td>FALSE</td><td>FALSE</td><td>FALSE</td><td>FALSE</td><td>FALSE</td><td>FALSE</td></tr>\n",
       "\t<tr><td>FALSE</td><td>FALSE</td><td>FALSE</td><td>FALSE</td><td>FALSE</td><td>FALSE</td></tr>\n",
       "\t<tr><td>FALSE</td><td>FALSE</td><td>FALSE</td><td>FALSE</td><td>FALSE</td><td>FALSE</td></tr>\n",
       "\t<tr><td>FALSE</td><td>FALSE</td><td>FALSE</td><td>FALSE</td><td>FALSE</td><td>FALSE</td></tr>\n",
       "\t<tr><td>FALSE</td><td>FALSE</td><td>FALSE</td><td>FALSE</td><td>FALSE</td><td>FALSE</td></tr>\n",
       "\t<tr><td>FALSE</td><td>FALSE</td><td>FALSE</td><td>FALSE</td><td>FALSE</td><td>FALSE</td></tr>\n",
       "\t<tr><td>FALSE</td><td>FALSE</td><td>FALSE</td><td>FALSE</td><td>FALSE</td><td>FALSE</td></tr>\n",
       "\t<tr><td>FALSE</td><td>FALSE</td><td>FALSE</td><td>FALSE</td><td>FALSE</td><td>FALSE</td></tr>\n",
       "\t<tr><td>FALSE</td><td>FALSE</td><td>FALSE</td><td>FALSE</td><td>FALSE</td><td>FALSE</td></tr>\n",
       "\t<tr><td>FALSE</td><td>FALSE</td><td>FALSE</td><td>FALSE</td><td>FALSE</td><td>FALSE</td></tr>\n",
       "\t<tr><td>FALSE</td><td>FALSE</td><td>FALSE</td><td>FALSE</td><td>FALSE</td><td>FALSE</td></tr>\n",
       "\t<tr><td> TRUE</td><td>FALSE</td><td>FALSE</td><td>FALSE</td><td>FALSE</td><td>FALSE</td></tr>\n",
       "\t<tr><td>FALSE</td><td>FALSE</td><td>FALSE</td><td>FALSE</td><td>FALSE</td><td>FALSE</td></tr>\n",
       "\t<tr><td>FALSE</td><td>FALSE</td><td>FALSE</td><td>FALSE</td><td>FALSE</td><td>FALSE</td></tr>\n",
       "\t<tr><td>FALSE</td><td>FALSE</td><td>FALSE</td><td>FALSE</td><td>FALSE</td><td>FALSE</td></tr>\n",
       "</tbody>\n",
       "</table>\n"
      ],
      "text/latex": [
       "\\begin{tabular}{llllll}\n",
       " Ozone & Solar.R & Wind & Temp & Month & Day\\\\\n",
       "\\hline\n",
       "\t FALSE & FALSE & FALSE & FALSE & FALSE & FALSE\\\\\n",
       "\t FALSE & FALSE & FALSE & FALSE & FALSE & FALSE\\\\\n",
       "\t FALSE & FALSE & FALSE & FALSE & FALSE & FALSE\\\\\n",
       "\t FALSE & FALSE & FALSE & FALSE & FALSE & FALSE\\\\\n",
       "\t  TRUE &  TRUE & FALSE & FALSE & FALSE & FALSE\\\\\n",
       "\t FALSE &  TRUE & FALSE & FALSE & FALSE & FALSE\\\\\n",
       "\t FALSE & FALSE & FALSE & FALSE & FALSE & FALSE\\\\\n",
       "\t FALSE & FALSE & FALSE & FALSE & FALSE & FALSE\\\\\n",
       "\t FALSE & FALSE & FALSE & FALSE & FALSE & FALSE\\\\\n",
       "\t  TRUE & FALSE & FALSE & FALSE & FALSE & FALSE\\\\\n",
       "\t FALSE &  TRUE & FALSE & FALSE & FALSE & FALSE\\\\\n",
       "\t FALSE & FALSE & FALSE & FALSE & FALSE & FALSE\\\\\n",
       "\t FALSE & FALSE & FALSE & FALSE & FALSE & FALSE\\\\\n",
       "\t FALSE & FALSE & FALSE & FALSE & FALSE & FALSE\\\\\n",
       "\t FALSE & FALSE & FALSE & FALSE & FALSE & FALSE\\\\\n",
       "\t FALSE & FALSE & FALSE & FALSE & FALSE & FALSE\\\\\n",
       "\t FALSE & FALSE & FALSE & FALSE & FALSE & FALSE\\\\\n",
       "\t FALSE & FALSE & FALSE & FALSE & FALSE & FALSE\\\\\n",
       "\t FALSE & FALSE & FALSE & FALSE & FALSE & FALSE\\\\\n",
       "\t FALSE & FALSE & FALSE & FALSE & FALSE & FALSE\\\\\n",
       "\t FALSE & FALSE & FALSE & FALSE & FALSE & FALSE\\\\\n",
       "\t FALSE & FALSE & FALSE & FALSE & FALSE & FALSE\\\\\n",
       "\t FALSE & FALSE & FALSE & FALSE & FALSE & FALSE\\\\\n",
       "\t FALSE & FALSE & FALSE & FALSE & FALSE & FALSE\\\\\n",
       "\t  TRUE & FALSE & FALSE & FALSE & FALSE & FALSE\\\\\n",
       "\t  TRUE & FALSE & FALSE & FALSE & FALSE & FALSE\\\\\n",
       "\t  TRUE &  TRUE & FALSE & FALSE & FALSE & FALSE\\\\\n",
       "\t FALSE & FALSE & FALSE & FALSE & FALSE & FALSE\\\\\n",
       "\t FALSE & FALSE & FALSE & FALSE & FALSE & FALSE\\\\\n",
       "\t FALSE & FALSE & FALSE & FALSE & FALSE & FALSE\\\\\n",
       "\t ... & ... & ... & ... & ... & ...\\\\\n",
       "\t FALSE & FALSE & FALSE & FALSE & FALSE & FALSE\\\\\n",
       "\t FALSE & FALSE & FALSE & FALSE & FALSE & FALSE\\\\\n",
       "\t FALSE & FALSE & FALSE & FALSE & FALSE & FALSE\\\\\n",
       "\t FALSE & FALSE & FALSE & FALSE & FALSE & FALSE\\\\\n",
       "\t FALSE & FALSE & FALSE & FALSE & FALSE & FALSE\\\\\n",
       "\t FALSE & FALSE & FALSE & FALSE & FALSE & FALSE\\\\\n",
       "\t FALSE & FALSE & FALSE & FALSE & FALSE & FALSE\\\\\n",
       "\t FALSE & FALSE & FALSE & FALSE & FALSE & FALSE\\\\\n",
       "\t FALSE & FALSE & FALSE & FALSE & FALSE & FALSE\\\\\n",
       "\t FALSE & FALSE & FALSE & FALSE & FALSE & FALSE\\\\\n",
       "\t FALSE & FALSE & FALSE & FALSE & FALSE & FALSE\\\\\n",
       "\t FALSE & FALSE & FALSE & FALSE & FALSE & FALSE\\\\\n",
       "\t FALSE & FALSE & FALSE & FALSE & FALSE & FALSE\\\\\n",
       "\t FALSE & FALSE & FALSE & FALSE & FALSE & FALSE\\\\\n",
       "\t FALSE & FALSE & FALSE & FALSE & FALSE & FALSE\\\\\n",
       "\t FALSE & FALSE & FALSE & FALSE & FALSE & FALSE\\\\\n",
       "\t FALSE & FALSE & FALSE & FALSE & FALSE & FALSE\\\\\n",
       "\t FALSE & FALSE & FALSE & FALSE & FALSE & FALSE\\\\\n",
       "\t FALSE & FALSE & FALSE & FALSE & FALSE & FALSE\\\\\n",
       "\t FALSE & FALSE & FALSE & FALSE & FALSE & FALSE\\\\\n",
       "\t FALSE & FALSE & FALSE & FALSE & FALSE & FALSE\\\\\n",
       "\t FALSE & FALSE & FALSE & FALSE & FALSE & FALSE\\\\\n",
       "\t FALSE & FALSE & FALSE & FALSE & FALSE & FALSE\\\\\n",
       "\t FALSE & FALSE & FALSE & FALSE & FALSE & FALSE\\\\\n",
       "\t FALSE & FALSE & FALSE & FALSE & FALSE & FALSE\\\\\n",
       "\t FALSE & FALSE & FALSE & FALSE & FALSE & FALSE\\\\\n",
       "\t  TRUE & FALSE & FALSE & FALSE & FALSE & FALSE\\\\\n",
       "\t FALSE & FALSE & FALSE & FALSE & FALSE & FALSE\\\\\n",
       "\t FALSE & FALSE & FALSE & FALSE & FALSE & FALSE\\\\\n",
       "\t FALSE & FALSE & FALSE & FALSE & FALSE & FALSE\\\\\n",
       "\\end{tabular}\n"
      ],
      "text/markdown": [
       "\n",
       "Ozone | Solar.R | Wind | Temp | Month | Day | \n",
       "|---|---|---|---|---|---|---|---|---|---|---|---|---|---|---|---|---|---|---|---|---|---|---|---|---|---|---|---|---|---|---|---|---|---|---|---|---|---|---|---|---|---|---|---|---|---|---|---|---|---|---|---|---|---|---|---|---|---|---|---|---|\n",
       "| FALSE | FALSE | FALSE | FALSE | FALSE | FALSE | \n",
       "| FALSE | FALSE | FALSE | FALSE | FALSE | FALSE | \n",
       "| FALSE | FALSE | FALSE | FALSE | FALSE | FALSE | \n",
       "| FALSE | FALSE | FALSE | FALSE | FALSE | FALSE | \n",
       "|  TRUE |  TRUE | FALSE | FALSE | FALSE | FALSE | \n",
       "| FALSE |  TRUE | FALSE | FALSE | FALSE | FALSE | \n",
       "| FALSE | FALSE | FALSE | FALSE | FALSE | FALSE | \n",
       "| FALSE | FALSE | FALSE | FALSE | FALSE | FALSE | \n",
       "| FALSE | FALSE | FALSE | FALSE | FALSE | FALSE | \n",
       "|  TRUE | FALSE | FALSE | FALSE | FALSE | FALSE | \n",
       "| FALSE |  TRUE | FALSE | FALSE | FALSE | FALSE | \n",
       "| FALSE | FALSE | FALSE | FALSE | FALSE | FALSE | \n",
       "| FALSE | FALSE | FALSE | FALSE | FALSE | FALSE | \n",
       "| FALSE | FALSE | FALSE | FALSE | FALSE | FALSE | \n",
       "| FALSE | FALSE | FALSE | FALSE | FALSE | FALSE | \n",
       "| FALSE | FALSE | FALSE | FALSE | FALSE | FALSE | \n",
       "| FALSE | FALSE | FALSE | FALSE | FALSE | FALSE | \n",
       "| FALSE | FALSE | FALSE | FALSE | FALSE | FALSE | \n",
       "| FALSE | FALSE | FALSE | FALSE | FALSE | FALSE | \n",
       "| FALSE | FALSE | FALSE | FALSE | FALSE | FALSE | \n",
       "| FALSE | FALSE | FALSE | FALSE | FALSE | FALSE | \n",
       "| FALSE | FALSE | FALSE | FALSE | FALSE | FALSE | \n",
       "| FALSE | FALSE | FALSE | FALSE | FALSE | FALSE | \n",
       "| FALSE | FALSE | FALSE | FALSE | FALSE | FALSE | \n",
       "|  TRUE | FALSE | FALSE | FALSE | FALSE | FALSE | \n",
       "|  TRUE | FALSE | FALSE | FALSE | FALSE | FALSE | \n",
       "|  TRUE |  TRUE | FALSE | FALSE | FALSE | FALSE | \n",
       "| FALSE | FALSE | FALSE | FALSE | FALSE | FALSE | \n",
       "| FALSE | FALSE | FALSE | FALSE | FALSE | FALSE | \n",
       "| FALSE | FALSE | FALSE | FALSE | FALSE | FALSE | \n",
       "| ... | ... | ... | ... | ... | ... | \n",
       "| FALSE | FALSE | FALSE | FALSE | FALSE | FALSE | \n",
       "| FALSE | FALSE | FALSE | FALSE | FALSE | FALSE | \n",
       "| FALSE | FALSE | FALSE | FALSE | FALSE | FALSE | \n",
       "| FALSE | FALSE | FALSE | FALSE | FALSE | FALSE | \n",
       "| FALSE | FALSE | FALSE | FALSE | FALSE | FALSE | \n",
       "| FALSE | FALSE | FALSE | FALSE | FALSE | FALSE | \n",
       "| FALSE | FALSE | FALSE | FALSE | FALSE | FALSE | \n",
       "| FALSE | FALSE | FALSE | FALSE | FALSE | FALSE | \n",
       "| FALSE | FALSE | FALSE | FALSE | FALSE | FALSE | \n",
       "| FALSE | FALSE | FALSE | FALSE | FALSE | FALSE | \n",
       "| FALSE | FALSE | FALSE | FALSE | FALSE | FALSE | \n",
       "| FALSE | FALSE | FALSE | FALSE | FALSE | FALSE | \n",
       "| FALSE | FALSE | FALSE | FALSE | FALSE | FALSE | \n",
       "| FALSE | FALSE | FALSE | FALSE | FALSE | FALSE | \n",
       "| FALSE | FALSE | FALSE | FALSE | FALSE | FALSE | \n",
       "| FALSE | FALSE | FALSE | FALSE | FALSE | FALSE | \n",
       "| FALSE | FALSE | FALSE | FALSE | FALSE | FALSE | \n",
       "| FALSE | FALSE | FALSE | FALSE | FALSE | FALSE | \n",
       "| FALSE | FALSE | FALSE | FALSE | FALSE | FALSE | \n",
       "| FALSE | FALSE | FALSE | FALSE | FALSE | FALSE | \n",
       "| FALSE | FALSE | FALSE | FALSE | FALSE | FALSE | \n",
       "| FALSE | FALSE | FALSE | FALSE | FALSE | FALSE | \n",
       "| FALSE | FALSE | FALSE | FALSE | FALSE | FALSE | \n",
       "| FALSE | FALSE | FALSE | FALSE | FALSE | FALSE | \n",
       "| FALSE | FALSE | FALSE | FALSE | FALSE | FALSE | \n",
       "| FALSE | FALSE | FALSE | FALSE | FALSE | FALSE | \n",
       "|  TRUE | FALSE | FALSE | FALSE | FALSE | FALSE | \n",
       "| FALSE | FALSE | FALSE | FALSE | FALSE | FALSE | \n",
       "| FALSE | FALSE | FALSE | FALSE | FALSE | FALSE | \n",
       "| FALSE | FALSE | FALSE | FALSE | FALSE | FALSE | \n",
       "\n",
       "\n"
      ],
      "text/plain": [
       "      Ozone Solar.R Wind  Temp  Month Day  \n",
       " [1,] FALSE FALSE   FALSE FALSE FALSE FALSE\n",
       " [2,] FALSE FALSE   FALSE FALSE FALSE FALSE\n",
       " [3,] FALSE FALSE   FALSE FALSE FALSE FALSE\n",
       " [4,] FALSE FALSE   FALSE FALSE FALSE FALSE\n",
       " [5,]  TRUE  TRUE   FALSE FALSE FALSE FALSE\n",
       " [6,] FALSE  TRUE   FALSE FALSE FALSE FALSE\n",
       " [7,] FALSE FALSE   FALSE FALSE FALSE FALSE\n",
       " [8,] FALSE FALSE   FALSE FALSE FALSE FALSE\n",
       " [9,] FALSE FALSE   FALSE FALSE FALSE FALSE\n",
       "[10,]  TRUE FALSE   FALSE FALSE FALSE FALSE\n",
       "[11,] FALSE  TRUE   FALSE FALSE FALSE FALSE\n",
       "[12,] FALSE FALSE   FALSE FALSE FALSE FALSE\n",
       "[13,] FALSE FALSE   FALSE FALSE FALSE FALSE\n",
       "[14,] FALSE FALSE   FALSE FALSE FALSE FALSE\n",
       "[15,] FALSE FALSE   FALSE FALSE FALSE FALSE\n",
       "[16,] FALSE FALSE   FALSE FALSE FALSE FALSE\n",
       "[17,] FALSE FALSE   FALSE FALSE FALSE FALSE\n",
       "[18,] FALSE FALSE   FALSE FALSE FALSE FALSE\n",
       "[19,] FALSE FALSE   FALSE FALSE FALSE FALSE\n",
       "[20,] FALSE FALSE   FALSE FALSE FALSE FALSE\n",
       "[21,] FALSE FALSE   FALSE FALSE FALSE FALSE\n",
       "[22,] FALSE FALSE   FALSE FALSE FALSE FALSE\n",
       "[23,] FALSE FALSE   FALSE FALSE FALSE FALSE\n",
       "[24,] FALSE FALSE   FALSE FALSE FALSE FALSE\n",
       "[25,]  TRUE FALSE   FALSE FALSE FALSE FALSE\n",
       "[26,]  TRUE FALSE   FALSE FALSE FALSE FALSE\n",
       "[27,]  TRUE  TRUE   FALSE FALSE FALSE FALSE\n",
       "[28,] FALSE FALSE   FALSE FALSE FALSE FALSE\n",
       "[29,] FALSE FALSE   FALSE FALSE FALSE FALSE\n",
       "[30,] FALSE FALSE   FALSE FALSE FALSE FALSE\n",
       "[31,] ...   ...     ...   ...   ...   ...  \n",
       "[32,] FALSE FALSE   FALSE FALSE FALSE FALSE\n",
       "[33,] FALSE FALSE   FALSE FALSE FALSE FALSE\n",
       "[34,] FALSE FALSE   FALSE FALSE FALSE FALSE\n",
       "[35,] FALSE FALSE   FALSE FALSE FALSE FALSE\n",
       "[36,] FALSE FALSE   FALSE FALSE FALSE FALSE\n",
       "[37,] FALSE FALSE   FALSE FALSE FALSE FALSE\n",
       "[38,] FALSE FALSE   FALSE FALSE FALSE FALSE\n",
       "[39,] FALSE FALSE   FALSE FALSE FALSE FALSE\n",
       "[40,] FALSE FALSE   FALSE FALSE FALSE FALSE\n",
       "[41,] FALSE FALSE   FALSE FALSE FALSE FALSE\n",
       "[42,] FALSE FALSE   FALSE FALSE FALSE FALSE\n",
       "[43,] FALSE FALSE   FALSE FALSE FALSE FALSE\n",
       "[44,] FALSE FALSE   FALSE FALSE FALSE FALSE\n",
       "[45,] FALSE FALSE   FALSE FALSE FALSE FALSE\n",
       "[46,] FALSE FALSE   FALSE FALSE FALSE FALSE\n",
       "[47,] FALSE FALSE   FALSE FALSE FALSE FALSE\n",
       "[48,] FALSE FALSE   FALSE FALSE FALSE FALSE\n",
       "[49,] FALSE FALSE   FALSE FALSE FALSE FALSE\n",
       "[50,] FALSE FALSE   FALSE FALSE FALSE FALSE\n",
       "[51,] FALSE FALSE   FALSE FALSE FALSE FALSE\n",
       "[52,] FALSE FALSE   FALSE FALSE FALSE FALSE\n",
       "[53,] FALSE FALSE   FALSE FALSE FALSE FALSE\n",
       "[54,] FALSE FALSE   FALSE FALSE FALSE FALSE\n",
       "[55,] FALSE FALSE   FALSE FALSE FALSE FALSE\n",
       "[56,] FALSE FALSE   FALSE FALSE FALSE FALSE\n",
       "[57,] FALSE FALSE   FALSE FALSE FALSE FALSE\n",
       "[58,]  TRUE FALSE   FALSE FALSE FALSE FALSE\n",
       "[59,] FALSE FALSE   FALSE FALSE FALSE FALSE\n",
       "[60,] FALSE FALSE   FALSE FALSE FALSE FALSE\n",
       "[61,] FALSE FALSE   FALSE FALSE FALSE FALSE"
      ]
     },
     "metadata": {},
     "output_type": "display_data"
    },
    {
     "data": {
      "text/html": [
       "<table>\n",
       "<thead><tr><th scope=col>Ozone</th><th scope=col>Solar.R</th><th scope=col>Wind</th><th scope=col>Temp</th><th scope=col>Month</th><th scope=col>Day</th></tr></thead>\n",
       "<tbody>\n",
       "\t<tr><td> TRUE</td><td> TRUE</td><td>TRUE </td><td>TRUE </td><td>TRUE </td><td>TRUE </td></tr>\n",
       "\t<tr><td> TRUE</td><td> TRUE</td><td>TRUE </td><td>TRUE </td><td>TRUE </td><td>TRUE </td></tr>\n",
       "\t<tr><td> TRUE</td><td> TRUE</td><td>TRUE </td><td>TRUE </td><td>TRUE </td><td>TRUE </td></tr>\n",
       "\t<tr><td> TRUE</td><td> TRUE</td><td>TRUE </td><td>TRUE </td><td>TRUE </td><td>TRUE </td></tr>\n",
       "\t<tr><td>FALSE</td><td>FALSE</td><td>TRUE </td><td>TRUE </td><td>TRUE </td><td>TRUE </td></tr>\n",
       "\t<tr><td> TRUE</td><td>FALSE</td><td>TRUE </td><td>TRUE </td><td>TRUE </td><td>TRUE </td></tr>\n",
       "\t<tr><td> TRUE</td><td> TRUE</td><td>TRUE </td><td>TRUE </td><td>TRUE </td><td>TRUE </td></tr>\n",
       "\t<tr><td> TRUE</td><td> TRUE</td><td>TRUE </td><td>TRUE </td><td>TRUE </td><td>TRUE </td></tr>\n",
       "\t<tr><td> TRUE</td><td> TRUE</td><td>TRUE </td><td>TRUE </td><td>TRUE </td><td>TRUE </td></tr>\n",
       "\t<tr><td>FALSE</td><td> TRUE</td><td>TRUE </td><td>TRUE </td><td>TRUE </td><td>TRUE </td></tr>\n",
       "\t<tr><td> TRUE</td><td>FALSE</td><td>TRUE </td><td>TRUE </td><td>TRUE </td><td>TRUE </td></tr>\n",
       "\t<tr><td> TRUE</td><td> TRUE</td><td>TRUE </td><td>TRUE </td><td>TRUE </td><td>TRUE </td></tr>\n",
       "\t<tr><td> TRUE</td><td> TRUE</td><td>TRUE </td><td>TRUE </td><td>TRUE </td><td>TRUE </td></tr>\n",
       "\t<tr><td> TRUE</td><td> TRUE</td><td>TRUE </td><td>TRUE </td><td>TRUE </td><td>TRUE </td></tr>\n",
       "\t<tr><td> TRUE</td><td> TRUE</td><td>TRUE </td><td>TRUE </td><td>TRUE </td><td>TRUE </td></tr>\n",
       "\t<tr><td> TRUE</td><td> TRUE</td><td>TRUE </td><td>TRUE </td><td>TRUE </td><td>TRUE </td></tr>\n",
       "\t<tr><td> TRUE</td><td> TRUE</td><td>TRUE </td><td>TRUE </td><td>TRUE </td><td>TRUE </td></tr>\n",
       "\t<tr><td> TRUE</td><td> TRUE</td><td>TRUE </td><td>TRUE </td><td>TRUE </td><td>TRUE </td></tr>\n",
       "\t<tr><td> TRUE</td><td> TRUE</td><td>TRUE </td><td>TRUE </td><td>TRUE </td><td>TRUE </td></tr>\n",
       "\t<tr><td> TRUE</td><td> TRUE</td><td>TRUE </td><td>TRUE </td><td>TRUE </td><td>TRUE </td></tr>\n",
       "\t<tr><td> TRUE</td><td> TRUE</td><td>TRUE </td><td>TRUE </td><td>TRUE </td><td>TRUE </td></tr>\n",
       "\t<tr><td> TRUE</td><td> TRUE</td><td>TRUE </td><td>TRUE </td><td>TRUE </td><td>TRUE </td></tr>\n",
       "\t<tr><td> TRUE</td><td> TRUE</td><td>TRUE </td><td>TRUE </td><td>TRUE </td><td>TRUE </td></tr>\n",
       "\t<tr><td> TRUE</td><td> TRUE</td><td>TRUE </td><td>TRUE </td><td>TRUE </td><td>TRUE </td></tr>\n",
       "\t<tr><td>FALSE</td><td> TRUE</td><td>TRUE </td><td>TRUE </td><td>TRUE </td><td>TRUE </td></tr>\n",
       "\t<tr><td>FALSE</td><td> TRUE</td><td>TRUE </td><td>TRUE </td><td>TRUE </td><td>TRUE </td></tr>\n",
       "\t<tr><td>FALSE</td><td>FALSE</td><td>TRUE </td><td>TRUE </td><td>TRUE </td><td>TRUE </td></tr>\n",
       "\t<tr><td> TRUE</td><td> TRUE</td><td>TRUE </td><td>TRUE </td><td>TRUE </td><td>TRUE </td></tr>\n",
       "\t<tr><td> TRUE</td><td> TRUE</td><td>TRUE </td><td>TRUE </td><td>TRUE </td><td>TRUE </td></tr>\n",
       "\t<tr><td> TRUE</td><td> TRUE</td><td>TRUE </td><td>TRUE </td><td>TRUE </td><td>TRUE </td></tr>\n",
       "\t<tr><td>...</td><td>...</td><td>...</td><td>...</td><td>...</td><td>...</td></tr>\n",
       "\t<tr><td> TRUE</td><td>TRUE </td><td>TRUE </td><td>TRUE </td><td>TRUE </td><td>TRUE </td></tr>\n",
       "\t<tr><td> TRUE</td><td>TRUE </td><td>TRUE </td><td>TRUE </td><td>TRUE </td><td>TRUE </td></tr>\n",
       "\t<tr><td> TRUE</td><td>TRUE </td><td>TRUE </td><td>TRUE </td><td>TRUE </td><td>TRUE </td></tr>\n",
       "\t<tr><td> TRUE</td><td>TRUE </td><td>TRUE </td><td>TRUE </td><td>TRUE </td><td>TRUE </td></tr>\n",
       "\t<tr><td> TRUE</td><td>TRUE </td><td>TRUE </td><td>TRUE </td><td>TRUE </td><td>TRUE </td></tr>\n",
       "\t<tr><td> TRUE</td><td>TRUE </td><td>TRUE </td><td>TRUE </td><td>TRUE </td><td>TRUE </td></tr>\n",
       "\t<tr><td> TRUE</td><td>TRUE </td><td>TRUE </td><td>TRUE </td><td>TRUE </td><td>TRUE </td></tr>\n",
       "\t<tr><td> TRUE</td><td>TRUE </td><td>TRUE </td><td>TRUE </td><td>TRUE </td><td>TRUE </td></tr>\n",
       "\t<tr><td> TRUE</td><td>TRUE </td><td>TRUE </td><td>TRUE </td><td>TRUE </td><td>TRUE </td></tr>\n",
       "\t<tr><td> TRUE</td><td>TRUE </td><td>TRUE </td><td>TRUE </td><td>TRUE </td><td>TRUE </td></tr>\n",
       "\t<tr><td> TRUE</td><td>TRUE </td><td>TRUE </td><td>TRUE </td><td>TRUE </td><td>TRUE </td></tr>\n",
       "\t<tr><td> TRUE</td><td>TRUE </td><td>TRUE </td><td>TRUE </td><td>TRUE </td><td>TRUE </td></tr>\n",
       "\t<tr><td> TRUE</td><td>TRUE </td><td>TRUE </td><td>TRUE </td><td>TRUE </td><td>TRUE </td></tr>\n",
       "\t<tr><td> TRUE</td><td>TRUE </td><td>TRUE </td><td>TRUE </td><td>TRUE </td><td>TRUE </td></tr>\n",
       "\t<tr><td> TRUE</td><td>TRUE </td><td>TRUE </td><td>TRUE </td><td>TRUE </td><td>TRUE </td></tr>\n",
       "\t<tr><td> TRUE</td><td>TRUE </td><td>TRUE </td><td>TRUE </td><td>TRUE </td><td>TRUE </td></tr>\n",
       "\t<tr><td> TRUE</td><td>TRUE </td><td>TRUE </td><td>TRUE </td><td>TRUE </td><td>TRUE </td></tr>\n",
       "\t<tr><td> TRUE</td><td>TRUE </td><td>TRUE </td><td>TRUE </td><td>TRUE </td><td>TRUE </td></tr>\n",
       "\t<tr><td> TRUE</td><td>TRUE </td><td>TRUE </td><td>TRUE </td><td>TRUE </td><td>TRUE </td></tr>\n",
       "\t<tr><td> TRUE</td><td>TRUE </td><td>TRUE </td><td>TRUE </td><td>TRUE </td><td>TRUE </td></tr>\n",
       "\t<tr><td> TRUE</td><td>TRUE </td><td>TRUE </td><td>TRUE </td><td>TRUE </td><td>TRUE </td></tr>\n",
       "\t<tr><td> TRUE</td><td>TRUE </td><td>TRUE </td><td>TRUE </td><td>TRUE </td><td>TRUE </td></tr>\n",
       "\t<tr><td> TRUE</td><td>TRUE </td><td>TRUE </td><td>TRUE </td><td>TRUE </td><td>TRUE </td></tr>\n",
       "\t<tr><td> TRUE</td><td>TRUE </td><td>TRUE </td><td>TRUE </td><td>TRUE </td><td>TRUE </td></tr>\n",
       "\t<tr><td> TRUE</td><td>TRUE </td><td>TRUE </td><td>TRUE </td><td>TRUE </td><td>TRUE </td></tr>\n",
       "\t<tr><td> TRUE</td><td>TRUE </td><td>TRUE </td><td>TRUE </td><td>TRUE </td><td>TRUE </td></tr>\n",
       "\t<tr><td>FALSE</td><td>TRUE </td><td>TRUE </td><td>TRUE </td><td>TRUE </td><td>TRUE </td></tr>\n",
       "\t<tr><td> TRUE</td><td>TRUE </td><td>TRUE </td><td>TRUE </td><td>TRUE </td><td>TRUE </td></tr>\n",
       "\t<tr><td> TRUE</td><td>TRUE </td><td>TRUE </td><td>TRUE </td><td>TRUE </td><td>TRUE </td></tr>\n",
       "\t<tr><td> TRUE</td><td>TRUE </td><td>TRUE </td><td>TRUE </td><td>TRUE </td><td>TRUE </td></tr>\n",
       "</tbody>\n",
       "</table>\n"
      ],
      "text/latex": [
       "\\begin{tabular}{llllll}\n",
       " Ozone & Solar.R & Wind & Temp & Month & Day\\\\\n",
       "\\hline\n",
       "\t  TRUE &  TRUE & TRUE  & TRUE  & TRUE  & TRUE \\\\\n",
       "\t  TRUE &  TRUE & TRUE  & TRUE  & TRUE  & TRUE \\\\\n",
       "\t  TRUE &  TRUE & TRUE  & TRUE  & TRUE  & TRUE \\\\\n",
       "\t  TRUE &  TRUE & TRUE  & TRUE  & TRUE  & TRUE \\\\\n",
       "\t FALSE & FALSE & TRUE  & TRUE  & TRUE  & TRUE \\\\\n",
       "\t  TRUE & FALSE & TRUE  & TRUE  & TRUE  & TRUE \\\\\n",
       "\t  TRUE &  TRUE & TRUE  & TRUE  & TRUE  & TRUE \\\\\n",
       "\t  TRUE &  TRUE & TRUE  & TRUE  & TRUE  & TRUE \\\\\n",
       "\t  TRUE &  TRUE & TRUE  & TRUE  & TRUE  & TRUE \\\\\n",
       "\t FALSE &  TRUE & TRUE  & TRUE  & TRUE  & TRUE \\\\\n",
       "\t  TRUE & FALSE & TRUE  & TRUE  & TRUE  & TRUE \\\\\n",
       "\t  TRUE &  TRUE & TRUE  & TRUE  & TRUE  & TRUE \\\\\n",
       "\t  TRUE &  TRUE & TRUE  & TRUE  & TRUE  & TRUE \\\\\n",
       "\t  TRUE &  TRUE & TRUE  & TRUE  & TRUE  & TRUE \\\\\n",
       "\t  TRUE &  TRUE & TRUE  & TRUE  & TRUE  & TRUE \\\\\n",
       "\t  TRUE &  TRUE & TRUE  & TRUE  & TRUE  & TRUE \\\\\n",
       "\t  TRUE &  TRUE & TRUE  & TRUE  & TRUE  & TRUE \\\\\n",
       "\t  TRUE &  TRUE & TRUE  & TRUE  & TRUE  & TRUE \\\\\n",
       "\t  TRUE &  TRUE & TRUE  & TRUE  & TRUE  & TRUE \\\\\n",
       "\t  TRUE &  TRUE & TRUE  & TRUE  & TRUE  & TRUE \\\\\n",
       "\t  TRUE &  TRUE & TRUE  & TRUE  & TRUE  & TRUE \\\\\n",
       "\t  TRUE &  TRUE & TRUE  & TRUE  & TRUE  & TRUE \\\\\n",
       "\t  TRUE &  TRUE & TRUE  & TRUE  & TRUE  & TRUE \\\\\n",
       "\t  TRUE &  TRUE & TRUE  & TRUE  & TRUE  & TRUE \\\\\n",
       "\t FALSE &  TRUE & TRUE  & TRUE  & TRUE  & TRUE \\\\\n",
       "\t FALSE &  TRUE & TRUE  & TRUE  & TRUE  & TRUE \\\\\n",
       "\t FALSE & FALSE & TRUE  & TRUE  & TRUE  & TRUE \\\\\n",
       "\t  TRUE &  TRUE & TRUE  & TRUE  & TRUE  & TRUE \\\\\n",
       "\t  TRUE &  TRUE & TRUE  & TRUE  & TRUE  & TRUE \\\\\n",
       "\t  TRUE &  TRUE & TRUE  & TRUE  & TRUE  & TRUE \\\\\n",
       "\t ... & ... & ... & ... & ... & ...\\\\\n",
       "\t  TRUE & TRUE  & TRUE  & TRUE  & TRUE  & TRUE \\\\\n",
       "\t  TRUE & TRUE  & TRUE  & TRUE  & TRUE  & TRUE \\\\\n",
       "\t  TRUE & TRUE  & TRUE  & TRUE  & TRUE  & TRUE \\\\\n",
       "\t  TRUE & TRUE  & TRUE  & TRUE  & TRUE  & TRUE \\\\\n",
       "\t  TRUE & TRUE  & TRUE  & TRUE  & TRUE  & TRUE \\\\\n",
       "\t  TRUE & TRUE  & TRUE  & TRUE  & TRUE  & TRUE \\\\\n",
       "\t  TRUE & TRUE  & TRUE  & TRUE  & TRUE  & TRUE \\\\\n",
       "\t  TRUE & TRUE  & TRUE  & TRUE  & TRUE  & TRUE \\\\\n",
       "\t  TRUE & TRUE  & TRUE  & TRUE  & TRUE  & TRUE \\\\\n",
       "\t  TRUE & TRUE  & TRUE  & TRUE  & TRUE  & TRUE \\\\\n",
       "\t  TRUE & TRUE  & TRUE  & TRUE  & TRUE  & TRUE \\\\\n",
       "\t  TRUE & TRUE  & TRUE  & TRUE  & TRUE  & TRUE \\\\\n",
       "\t  TRUE & TRUE  & TRUE  & TRUE  & TRUE  & TRUE \\\\\n",
       "\t  TRUE & TRUE  & TRUE  & TRUE  & TRUE  & TRUE \\\\\n",
       "\t  TRUE & TRUE  & TRUE  & TRUE  & TRUE  & TRUE \\\\\n",
       "\t  TRUE & TRUE  & TRUE  & TRUE  & TRUE  & TRUE \\\\\n",
       "\t  TRUE & TRUE  & TRUE  & TRUE  & TRUE  & TRUE \\\\\n",
       "\t  TRUE & TRUE  & TRUE  & TRUE  & TRUE  & TRUE \\\\\n",
       "\t  TRUE & TRUE  & TRUE  & TRUE  & TRUE  & TRUE \\\\\n",
       "\t  TRUE & TRUE  & TRUE  & TRUE  & TRUE  & TRUE \\\\\n",
       "\t  TRUE & TRUE  & TRUE  & TRUE  & TRUE  & TRUE \\\\\n",
       "\t  TRUE & TRUE  & TRUE  & TRUE  & TRUE  & TRUE \\\\\n",
       "\t  TRUE & TRUE  & TRUE  & TRUE  & TRUE  & TRUE \\\\\n",
       "\t  TRUE & TRUE  & TRUE  & TRUE  & TRUE  & TRUE \\\\\n",
       "\t  TRUE & TRUE  & TRUE  & TRUE  & TRUE  & TRUE \\\\\n",
       "\t  TRUE & TRUE  & TRUE  & TRUE  & TRUE  & TRUE \\\\\n",
       "\t FALSE & TRUE  & TRUE  & TRUE  & TRUE  & TRUE \\\\\n",
       "\t  TRUE & TRUE  & TRUE  & TRUE  & TRUE  & TRUE \\\\\n",
       "\t  TRUE & TRUE  & TRUE  & TRUE  & TRUE  & TRUE \\\\\n",
       "\t  TRUE & TRUE  & TRUE  & TRUE  & TRUE  & TRUE \\\\\n",
       "\\end{tabular}\n"
      ],
      "text/markdown": [
       "\n",
       "Ozone | Solar.R | Wind | Temp | Month | Day | \n",
       "|---|---|---|---|---|---|---|---|---|---|---|---|---|---|---|---|---|---|---|---|---|---|---|---|---|---|---|---|---|---|---|---|---|---|---|---|---|---|---|---|---|---|---|---|---|---|---|---|---|---|---|---|---|---|---|---|---|---|---|---|---|\n",
       "|  TRUE |  TRUE | TRUE  | TRUE  | TRUE  | TRUE  | \n",
       "|  TRUE |  TRUE | TRUE  | TRUE  | TRUE  | TRUE  | \n",
       "|  TRUE |  TRUE | TRUE  | TRUE  | TRUE  | TRUE  | \n",
       "|  TRUE |  TRUE | TRUE  | TRUE  | TRUE  | TRUE  | \n",
       "| FALSE | FALSE | TRUE  | TRUE  | TRUE  | TRUE  | \n",
       "|  TRUE | FALSE | TRUE  | TRUE  | TRUE  | TRUE  | \n",
       "|  TRUE |  TRUE | TRUE  | TRUE  | TRUE  | TRUE  | \n",
       "|  TRUE |  TRUE | TRUE  | TRUE  | TRUE  | TRUE  | \n",
       "|  TRUE |  TRUE | TRUE  | TRUE  | TRUE  | TRUE  | \n",
       "| FALSE |  TRUE | TRUE  | TRUE  | TRUE  | TRUE  | \n",
       "|  TRUE | FALSE | TRUE  | TRUE  | TRUE  | TRUE  | \n",
       "|  TRUE |  TRUE | TRUE  | TRUE  | TRUE  | TRUE  | \n",
       "|  TRUE |  TRUE | TRUE  | TRUE  | TRUE  | TRUE  | \n",
       "|  TRUE |  TRUE | TRUE  | TRUE  | TRUE  | TRUE  | \n",
       "|  TRUE |  TRUE | TRUE  | TRUE  | TRUE  | TRUE  | \n",
       "|  TRUE |  TRUE | TRUE  | TRUE  | TRUE  | TRUE  | \n",
       "|  TRUE |  TRUE | TRUE  | TRUE  | TRUE  | TRUE  | \n",
       "|  TRUE |  TRUE | TRUE  | TRUE  | TRUE  | TRUE  | \n",
       "|  TRUE |  TRUE | TRUE  | TRUE  | TRUE  | TRUE  | \n",
       "|  TRUE |  TRUE | TRUE  | TRUE  | TRUE  | TRUE  | \n",
       "|  TRUE |  TRUE | TRUE  | TRUE  | TRUE  | TRUE  | \n",
       "|  TRUE |  TRUE | TRUE  | TRUE  | TRUE  | TRUE  | \n",
       "|  TRUE |  TRUE | TRUE  | TRUE  | TRUE  | TRUE  | \n",
       "|  TRUE |  TRUE | TRUE  | TRUE  | TRUE  | TRUE  | \n",
       "| FALSE |  TRUE | TRUE  | TRUE  | TRUE  | TRUE  | \n",
       "| FALSE |  TRUE | TRUE  | TRUE  | TRUE  | TRUE  | \n",
       "| FALSE | FALSE | TRUE  | TRUE  | TRUE  | TRUE  | \n",
       "|  TRUE |  TRUE | TRUE  | TRUE  | TRUE  | TRUE  | \n",
       "|  TRUE |  TRUE | TRUE  | TRUE  | TRUE  | TRUE  | \n",
       "|  TRUE |  TRUE | TRUE  | TRUE  | TRUE  | TRUE  | \n",
       "| ... | ... | ... | ... | ... | ... | \n",
       "|  TRUE | TRUE  | TRUE  | TRUE  | TRUE  | TRUE  | \n",
       "|  TRUE | TRUE  | TRUE  | TRUE  | TRUE  | TRUE  | \n",
       "|  TRUE | TRUE  | TRUE  | TRUE  | TRUE  | TRUE  | \n",
       "|  TRUE | TRUE  | TRUE  | TRUE  | TRUE  | TRUE  | \n",
       "|  TRUE | TRUE  | TRUE  | TRUE  | TRUE  | TRUE  | \n",
       "|  TRUE | TRUE  | TRUE  | TRUE  | TRUE  | TRUE  | \n",
       "|  TRUE | TRUE  | TRUE  | TRUE  | TRUE  | TRUE  | \n",
       "|  TRUE | TRUE  | TRUE  | TRUE  | TRUE  | TRUE  | \n",
       "|  TRUE | TRUE  | TRUE  | TRUE  | TRUE  | TRUE  | \n",
       "|  TRUE | TRUE  | TRUE  | TRUE  | TRUE  | TRUE  | \n",
       "|  TRUE | TRUE  | TRUE  | TRUE  | TRUE  | TRUE  | \n",
       "|  TRUE | TRUE  | TRUE  | TRUE  | TRUE  | TRUE  | \n",
       "|  TRUE | TRUE  | TRUE  | TRUE  | TRUE  | TRUE  | \n",
       "|  TRUE | TRUE  | TRUE  | TRUE  | TRUE  | TRUE  | \n",
       "|  TRUE | TRUE  | TRUE  | TRUE  | TRUE  | TRUE  | \n",
       "|  TRUE | TRUE  | TRUE  | TRUE  | TRUE  | TRUE  | \n",
       "|  TRUE | TRUE  | TRUE  | TRUE  | TRUE  | TRUE  | \n",
       "|  TRUE | TRUE  | TRUE  | TRUE  | TRUE  | TRUE  | \n",
       "|  TRUE | TRUE  | TRUE  | TRUE  | TRUE  | TRUE  | \n",
       "|  TRUE | TRUE  | TRUE  | TRUE  | TRUE  | TRUE  | \n",
       "|  TRUE | TRUE  | TRUE  | TRUE  | TRUE  | TRUE  | \n",
       "|  TRUE | TRUE  | TRUE  | TRUE  | TRUE  | TRUE  | \n",
       "|  TRUE | TRUE  | TRUE  | TRUE  | TRUE  | TRUE  | \n",
       "|  TRUE | TRUE  | TRUE  | TRUE  | TRUE  | TRUE  | \n",
       "|  TRUE | TRUE  | TRUE  | TRUE  | TRUE  | TRUE  | \n",
       "|  TRUE | TRUE  | TRUE  | TRUE  | TRUE  | TRUE  | \n",
       "| FALSE | TRUE  | TRUE  | TRUE  | TRUE  | TRUE  | \n",
       "|  TRUE | TRUE  | TRUE  | TRUE  | TRUE  | TRUE  | \n",
       "|  TRUE | TRUE  | TRUE  | TRUE  | TRUE  | TRUE  | \n",
       "|  TRUE | TRUE  | TRUE  | TRUE  | TRUE  | TRUE  | \n",
       "\n",
       "\n"
      ],
      "text/plain": [
       "      Ozone Solar.R Wind Temp Month Day \n",
       " [1,]  TRUE  TRUE   TRUE TRUE TRUE  TRUE\n",
       " [2,]  TRUE  TRUE   TRUE TRUE TRUE  TRUE\n",
       " [3,]  TRUE  TRUE   TRUE TRUE TRUE  TRUE\n",
       " [4,]  TRUE  TRUE   TRUE TRUE TRUE  TRUE\n",
       " [5,] FALSE FALSE   TRUE TRUE TRUE  TRUE\n",
       " [6,]  TRUE FALSE   TRUE TRUE TRUE  TRUE\n",
       " [7,]  TRUE  TRUE   TRUE TRUE TRUE  TRUE\n",
       " [8,]  TRUE  TRUE   TRUE TRUE TRUE  TRUE\n",
       " [9,]  TRUE  TRUE   TRUE TRUE TRUE  TRUE\n",
       "[10,] FALSE  TRUE   TRUE TRUE TRUE  TRUE\n",
       "[11,]  TRUE FALSE   TRUE TRUE TRUE  TRUE\n",
       "[12,]  TRUE  TRUE   TRUE TRUE TRUE  TRUE\n",
       "[13,]  TRUE  TRUE   TRUE TRUE TRUE  TRUE\n",
       "[14,]  TRUE  TRUE   TRUE TRUE TRUE  TRUE\n",
       "[15,]  TRUE  TRUE   TRUE TRUE TRUE  TRUE\n",
       "[16,]  TRUE  TRUE   TRUE TRUE TRUE  TRUE\n",
       "[17,]  TRUE  TRUE   TRUE TRUE TRUE  TRUE\n",
       "[18,]  TRUE  TRUE   TRUE TRUE TRUE  TRUE\n",
       "[19,]  TRUE  TRUE   TRUE TRUE TRUE  TRUE\n",
       "[20,]  TRUE  TRUE   TRUE TRUE TRUE  TRUE\n",
       "[21,]  TRUE  TRUE   TRUE TRUE TRUE  TRUE\n",
       "[22,]  TRUE  TRUE   TRUE TRUE TRUE  TRUE\n",
       "[23,]  TRUE  TRUE   TRUE TRUE TRUE  TRUE\n",
       "[24,]  TRUE  TRUE   TRUE TRUE TRUE  TRUE\n",
       "[25,] FALSE  TRUE   TRUE TRUE TRUE  TRUE\n",
       "[26,] FALSE  TRUE   TRUE TRUE TRUE  TRUE\n",
       "[27,] FALSE FALSE   TRUE TRUE TRUE  TRUE\n",
       "[28,]  TRUE  TRUE   TRUE TRUE TRUE  TRUE\n",
       "[29,]  TRUE  TRUE   TRUE TRUE TRUE  TRUE\n",
       "[30,]  TRUE  TRUE   TRUE TRUE TRUE  TRUE\n",
       "[31,] ...   ...     ...  ...  ...   ... \n",
       "[32,]  TRUE TRUE    TRUE TRUE TRUE  TRUE\n",
       "[33,]  TRUE TRUE    TRUE TRUE TRUE  TRUE\n",
       "[34,]  TRUE TRUE    TRUE TRUE TRUE  TRUE\n",
       "[35,]  TRUE TRUE    TRUE TRUE TRUE  TRUE\n",
       "[36,]  TRUE TRUE    TRUE TRUE TRUE  TRUE\n",
       "[37,]  TRUE TRUE    TRUE TRUE TRUE  TRUE\n",
       "[38,]  TRUE TRUE    TRUE TRUE TRUE  TRUE\n",
       "[39,]  TRUE TRUE    TRUE TRUE TRUE  TRUE\n",
       "[40,]  TRUE TRUE    TRUE TRUE TRUE  TRUE\n",
       "[41,]  TRUE TRUE    TRUE TRUE TRUE  TRUE\n",
       "[42,]  TRUE TRUE    TRUE TRUE TRUE  TRUE\n",
       "[43,]  TRUE TRUE    TRUE TRUE TRUE  TRUE\n",
       "[44,]  TRUE TRUE    TRUE TRUE TRUE  TRUE\n",
       "[45,]  TRUE TRUE    TRUE TRUE TRUE  TRUE\n",
       "[46,]  TRUE TRUE    TRUE TRUE TRUE  TRUE\n",
       "[47,]  TRUE TRUE    TRUE TRUE TRUE  TRUE\n",
       "[48,]  TRUE TRUE    TRUE TRUE TRUE  TRUE\n",
       "[49,]  TRUE TRUE    TRUE TRUE TRUE  TRUE\n",
       "[50,]  TRUE TRUE    TRUE TRUE TRUE  TRUE\n",
       "[51,]  TRUE TRUE    TRUE TRUE TRUE  TRUE\n",
       "[52,]  TRUE TRUE    TRUE TRUE TRUE  TRUE\n",
       "[53,]  TRUE TRUE    TRUE TRUE TRUE  TRUE\n",
       "[54,]  TRUE TRUE    TRUE TRUE TRUE  TRUE\n",
       "[55,]  TRUE TRUE    TRUE TRUE TRUE  TRUE\n",
       "[56,]  TRUE TRUE    TRUE TRUE TRUE  TRUE\n",
       "[57,]  TRUE TRUE    TRUE TRUE TRUE  TRUE\n",
       "[58,] FALSE TRUE    TRUE TRUE TRUE  TRUE\n",
       "[59,]  TRUE TRUE    TRUE TRUE TRUE  TRUE\n",
       "[60,]  TRUE TRUE    TRUE TRUE TRUE  TRUE\n",
       "[61,]  TRUE TRUE    TRUE TRUE TRUE  TRUE"
      ]
     },
     "metadata": {},
     "output_type": "display_data"
    },
    {
     "data": {
      "text/html": [
       "<ol class=list-inline>\n",
       "\t<li>41</li>\n",
       "\t<li>36</li>\n",
       "\t<li>12</li>\n",
       "\t<li>18</li>\n",
       "\t<li>28</li>\n",
       "\t<li>23</li>\n",
       "\t<li>19</li>\n",
       "\t<li>8</li>\n",
       "\t<li>7</li>\n",
       "\t<li>16</li>\n",
       "\t<li>11</li>\n",
       "\t<li>14</li>\n",
       "\t<li>18</li>\n",
       "\t<li>14</li>\n",
       "\t<li>34</li>\n",
       "\t<li>6</li>\n",
       "\t<li>30</li>\n",
       "\t<li>11</li>\n",
       "\t<li>1</li>\n",
       "\t<li>11</li>\n",
       "\t<li>4</li>\n",
       "\t<li>32</li>\n",
       "\t<li>23</li>\n",
       "\t<li>45</li>\n",
       "\t<li>115</li>\n",
       "\t<li>37</li>\n",
       "\t<li>29</li>\n",
       "\t<li>71</li>\n",
       "\t<li>39</li>\n",
       "\t<li>23</li>\n",
       "\t<li>21</li>\n",
       "\t<li>37</li>\n",
       "\t<li>20</li>\n",
       "\t<li>12</li>\n",
       "\t<li>13</li>\n",
       "\t<li>135</li>\n",
       "\t<li>49</li>\n",
       "\t<li>32</li>\n",
       "\t<li>64</li>\n",
       "\t<li>40</li>\n",
       "\t<li>77</li>\n",
       "\t<li>97</li>\n",
       "\t<li>97</li>\n",
       "\t<li>85</li>\n",
       "\t<li>10</li>\n",
       "\t<li>27</li>\n",
       "\t<li>7</li>\n",
       "\t<li>48</li>\n",
       "\t<li>35</li>\n",
       "\t<li>61</li>\n",
       "\t<li>79</li>\n",
       "\t<li>63</li>\n",
       "\t<li>16</li>\n",
       "\t<li>80</li>\n",
       "\t<li>108</li>\n",
       "\t<li>20</li>\n",
       "\t<li>52</li>\n",
       "\t<li>82</li>\n",
       "\t<li>50</li>\n",
       "\t<li>64</li>\n",
       "\t<li>59</li>\n",
       "\t<li>39</li>\n",
       "\t<li>9</li>\n",
       "\t<li>16</li>\n",
       "\t<li>78</li>\n",
       "\t<li>35</li>\n",
       "\t<li>66</li>\n",
       "\t<li>122</li>\n",
       "\t<li>89</li>\n",
       "\t<li>110</li>\n",
       "\t<li>44</li>\n",
       "\t<li>28</li>\n",
       "\t<li>65</li>\n",
       "\t<li>22</li>\n",
       "\t<li>59</li>\n",
       "\t<li>23</li>\n",
       "\t<li>31</li>\n",
       "\t<li>44</li>\n",
       "\t<li>21</li>\n",
       "\t<li>9</li>\n",
       "\t<li>45</li>\n",
       "\t<li>168</li>\n",
       "\t<li>73</li>\n",
       "\t<li>76</li>\n",
       "\t<li>118</li>\n",
       "\t<li>84</li>\n",
       "\t<li>85</li>\n",
       "\t<li>96</li>\n",
       "\t<li>78</li>\n",
       "\t<li>73</li>\n",
       "\t<li>91</li>\n",
       "\t<li>47</li>\n",
       "\t<li>32</li>\n",
       "\t<li>20</li>\n",
       "\t<li>23</li>\n",
       "\t<li>21</li>\n",
       "\t<li>24</li>\n",
       "\t<li>44</li>\n",
       "\t<li>21</li>\n",
       "\t<li>28</li>\n",
       "\t<li>9</li>\n",
       "\t<li>13</li>\n",
       "\t<li>46</li>\n",
       "\t<li>18</li>\n",
       "\t<li>13</li>\n",
       "\t<li>24</li>\n",
       "\t<li>16</li>\n",
       "\t<li>13</li>\n",
       "\t<li>23</li>\n",
       "\t<li>36</li>\n",
       "\t<li>7</li>\n",
       "\t<li>14</li>\n",
       "\t<li>30</li>\n",
       "\t<li>14</li>\n",
       "\t<li>18</li>\n",
       "\t<li>20</li>\n",
       "\t<li>190</li>\n",
       "\t<li>118</li>\n",
       "\t<li>149</li>\n",
       "\t<li>313</li>\n",
       "\t<li>299</li>\n",
       "\t<li>99</li>\n",
       "\t<li>19</li>\n",
       "\t<li>194</li>\n",
       "\t<li>256</li>\n",
       "\t<li>290</li>\n",
       "\t<li>274</li>\n",
       "\t<li>65</li>\n",
       "\t<li>334</li>\n",
       "\t<li>307</li>\n",
       "\t<li>78</li>\n",
       "\t<li>322</li>\n",
       "\t<li>44</li>\n",
       "\t<li>8</li>\n",
       "\t<li>320</li>\n",
       "\t<li>25</li>\n",
       "\t<li>92</li>\n",
       "\t<li>66</li>\n",
       "\t<li>266</li>\n",
       "\t<li>13</li>\n",
       "\t<li>252</li>\n",
       "\t<li>223</li>\n",
       "\t<li>279</li>\n",
       "\t<li>286</li>\n",
       "\t<li>287</li>\n",
       "\t<li>242</li>\n",
       "\t<li>186</li>\n",
       "\t<li>220</li>\n",
       "\t<li>264</li>\n",
       "\t<li>127</li>\n",
       "\t<li>273</li>\n",
       "\t<li>291</li>\n",
       "\t<li>323</li>\n",
       "\t<li>259</li>\n",
       "\t<li>250</li>\n",
       "\t<li>148</li>\n",
       "\t<li>332</li>\n",
       "\t<li>322</li>\n",
       "\t<li>191</li>\n",
       "\t<li>284</li>\n",
       "\t<li>37</li>\n",
       "\t<li>120</li>\n",
       "\t<li>137</li>\n",
       "\t<li>150</li>\n",
       "\t<li>59</li>\n",
       "\t<li>91</li>\n",
       "\t<li>250</li>\n",
       "\t<li>135</li>\n",
       "\t<li>127</li>\n",
       "\t<li>47</li>\n",
       "\t<li>98</li>\n",
       "\t<li>31</li>\n",
       "\t<li>138</li>\n",
       "\t<li>269</li>\n",
       "\t<li>248</li>\n",
       "\t<li>236</li>\n",
       "\t<li>101</li>\n",
       "\t<li>175</li>\n",
       "\t<li>314</li>\n",
       "\t<li>276</li>\n",
       "\t<li>267</li>\n",
       "\t<li>272</li>\n",
       "\t<li>175</li>\n",
       "\t<li>139</li>\n",
       "\t<li>264</li>\n",
       "\t<li>175</li>\n",
       "\t<li>291</li>\n",
       "\t<li>48</li>\n",
       "\t<li>260</li>\n",
       "\t<li>274</li>\n",
       "\t<li>285</li>\n",
       "\t<li>187</li>\n",
       "\t<li>220</li>\n",
       "\t<li>7</li>\n",
       "\t<li>258</li>\n",
       "\t<li>295</li>\n",
       "\t<li>294</li>\n",
       "\t<li>223</li>\n",
       "\t<li>81</li>\n",
       "\t<li>82</li>\n",
       "\t<li>213</li>\n",
       "\t<li>275</li>\n",
       "\t<li>253</li>\n",
       "\t<li>254</li>\n",
       "\t<li>83</li>\n",
       "\t<li>24</li>\n",
       "\t<li>77</li>\n",
       "\t<li>255</li>\n",
       "\t<li>229</li>\n",
       "\t<li>207</li>\n",
       "\t<li>222</li>\n",
       "\t<li>137</li>\n",
       "\t<li>192</li>\n",
       "\t<li>273</li>\n",
       "\t<li>157</li>\n",
       "\t<li>64</li>\n",
       "\t<li>71</li>\n",
       "\t<li>51</li>\n",
       "\t<li>115</li>\n",
       "\t<li>244</li>\n",
       "\t<li>190</li>\n",
       "\t<li>259</li>\n",
       "\t<li>36</li>\n",
       "\t<li>255</li>\n",
       "\t<li>212</li>\n",
       "\t<li>238</li>\n",
       "\t<li>215</li>\n",
       "\t<li>153</li>\n",
       "\t<li>203</li>\n",
       "\t<li>225</li>\n",
       "\t<li>237</li>\n",
       "\t<li>188</li>\n",
       "\t<li>167</li>\n",
       "\t<li>197</li>\n",
       "\t<li>183</li>\n",
       "\t<li>189</li>\n",
       "\t<li>95</li>\n",
       "\t<li>92</li>\n",
       "\t<li>252</li>\n",
       "\t<li>220</li>\n",
       "\t<li>230</li>\n",
       "\t<li>259</li>\n",
       "\t<li>236</li>\n",
       "\t<li>259</li>\n",
       "\t<li>238</li>\n",
       "\t<li>24</li>\n",
       "\t<li>112</li>\n",
       "\t<li>237</li>\n",
       "\t<li>224</li>\n",
       "\t<li>27</li>\n",
       "\t<li>238</li>\n",
       "\t<li>201</li>\n",
       "\t<li>238</li>\n",
       "\t<li>14</li>\n",
       "\t<li>139</li>\n",
       "\t<li>49</li>\n",
       "\t<li>20</li>\n",
       "\t<li>193</li>\n",
       "\t<li>145</li>\n",
       "\t<li>191</li>\n",
       "\t<li>131</li>\n",
       "\t<li>223</li>\n",
       "\t<li>7.4</li>\n",
       "\t<li>8</li>\n",
       "\t<li>12.6</li>\n",
       "\t<li>11.5</li>\n",
       "\t<li>14.3</li>\n",
       "\t<li>14.9</li>\n",
       "\t<li>8.6</li>\n",
       "\t<li>13.8</li>\n",
       "\t<li>20.1</li>\n",
       "\t<li>8.6</li>\n",
       "\t<li>6.9</li>\n",
       "\t<li>9.7</li>\n",
       "\t<li>9.2</li>\n",
       "\t<li>10.9</li>\n",
       "\t<li>13.2</li>\n",
       "\t<li>11.5</li>\n",
       "\t<li>12</li>\n",
       "\t<li>18.4</li>\n",
       "\t<li>11.5</li>\n",
       "\t<li>9.7</li>\n",
       "\t<li>9.7</li>\n",
       "\t<li>16.6</li>\n",
       "\t<li>9.7</li>\n",
       "\t<li>12</li>\n",
       "\t<li>16.6</li>\n",
       "\t<li>14.9</li>\n",
       "\t<li>8</li>\n",
       "\t<li>12</li>\n",
       "\t<li>14.9</li>\n",
       "\t<li>5.7</li>\n",
       "\t<li>7.4</li>\n",
       "\t<li>8.6</li>\n",
       "\t<li>9.7</li>\n",
       "\t<li>16.1</li>\n",
       "\t<li>9.2</li>\n",
       "\t<li>8.6</li>\n",
       "\t<li>14.3</li>\n",
       "\t<li>9.7</li>\n",
       "\t<li>6.9</li>\n",
       "\t<li>13.8</li>\n",
       "\t<li>11.5</li>\n",
       "\t<li>10.9</li>\n",
       "\t<li>9.2</li>\n",
       "\t<li>8</li>\n",
       "\t<li>13.8</li>\n",
       "\t<li>11.5</li>\n",
       "\t<li>14.9</li>\n",
       "\t<li>20.7</li>\n",
       "\t<li>9.2</li>\n",
       "\t<li>11.5</li>\n",
       "\t<li>10.3</li>\n",
       "\t<li>6.3</li>\n",
       "\t<li>1.7</li>\n",
       "\t<li>4.6</li>\n",
       "\t<li>6.3</li>\n",
       "\t<li>8</li>\n",
       "\t<li>8</li>\n",
       "\t<li>10.3</li>\n",
       "\t<li>11.5</li>\n",
       "\t<li>14.9</li>\n",
       "\t<li>8</li>\n",
       "\t<li>4.1</li>\n",
       "\t<li>9.2</li>\n",
       "\t<li>9.2</li>\n",
       "\t<li>10.9</li>\n",
       "\t<li>4.6</li>\n",
       "\t<li>10.9</li>\n",
       "\t<li>5.1</li>\n",
       "\t<li>6.3</li>\n",
       "\t<li>5.7</li>\n",
       "\t<li>7.4</li>\n",
       "\t<li>8.6</li>\n",
       "\t<li>14.3</li>\n",
       "\t<li>14.9</li>\n",
       "\t<li>14.9</li>\n",
       "\t<li>14.3</li>\n",
       "\t<li>6.9</li>\n",
       "\t<li>10.3</li>\n",
       "\t<li>6.3</li>\n",
       "\t<li>5.1</li>\n",
       "\t<li>11.5</li>\n",
       "\t<li>6.9</li>\n",
       "\t<li>9.7</li>\n",
       "\t<li>11.5</li>\n",
       "\t<li>8.6</li>\n",
       "\t<li>8</li>\n",
       "\t<li>8.6</li>\n",
       "\t<li>12</li>\n",
       "\t<li>7.4</li>\n",
       "\t<li>7.4</li>\n",
       "\t<li>7.4</li>\n",
       "\t<li>9.2</li>\n",
       "\t<li>6.9</li>\n",
       "\t<li>13.8</li>\n",
       "\t<li>7.4</li>\n",
       "\t<li>6.9</li>\n",
       "\t<li>7.4</li>\n",
       "\t<li>4.6</li>\n",
       "\t<li>4</li>\n",
       "\t<li>10.3</li>\n",
       "\t<li>8</li>\n",
       "\t<li>8.6</li>\n",
       "\t<li>11.5</li>\n",
       "\t<li>11.5</li>\n",
       "\t<li>11.5</li>\n",
       "\t<li>9.7</li>\n",
       "\t<li>11.5</li>\n",
       "\t<li>10.3</li>\n",
       "\t<li>6.3</li>\n",
       "\t<li>7.4</li>\n",
       "\t<li>10.9</li>\n",
       "\t<li>10.3</li>\n",
       "\t<li>15.5</li>\n",
       "\t<li>14.3</li>\n",
       "\t<li>12.6</li>\n",
       "\t<li>9.7</li>\n",
       "\t<li>3.4</li>\n",
       "\t<li>8</li>\n",
       "\t<li>5.7</li>\n",
       "\t<li>9.7</li>\n",
       "\t<li>2.3</li>\n",
       "\t<li>6.3</li>\n",
       "\t<li>6.3</li>\n",
       "\t<li>6.9</li>\n",
       "\t<li>5.1</li>\n",
       "\t<li>2.8</li>\n",
       "\t<li>4.6</li>\n",
       "\t<li>7.4</li>\n",
       "\t<li>15.5</li>\n",
       "\t<li>10.9</li>\n",
       "\t<li>10.3</li>\n",
       "\t<li>10.9</li>\n",
       "\t<li>9.7</li>\n",
       "\t<li>14.9</li>\n",
       "\t<li>15.5</li>\n",
       "\t<li>6.3</li>\n",
       "\t<li>10.9</li>\n",
       "\t<li>11.5</li>\n",
       "\t<li>6.9</li>\n",
       "\t<li>13.8</li>\n",
       "\t<li>10.3</li>\n",
       "\t<li>10.3</li>\n",
       "\t<li>8</li>\n",
       "\t<li>12.6</li>\n",
       "\t<li>9.2</li>\n",
       "\t<li>10.3</li>\n",
       "\t<li>10.3</li>\n",
       "\t<li>16.6</li>\n",
       "\t<li>6.9</li>\n",
       "\t<li>13.2</li>\n",
       "\t<li>14.3</li>\n",
       "\t<li>8</li>\n",
       "\t<li>11.5</li>\n",
       "\t<li>67</li>\n",
       "\t<li>72</li>\n",
       "\t<li>74</li>\n",
       "\t<li>62</li>\n",
       "\t<li>56</li>\n",
       "\t<li>66</li>\n",
       "\t<li>65</li>\n",
       "\t<li>59</li>\n",
       "\t<li>61</li>\n",
       "\t<li>69</li>\n",
       "\t<li>74</li>\n",
       "\t<li>69</li>\n",
       "\t<li>66</li>\n",
       "\t<li>68</li>\n",
       "\t<li>58</li>\n",
       "\t<li>64</li>\n",
       "\t<li>66</li>\n",
       "\t<li>57</li>\n",
       "\t<li>68</li>\n",
       "\t<li>62</li>\n",
       "\t<li>59</li>\n",
       "\t<li>73</li>\n",
       "\t<li>61</li>\n",
       "\t<li>61</li>\n",
       "\t<li>57</li>\n",
       "\t<li>58</li>\n",
       "\t<li>57</li>\n",
       "\t<li>67</li>\n",
       "\t<li>81</li>\n",
       "\t<li>79</li>\n",
       "\t<li>76</li>\n",
       "\t<li>78</li>\n",
       "\t<li>74</li>\n",
       "\t<li>67</li>\n",
       "\t<li>84</li>\n",
       "\t<li>85</li>\n",
       "\t<li>79</li>\n",
       "\t<li>82</li>\n",
       "\t<li>87</li>\n",
       "\t<li>90</li>\n",
       "\t<li>87</li>\n",
       "\t<li>93</li>\n",
       "\t<li>92</li>\n",
       "\t<li>82</li>\n",
       "\t<li>80</li>\n",
       "\t<li>79</li>\n",
       "\t<li>77</li>\n",
       "\t<li>72</li>\n",
       "\t<li>65</li>\n",
       "\t<li>73</li>\n",
       "\t<li>76</li>\n",
       "\t<li>77</li>\n",
       "\t<li>76</li>\n",
       "\t<li>76</li>\n",
       "\t<li>76</li>\n",
       "\t<li>75</li>\n",
       "\t<li>78</li>\n",
       "\t<li>73</li>\n",
       "\t<li>80</li>\n",
       "\t<li>77</li>\n",
       "\t<li>83</li>\n",
       "\t<li>84</li>\n",
       "\t<li>85</li>\n",
       "\t<li>81</li>\n",
       "\t<li>84</li>\n",
       "\t<li>83</li>\n",
       "\t<li>83</li>\n",
       "\t<li>88</li>\n",
       "\t<li>92</li>\n",
       "\t<li>92</li>\n",
       "\t<li>89</li>\n",
       "\t<li>82</li>\n",
       "\t<li>73</li>\n",
       "\t<li>81</li>\n",
       "\t<li>91</li>\n",
       "\t<li>80</li>\n",
       "\t<li>81</li>\n",
       "\t<li>82</li>\n",
       "\t<li>84</li>\n",
       "\t<li>87</li>\n",
       "\t<li>85</li>\n",
       "\t<li>74</li>\n",
       "\t<li>81</li>\n",
       "\t<li>82</li>\n",
       "\t<li>86</li>\n",
       "\t<li>85</li>\n",
       "\t<li>82</li>\n",
       "\t<li>86</li>\n",
       "\t<li>88</li>\n",
       "\t<li>86</li>\n",
       "\t<li>83</li>\n",
       "\t<li>81</li>\n",
       "\t<li>81</li>\n",
       "\t<li>81</li>\n",
       "\t<li>82</li>\n",
       "\t<li>86</li>\n",
       "\t<li>85</li>\n",
       "\t<li>87</li>\n",
       "\t<li>89</li>\n",
       "\t<li>90</li>\n",
       "\t<li>90</li>\n",
       "\t<li>92</li>\n",
       "\t<li>86</li>\n",
       "\t<li>86</li>\n",
       "\t<li>82</li>\n",
       "\t<li>80</li>\n",
       "\t<li>79</li>\n",
       "\t<li>77</li>\n",
       "\t<li>79</li>\n",
       "\t<li>76</li>\n",
       "\t<li>78</li>\n",
       "\t<li>78</li>\n",
       "\t<li>77</li>\n",
       "\t<li>72</li>\n",
       "\t<li>75</li>\n",
       "\t<li>79</li>\n",
       "\t<li>81</li>\n",
       "\t<li>86</li>\n",
       "\t<li>88</li>\n",
       "\t<li>97</li>\n",
       "\t<li>94</li>\n",
       "\t<li>96</li>\n",
       "\t<li>94</li>\n",
       "\t<li>91</li>\n",
       "\t<li>92</li>\n",
       "\t<li>93</li>\n",
       "\t<li>93</li>\n",
       "\t<li>87</li>\n",
       "\t<li>84</li>\n",
       "\t<li>80</li>\n",
       "\t<li>78</li>\n",
       "\t<li>75</li>\n",
       "\t<li>73</li>\n",
       "\t<li>81</li>\n",
       "\t<li>76</li>\n",
       "\t<li>77</li>\n",
       "\t<li>71</li>\n",
       "\t<li>71</li>\n",
       "\t<li>78</li>\n",
       "\t<li>67</li>\n",
       "\t<li>76</li>\n",
       "\t<li>68</li>\n",
       "\t<li>82</li>\n",
       "\t<li>64</li>\n",
       "\t<li>71</li>\n",
       "\t<li>81</li>\n",
       "\t<li>69</li>\n",
       "\t<li>63</li>\n",
       "\t<li>70</li>\n",
       "\t<li>77</li>\n",
       "\t<li>75</li>\n",
       "\t<li>76</li>\n",
       "\t<li>68</li>\n",
       "\t<li>5</li>\n",
       "\t<li>5</li>\n",
       "\t<li>5</li>\n",
       "\t<li>5</li>\n",
       "\t<li>5</li>\n",
       "\t<li>5</li>\n",
       "\t<li>5</li>\n",
       "\t<li>5</li>\n",
       "\t<li>5</li>\n",
       "\t<li>5</li>\n",
       "\t<li>5</li>\n",
       "\t<li>5</li>\n",
       "\t<li>5</li>\n",
       "\t<li>5</li>\n",
       "\t<li>5</li>\n",
       "\t<li>5</li>\n",
       "\t<li>5</li>\n",
       "\t<li>5</li>\n",
       "\t<li>5</li>\n",
       "\t<li>5</li>\n",
       "\t<li>5</li>\n",
       "\t<li>5</li>\n",
       "\t<li>5</li>\n",
       "\t<li>5</li>\n",
       "\t<li>5</li>\n",
       "\t<li>5</li>\n",
       "\t<li>5</li>\n",
       "\t<li>5</li>\n",
       "\t<li>5</li>\n",
       "\t<li>5</li>\n",
       "\t<li>5</li>\n",
       "\t<li>6</li>\n",
       "\t<li>6</li>\n",
       "\t<li>6</li>\n",
       "\t<li>6</li>\n",
       "\t<li>6</li>\n",
       "\t<li>6</li>\n",
       "\t<li>6</li>\n",
       "\t<li>6</li>\n",
       "\t<li>6</li>\n",
       "\t<li>6</li>\n",
       "\t<li>6</li>\n",
       "\t<li>6</li>\n",
       "\t<li>6</li>\n",
       "\t<li>6</li>\n",
       "\t<li>6</li>\n",
       "\t<li>6</li>\n",
       "\t<li>6</li>\n",
       "\t<li>6</li>\n",
       "\t<li>6</li>\n",
       "\t<li>6</li>\n",
       "\t<li>6</li>\n",
       "\t<li>6</li>\n",
       "\t<li>6</li>\n",
       "\t<li>6</li>\n",
       "\t<li>6</li>\n",
       "\t<li>6</li>\n",
       "\t<li>6</li>\n",
       "\t<li>6</li>\n",
       "\t<li>6</li>\n",
       "\t<li>6</li>\n",
       "\t<li>7</li>\n",
       "\t<li>7</li>\n",
       "\t<li>7</li>\n",
       "\t<li>7</li>\n",
       "\t<li>7</li>\n",
       "\t<li>7</li>\n",
       "\t<li>7</li>\n",
       "\t<li>7</li>\n",
       "\t<li>7</li>\n",
       "\t<li>7</li>\n",
       "\t<li>7</li>\n",
       "\t<li>7</li>\n",
       "\t<li>7</li>\n",
       "\t<li>7</li>\n",
       "\t<li>7</li>\n",
       "\t<li>7</li>\n",
       "\t<li>7</li>\n",
       "\t<li>7</li>\n",
       "\t<li>7</li>\n",
       "\t<li>7</li>\n",
       "\t<li>7</li>\n",
       "\t<li>7</li>\n",
       "\t<li>7</li>\n",
       "\t<li>7</li>\n",
       "\t<li>7</li>\n",
       "\t<li>7</li>\n",
       "\t<li>7</li>\n",
       "\t<li>7</li>\n",
       "\t<li>7</li>\n",
       "\t<li>7</li>\n",
       "\t<li>7</li>\n",
       "\t<li>8</li>\n",
       "\t<li>8</li>\n",
       "\t<li>8</li>\n",
       "\t<li>8</li>\n",
       "\t<li>8</li>\n",
       "\t<li>8</li>\n",
       "\t<li>8</li>\n",
       "\t<li>8</li>\n",
       "\t<li>8</li>\n",
       "\t<li>8</li>\n",
       "\t<li>8</li>\n",
       "\t<li>8</li>\n",
       "\t<li>8</li>\n",
       "\t<li>8</li>\n",
       "\t<li>8</li>\n",
       "\t<li>8</li>\n",
       "\t<li>8</li>\n",
       "\t<li>8</li>\n",
       "\t<li>8</li>\n",
       "\t<li>8</li>\n",
       "\t<li>8</li>\n",
       "\t<li>8</li>\n",
       "\t<li>8</li>\n",
       "\t<li>8</li>\n",
       "\t<li>8</li>\n",
       "\t<li>8</li>\n",
       "\t<li>8</li>\n",
       "\t<li>8</li>\n",
       "\t<li>8</li>\n",
       "\t<li>8</li>\n",
       "\t<li>8</li>\n",
       "\t<li>9</li>\n",
       "\t<li>9</li>\n",
       "\t<li>9</li>\n",
       "\t<li>9</li>\n",
       "\t<li>9</li>\n",
       "\t<li>9</li>\n",
       "\t<li>9</li>\n",
       "\t<li>9</li>\n",
       "\t<li>9</li>\n",
       "\t<li>9</li>\n",
       "\t<li>9</li>\n",
       "\t<li>9</li>\n",
       "\t<li>9</li>\n",
       "\t<li>9</li>\n",
       "\t<li>9</li>\n",
       "\t<li>9</li>\n",
       "\t<li>9</li>\n",
       "\t<li>9</li>\n",
       "\t<li>9</li>\n",
       "\t<li>9</li>\n",
       "\t<li>9</li>\n",
       "\t<li>9</li>\n",
       "\t<li>9</li>\n",
       "\t<li>9</li>\n",
       "\t<li>9</li>\n",
       "\t<li>9</li>\n",
       "\t<li>9</li>\n",
       "\t<li>9</li>\n",
       "\t<li>9</li>\n",
       "\t<li>9</li>\n",
       "\t<li>1</li>\n",
       "\t<li>2</li>\n",
       "\t<li>3</li>\n",
       "\t<li>4</li>\n",
       "\t<li>5</li>\n",
       "\t<li>6</li>\n",
       "\t<li>7</li>\n",
       "\t<li>8</li>\n",
       "\t<li>9</li>\n",
       "\t<li>10</li>\n",
       "\t<li>11</li>\n",
       "\t<li>12</li>\n",
       "\t<li>13</li>\n",
       "\t<li>14</li>\n",
       "\t<li>15</li>\n",
       "\t<li>16</li>\n",
       "\t<li>17</li>\n",
       "\t<li>18</li>\n",
       "\t<li>19</li>\n",
       "\t<li>20</li>\n",
       "\t<li>21</li>\n",
       "\t<li>22</li>\n",
       "\t<li>23</li>\n",
       "\t<li>24</li>\n",
       "\t<li>25</li>\n",
       "\t<li>26</li>\n",
       "\t<li>27</li>\n",
       "\t<li>28</li>\n",
       "\t<li>29</li>\n",
       "\t<li>30</li>\n",
       "\t<li>31</li>\n",
       "\t<li>1</li>\n",
       "\t<li>2</li>\n",
       "\t<li>3</li>\n",
       "\t<li>4</li>\n",
       "\t<li>5</li>\n",
       "\t<li>6</li>\n",
       "\t<li>7</li>\n",
       "\t<li>8</li>\n",
       "\t<li>9</li>\n",
       "\t<li>10</li>\n",
       "\t<li>11</li>\n",
       "\t<li>12</li>\n",
       "\t<li>13</li>\n",
       "\t<li>14</li>\n",
       "\t<li>15</li>\n",
       "\t<li>16</li>\n",
       "\t<li>17</li>\n",
       "\t<li>18</li>\n",
       "\t<li>19</li>\n",
       "\t<li>20</li>\n",
       "\t<li>21</li>\n",
       "\t<li>22</li>\n",
       "\t<li>23</li>\n",
       "\t<li>24</li>\n",
       "\t<li>25</li>\n",
       "\t<li>26</li>\n",
       "\t<li>27</li>\n",
       "\t<li>28</li>\n",
       "\t<li>29</li>\n",
       "\t<li>30</li>\n",
       "\t<li>1</li>\n",
       "\t<li>2</li>\n",
       "\t<li>3</li>\n",
       "\t<li>4</li>\n",
       "\t<li>5</li>\n",
       "\t<li>6</li>\n",
       "\t<li>7</li>\n",
       "\t<li>8</li>\n",
       "\t<li>9</li>\n",
       "\t<li>10</li>\n",
       "\t<li>11</li>\n",
       "\t<li>12</li>\n",
       "\t<li>13</li>\n",
       "\t<li>14</li>\n",
       "\t<li>15</li>\n",
       "\t<li>16</li>\n",
       "\t<li>17</li>\n",
       "\t<li>18</li>\n",
       "\t<li>19</li>\n",
       "\t<li>20</li>\n",
       "\t<li>21</li>\n",
       "\t<li>22</li>\n",
       "\t<li>23</li>\n",
       "\t<li>24</li>\n",
       "\t<li>25</li>\n",
       "\t<li>26</li>\n",
       "\t<li>27</li>\n",
       "\t<li>28</li>\n",
       "\t<li>29</li>\n",
       "\t<li>30</li>\n",
       "\t<li>31</li>\n",
       "\t<li>1</li>\n",
       "\t<li>2</li>\n",
       "\t<li>3</li>\n",
       "\t<li>4</li>\n",
       "\t<li>5</li>\n",
       "\t<li>6</li>\n",
       "\t<li>7</li>\n",
       "\t<li>8</li>\n",
       "\t<li>9</li>\n",
       "\t<li>10</li>\n",
       "\t<li>11</li>\n",
       "\t<li>12</li>\n",
       "\t<li>13</li>\n",
       "\t<li>14</li>\n",
       "\t<li>15</li>\n",
       "\t<li>16</li>\n",
       "\t<li>17</li>\n",
       "\t<li>18</li>\n",
       "\t<li>19</li>\n",
       "\t<li>20</li>\n",
       "\t<li>21</li>\n",
       "\t<li>22</li>\n",
       "\t<li>23</li>\n",
       "\t<li>24</li>\n",
       "\t<li>25</li>\n",
       "\t<li>26</li>\n",
       "\t<li>27</li>\n",
       "\t<li>28</li>\n",
       "\t<li>29</li>\n",
       "\t<li>30</li>\n",
       "\t<li>31</li>\n",
       "\t<li>1</li>\n",
       "\t<li>2</li>\n",
       "\t<li>3</li>\n",
       "\t<li>4</li>\n",
       "\t<li>5</li>\n",
       "\t<li>6</li>\n",
       "\t<li>7</li>\n",
       "\t<li>8</li>\n",
       "\t<li>9</li>\n",
       "\t<li>10</li>\n",
       "\t<li>11</li>\n",
       "\t<li>12</li>\n",
       "\t<li>13</li>\n",
       "\t<li>14</li>\n",
       "\t<li>15</li>\n",
       "\t<li>16</li>\n",
       "\t<li>17</li>\n",
       "\t<li>18</li>\n",
       "\t<li>19</li>\n",
       "\t<li>20</li>\n",
       "\t<li>21</li>\n",
       "\t<li>22</li>\n",
       "\t<li>23</li>\n",
       "\t<li>24</li>\n",
       "\t<li>25</li>\n",
       "\t<li>26</li>\n",
       "\t<li>27</li>\n",
       "\t<li>28</li>\n",
       "\t<li>29</li>\n",
       "\t<li>30</li>\n",
       "</ol>\n"
      ],
      "text/latex": [
       "\\begin{enumerate*}\n",
       "\\item 41\n",
       "\\item 36\n",
       "\\item 12\n",
       "\\item 18\n",
       "\\item 28\n",
       "\\item 23\n",
       "\\item 19\n",
       "\\item 8\n",
       "\\item 7\n",
       "\\item 16\n",
       "\\item 11\n",
       "\\item 14\n",
       "\\item 18\n",
       "\\item 14\n",
       "\\item 34\n",
       "\\item 6\n",
       "\\item 30\n",
       "\\item 11\n",
       "\\item 1\n",
       "\\item 11\n",
       "\\item 4\n",
       "\\item 32\n",
       "\\item 23\n",
       "\\item 45\n",
       "\\item 115\n",
       "\\item 37\n",
       "\\item 29\n",
       "\\item 71\n",
       "\\item 39\n",
       "\\item 23\n",
       "\\item 21\n",
       "\\item 37\n",
       "\\item 20\n",
       "\\item 12\n",
       "\\item 13\n",
       "\\item 135\n",
       "\\item 49\n",
       "\\item 32\n",
       "\\item 64\n",
       "\\item 40\n",
       "\\item 77\n",
       "\\item 97\n",
       "\\item 97\n",
       "\\item 85\n",
       "\\item 10\n",
       "\\item 27\n",
       "\\item 7\n",
       "\\item 48\n",
       "\\item 35\n",
       "\\item 61\n",
       "\\item 79\n",
       "\\item 63\n",
       "\\item 16\n",
       "\\item 80\n",
       "\\item 108\n",
       "\\item 20\n",
       "\\item 52\n",
       "\\item 82\n",
       "\\item 50\n",
       "\\item 64\n",
       "\\item 59\n",
       "\\item 39\n",
       "\\item 9\n",
       "\\item 16\n",
       "\\item 78\n",
       "\\item 35\n",
       "\\item 66\n",
       "\\item 122\n",
       "\\item 89\n",
       "\\item 110\n",
       "\\item 44\n",
       "\\item 28\n",
       "\\item 65\n",
       "\\item 22\n",
       "\\item 59\n",
       "\\item 23\n",
       "\\item 31\n",
       "\\item 44\n",
       "\\item 21\n",
       "\\item 9\n",
       "\\item 45\n",
       "\\item 168\n",
       "\\item 73\n",
       "\\item 76\n",
       "\\item 118\n",
       "\\item 84\n",
       "\\item 85\n",
       "\\item 96\n",
       "\\item 78\n",
       "\\item 73\n",
       "\\item 91\n",
       "\\item 47\n",
       "\\item 32\n",
       "\\item 20\n",
       "\\item 23\n",
       "\\item 21\n",
       "\\item 24\n",
       "\\item 44\n",
       "\\item 21\n",
       "\\item 28\n",
       "\\item 9\n",
       "\\item 13\n",
       "\\item 46\n",
       "\\item 18\n",
       "\\item 13\n",
       "\\item 24\n",
       "\\item 16\n",
       "\\item 13\n",
       "\\item 23\n",
       "\\item 36\n",
       "\\item 7\n",
       "\\item 14\n",
       "\\item 30\n",
       "\\item 14\n",
       "\\item 18\n",
       "\\item 20\n",
       "\\item 190\n",
       "\\item 118\n",
       "\\item 149\n",
       "\\item 313\n",
       "\\item 299\n",
       "\\item 99\n",
       "\\item 19\n",
       "\\item 194\n",
       "\\item 256\n",
       "\\item 290\n",
       "\\item 274\n",
       "\\item 65\n",
       "\\item 334\n",
       "\\item 307\n",
       "\\item 78\n",
       "\\item 322\n",
       "\\item 44\n",
       "\\item 8\n",
       "\\item 320\n",
       "\\item 25\n",
       "\\item 92\n",
       "\\item 66\n",
       "\\item 266\n",
       "\\item 13\n",
       "\\item 252\n",
       "\\item 223\n",
       "\\item 279\n",
       "\\item 286\n",
       "\\item 287\n",
       "\\item 242\n",
       "\\item 186\n",
       "\\item 220\n",
       "\\item 264\n",
       "\\item 127\n",
       "\\item 273\n",
       "\\item 291\n",
       "\\item 323\n",
       "\\item 259\n",
       "\\item 250\n",
       "\\item 148\n",
       "\\item 332\n",
       "\\item 322\n",
       "\\item 191\n",
       "\\item 284\n",
       "\\item 37\n",
       "\\item 120\n",
       "\\item 137\n",
       "\\item 150\n",
       "\\item 59\n",
       "\\item 91\n",
       "\\item 250\n",
       "\\item 135\n",
       "\\item 127\n",
       "\\item 47\n",
       "\\item 98\n",
       "\\item 31\n",
       "\\item 138\n",
       "\\item 269\n",
       "\\item 248\n",
       "\\item 236\n",
       "\\item 101\n",
       "\\item 175\n",
       "\\item 314\n",
       "\\item 276\n",
       "\\item 267\n",
       "\\item 272\n",
       "\\item 175\n",
       "\\item 139\n",
       "\\item 264\n",
       "\\item 175\n",
       "\\item 291\n",
       "\\item 48\n",
       "\\item 260\n",
       "\\item 274\n",
       "\\item 285\n",
       "\\item 187\n",
       "\\item 220\n",
       "\\item 7\n",
       "\\item 258\n",
       "\\item 295\n",
       "\\item 294\n",
       "\\item 223\n",
       "\\item 81\n",
       "\\item 82\n",
       "\\item 213\n",
       "\\item 275\n",
       "\\item 253\n",
       "\\item 254\n",
       "\\item 83\n",
       "\\item 24\n",
       "\\item 77\n",
       "\\item 255\n",
       "\\item 229\n",
       "\\item 207\n",
       "\\item 222\n",
       "\\item 137\n",
       "\\item 192\n",
       "\\item 273\n",
       "\\item 157\n",
       "\\item 64\n",
       "\\item 71\n",
       "\\item 51\n",
       "\\item 115\n",
       "\\item 244\n",
       "\\item 190\n",
       "\\item 259\n",
       "\\item 36\n",
       "\\item 255\n",
       "\\item 212\n",
       "\\item 238\n",
       "\\item 215\n",
       "\\item 153\n",
       "\\item 203\n",
       "\\item 225\n",
       "\\item 237\n",
       "\\item 188\n",
       "\\item 167\n",
       "\\item 197\n",
       "\\item 183\n",
       "\\item 189\n",
       "\\item 95\n",
       "\\item 92\n",
       "\\item 252\n",
       "\\item 220\n",
       "\\item 230\n",
       "\\item 259\n",
       "\\item 236\n",
       "\\item 259\n",
       "\\item 238\n",
       "\\item 24\n",
       "\\item 112\n",
       "\\item 237\n",
       "\\item 224\n",
       "\\item 27\n",
       "\\item 238\n",
       "\\item 201\n",
       "\\item 238\n",
       "\\item 14\n",
       "\\item 139\n",
       "\\item 49\n",
       "\\item 20\n",
       "\\item 193\n",
       "\\item 145\n",
       "\\item 191\n",
       "\\item 131\n",
       "\\item 223\n",
       "\\item 7.4\n",
       "\\item 8\n",
       "\\item 12.6\n",
       "\\item 11.5\n",
       "\\item 14.3\n",
       "\\item 14.9\n",
       "\\item 8.6\n",
       "\\item 13.8\n",
       "\\item 20.1\n",
       "\\item 8.6\n",
       "\\item 6.9\n",
       "\\item 9.7\n",
       "\\item 9.2\n",
       "\\item 10.9\n",
       "\\item 13.2\n",
       "\\item 11.5\n",
       "\\item 12\n",
       "\\item 18.4\n",
       "\\item 11.5\n",
       "\\item 9.7\n",
       "\\item 9.7\n",
       "\\item 16.6\n",
       "\\item 9.7\n",
       "\\item 12\n",
       "\\item 16.6\n",
       "\\item 14.9\n",
       "\\item 8\n",
       "\\item 12\n",
       "\\item 14.9\n",
       "\\item 5.7\n",
       "\\item 7.4\n",
       "\\item 8.6\n",
       "\\item 9.7\n",
       "\\item 16.1\n",
       "\\item 9.2\n",
       "\\item 8.6\n",
       "\\item 14.3\n",
       "\\item 9.7\n",
       "\\item 6.9\n",
       "\\item 13.8\n",
       "\\item 11.5\n",
       "\\item 10.9\n",
       "\\item 9.2\n",
       "\\item 8\n",
       "\\item 13.8\n",
       "\\item 11.5\n",
       "\\item 14.9\n",
       "\\item 20.7\n",
       "\\item 9.2\n",
       "\\item 11.5\n",
       "\\item 10.3\n",
       "\\item 6.3\n",
       "\\item 1.7\n",
       "\\item 4.6\n",
       "\\item 6.3\n",
       "\\item 8\n",
       "\\item 8\n",
       "\\item 10.3\n",
       "\\item 11.5\n",
       "\\item 14.9\n",
       "\\item 8\n",
       "\\item 4.1\n",
       "\\item 9.2\n",
       "\\item 9.2\n",
       "\\item 10.9\n",
       "\\item 4.6\n",
       "\\item 10.9\n",
       "\\item 5.1\n",
       "\\item 6.3\n",
       "\\item 5.7\n",
       "\\item 7.4\n",
       "\\item 8.6\n",
       "\\item 14.3\n",
       "\\item 14.9\n",
       "\\item 14.9\n",
       "\\item 14.3\n",
       "\\item 6.9\n",
       "\\item 10.3\n",
       "\\item 6.3\n",
       "\\item 5.1\n",
       "\\item 11.5\n",
       "\\item 6.9\n",
       "\\item 9.7\n",
       "\\item 11.5\n",
       "\\item 8.6\n",
       "\\item 8\n",
       "\\item 8.6\n",
       "\\item 12\n",
       "\\item 7.4\n",
       "\\item 7.4\n",
       "\\item 7.4\n",
       "\\item 9.2\n",
       "\\item 6.9\n",
       "\\item 13.8\n",
       "\\item 7.4\n",
       "\\item 6.9\n",
       "\\item 7.4\n",
       "\\item 4.6\n",
       "\\item 4\n",
       "\\item 10.3\n",
       "\\item 8\n",
       "\\item 8.6\n",
       "\\item 11.5\n",
       "\\item 11.5\n",
       "\\item 11.5\n",
       "\\item 9.7\n",
       "\\item 11.5\n",
       "\\item 10.3\n",
       "\\item 6.3\n",
       "\\item 7.4\n",
       "\\item 10.9\n",
       "\\item 10.3\n",
       "\\item 15.5\n",
       "\\item 14.3\n",
       "\\item 12.6\n",
       "\\item 9.7\n",
       "\\item 3.4\n",
       "\\item 8\n",
       "\\item 5.7\n",
       "\\item 9.7\n",
       "\\item 2.3\n",
       "\\item 6.3\n",
       "\\item 6.3\n",
       "\\item 6.9\n",
       "\\item 5.1\n",
       "\\item 2.8\n",
       "\\item 4.6\n",
       "\\item 7.4\n",
       "\\item 15.5\n",
       "\\item 10.9\n",
       "\\item 10.3\n",
       "\\item 10.9\n",
       "\\item 9.7\n",
       "\\item 14.9\n",
       "\\item 15.5\n",
       "\\item 6.3\n",
       "\\item 10.9\n",
       "\\item 11.5\n",
       "\\item 6.9\n",
       "\\item 13.8\n",
       "\\item 10.3\n",
       "\\item 10.3\n",
       "\\item 8\n",
       "\\item 12.6\n",
       "\\item 9.2\n",
       "\\item 10.3\n",
       "\\item 10.3\n",
       "\\item 16.6\n",
       "\\item 6.9\n",
       "\\item 13.2\n",
       "\\item 14.3\n",
       "\\item 8\n",
       "\\item 11.5\n",
       "\\item 67\n",
       "\\item 72\n",
       "\\item 74\n",
       "\\item 62\n",
       "\\item 56\n",
       "\\item 66\n",
       "\\item 65\n",
       "\\item 59\n",
       "\\item 61\n",
       "\\item 69\n",
       "\\item 74\n",
       "\\item 69\n",
       "\\item 66\n",
       "\\item 68\n",
       "\\item 58\n",
       "\\item 64\n",
       "\\item 66\n",
       "\\item 57\n",
       "\\item 68\n",
       "\\item 62\n",
       "\\item 59\n",
       "\\item 73\n",
       "\\item 61\n",
       "\\item 61\n",
       "\\item 57\n",
       "\\item 58\n",
       "\\item 57\n",
       "\\item 67\n",
       "\\item 81\n",
       "\\item 79\n",
       "\\item 76\n",
       "\\item 78\n",
       "\\item 74\n",
       "\\item 67\n",
       "\\item 84\n",
       "\\item 85\n",
       "\\item 79\n",
       "\\item 82\n",
       "\\item 87\n",
       "\\item 90\n",
       "\\item 87\n",
       "\\item 93\n",
       "\\item 92\n",
       "\\item 82\n",
       "\\item 80\n",
       "\\item 79\n",
       "\\item 77\n",
       "\\item 72\n",
       "\\item 65\n",
       "\\item 73\n",
       "\\item 76\n",
       "\\item 77\n",
       "\\item 76\n",
       "\\item 76\n",
       "\\item 76\n",
       "\\item 75\n",
       "\\item 78\n",
       "\\item 73\n",
       "\\item 80\n",
       "\\item 77\n",
       "\\item 83\n",
       "\\item 84\n",
       "\\item 85\n",
       "\\item 81\n",
       "\\item 84\n",
       "\\item 83\n",
       "\\item 83\n",
       "\\item 88\n",
       "\\item 92\n",
       "\\item 92\n",
       "\\item 89\n",
       "\\item 82\n",
       "\\item 73\n",
       "\\item 81\n",
       "\\item 91\n",
       "\\item 80\n",
       "\\item 81\n",
       "\\item 82\n",
       "\\item 84\n",
       "\\item 87\n",
       "\\item 85\n",
       "\\item 74\n",
       "\\item 81\n",
       "\\item 82\n",
       "\\item 86\n",
       "\\item 85\n",
       "\\item 82\n",
       "\\item 86\n",
       "\\item 88\n",
       "\\item 86\n",
       "\\item 83\n",
       "\\item 81\n",
       "\\item 81\n",
       "\\item 81\n",
       "\\item 82\n",
       "\\item 86\n",
       "\\item 85\n",
       "\\item 87\n",
       "\\item 89\n",
       "\\item 90\n",
       "\\item 90\n",
       "\\item 92\n",
       "\\item 86\n",
       "\\item 86\n",
       "\\item 82\n",
       "\\item 80\n",
       "\\item 79\n",
       "\\item 77\n",
       "\\item 79\n",
       "\\item 76\n",
       "\\item 78\n",
       "\\item 78\n",
       "\\item 77\n",
       "\\item 72\n",
       "\\item 75\n",
       "\\item 79\n",
       "\\item 81\n",
       "\\item 86\n",
       "\\item 88\n",
       "\\item 97\n",
       "\\item 94\n",
       "\\item 96\n",
       "\\item 94\n",
       "\\item 91\n",
       "\\item 92\n",
       "\\item 93\n",
       "\\item 93\n",
       "\\item 87\n",
       "\\item 84\n",
       "\\item 80\n",
       "\\item 78\n",
       "\\item 75\n",
       "\\item 73\n",
       "\\item 81\n",
       "\\item 76\n",
       "\\item 77\n",
       "\\item 71\n",
       "\\item 71\n",
       "\\item 78\n",
       "\\item 67\n",
       "\\item 76\n",
       "\\item 68\n",
       "\\item 82\n",
       "\\item 64\n",
       "\\item 71\n",
       "\\item 81\n",
       "\\item 69\n",
       "\\item 63\n",
       "\\item 70\n",
       "\\item 77\n",
       "\\item 75\n",
       "\\item 76\n",
       "\\item 68\n",
       "\\item 5\n",
       "\\item 5\n",
       "\\item 5\n",
       "\\item 5\n",
       "\\item 5\n",
       "\\item 5\n",
       "\\item 5\n",
       "\\item 5\n",
       "\\item 5\n",
       "\\item 5\n",
       "\\item 5\n",
       "\\item 5\n",
       "\\item 5\n",
       "\\item 5\n",
       "\\item 5\n",
       "\\item 5\n",
       "\\item 5\n",
       "\\item 5\n",
       "\\item 5\n",
       "\\item 5\n",
       "\\item 5\n",
       "\\item 5\n",
       "\\item 5\n",
       "\\item 5\n",
       "\\item 5\n",
       "\\item 5\n",
       "\\item 5\n",
       "\\item 5\n",
       "\\item 5\n",
       "\\item 5\n",
       "\\item 5\n",
       "\\item 6\n",
       "\\item 6\n",
       "\\item 6\n",
       "\\item 6\n",
       "\\item 6\n",
       "\\item 6\n",
       "\\item 6\n",
       "\\item 6\n",
       "\\item 6\n",
       "\\item 6\n",
       "\\item 6\n",
       "\\item 6\n",
       "\\item 6\n",
       "\\item 6\n",
       "\\item 6\n",
       "\\item 6\n",
       "\\item 6\n",
       "\\item 6\n",
       "\\item 6\n",
       "\\item 6\n",
       "\\item 6\n",
       "\\item 6\n",
       "\\item 6\n",
       "\\item 6\n",
       "\\item 6\n",
       "\\item 6\n",
       "\\item 6\n",
       "\\item 6\n",
       "\\item 6\n",
       "\\item 6\n",
       "\\item 7\n",
       "\\item 7\n",
       "\\item 7\n",
       "\\item 7\n",
       "\\item 7\n",
       "\\item 7\n",
       "\\item 7\n",
       "\\item 7\n",
       "\\item 7\n",
       "\\item 7\n",
       "\\item 7\n",
       "\\item 7\n",
       "\\item 7\n",
       "\\item 7\n",
       "\\item 7\n",
       "\\item 7\n",
       "\\item 7\n",
       "\\item 7\n",
       "\\item 7\n",
       "\\item 7\n",
       "\\item 7\n",
       "\\item 7\n",
       "\\item 7\n",
       "\\item 7\n",
       "\\item 7\n",
       "\\item 7\n",
       "\\item 7\n",
       "\\item 7\n",
       "\\item 7\n",
       "\\item 7\n",
       "\\item 7\n",
       "\\item 8\n",
       "\\item 8\n",
       "\\item 8\n",
       "\\item 8\n",
       "\\item 8\n",
       "\\item 8\n",
       "\\item 8\n",
       "\\item 8\n",
       "\\item 8\n",
       "\\item 8\n",
       "\\item 8\n",
       "\\item 8\n",
       "\\item 8\n",
       "\\item 8\n",
       "\\item 8\n",
       "\\item 8\n",
       "\\item 8\n",
       "\\item 8\n",
       "\\item 8\n",
       "\\item 8\n",
       "\\item 8\n",
       "\\item 8\n",
       "\\item 8\n",
       "\\item 8\n",
       "\\item 8\n",
       "\\item 8\n",
       "\\item 8\n",
       "\\item 8\n",
       "\\item 8\n",
       "\\item 8\n",
       "\\item 8\n",
       "\\item 9\n",
       "\\item 9\n",
       "\\item 9\n",
       "\\item 9\n",
       "\\item 9\n",
       "\\item 9\n",
       "\\item 9\n",
       "\\item 9\n",
       "\\item 9\n",
       "\\item 9\n",
       "\\item 9\n",
       "\\item 9\n",
       "\\item 9\n",
       "\\item 9\n",
       "\\item 9\n",
       "\\item 9\n",
       "\\item 9\n",
       "\\item 9\n",
       "\\item 9\n",
       "\\item 9\n",
       "\\item 9\n",
       "\\item 9\n",
       "\\item 9\n",
       "\\item 9\n",
       "\\item 9\n",
       "\\item 9\n",
       "\\item 9\n",
       "\\item 9\n",
       "\\item 9\n",
       "\\item 9\n",
       "\\item 1\n",
       "\\item 2\n",
       "\\item 3\n",
       "\\item 4\n",
       "\\item 5\n",
       "\\item 6\n",
       "\\item 7\n",
       "\\item 8\n",
       "\\item 9\n",
       "\\item 10\n",
       "\\item 11\n",
       "\\item 12\n",
       "\\item 13\n",
       "\\item 14\n",
       "\\item 15\n",
       "\\item 16\n",
       "\\item 17\n",
       "\\item 18\n",
       "\\item 19\n",
       "\\item 20\n",
       "\\item 21\n",
       "\\item 22\n",
       "\\item 23\n",
       "\\item 24\n",
       "\\item 25\n",
       "\\item 26\n",
       "\\item 27\n",
       "\\item 28\n",
       "\\item 29\n",
       "\\item 30\n",
       "\\item 31\n",
       "\\item 1\n",
       "\\item 2\n",
       "\\item 3\n",
       "\\item 4\n",
       "\\item 5\n",
       "\\item 6\n",
       "\\item 7\n",
       "\\item 8\n",
       "\\item 9\n",
       "\\item 10\n",
       "\\item 11\n",
       "\\item 12\n",
       "\\item 13\n",
       "\\item 14\n",
       "\\item 15\n",
       "\\item 16\n",
       "\\item 17\n",
       "\\item 18\n",
       "\\item 19\n",
       "\\item 20\n",
       "\\item 21\n",
       "\\item 22\n",
       "\\item 23\n",
       "\\item 24\n",
       "\\item 25\n",
       "\\item 26\n",
       "\\item 27\n",
       "\\item 28\n",
       "\\item 29\n",
       "\\item 30\n",
       "\\item 1\n",
       "\\item 2\n",
       "\\item 3\n",
       "\\item 4\n",
       "\\item 5\n",
       "\\item 6\n",
       "\\item 7\n",
       "\\item 8\n",
       "\\item 9\n",
       "\\item 10\n",
       "\\item 11\n",
       "\\item 12\n",
       "\\item 13\n",
       "\\item 14\n",
       "\\item 15\n",
       "\\item 16\n",
       "\\item 17\n",
       "\\item 18\n",
       "\\item 19\n",
       "\\item 20\n",
       "\\item 21\n",
       "\\item 22\n",
       "\\item 23\n",
       "\\item 24\n",
       "\\item 25\n",
       "\\item 26\n",
       "\\item 27\n",
       "\\item 28\n",
       "\\item 29\n",
       "\\item 30\n",
       "\\item 31\n",
       "\\item 1\n",
       "\\item 2\n",
       "\\item 3\n",
       "\\item 4\n",
       "\\item 5\n",
       "\\item 6\n",
       "\\item 7\n",
       "\\item 8\n",
       "\\item 9\n",
       "\\item 10\n",
       "\\item 11\n",
       "\\item 12\n",
       "\\item 13\n",
       "\\item 14\n",
       "\\item 15\n",
       "\\item 16\n",
       "\\item 17\n",
       "\\item 18\n",
       "\\item 19\n",
       "\\item 20\n",
       "\\item 21\n",
       "\\item 22\n",
       "\\item 23\n",
       "\\item 24\n",
       "\\item 25\n",
       "\\item 26\n",
       "\\item 27\n",
       "\\item 28\n",
       "\\item 29\n",
       "\\item 30\n",
       "\\item 31\n",
       "\\item 1\n",
       "\\item 2\n",
       "\\item 3\n",
       "\\item 4\n",
       "\\item 5\n",
       "\\item 6\n",
       "\\item 7\n",
       "\\item 8\n",
       "\\item 9\n",
       "\\item 10\n",
       "\\item 11\n",
       "\\item 12\n",
       "\\item 13\n",
       "\\item 14\n",
       "\\item 15\n",
       "\\item 16\n",
       "\\item 17\n",
       "\\item 18\n",
       "\\item 19\n",
       "\\item 20\n",
       "\\item 21\n",
       "\\item 22\n",
       "\\item 23\n",
       "\\item 24\n",
       "\\item 25\n",
       "\\item 26\n",
       "\\item 27\n",
       "\\item 28\n",
       "\\item 29\n",
       "\\item 30\n",
       "\\end{enumerate*}\n"
      ],
      "text/markdown": [
       "1. 41\n",
       "2. 36\n",
       "3. 12\n",
       "4. 18\n",
       "5. 28\n",
       "6. 23\n",
       "7. 19\n",
       "8. 8\n",
       "9. 7\n",
       "10. 16\n",
       "11. 11\n",
       "12. 14\n",
       "13. 18\n",
       "14. 14\n",
       "15. 34\n",
       "16. 6\n",
       "17. 30\n",
       "18. 11\n",
       "19. 1\n",
       "20. 11\n",
       "21. 4\n",
       "22. 32\n",
       "23. 23\n",
       "24. 45\n",
       "25. 115\n",
       "26. 37\n",
       "27. 29\n",
       "28. 71\n",
       "29. 39\n",
       "30. 23\n",
       "31. 21\n",
       "32. 37\n",
       "33. 20\n",
       "34. 12\n",
       "35. 13\n",
       "36. 135\n",
       "37. 49\n",
       "38. 32\n",
       "39. 64\n",
       "40. 40\n",
       "41. 77\n",
       "42. 97\n",
       "43. 97\n",
       "44. 85\n",
       "45. 10\n",
       "46. 27\n",
       "47. 7\n",
       "48. 48\n",
       "49. 35\n",
       "50. 61\n",
       "51. 79\n",
       "52. 63\n",
       "53. 16\n",
       "54. 80\n",
       "55. 108\n",
       "56. 20\n",
       "57. 52\n",
       "58. 82\n",
       "59. 50\n",
       "60. 64\n",
       "61. 59\n",
       "62. 39\n",
       "63. 9\n",
       "64. 16\n",
       "65. 78\n",
       "66. 35\n",
       "67. 66\n",
       "68. 122\n",
       "69. 89\n",
       "70. 110\n",
       "71. 44\n",
       "72. 28\n",
       "73. 65\n",
       "74. 22\n",
       "75. 59\n",
       "76. 23\n",
       "77. 31\n",
       "78. 44\n",
       "79. 21\n",
       "80. 9\n",
       "81. 45\n",
       "82. 168\n",
       "83. 73\n",
       "84. 76\n",
       "85. 118\n",
       "86. 84\n",
       "87. 85\n",
       "88. 96\n",
       "89. 78\n",
       "90. 73\n",
       "91. 91\n",
       "92. 47\n",
       "93. 32\n",
       "94. 20\n",
       "95. 23\n",
       "96. 21\n",
       "97. 24\n",
       "98. 44\n",
       "99. 21\n",
       "100. 28\n",
       "101. 9\n",
       "102. 13\n",
       "103. 46\n",
       "104. 18\n",
       "105. 13\n",
       "106. 24\n",
       "107. 16\n",
       "108. 13\n",
       "109. 23\n",
       "110. 36\n",
       "111. 7\n",
       "112. 14\n",
       "113. 30\n",
       "114. 14\n",
       "115. 18\n",
       "116. 20\n",
       "117. 190\n",
       "118. 118\n",
       "119. 149\n",
       "120. 313\n",
       "121. 299\n",
       "122. 99\n",
       "123. 19\n",
       "124. 194\n",
       "125. 256\n",
       "126. 290\n",
       "127. 274\n",
       "128. 65\n",
       "129. 334\n",
       "130. 307\n",
       "131. 78\n",
       "132. 322\n",
       "133. 44\n",
       "134. 8\n",
       "135. 320\n",
       "136. 25\n",
       "137. 92\n",
       "138. 66\n",
       "139. 266\n",
       "140. 13\n",
       "141. 252\n",
       "142. 223\n",
       "143. 279\n",
       "144. 286\n",
       "145. 287\n",
       "146. 242\n",
       "147. 186\n",
       "148. 220\n",
       "149. 264\n",
       "150. 127\n",
       "151. 273\n",
       "152. 291\n",
       "153. 323\n",
       "154. 259\n",
       "155. 250\n",
       "156. 148\n",
       "157. 332\n",
       "158. 322\n",
       "159. 191\n",
       "160. 284\n",
       "161. 37\n",
       "162. 120\n",
       "163. 137\n",
       "164. 150\n",
       "165. 59\n",
       "166. 91\n",
       "167. 250\n",
       "168. 135\n",
       "169. 127\n",
       "170. 47\n",
       "171. 98\n",
       "172. 31\n",
       "173. 138\n",
       "174. 269\n",
       "175. 248\n",
       "176. 236\n",
       "177. 101\n",
       "178. 175\n",
       "179. 314\n",
       "180. 276\n",
       "181. 267\n",
       "182. 272\n",
       "183. 175\n",
       "184. 139\n",
       "185. 264\n",
       "186. 175\n",
       "187. 291\n",
       "188. 48\n",
       "189. 260\n",
       "190. 274\n",
       "191. 285\n",
       "192. 187\n",
       "193. 220\n",
       "194. 7\n",
       "195. 258\n",
       "196. 295\n",
       "197. 294\n",
       "198. 223\n",
       "199. 81\n",
       "200. 82\n",
       "201. 213\n",
       "202. 275\n",
       "203. 253\n",
       "204. 254\n",
       "205. 83\n",
       "206. 24\n",
       "207. 77\n",
       "208. 255\n",
       "209. 229\n",
       "210. 207\n",
       "211. 222\n",
       "212. 137\n",
       "213. 192\n",
       "214. 273\n",
       "215. 157\n",
       "216. 64\n",
       "217. 71\n",
       "218. 51\n",
       "219. 115\n",
       "220. 244\n",
       "221. 190\n",
       "222. 259\n",
       "223. 36\n",
       "224. 255\n",
       "225. 212\n",
       "226. 238\n",
       "227. 215\n",
       "228. 153\n",
       "229. 203\n",
       "230. 225\n",
       "231. 237\n",
       "232. 188\n",
       "233. 167\n",
       "234. 197\n",
       "235. 183\n",
       "236. 189\n",
       "237. 95\n",
       "238. 92\n",
       "239. 252\n",
       "240. 220\n",
       "241. 230\n",
       "242. 259\n",
       "243. 236\n",
       "244. 259\n",
       "245. 238\n",
       "246. 24\n",
       "247. 112\n",
       "248. 237\n",
       "249. 224\n",
       "250. 27\n",
       "251. 238\n",
       "252. 201\n",
       "253. 238\n",
       "254. 14\n",
       "255. 139\n",
       "256. 49\n",
       "257. 20\n",
       "258. 193\n",
       "259. 145\n",
       "260. 191\n",
       "261. 131\n",
       "262. 223\n",
       "263. 7.4\n",
       "264. 8\n",
       "265. 12.6\n",
       "266. 11.5\n",
       "267. 14.3\n",
       "268. 14.9\n",
       "269. 8.6\n",
       "270. 13.8\n",
       "271. 20.1\n",
       "272. 8.6\n",
       "273. 6.9\n",
       "274. 9.7\n",
       "275. 9.2\n",
       "276. 10.9\n",
       "277. 13.2\n",
       "278. 11.5\n",
       "279. 12\n",
       "280. 18.4\n",
       "281. 11.5\n",
       "282. 9.7\n",
       "283. 9.7\n",
       "284. 16.6\n",
       "285. 9.7\n",
       "286. 12\n",
       "287. 16.6\n",
       "288. 14.9\n",
       "289. 8\n",
       "290. 12\n",
       "291. 14.9\n",
       "292. 5.7\n",
       "293. 7.4\n",
       "294. 8.6\n",
       "295. 9.7\n",
       "296. 16.1\n",
       "297. 9.2\n",
       "298. 8.6\n",
       "299. 14.3\n",
       "300. 9.7\n",
       "301. 6.9\n",
       "302. 13.8\n",
       "303. 11.5\n",
       "304. 10.9\n",
       "305. 9.2\n",
       "306. 8\n",
       "307. 13.8\n",
       "308. 11.5\n",
       "309. 14.9\n",
       "310. 20.7\n",
       "311. 9.2\n",
       "312. 11.5\n",
       "313. 10.3\n",
       "314. 6.3\n",
       "315. 1.7\n",
       "316. 4.6\n",
       "317. 6.3\n",
       "318. 8\n",
       "319. 8\n",
       "320. 10.3\n",
       "321. 11.5\n",
       "322. 14.9\n",
       "323. 8\n",
       "324. 4.1\n",
       "325. 9.2\n",
       "326. 9.2\n",
       "327. 10.9\n",
       "328. 4.6\n",
       "329. 10.9\n",
       "330. 5.1\n",
       "331. 6.3\n",
       "332. 5.7\n",
       "333. 7.4\n",
       "334. 8.6\n",
       "335. 14.3\n",
       "336. 14.9\n",
       "337. 14.9\n",
       "338. 14.3\n",
       "339. 6.9\n",
       "340. 10.3\n",
       "341. 6.3\n",
       "342. 5.1\n",
       "343. 11.5\n",
       "344. 6.9\n",
       "345. 9.7\n",
       "346. 11.5\n",
       "347. 8.6\n",
       "348. 8\n",
       "349. 8.6\n",
       "350. 12\n",
       "351. 7.4\n",
       "352. 7.4\n",
       "353. 7.4\n",
       "354. 9.2\n",
       "355. 6.9\n",
       "356. 13.8\n",
       "357. 7.4\n",
       "358. 6.9\n",
       "359. 7.4\n",
       "360. 4.6\n",
       "361. 4\n",
       "362. 10.3\n",
       "363. 8\n",
       "364. 8.6\n",
       "365. 11.5\n",
       "366. 11.5\n",
       "367. 11.5\n",
       "368. 9.7\n",
       "369. 11.5\n",
       "370. 10.3\n",
       "371. 6.3\n",
       "372. 7.4\n",
       "373. 10.9\n",
       "374. 10.3\n",
       "375. 15.5\n",
       "376. 14.3\n",
       "377. 12.6\n",
       "378. 9.7\n",
       "379. 3.4\n",
       "380. 8\n",
       "381. 5.7\n",
       "382. 9.7\n",
       "383. 2.3\n",
       "384. 6.3\n",
       "385. 6.3\n",
       "386. 6.9\n",
       "387. 5.1\n",
       "388. 2.8\n",
       "389. 4.6\n",
       "390. 7.4\n",
       "391. 15.5\n",
       "392. 10.9\n",
       "393. 10.3\n",
       "394. 10.9\n",
       "395. 9.7\n",
       "396. 14.9\n",
       "397. 15.5\n",
       "398. 6.3\n",
       "399. 10.9\n",
       "400. 11.5\n",
       "401. 6.9\n",
       "402. 13.8\n",
       "403. 10.3\n",
       "404. 10.3\n",
       "405. 8\n",
       "406. 12.6\n",
       "407. 9.2\n",
       "408. 10.3\n",
       "409. 10.3\n",
       "410. 16.6\n",
       "411. 6.9\n",
       "412. 13.2\n",
       "413. 14.3\n",
       "414. 8\n",
       "415. 11.5\n",
       "416. 67\n",
       "417. 72\n",
       "418. 74\n",
       "419. 62\n",
       "420. 56\n",
       "421. 66\n",
       "422. 65\n",
       "423. 59\n",
       "424. 61\n",
       "425. 69\n",
       "426. 74\n",
       "427. 69\n",
       "428. 66\n",
       "429. 68\n",
       "430. 58\n",
       "431. 64\n",
       "432. 66\n",
       "433. 57\n",
       "434. 68\n",
       "435. 62\n",
       "436. 59\n",
       "437. 73\n",
       "438. 61\n",
       "439. 61\n",
       "440. 57\n",
       "441. 58\n",
       "442. 57\n",
       "443. 67\n",
       "444. 81\n",
       "445. 79\n",
       "446. 76\n",
       "447. 78\n",
       "448. 74\n",
       "449. 67\n",
       "450. 84\n",
       "451. 85\n",
       "452. 79\n",
       "453. 82\n",
       "454. 87\n",
       "455. 90\n",
       "456. 87\n",
       "457. 93\n",
       "458. 92\n",
       "459. 82\n",
       "460. 80\n",
       "461. 79\n",
       "462. 77\n",
       "463. 72\n",
       "464. 65\n",
       "465. 73\n",
       "466. 76\n",
       "467. 77\n",
       "468. 76\n",
       "469. 76\n",
       "470. 76\n",
       "471. 75\n",
       "472. 78\n",
       "473. 73\n",
       "474. 80\n",
       "475. 77\n",
       "476. 83\n",
       "477. 84\n",
       "478. 85\n",
       "479. 81\n",
       "480. 84\n",
       "481. 83\n",
       "482. 83\n",
       "483. 88\n",
       "484. 92\n",
       "485. 92\n",
       "486. 89\n",
       "487. 82\n",
       "488. 73\n",
       "489. 81\n",
       "490. 91\n",
       "491. 80\n",
       "492. 81\n",
       "493. 82\n",
       "494. 84\n",
       "495. 87\n",
       "496. 85\n",
       "497. 74\n",
       "498. 81\n",
       "499. 82\n",
       "500. 86\n",
       "501. 85\n",
       "502. 82\n",
       "503. 86\n",
       "504. 88\n",
       "505. 86\n",
       "506. 83\n",
       "507. 81\n",
       "508. 81\n",
       "509. 81\n",
       "510. 82\n",
       "511. 86\n",
       "512. 85\n",
       "513. 87\n",
       "514. 89\n",
       "515. 90\n",
       "516. 90\n",
       "517. 92\n",
       "518. 86\n",
       "519. 86\n",
       "520. 82\n",
       "521. 80\n",
       "522. 79\n",
       "523. 77\n",
       "524. 79\n",
       "525. 76\n",
       "526. 78\n",
       "527. 78\n",
       "528. 77\n",
       "529. 72\n",
       "530. 75\n",
       "531. 79\n",
       "532. 81\n",
       "533. 86\n",
       "534. 88\n",
       "535. 97\n",
       "536. 94\n",
       "537. 96\n",
       "538. 94\n",
       "539. 91\n",
       "540. 92\n",
       "541. 93\n",
       "542. 93\n",
       "543. 87\n",
       "544. 84\n",
       "545. 80\n",
       "546. 78\n",
       "547. 75\n",
       "548. 73\n",
       "549. 81\n",
       "550. 76\n",
       "551. 77\n",
       "552. 71\n",
       "553. 71\n",
       "554. 78\n",
       "555. 67\n",
       "556. 76\n",
       "557. 68\n",
       "558. 82\n",
       "559. 64\n",
       "560. 71\n",
       "561. 81\n",
       "562. 69\n",
       "563. 63\n",
       "564. 70\n",
       "565. 77\n",
       "566. 75\n",
       "567. 76\n",
       "568. 68\n",
       "569. 5\n",
       "570. 5\n",
       "571. 5\n",
       "572. 5\n",
       "573. 5\n",
       "574. 5\n",
       "575. 5\n",
       "576. 5\n",
       "577. 5\n",
       "578. 5\n",
       "579. 5\n",
       "580. 5\n",
       "581. 5\n",
       "582. 5\n",
       "583. 5\n",
       "584. 5\n",
       "585. 5\n",
       "586. 5\n",
       "587. 5\n",
       "588. 5\n",
       "589. 5\n",
       "590. 5\n",
       "591. 5\n",
       "592. 5\n",
       "593. 5\n",
       "594. 5\n",
       "595. 5\n",
       "596. 5\n",
       "597. 5\n",
       "598. 5\n",
       "599. 5\n",
       "600. 6\n",
       "601. 6\n",
       "602. 6\n",
       "603. 6\n",
       "604. 6\n",
       "605. 6\n",
       "606. 6\n",
       "607. 6\n",
       "608. 6\n",
       "609. 6\n",
       "610. 6\n",
       "611. 6\n",
       "612. 6\n",
       "613. 6\n",
       "614. 6\n",
       "615. 6\n",
       "616. 6\n",
       "617. 6\n",
       "618. 6\n",
       "619. 6\n",
       "620. 6\n",
       "621. 6\n",
       "622. 6\n",
       "623. 6\n",
       "624. 6\n",
       "625. 6\n",
       "626. 6\n",
       "627. 6\n",
       "628. 6\n",
       "629. 6\n",
       "630. 7\n",
       "631. 7\n",
       "632. 7\n",
       "633. 7\n",
       "634. 7\n",
       "635. 7\n",
       "636. 7\n",
       "637. 7\n",
       "638. 7\n",
       "639. 7\n",
       "640. 7\n",
       "641. 7\n",
       "642. 7\n",
       "643. 7\n",
       "644. 7\n",
       "645. 7\n",
       "646. 7\n",
       "647. 7\n",
       "648. 7\n",
       "649. 7\n",
       "650. 7\n",
       "651. 7\n",
       "652. 7\n",
       "653. 7\n",
       "654. 7\n",
       "655. 7\n",
       "656. 7\n",
       "657. 7\n",
       "658. 7\n",
       "659. 7\n",
       "660. 7\n",
       "661. 8\n",
       "662. 8\n",
       "663. 8\n",
       "664. 8\n",
       "665. 8\n",
       "666. 8\n",
       "667. 8\n",
       "668. 8\n",
       "669. 8\n",
       "670. 8\n",
       "671. 8\n",
       "672. 8\n",
       "673. 8\n",
       "674. 8\n",
       "675. 8\n",
       "676. 8\n",
       "677. 8\n",
       "678. 8\n",
       "679. 8\n",
       "680. 8\n",
       "681. 8\n",
       "682. 8\n",
       "683. 8\n",
       "684. 8\n",
       "685. 8\n",
       "686. 8\n",
       "687. 8\n",
       "688. 8\n",
       "689. 8\n",
       "690. 8\n",
       "691. 8\n",
       "692. 9\n",
       "693. 9\n",
       "694. 9\n",
       "695. 9\n",
       "696. 9\n",
       "697. 9\n",
       "698. 9\n",
       "699. 9\n",
       "700. 9\n",
       "701. 9\n",
       "702. 9\n",
       "703. 9\n",
       "704. 9\n",
       "705. 9\n",
       "706. 9\n",
       "707. 9\n",
       "708. 9\n",
       "709. 9\n",
       "710. 9\n",
       "711. 9\n",
       "712. 9\n",
       "713. 9\n",
       "714. 9\n",
       "715. 9\n",
       "716. 9\n",
       "717. 9\n",
       "718. 9\n",
       "719. 9\n",
       "720. 9\n",
       "721. 9\n",
       "722. 1\n",
       "723. 2\n",
       "724. 3\n",
       "725. 4\n",
       "726. 5\n",
       "727. 6\n",
       "728. 7\n",
       "729. 8\n",
       "730. 9\n",
       "731. 10\n",
       "732. 11\n",
       "733. 12\n",
       "734. 13\n",
       "735. 14\n",
       "736. 15\n",
       "737. 16\n",
       "738. 17\n",
       "739. 18\n",
       "740. 19\n",
       "741. 20\n",
       "742. 21\n",
       "743. 22\n",
       "744. 23\n",
       "745. 24\n",
       "746. 25\n",
       "747. 26\n",
       "748. 27\n",
       "749. 28\n",
       "750. 29\n",
       "751. 30\n",
       "752. 31\n",
       "753. 1\n",
       "754. 2\n",
       "755. 3\n",
       "756. 4\n",
       "757. 5\n",
       "758. 6\n",
       "759. 7\n",
       "760. 8\n",
       "761. 9\n",
       "762. 10\n",
       "763. 11\n",
       "764. 12\n",
       "765. 13\n",
       "766. 14\n",
       "767. 15\n",
       "768. 16\n",
       "769. 17\n",
       "770. 18\n",
       "771. 19\n",
       "772. 20\n",
       "773. 21\n",
       "774. 22\n",
       "775. 23\n",
       "776. 24\n",
       "777. 25\n",
       "778. 26\n",
       "779. 27\n",
       "780. 28\n",
       "781. 29\n",
       "782. 30\n",
       "783. 1\n",
       "784. 2\n",
       "785. 3\n",
       "786. 4\n",
       "787. 5\n",
       "788. 6\n",
       "789. 7\n",
       "790. 8\n",
       "791. 9\n",
       "792. 10\n",
       "793. 11\n",
       "794. 12\n",
       "795. 13\n",
       "796. 14\n",
       "797. 15\n",
       "798. 16\n",
       "799. 17\n",
       "800. 18\n",
       "801. 19\n",
       "802. 20\n",
       "803. 21\n",
       "804. 22\n",
       "805. 23\n",
       "806. 24\n",
       "807. 25\n",
       "808. 26\n",
       "809. 27\n",
       "810. 28\n",
       "811. 29\n",
       "812. 30\n",
       "813. 31\n",
       "814. 1\n",
       "815. 2\n",
       "816. 3\n",
       "817. 4\n",
       "818. 5\n",
       "819. 6\n",
       "820. 7\n",
       "821. 8\n",
       "822. 9\n",
       "823. 10\n",
       "824. 11\n",
       "825. 12\n",
       "826. 13\n",
       "827. 14\n",
       "828. 15\n",
       "829. 16\n",
       "830. 17\n",
       "831. 18\n",
       "832. 19\n",
       "833. 20\n",
       "834. 21\n",
       "835. 22\n",
       "836. 23\n",
       "837. 24\n",
       "838. 25\n",
       "839. 26\n",
       "840. 27\n",
       "841. 28\n",
       "842. 29\n",
       "843. 30\n",
       "844. 31\n",
       "845. 1\n",
       "846. 2\n",
       "847. 3\n",
       "848. 4\n",
       "849. 5\n",
       "850. 6\n",
       "851. 7\n",
       "852. 8\n",
       "853. 9\n",
       "854. 10\n",
       "855. 11\n",
       "856. 12\n",
       "857. 13\n",
       "858. 14\n",
       "859. 15\n",
       "860. 16\n",
       "861. 17\n",
       "862. 18\n",
       "863. 19\n",
       "864. 20\n",
       "865. 21\n",
       "866. 22\n",
       "867. 23\n",
       "868. 24\n",
       "869. 25\n",
       "870. 26\n",
       "871. 27\n",
       "872. 28\n",
       "873. 29\n",
       "874. 30\n",
       "\n",
       "\n"
      ],
      "text/plain": [
       "  [1]  41.0  36.0  12.0  18.0  28.0  23.0  19.0   8.0   7.0  16.0  11.0  14.0\n",
       " [13]  18.0  14.0  34.0   6.0  30.0  11.0   1.0  11.0   4.0  32.0  23.0  45.0\n",
       " [25] 115.0  37.0  29.0  71.0  39.0  23.0  21.0  37.0  20.0  12.0  13.0 135.0\n",
       " [37]  49.0  32.0  64.0  40.0  77.0  97.0  97.0  85.0  10.0  27.0   7.0  48.0\n",
       " [49]  35.0  61.0  79.0  63.0  16.0  80.0 108.0  20.0  52.0  82.0  50.0  64.0\n",
       " [61]  59.0  39.0   9.0  16.0  78.0  35.0  66.0 122.0  89.0 110.0  44.0  28.0\n",
       " [73]  65.0  22.0  59.0  23.0  31.0  44.0  21.0   9.0  45.0 168.0  73.0  76.0\n",
       " [85] 118.0  84.0  85.0  96.0  78.0  73.0  91.0  47.0  32.0  20.0  23.0  21.0\n",
       " [97]  24.0  44.0  21.0  28.0   9.0  13.0  46.0  18.0  13.0  24.0  16.0  13.0\n",
       "[109]  23.0  36.0   7.0  14.0  30.0  14.0  18.0  20.0 190.0 118.0 149.0 313.0\n",
       "[121] 299.0  99.0  19.0 194.0 256.0 290.0 274.0  65.0 334.0 307.0  78.0 322.0\n",
       "[133]  44.0   8.0 320.0  25.0  92.0  66.0 266.0  13.0 252.0 223.0 279.0 286.0\n",
       "[145] 287.0 242.0 186.0 220.0 264.0 127.0 273.0 291.0 323.0 259.0 250.0 148.0\n",
       "[157] 332.0 322.0 191.0 284.0  37.0 120.0 137.0 150.0  59.0  91.0 250.0 135.0\n",
       "[169] 127.0  47.0  98.0  31.0 138.0 269.0 248.0 236.0 101.0 175.0 314.0 276.0\n",
       "[181] 267.0 272.0 175.0 139.0 264.0 175.0 291.0  48.0 260.0 274.0 285.0 187.0\n",
       "[193] 220.0   7.0 258.0 295.0 294.0 223.0  81.0  82.0 213.0 275.0 253.0 254.0\n",
       "[205]  83.0  24.0  77.0 255.0 229.0 207.0 222.0 137.0 192.0 273.0 157.0  64.0\n",
       "[217]  71.0  51.0 115.0 244.0 190.0 259.0  36.0 255.0 212.0 238.0 215.0 153.0\n",
       "[229] 203.0 225.0 237.0 188.0 167.0 197.0 183.0 189.0  95.0  92.0 252.0 220.0\n",
       "[241] 230.0 259.0 236.0 259.0 238.0  24.0 112.0 237.0 224.0  27.0 238.0 201.0\n",
       "[253] 238.0  14.0 139.0  49.0  20.0 193.0 145.0 191.0 131.0 223.0   7.4   8.0\n",
       "[265]  12.6  11.5  14.3  14.9   8.6  13.8  20.1   8.6   6.9   9.7   9.2  10.9\n",
       "[277]  13.2  11.5  12.0  18.4  11.5   9.7   9.7  16.6   9.7  12.0  16.6  14.9\n",
       "[289]   8.0  12.0  14.9   5.7   7.4   8.6   9.7  16.1   9.2   8.6  14.3   9.7\n",
       "[301]   6.9  13.8  11.5  10.9   9.2   8.0  13.8  11.5  14.9  20.7   9.2  11.5\n",
       "[313]  10.3   6.3   1.7   4.6   6.3   8.0   8.0  10.3  11.5  14.9   8.0   4.1\n",
       "[325]   9.2   9.2  10.9   4.6  10.9   5.1   6.3   5.7   7.4   8.6  14.3  14.9\n",
       "[337]  14.9  14.3   6.9  10.3   6.3   5.1  11.5   6.9   9.7  11.5   8.6   8.0\n",
       "[349]   8.6  12.0   7.4   7.4   7.4   9.2   6.9  13.8   7.4   6.9   7.4   4.6\n",
       "[361]   4.0  10.3   8.0   8.6  11.5  11.5  11.5   9.7  11.5  10.3   6.3   7.4\n",
       "[373]  10.9  10.3  15.5  14.3  12.6   9.7   3.4   8.0   5.7   9.7   2.3   6.3\n",
       "[385]   6.3   6.9   5.1   2.8   4.6   7.4  15.5  10.9  10.3  10.9   9.7  14.9\n",
       "[397]  15.5   6.3  10.9  11.5   6.9  13.8  10.3  10.3   8.0  12.6   9.2  10.3\n",
       "[409]  10.3  16.6   6.9  13.2  14.3   8.0  11.5  67.0  72.0  74.0  62.0  56.0\n",
       "[421]  66.0  65.0  59.0  61.0  69.0  74.0  69.0  66.0  68.0  58.0  64.0  66.0\n",
       "[433]  57.0  68.0  62.0  59.0  73.0  61.0  61.0  57.0  58.0  57.0  67.0  81.0\n",
       "[445]  79.0  76.0  78.0  74.0  67.0  84.0  85.0  79.0  82.0  87.0  90.0  87.0\n",
       "[457]  93.0  92.0  82.0  80.0  79.0  77.0  72.0  65.0  73.0  76.0  77.0  76.0\n",
       "[469]  76.0  76.0  75.0  78.0  73.0  80.0  77.0  83.0  84.0  85.0  81.0  84.0\n",
       "[481]  83.0  83.0  88.0  92.0  92.0  89.0  82.0  73.0  81.0  91.0  80.0  81.0\n",
       "[493]  82.0  84.0  87.0  85.0  74.0  81.0  82.0  86.0  85.0  82.0  86.0  88.0\n",
       "[505]  86.0  83.0  81.0  81.0  81.0  82.0  86.0  85.0  87.0  89.0  90.0  90.0\n",
       "[517]  92.0  86.0  86.0  82.0  80.0  79.0  77.0  79.0  76.0  78.0  78.0  77.0\n",
       "[529]  72.0  75.0  79.0  81.0  86.0  88.0  97.0  94.0  96.0  94.0  91.0  92.0\n",
       "[541]  93.0  93.0  87.0  84.0  80.0  78.0  75.0  73.0  81.0  76.0  77.0  71.0\n",
       "[553]  71.0  78.0  67.0  76.0  68.0  82.0  64.0  71.0  81.0  69.0  63.0  70.0\n",
       "[565]  77.0  75.0  76.0  68.0   5.0   5.0   5.0   5.0   5.0   5.0   5.0   5.0\n",
       "[577]   5.0   5.0   5.0   5.0   5.0   5.0   5.0   5.0   5.0   5.0   5.0   5.0\n",
       "[589]   5.0   5.0   5.0   5.0   5.0   5.0   5.0   5.0   5.0   5.0   5.0   6.0\n",
       "[601]   6.0   6.0   6.0   6.0   6.0   6.0   6.0   6.0   6.0   6.0   6.0   6.0\n",
       "[613]   6.0   6.0   6.0   6.0   6.0   6.0   6.0   6.0   6.0   6.0   6.0   6.0\n",
       "[625]   6.0   6.0   6.0   6.0   6.0   7.0   7.0   7.0   7.0   7.0   7.0   7.0\n",
       "[637]   7.0   7.0   7.0   7.0   7.0   7.0   7.0   7.0   7.0   7.0   7.0   7.0\n",
       "[649]   7.0   7.0   7.0   7.0   7.0   7.0   7.0   7.0   7.0   7.0   7.0   7.0\n",
       "[661]   8.0   8.0   8.0   8.0   8.0   8.0   8.0   8.0   8.0   8.0   8.0   8.0\n",
       "[673]   8.0   8.0   8.0   8.0   8.0   8.0   8.0   8.0   8.0   8.0   8.0   8.0\n",
       "[685]   8.0   8.0   8.0   8.0   8.0   8.0   8.0   9.0   9.0   9.0   9.0   9.0\n",
       "[697]   9.0   9.0   9.0   9.0   9.0   9.0   9.0   9.0   9.0   9.0   9.0   9.0\n",
       "[709]   9.0   9.0   9.0   9.0   9.0   9.0   9.0   9.0   9.0   9.0   9.0   9.0\n",
       "[721]   9.0   1.0   2.0   3.0   4.0   5.0   6.0   7.0   8.0   9.0  10.0  11.0\n",
       "[733]  12.0  13.0  14.0  15.0  16.0  17.0  18.0  19.0  20.0  21.0  22.0  23.0\n",
       "[745]  24.0  25.0  26.0  27.0  28.0  29.0  30.0  31.0   1.0   2.0   3.0   4.0\n",
       "[757]   5.0   6.0   7.0   8.0   9.0  10.0  11.0  12.0  13.0  14.0  15.0  16.0\n",
       "[769]  17.0  18.0  19.0  20.0  21.0  22.0  23.0  24.0  25.0  26.0  27.0  28.0\n",
       "[781]  29.0  30.0   1.0   2.0   3.0   4.0   5.0   6.0   7.0   8.0   9.0  10.0\n",
       "[793]  11.0  12.0  13.0  14.0  15.0  16.0  17.0  18.0  19.0  20.0  21.0  22.0\n",
       "[805]  23.0  24.0  25.0  26.0  27.0  28.0  29.0  30.0  31.0   1.0   2.0   3.0\n",
       "[817]   4.0   5.0   6.0   7.0   8.0   9.0  10.0  11.0  12.0  13.0  14.0  15.0\n",
       "[829]  16.0  17.0  18.0  19.0  20.0  21.0  22.0  23.0  24.0  25.0  26.0  27.0\n",
       "[841]  28.0  29.0  30.0  31.0   1.0   2.0   3.0   4.0   5.0   6.0   7.0   8.0\n",
       "[853]   9.0  10.0  11.0  12.0  13.0  14.0  15.0  16.0  17.0  18.0  19.0  20.0\n",
       "[865]  21.0  22.0  23.0  24.0  25.0  26.0  27.0  28.0  29.0  30.0"
      ]
     },
     "metadata": {},
     "output_type": "display_data"
    }
   ],
   "source": [
    "#airquality\n",
    "missing_values = is.na(airquality)\n",
    "#missing_values\n",
    "sum(is.na(airquality$Ozone))#soln1\n",
    "\n",
    "sum(is.na(airquality$Solar.R)) #soln1\n",
    "\n",
    "\n",
    "missing_values = (is.na(airquality['Ozone']) & is.na(airquality['Solar.R']))\n",
    "sum(missing_values) #soln2\n",
    "\n",
    "cair = airquality\n",
    "missing_values = is.na(cair)\n",
    "missing_values\n",
    "# inverse missing value\n",
    "!missing_values\n",
    "\n",
    "cair[!missing_values]\n",
    "\n"
   ]
  },
  {
   "cell_type": "markdown",
   "metadata": {},
   "source": [
    "## <font color=Green><b>Exercise:</b></font>\n",
    "\n",
    "Write a part of code to show following results:\n",
    "1. Using USArrests dataset, find out 3 states that having highest murder rate.\n",
    "2. Using mtcars dataset, the strongest car that has 3 gears.\n",
    "3. Using mtcars dataset, average of horse power (hp) of those cars having 4 gears and 6 cylindars (cyl).\n",
    "3. You can download WHO dataset and store it as a DataFrame using following code.<br>\n",
    "   whodata = read.csv(\"http://thecads.org/WHO.csv\")\n",
    "   Then, find those 5 countris having the least child mortality rate."
   ]
  },
  {
   "cell_type": "code",
   "execution_count": 13,
   "metadata": {},
   "outputs": [
    {
     "data": {
      "text/html": [
       "<ol class=list-inline>\n",
       "\t<li>10</li>\n",
       "\t<li>24</li>\n",
       "\t<li>9</li>\n",
       "\t<li>18</li>\n",
       "\t<li>40</li>\n",
       "\t<li>1</li>\n",
       "\t<li>42</li>\n",
       "\t<li>33</li>\n",
       "\t<li>43</li>\n",
       "\t<li>28</li>\n",
       "\t<li>22</li>\n",
       "\t<li>31</li>\n",
       "\t<li>20</li>\n",
       "\t<li>32</li>\n",
       "\t<li>13</li>\n",
       "\t<li>2</li>\n",
       "\t<li>17</li>\n",
       "\t<li>5</li>\n",
       "\t<li>25</li>\n",
       "\t<li>4</li>\n",
       "\t<li>46</li>\n",
       "\t<li>3</li>\n",
       "\t<li>6</li>\n",
       "\t<li>30</li>\n",
       "\t<li>35</li>\n",
       "\t<li>14</li>\n",
       "\t<li>50</li>\n",
       "\t<li>36</li>\n",
       "\t<li>38</li>\n",
       "\t<li>16</li>\n",
       "\t<li>26</li>\n",
       "\t<li>8</li>\n",
       "\t<li>48</li>\n",
       "\t<li>11</li>\n",
       "\t<li>37</li>\n",
       "\t<li>21</li>\n",
       "\t<li>27</li>\n",
       "\t<li>47</li>\n",
       "\t<li>41</li>\n",
       "\t<li>39</li>\n",
       "\t<li>7</li>\n",
       "\t<li>44</li>\n",
       "\t<li>23</li>\n",
       "\t<li>12</li>\n",
       "\t<li>49</li>\n",
       "\t<li>15</li>\n",
       "\t<li>45</li>\n",
       "\t<li>19</li>\n",
       "\t<li>29</li>\n",
       "\t<li>34</li>\n",
       "</ol>\n"
      ],
      "text/latex": [
       "\\begin{enumerate*}\n",
       "\\item 10\n",
       "\\item 24\n",
       "\\item 9\n",
       "\\item 18\n",
       "\\item 40\n",
       "\\item 1\n",
       "\\item 42\n",
       "\\item 33\n",
       "\\item 43\n",
       "\\item 28\n",
       "\\item 22\n",
       "\\item 31\n",
       "\\item 20\n",
       "\\item 32\n",
       "\\item 13\n",
       "\\item 2\n",
       "\\item 17\n",
       "\\item 5\n",
       "\\item 25\n",
       "\\item 4\n",
       "\\item 46\n",
       "\\item 3\n",
       "\\item 6\n",
       "\\item 30\n",
       "\\item 35\n",
       "\\item 14\n",
       "\\item 50\n",
       "\\item 36\n",
       "\\item 38\n",
       "\\item 16\n",
       "\\item 26\n",
       "\\item 8\n",
       "\\item 48\n",
       "\\item 11\n",
       "\\item 37\n",
       "\\item 21\n",
       "\\item 27\n",
       "\\item 47\n",
       "\\item 41\n",
       "\\item 39\n",
       "\\item 7\n",
       "\\item 44\n",
       "\\item 23\n",
       "\\item 12\n",
       "\\item 49\n",
       "\\item 15\n",
       "\\item 45\n",
       "\\item 19\n",
       "\\item 29\n",
       "\\item 34\n",
       "\\end{enumerate*}\n"
      ],
      "text/markdown": [
       "1. 10\n",
       "2. 24\n",
       "3. 9\n",
       "4. 18\n",
       "5. 40\n",
       "6. 1\n",
       "7. 42\n",
       "8. 33\n",
       "9. 43\n",
       "10. 28\n",
       "11. 22\n",
       "12. 31\n",
       "13. 20\n",
       "14. 32\n",
       "15. 13\n",
       "16. 2\n",
       "17. 17\n",
       "18. 5\n",
       "19. 25\n",
       "20. 4\n",
       "21. 46\n",
       "22. 3\n",
       "23. 6\n",
       "24. 30\n",
       "25. 35\n",
       "26. 14\n",
       "27. 50\n",
       "28. 36\n",
       "29. 38\n",
       "30. 16\n",
       "31. 26\n",
       "32. 8\n",
       "33. 48\n",
       "34. 11\n",
       "35. 37\n",
       "36. 21\n",
       "37. 27\n",
       "38. 47\n",
       "39. 41\n",
       "40. 39\n",
       "41. 7\n",
       "42. 44\n",
       "43. 23\n",
       "44. 12\n",
       "45. 49\n",
       "46. 15\n",
       "47. 45\n",
       "48. 19\n",
       "49. 29\n",
       "50. 34\n",
       "\n",
       "\n"
      ],
      "text/plain": [
       " [1] 10 24  9 18 40  1 42 33 43 28 22 31 20 32 13  2 17  5 25  4 46  3  6 30 35\n",
       "[26] 14 50 36 38 16 26  8 48 11 37 21 27 47 41 39  7 44 23 12 49 15 45 19 29 34"
      ]
     },
     "metadata": {},
     "output_type": "display_data"
    },
    {
     "data": {
      "text/html": [
       "<ol class=list-inline>\n",
       "\t<li>'Georgia'</li>\n",
       "\t<li>'Mississippi'</li>\n",
       "\t<li>'Florida'</li>\n",
       "</ol>\n"
      ],
      "text/latex": [
       "\\begin{enumerate*}\n",
       "\\item 'Georgia'\n",
       "\\item 'Mississippi'\n",
       "\\item 'Florida'\n",
       "\\end{enumerate*}\n"
      ],
      "text/markdown": [
       "1. 'Georgia'\n",
       "2. 'Mississippi'\n",
       "3. 'Florida'\n",
       "\n",
       "\n"
      ],
      "text/plain": [
       "[1] \"Georgia\"     \"Mississippi\" \"Florida\"    "
      ]
     },
     "metadata": {},
     "output_type": "display_data"
    }
   ],
   "source": [
    "Murder = USArrests$Murder\n",
    "#maxmurder=max(Murder)\n",
    "#USArrests[Murder ==maxmurder,]\n",
    "\n",
    "maxmurder = order(USArrests$Murder, decreasing = TRUE)\n",
    "maxmurder\n",
    "rownames(head(USArrests[maxmurder,], 3))\n",
    "\n"
   ]
  },
  {
   "cell_type": "code",
   "execution_count": 21,
   "metadata": {},
   "outputs": [
    {
     "data": {
      "text/html": [
       "245"
      ],
      "text/latex": [
       "245"
      ],
      "text/markdown": [
       "245"
      ],
      "text/plain": [
       "[1] 245"
      ]
     },
     "metadata": {},
     "output_type": "display_data"
    },
    {
     "data": {
      "text/html": [
       "<table>\n",
       "<thead><tr><th></th><th scope=col>mpg</th><th scope=col>cyl</th><th scope=col>disp</th><th scope=col>hp</th><th scope=col>drat</th><th scope=col>wt</th><th scope=col>qsec</th><th scope=col>vs</th><th scope=col>am</th><th scope=col>gear</th><th scope=col>carb</th></tr></thead>\n",
       "<tbody>\n",
       "\t<tr><th scope=row>Duster 360</th><td>14.3 </td><td>8    </td><td>360  </td><td>245  </td><td>3.21 </td><td>3.57 </td><td>15.84</td><td>0    </td><td>0    </td><td>3    </td><td>4    </td></tr>\n",
       "\t<tr><th scope=row>Camaro Z28</th><td>13.3 </td><td>8    </td><td>350  </td><td>245  </td><td>3.73 </td><td>3.84 </td><td>15.41</td><td>0    </td><td>0    </td><td>3    </td><td>4    </td></tr>\n",
       "</tbody>\n",
       "</table>\n"
      ],
      "text/latex": [
       "\\begin{tabular}{r|lllllllllll}\n",
       "  & mpg & cyl & disp & hp & drat & wt & qsec & vs & am & gear & carb\\\\\n",
       "\\hline\n",
       "\tDuster 360 & 14.3  & 8     & 360   & 245   & 3.21  & 3.57  & 15.84 & 0     & 0     & 3     & 4    \\\\\n",
       "\tCamaro Z28 & 13.3  & 8     & 350   & 245   & 3.73  & 3.84  & 15.41 & 0     & 0     & 3     & 4    \\\\\n",
       "\\end{tabular}\n"
      ],
      "text/markdown": [
       "\n",
       "| <!--/--> | mpg | cyl | disp | hp | drat | wt | qsec | vs | am | gear | carb | \n",
       "|---|---|\n",
       "| Duster 360 | 14.3  | 8     | 360   | 245   | 3.21  | 3.57  | 15.84 | 0     | 0     | 3     | 4     | \n",
       "| Camaro Z28 | 13.3  | 8     | 350   | 245   | 3.73  | 3.84  | 15.41 | 0     | 0     | 3     | 4     | \n",
       "\n",
       "\n"
      ],
      "text/plain": [
       "           mpg  cyl disp hp  drat wt   qsec  vs am gear carb\n",
       "Duster 360 14.3 8   360  245 3.21 3.57 15.84 0  0  3    4   \n",
       "Camaro Z28 13.3 8   350  245 3.73 3.84 15.41 0  0  3    4   "
      ]
     },
     "metadata": {},
     "output_type": "display_data"
    }
   ],
   "source": [
    "\n",
    "maxhp3 = max(mtcars[mtcars$gear==3,]$hp)\n",
    "maxhp3\n",
    "head(mtcars[mtcars$hp==maxhp3,],)\n"
   ]
  },
  {
   "cell_type": "code",
   "execution_count": 26,
   "metadata": {},
   "outputs": [
    {
     "ename": "ERROR",
     "evalue": "Error in parse(text = x, srcfile = src): <text>:2:1: unexpected symbol\n1: avghp = mean(mtcars[which(mtcars$gears==4 & mtcars$cyl==6),]$hp\n2: head\n   ^\n",
     "output_type": "error",
     "traceback": [
      "Error in parse(text = x, srcfile = src): <text>:2:1: unexpected symbol\n1: avghp = mean(mtcars[which(mtcars$gears==4 & mtcars$cyl==6),]$hp\n2: head\n   ^\nTraceback:\n"
     ]
    }
   ],
   "source": [
    "avghp = mean(mtcars[which(mtcars$gears==4 & mtcars$cyl==6),]$hp\n",
    "head(avghp)"
   ]
  },
  {
   "cell_type": "code",
   "execution_count": null,
   "metadata": {
    "collapsed": true
   },
   "outputs": [],
   "source": []
  }
 ],
 "metadata": {
  "anaconda-cloud": {},
  "kernelspec": {
   "display_name": "R",
   "language": "R",
   "name": "ir"
  },
  "language_info": {
   "codemirror_mode": "r",
   "file_extension": ".r",
   "mimetype": "text/x-r-source",
   "name": "R",
   "pygments_lexer": "r",
   "version": "3.4.2"
  }
 },
 "nbformat": 4,
 "nbformat_minor": 2
}
